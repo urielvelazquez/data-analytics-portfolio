{
 "cells": [
  {
   "cell_type": "markdown",
   "metadata": {},
   "source": [
    "**ETAPA 1. Descripción del Proyecto**\n",
    "\n",
    "Has recibido una tarea analítica de una tienda en línea internacional. Tus predecesores no consiguieron completarla: lanzaron una prueba A/B y luego abandonaron (para iniciar una granja de sandías en Brasil). Solo dejaron las especificaciones técnicas y los resultados de las pruebas."
   ]
  },
  {
   "cell_type": "markdown",
   "metadata": {},
   "source": [
    "**Para iniciar se deben cargar todas las librerías que se van a usar durante el proyecto.**"
   ]
  },
  {
   "cell_type": "code",
   "execution_count": 949,
   "metadata": {},
   "outputs": [],
   "source": [
    "# Cargar todas las librerías\n",
    "from scipy import stats as st\n",
    "from scipy.stats import mannwhitneyu\n",
    "from statsmodels.stats.proportion import proportions_ztest\n",
    "from matplotlib import pyplot as plt\n",
    "import plotly.graph_objects as go\n",
    "import seaborn as sns\n",
    "import pandas as pd\n",
    "import numpy as np\n",
    "import datetime as dt\n",
    "import scipy.stats as stats"
   ]
  },
  {
   "cell_type": "markdown",
   "metadata": {},
   "source": [
    "**En este sección reuní la totalidad de los dataframe, la función .read_csv permite leer cada uno de los archivos cargados.**"
   ]
  },
  {
   "cell_type": "code",
   "execution_count": 950,
   "metadata": {},
   "outputs": [],
   "source": [
    "# Cargar los archivos de datos de los diferentes DataFrames\n",
    "df_ab_marketing_events = pd.read_csv('./datasets/ab_project_marketing_events_us.csv')\n",
    "df_ab_new_users = pd.read_csv('./datasets/final_ab_new_users_upd_us.csv')\n",
    "df_ab_events = pd.read_csv('./datasets/final_ab_events_upd_us.csv')\n",
    "df_ab_participants = pd.read_csv('./datasets/final_ab_participants_upd_us.csv')"
   ]
  },
  {
   "cell_type": "markdown",
   "metadata": {},
   "source": [
    "**Uso las funciones info() y head() para explorar visualmente cada dataframe con el fin de analizar que campos tiene, sus características, y los detalles que no sean funcionales corregir, para hacer un análisis acorde e ideal a lo solicitado.**"
   ]
  },
  {
   "cell_type": "markdown",
   "metadata": {},
   "source": [
    "**1. Eventos de marketing**"
   ]
  },
  {
   "cell_type": "code",
   "execution_count": 951,
   "metadata": {},
   "outputs": [
    {
     "name": "stdout",
     "output_type": "stream",
     "text": [
      "<class 'pandas.core.frame.DataFrame'>\n",
      "RangeIndex: 14 entries, 0 to 13\n",
      "Data columns (total 4 columns):\n",
      " #   Column     Non-Null Count  Dtype \n",
      "---  ------     --------------  ----- \n",
      " 0   name       14 non-null     object\n",
      " 1   regions    14 non-null     object\n",
      " 2   start_dt   14 non-null     object\n",
      " 3   finish_dt  14 non-null     object\n",
      "dtypes: object(4)\n",
      "memory usage: 580.0+ bytes\n"
     ]
    }
   ],
   "source": [
    "#Imprimir la información general/resumida sobre el DataFrame eventos de marketing\n",
    "df_ab_marketing_events.info()"
   ]
  },
  {
   "cell_type": "code",
   "execution_count": 952,
   "metadata": {},
   "outputs": [
    {
     "data": {
      "text/html": [
       "<div>\n",
       "<style scoped>\n",
       "    .dataframe tbody tr th:only-of-type {\n",
       "        vertical-align: middle;\n",
       "    }\n",
       "\n",
       "    .dataframe tbody tr th {\n",
       "        vertical-align: top;\n",
       "    }\n",
       "\n",
       "    .dataframe thead th {\n",
       "        text-align: right;\n",
       "    }\n",
       "</style>\n",
       "<table border=\"1\" class=\"dataframe\">\n",
       "  <thead>\n",
       "    <tr style=\"text-align: right;\">\n",
       "      <th></th>\n",
       "      <th>name</th>\n",
       "      <th>regions</th>\n",
       "      <th>start_dt</th>\n",
       "      <th>finish_dt</th>\n",
       "    </tr>\n",
       "  </thead>\n",
       "  <tbody>\n",
       "    <tr>\n",
       "      <th>0</th>\n",
       "      <td>Christmas&amp;New Year Promo</td>\n",
       "      <td>EU, N.America</td>\n",
       "      <td>2020-12-25</td>\n",
       "      <td>2021-01-03</td>\n",
       "    </tr>\n",
       "    <tr>\n",
       "      <th>1</th>\n",
       "      <td>St. Valentine's Day Giveaway</td>\n",
       "      <td>EU, CIS, APAC, N.America</td>\n",
       "      <td>2020-02-14</td>\n",
       "      <td>2020-02-16</td>\n",
       "    </tr>\n",
       "    <tr>\n",
       "      <th>2</th>\n",
       "      <td>St. Patric's Day Promo</td>\n",
       "      <td>EU, N.America</td>\n",
       "      <td>2020-03-17</td>\n",
       "      <td>2020-03-19</td>\n",
       "    </tr>\n",
       "    <tr>\n",
       "      <th>3</th>\n",
       "      <td>Easter Promo</td>\n",
       "      <td>EU, CIS, APAC, N.America</td>\n",
       "      <td>2020-04-12</td>\n",
       "      <td>2020-04-19</td>\n",
       "    </tr>\n",
       "    <tr>\n",
       "      <th>4</th>\n",
       "      <td>4th of July Promo</td>\n",
       "      <td>N.America</td>\n",
       "      <td>2020-07-04</td>\n",
       "      <td>2020-07-11</td>\n",
       "    </tr>\n",
       "  </tbody>\n",
       "</table>\n",
       "</div>"
      ],
      "text/plain": [
       "                           name                   regions    start_dt  \\\n",
       "0      Christmas&New Year Promo             EU, N.America  2020-12-25   \n",
       "1  St. Valentine's Day Giveaway  EU, CIS, APAC, N.America  2020-02-14   \n",
       "2        St. Patric's Day Promo             EU, N.America  2020-03-17   \n",
       "3                  Easter Promo  EU, CIS, APAC, N.America  2020-04-12   \n",
       "4             4th of July Promo                 N.America  2020-07-04   \n",
       "\n",
       "    finish_dt  \n",
       "0  2021-01-03  \n",
       "1  2020-02-16  \n",
       "2  2020-03-19  \n",
       "3  2020-04-19  \n",
       "4  2020-07-11  "
      ]
     },
     "execution_count": 952,
     "metadata": {},
     "output_type": "execute_result"
    }
   ],
   "source": [
    "# Imprimir una muestra de los datos para los eventos de marketing\n",
    "df_ab_marketing_events.head()"
   ]
  },
  {
   "cell_type": "markdown",
   "metadata": {},
   "source": [
    "**2. Nuevos usuarios**"
   ]
  },
  {
   "cell_type": "code",
   "execution_count": 953,
   "metadata": {},
   "outputs": [
    {
     "name": "stdout",
     "output_type": "stream",
     "text": [
      "<class 'pandas.core.frame.DataFrame'>\n",
      "RangeIndex: 58703 entries, 0 to 58702\n",
      "Data columns (total 4 columns):\n",
      " #   Column      Non-Null Count  Dtype \n",
      "---  ------      --------------  ----- \n",
      " 0   user_id     58703 non-null  object\n",
      " 1   first_date  58703 non-null  object\n",
      " 2   region      58703 non-null  object\n",
      " 3   device      58703 non-null  object\n",
      "dtypes: object(4)\n",
      "memory usage: 1.8+ MB\n"
     ]
    }
   ],
   "source": [
    "# Imprimir la información general/resumida sobre el DataFrame nuevos usuarios\n",
    "df_ab_new_users.info()"
   ]
  },
  {
   "cell_type": "code",
   "execution_count": 954,
   "metadata": {},
   "outputs": [
    {
     "data": {
      "text/html": [
       "<div>\n",
       "<style scoped>\n",
       "    .dataframe tbody tr th:only-of-type {\n",
       "        vertical-align: middle;\n",
       "    }\n",
       "\n",
       "    .dataframe tbody tr th {\n",
       "        vertical-align: top;\n",
       "    }\n",
       "\n",
       "    .dataframe thead th {\n",
       "        text-align: right;\n",
       "    }\n",
       "</style>\n",
       "<table border=\"1\" class=\"dataframe\">\n",
       "  <thead>\n",
       "    <tr style=\"text-align: right;\">\n",
       "      <th></th>\n",
       "      <th>user_id</th>\n",
       "      <th>first_date</th>\n",
       "      <th>region</th>\n",
       "      <th>device</th>\n",
       "    </tr>\n",
       "  </thead>\n",
       "  <tbody>\n",
       "    <tr>\n",
       "      <th>0</th>\n",
       "      <td>D72A72121175D8BE</td>\n",
       "      <td>2020-12-07</td>\n",
       "      <td>EU</td>\n",
       "      <td>PC</td>\n",
       "    </tr>\n",
       "    <tr>\n",
       "      <th>1</th>\n",
       "      <td>F1C668619DFE6E65</td>\n",
       "      <td>2020-12-07</td>\n",
       "      <td>N.America</td>\n",
       "      <td>Android</td>\n",
       "    </tr>\n",
       "    <tr>\n",
       "      <th>2</th>\n",
       "      <td>2E1BF1D4C37EA01F</td>\n",
       "      <td>2020-12-07</td>\n",
       "      <td>EU</td>\n",
       "      <td>PC</td>\n",
       "    </tr>\n",
       "    <tr>\n",
       "      <th>3</th>\n",
       "      <td>50734A22C0C63768</td>\n",
       "      <td>2020-12-07</td>\n",
       "      <td>EU</td>\n",
       "      <td>iPhone</td>\n",
       "    </tr>\n",
       "    <tr>\n",
       "      <th>4</th>\n",
       "      <td>E1BDDCE0DAFA2679</td>\n",
       "      <td>2020-12-07</td>\n",
       "      <td>N.America</td>\n",
       "      <td>iPhone</td>\n",
       "    </tr>\n",
       "  </tbody>\n",
       "</table>\n",
       "</div>"
      ],
      "text/plain": [
       "            user_id  first_date     region   device\n",
       "0  D72A72121175D8BE  2020-12-07         EU       PC\n",
       "1  F1C668619DFE6E65  2020-12-07  N.America  Android\n",
       "2  2E1BF1D4C37EA01F  2020-12-07         EU       PC\n",
       "3  50734A22C0C63768  2020-12-07         EU   iPhone\n",
       "4  E1BDDCE0DAFA2679  2020-12-07  N.America   iPhone"
      ]
     },
     "execution_count": 954,
     "metadata": {},
     "output_type": "execute_result"
    }
   ],
   "source": [
    "# Imprimir una muestra de los datos para los nuevos usuarios\n",
    "df_ab_new_users.head()"
   ]
  },
  {
   "cell_type": "markdown",
   "metadata": {},
   "source": [
    "**3. Eventos**"
   ]
  },
  {
   "cell_type": "code",
   "execution_count": 955,
   "metadata": {},
   "outputs": [
    {
     "name": "stdout",
     "output_type": "stream",
     "text": [
      "<class 'pandas.core.frame.DataFrame'>\n",
      "RangeIndex: 423761 entries, 0 to 423760\n",
      "Data columns (total 4 columns):\n",
      " #   Column      Non-Null Count   Dtype  \n",
      "---  ------      --------------   -----  \n",
      " 0   user_id     423761 non-null  object \n",
      " 1   event_dt    423761 non-null  object \n",
      " 2   event_name  423761 non-null  object \n",
      " 3   details     60314 non-null   float64\n",
      "dtypes: float64(1), object(3)\n",
      "memory usage: 12.9+ MB\n"
     ]
    }
   ],
   "source": [
    "#Imprimir la información general/resumida sobre el DataFrame eventos\n",
    "df_ab_events.info()"
   ]
  },
  {
   "cell_type": "code",
   "execution_count": 956,
   "metadata": {},
   "outputs": [
    {
     "data": {
      "text/html": [
       "<div>\n",
       "<style scoped>\n",
       "    .dataframe tbody tr th:only-of-type {\n",
       "        vertical-align: middle;\n",
       "    }\n",
       "\n",
       "    .dataframe tbody tr th {\n",
       "        vertical-align: top;\n",
       "    }\n",
       "\n",
       "    .dataframe thead th {\n",
       "        text-align: right;\n",
       "    }\n",
       "</style>\n",
       "<table border=\"1\" class=\"dataframe\">\n",
       "  <thead>\n",
       "    <tr style=\"text-align: right;\">\n",
       "      <th></th>\n",
       "      <th>user_id</th>\n",
       "      <th>event_dt</th>\n",
       "      <th>event_name</th>\n",
       "      <th>details</th>\n",
       "    </tr>\n",
       "  </thead>\n",
       "  <tbody>\n",
       "    <tr>\n",
       "      <th>0</th>\n",
       "      <td>E1BDDCE0DAFA2679</td>\n",
       "      <td>2020-12-07 20:22:03</td>\n",
       "      <td>purchase</td>\n",
       "      <td>99.99</td>\n",
       "    </tr>\n",
       "    <tr>\n",
       "      <th>1</th>\n",
       "      <td>7B6452F081F49504</td>\n",
       "      <td>2020-12-07 09:22:53</td>\n",
       "      <td>purchase</td>\n",
       "      <td>9.99</td>\n",
       "    </tr>\n",
       "    <tr>\n",
       "      <th>2</th>\n",
       "      <td>9CD9F34546DF254C</td>\n",
       "      <td>2020-12-07 12:59:29</td>\n",
       "      <td>purchase</td>\n",
       "      <td>4.99</td>\n",
       "    </tr>\n",
       "    <tr>\n",
       "      <th>3</th>\n",
       "      <td>96F27A054B191457</td>\n",
       "      <td>2020-12-07 04:02:40</td>\n",
       "      <td>purchase</td>\n",
       "      <td>4.99</td>\n",
       "    </tr>\n",
       "    <tr>\n",
       "      <th>4</th>\n",
       "      <td>1FD7660FDF94CA1F</td>\n",
       "      <td>2020-12-07 10:15:09</td>\n",
       "      <td>purchase</td>\n",
       "      <td>4.99</td>\n",
       "    </tr>\n",
       "  </tbody>\n",
       "</table>\n",
       "</div>"
      ],
      "text/plain": [
       "            user_id             event_dt event_name  details\n",
       "0  E1BDDCE0DAFA2679  2020-12-07 20:22:03   purchase    99.99\n",
       "1  7B6452F081F49504  2020-12-07 09:22:53   purchase     9.99\n",
       "2  9CD9F34546DF254C  2020-12-07 12:59:29   purchase     4.99\n",
       "3  96F27A054B191457  2020-12-07 04:02:40   purchase     4.99\n",
       "4  1FD7660FDF94CA1F  2020-12-07 10:15:09   purchase     4.99"
      ]
     },
     "execution_count": 956,
     "metadata": {},
     "output_type": "execute_result"
    }
   ],
   "source": [
    "# Imprimir una muestra de los datos para los eventos \n",
    "df_ab_events.head()"
   ]
  },
  {
   "cell_type": "markdown",
   "metadata": {},
   "source": [
    "**4. Participantes**"
   ]
  },
  {
   "cell_type": "code",
   "execution_count": 957,
   "metadata": {
    "scrolled": true
   },
   "outputs": [
    {
     "name": "stdout",
     "output_type": "stream",
     "text": [
      "<class 'pandas.core.frame.DataFrame'>\n",
      "RangeIndex: 14525 entries, 0 to 14524\n",
      "Data columns (total 3 columns):\n",
      " #   Column   Non-Null Count  Dtype \n",
      "---  ------   --------------  ----- \n",
      " 0   user_id  14525 non-null  object\n",
      " 1   group    14525 non-null  object\n",
      " 2   ab_test  14525 non-null  object\n",
      "dtypes: object(3)\n",
      "memory usage: 340.6+ KB\n"
     ]
    }
   ],
   "source": [
    "#Imprimir la información general/resumida sobre el DataFrame participantes\n",
    "df_ab_participants.info()"
   ]
  },
  {
   "cell_type": "code",
   "execution_count": 958,
   "metadata": {},
   "outputs": [
    {
     "data": {
      "text/html": [
       "<div>\n",
       "<style scoped>\n",
       "    .dataframe tbody tr th:only-of-type {\n",
       "        vertical-align: middle;\n",
       "    }\n",
       "\n",
       "    .dataframe tbody tr th {\n",
       "        vertical-align: top;\n",
       "    }\n",
       "\n",
       "    .dataframe thead th {\n",
       "        text-align: right;\n",
       "    }\n",
       "</style>\n",
       "<table border=\"1\" class=\"dataframe\">\n",
       "  <thead>\n",
       "    <tr style=\"text-align: right;\">\n",
       "      <th></th>\n",
       "      <th>user_id</th>\n",
       "      <th>group</th>\n",
       "      <th>ab_test</th>\n",
       "    </tr>\n",
       "  </thead>\n",
       "  <tbody>\n",
       "    <tr>\n",
       "      <th>0</th>\n",
       "      <td>D1ABA3E2887B6A73</td>\n",
       "      <td>A</td>\n",
       "      <td>recommender_system_test</td>\n",
       "    </tr>\n",
       "    <tr>\n",
       "      <th>1</th>\n",
       "      <td>A7A3664BD6242119</td>\n",
       "      <td>A</td>\n",
       "      <td>recommender_system_test</td>\n",
       "    </tr>\n",
       "    <tr>\n",
       "      <th>2</th>\n",
       "      <td>DABC14FDDFADD29E</td>\n",
       "      <td>A</td>\n",
       "      <td>recommender_system_test</td>\n",
       "    </tr>\n",
       "    <tr>\n",
       "      <th>3</th>\n",
       "      <td>04988C5DF189632E</td>\n",
       "      <td>A</td>\n",
       "      <td>recommender_system_test</td>\n",
       "    </tr>\n",
       "    <tr>\n",
       "      <th>4</th>\n",
       "      <td>4FF2998A348C484F</td>\n",
       "      <td>A</td>\n",
       "      <td>recommender_system_test</td>\n",
       "    </tr>\n",
       "  </tbody>\n",
       "</table>\n",
       "</div>"
      ],
      "text/plain": [
       "            user_id group                  ab_test\n",
       "0  D1ABA3E2887B6A73     A  recommender_system_test\n",
       "1  A7A3664BD6242119     A  recommender_system_test\n",
       "2  DABC14FDDFADD29E     A  recommender_system_test\n",
       "3  04988C5DF189632E     A  recommender_system_test\n",
       "4  4FF2998A348C484F     A  recommender_system_test"
      ]
     },
     "execution_count": 958,
     "metadata": {},
     "output_type": "execute_result"
    }
   ],
   "source": [
    "# Imprimir una muestra de los datos para los eventos \n",
    "df_ab_participants.head()"
   ]
  },
  {
   "cell_type": "markdown",
   "metadata": {},
   "source": [
    "**ETAPA 2. Preprocesamiento de los datos**"
   ]
  },
  {
   "cell_type": "markdown",
   "metadata": {},
   "source": [
    "**El objetivo aquí es preparar los datos para que sean analizados. Para ello hay que resolver cualquier problema que haya: identificar los registros duplicados y en su caso si fuera necesario eliminar dichos registros, identificar los valores ausentes y en su caso completar dichos valores,  verificar y en su caso corregir los tipos de datos de cada columna, y finalmente enriquecer las estructuras de datos en los casos donde sea requerido para columnas de tipo DATETIME.**"
   ]
  },
  {
   "cell_type": "markdown",
   "metadata": {},
   "source": [
    "**1. Eventos de marketing**"
   ]
  },
  {
   "cell_type": "markdown",
   "metadata": {},
   "source": [
    "**ACCIONES A LLEVAR A CABO EN EL PREPROCESAMIENTO DE LOS DATOS DEL DATAFRAME EVENTOS DE MARKETING**\n",
    "\n",
    "a) Revisar y eliminar duplicados.\n",
    "\n",
    "b) Calcular el número de valores ausentes.\n",
    "\n",
    "c) Preparar los datos de la columna START DT que incluye: convertir de tipo object a tipo datetime64[ns] la columna.\n",
    "\n",
    "d) Preparar los datos de la columna FINISH DT que incluye: convertir de tipo object a tipo datetime64[ns] la columna."
   ]
  },
  {
   "cell_type": "markdown",
   "metadata": {},
   "source": [
    "**Revisar y eliminar duplicados**"
   ]
  },
  {
   "cell_type": "code",
   "execution_count": 959,
   "metadata": {},
   "outputs": [
    {
     "data": {
      "text/plain": [
       "14"
      ]
     },
     "execution_count": 959,
     "metadata": {},
     "output_type": "execute_result"
    }
   ],
   "source": [
    "# Mostrar el total de filas del dataFrame \n",
    "df_ab_marketing_events.shape[0]"
   ]
  },
  {
   "cell_type": "code",
   "execution_count": 960,
   "metadata": {},
   "outputs": [
    {
     "data": {
      "text/plain": [
       "0"
      ]
     },
     "execution_count": 960,
     "metadata": {},
     "output_type": "execute_result"
    }
   ],
   "source": [
    "# Revisar si hay valores duplicados en el dataframe\n",
    "df_ab_marketing_events.duplicated().sum()"
   ]
  },
  {
   "cell_type": "code",
   "execution_count": 961,
   "metadata": {},
   "outputs": [
    {
     "name": "stdout",
     "output_type": "stream",
     "text": [
      "El porcentaje de filas duplicadas es: 0.00%\n"
     ]
    }
   ],
   "source": [
    "# Calcular el porcentaje de filas duplicadas \n",
    "print(\"El porcentaje de filas duplicadas es: \" +\n",
    "      f\"{(df_ab_marketing_events.duplicated().sum() / df_ab_marketing_events.shape[0]) * 100:.2f}%\")"
   ]
  },
  {
   "cell_type": "markdown",
   "metadata": {},
   "source": [
    "**Tratamiento de los valores ausentes**"
   ]
  },
  {
   "cell_type": "markdown",
   "metadata": {},
   "source": [
    "Para este conjunto de datos caso de estudio no se procederá a realizar algún tratamiento de los valores ausentes ya que como se puede ver después de generar el código y ejecutar el mismo en la caja CODE de abajo, el dataframe EVENTOS DE MARKETING no cuenta con información de este tipo en ninguna de sus columnas."
   ]
  },
  {
   "cell_type": "code",
   "execution_count": 962,
   "metadata": {},
   "outputs": [
    {
     "data": {
      "text/plain": [
       "name         0\n",
       "regions      0\n",
       "start_dt     0\n",
       "finish_dt    0\n",
       "dtype: int64"
      ]
     },
     "execution_count": 962,
     "metadata": {},
     "output_type": "execute_result"
    }
   ],
   "source": [
    "# Calcular el número de valores ausentes\n",
    "df_ab_marketing_events.isna().sum()"
   ]
  },
  {
   "cell_type": "markdown",
   "metadata": {},
   "source": [
    "**Preparar los datos de la columna START DT**"
   ]
  },
  {
   "cell_type": "code",
   "execution_count": 963,
   "metadata": {},
   "outputs": [],
   "source": [
    "# Convertir de tipo object a tipo datetime64[ns] la columna\n",
    "df_ab_marketing_events['start_dt'] = pd.to_datetime(df_ab_marketing_events['start_dt'])"
   ]
  },
  {
   "cell_type": "code",
   "execution_count": 964,
   "metadata": {},
   "outputs": [
    {
     "name": "stdout",
     "output_type": "stream",
     "text": [
      "<class 'pandas.core.frame.DataFrame'>\n",
      "RangeIndex: 14 entries, 0 to 13\n",
      "Data columns (total 4 columns):\n",
      " #   Column     Non-Null Count  Dtype         \n",
      "---  ------     --------------  -----         \n",
      " 0   name       14 non-null     object        \n",
      " 1   regions    14 non-null     object        \n",
      " 2   start_dt   14 non-null     datetime64[ns]\n",
      " 3   finish_dt  14 non-null     object        \n",
      "dtypes: datetime64[ns](1), object(3)\n",
      "memory usage: 580.0+ bytes\n"
     ]
    }
   ],
   "source": [
    "# Imprimir la información general/resumida actualizada\n",
    "df_ab_marketing_events.info()"
   ]
  },
  {
   "cell_type": "markdown",
   "metadata": {},
   "source": [
    "**Preparar los datos de la columna FINISH DT**"
   ]
  },
  {
   "cell_type": "code",
   "execution_count": 965,
   "metadata": {},
   "outputs": [],
   "source": [
    "# Convertir de tipo object a tipo datetime64[ns] la columna\n",
    "df_ab_marketing_events['finish_dt'] = pd.to_datetime(df_ab_marketing_events['finish_dt'])"
   ]
  },
  {
   "cell_type": "code",
   "execution_count": 966,
   "metadata": {},
   "outputs": [
    {
     "name": "stdout",
     "output_type": "stream",
     "text": [
      "<class 'pandas.core.frame.DataFrame'>\n",
      "RangeIndex: 14 entries, 0 to 13\n",
      "Data columns (total 4 columns):\n",
      " #   Column     Non-Null Count  Dtype         \n",
      "---  ------     --------------  -----         \n",
      " 0   name       14 non-null     object        \n",
      " 1   regions    14 non-null     object        \n",
      " 2   start_dt   14 non-null     datetime64[ns]\n",
      " 3   finish_dt  14 non-null     datetime64[ns]\n",
      "dtypes: datetime64[ns](2), object(2)\n",
      "memory usage: 580.0+ bytes\n"
     ]
    }
   ],
   "source": [
    "# Imprimir la información general/resumida actualizada\n",
    "df_ab_marketing_events.info()"
   ]
  },
  {
   "cell_type": "markdown",
   "metadata": {},
   "source": [
    "**2. Nuevos usuarios**"
   ]
  },
  {
   "cell_type": "markdown",
   "metadata": {},
   "source": [
    "**ACCIONES A LLEVAR A CABO EN EL PREPROCESAMIENTO DE LOS DATOS DEL DATAFRAME NUEVOS USUARIOS**\n",
    "\n",
    "a) Revisar y eliminar duplicados.\n",
    "\n",
    "b) Calcular el número de valores ausentes.\n",
    "\n",
    "c) Preparar los datos de la columna FIRST DATE que incluye: convertir de tipo object a tipo datetime64[ns] la columna.\n",
    "\n",
    "d) Filtrar los datos."
   ]
  },
  {
   "cell_type": "markdown",
   "metadata": {},
   "source": [
    "**Revisar y eliminar duplicados**"
   ]
  },
  {
   "cell_type": "code",
   "execution_count": 967,
   "metadata": {},
   "outputs": [
    {
     "data": {
      "text/plain": [
       "58703"
      ]
     },
     "execution_count": 967,
     "metadata": {},
     "output_type": "execute_result"
    }
   ],
   "source": [
    "# Mostrar el total de filas del dataFrame \n",
    "df_ab_new_users.shape[0]"
   ]
  },
  {
   "cell_type": "code",
   "execution_count": 968,
   "metadata": {},
   "outputs": [
    {
     "data": {
      "text/plain": [
       "0"
      ]
     },
     "execution_count": 968,
     "metadata": {},
     "output_type": "execute_result"
    }
   ],
   "source": [
    "# Revisar si hay valores duplicados en el dataframe \n",
    "df_ab_new_users.duplicated().sum()"
   ]
  },
  {
   "cell_type": "code",
   "execution_count": 969,
   "metadata": {},
   "outputs": [
    {
     "name": "stdout",
     "output_type": "stream",
     "text": [
      "El porcentaje de filas duplicadas es: 0.00%\n"
     ]
    }
   ],
   "source": [
    "# Calcular el porcentaje de filas duplicadas \n",
    "print(\"El porcentaje de filas duplicadas es: \" +\n",
    "      f\"{(df_ab_new_users.duplicated().sum() / df_ab_new_users.shape[0]) * 100:.2f}%\")"
   ]
  },
  {
   "cell_type": "markdown",
   "metadata": {},
   "source": [
    "**Tratamiento de los valores ausentes**"
   ]
  },
  {
   "cell_type": "markdown",
   "metadata": {},
   "source": [
    "Para este conjunto de datos caso de estudio no se procederá a realizar algún tratamiento de los valores ausentes ya que como se puede ver después de generar el código y ejecutar el mismo en la caja CODE de abajo, el dataframe NUEVOS USUARIOS no cuenta con información de este tipo en ninguna de sus columnas."
   ]
  },
  {
   "cell_type": "code",
   "execution_count": 970,
   "metadata": {},
   "outputs": [
    {
     "data": {
      "text/plain": [
       "user_id       0\n",
       "first_date    0\n",
       "region        0\n",
       "device        0\n",
       "dtype: int64"
      ]
     },
     "execution_count": 970,
     "metadata": {},
     "output_type": "execute_result"
    }
   ],
   "source": [
    "# Calcular el número de valores ausentes\n",
    "df_ab_new_users.isna().sum()"
   ]
  },
  {
   "cell_type": "markdown",
   "metadata": {},
   "source": [
    "**Preparar los datos de la columna FIRST DATE**"
   ]
  },
  {
   "cell_type": "code",
   "execution_count": 971,
   "metadata": {},
   "outputs": [],
   "source": [
    "# Convertir de tipo object a tipo datetime64[ns] la columna\n",
    "df_ab_new_users['first_date'] = pd.to_datetime(df_ab_new_users['first_date'])"
   ]
  },
  {
   "cell_type": "code",
   "execution_count": 972,
   "metadata": {},
   "outputs": [
    {
     "name": "stdout",
     "output_type": "stream",
     "text": [
      "<class 'pandas.core.frame.DataFrame'>\n",
      "RangeIndex: 58703 entries, 0 to 58702\n",
      "Data columns (total 4 columns):\n",
      " #   Column      Non-Null Count  Dtype         \n",
      "---  ------      --------------  -----         \n",
      " 0   user_id     58703 non-null  object        \n",
      " 1   first_date  58703 non-null  datetime64[ns]\n",
      " 2   region      58703 non-null  object        \n",
      " 3   device      58703 non-null  object        \n",
      "dtypes: datetime64[ns](1), object(3)\n",
      "memory usage: 1.8+ MB\n"
     ]
    }
   ],
   "source": [
    "# Imprimir la información general/resumida actualizada\n",
    "df_ab_new_users.info()"
   ]
  },
  {
   "cell_type": "markdown",
   "metadata": {},
   "source": [
    "**Filtrar los datos**"
   ]
  },
  {
   "cell_type": "markdown",
   "metadata": {},
   "source": [
    "Es ideal en está fase filtrar los datos conforme a los requerimientos del proyecto para que ya estén listos para el análisis exploratorio. \n",
    "\n",
    "Condiciones: \n",
    "\n",
    "- region == EU\n",
    "- first_date >= \"2020-12-07\" & first_date <= \"2020-12-21\" (todos los usuarios que se registraron en la tienda en línea)"
   ]
  },
  {
   "cell_type": "code",
   "execution_count": 973,
   "metadata": {},
   "outputs": [
    {
     "name": "stdout",
     "output_type": "stream",
     "text": [
      "<class 'pandas.core.frame.DataFrame'>\n",
      "RangeIndex: 39466 entries, 0 to 39465\n",
      "Data columns (total 4 columns):\n",
      " #   Column      Non-Null Count  Dtype         \n",
      "---  ------      --------------  -----         \n",
      " 0   user_id     39466 non-null  object        \n",
      " 1   first_date  39466 non-null  datetime64[ns]\n",
      " 2   region      39466 non-null  object        \n",
      " 3   device      39466 non-null  object        \n",
      "dtypes: datetime64[ns](1), object(3)\n",
      "memory usage: 1.2+ MB\n"
     ]
    }
   ],
   "source": [
    "# Filtrar nuevos usuarios de la región EU registrados entre el 7 y el 21 de diciembre de 2020\n",
    "df_ab_new_users_period=df_ab_new_users.query(\n",
    "    'region == \"EU\" & first_date >= \"2020-12-07\" & first_date <= \"2020-12-21\"').reset_index(drop=True)\n",
    "\n",
    "# Imprimir una muestra de los datos\n",
    "df_ab_new_users_period.info()"
   ]
  },
  {
   "cell_type": "markdown",
   "metadata": {},
   "source": [
    "**3. Eventos**"
   ]
  },
  {
   "cell_type": "markdown",
   "metadata": {},
   "source": [
    "**ACCIONES A LLEVAR A CABO EN EL PREPROCESAMIENTO DE LOS DATOS DEL DATAFRAME EVENTOS**\n",
    "\n",
    "a) Revisar y eliminar duplicados.\n",
    "\n",
    "b) Calcular el número de valores ausentes.\n",
    "\n",
    "c) Preparar los datos de la columna EVENT DT  que incluye: convertir de tipo object a tipo datetime64[ns] la columna.\n",
    "\n",
    "d) Enriquecer los datos a partir de la columna EVENT DT para generar la columna EVENT DATE.\n",
    "\n",
    "e) Filtrar los datos."
   ]
  },
  {
   "cell_type": "markdown",
   "metadata": {},
   "source": [
    "**Revisar y eliminar duplicados**"
   ]
  },
  {
   "cell_type": "code",
   "execution_count": 974,
   "metadata": {},
   "outputs": [
    {
     "data": {
      "text/plain": [
       "423761"
      ]
     },
     "execution_count": 974,
     "metadata": {},
     "output_type": "execute_result"
    }
   ],
   "source": [
    "# Mostrar el total de filas del dataFrame \n",
    "df_ab_events.shape[0]"
   ]
  },
  {
   "cell_type": "code",
   "execution_count": 975,
   "metadata": {},
   "outputs": [
    {
     "data": {
      "text/plain": [
       "0"
      ]
     },
     "execution_count": 975,
     "metadata": {},
     "output_type": "execute_result"
    }
   ],
   "source": [
    "# Revisar si hay valores duplicados en el dataframe\n",
    "df_ab_events.duplicated().sum()"
   ]
  },
  {
   "cell_type": "code",
   "execution_count": 976,
   "metadata": {},
   "outputs": [
    {
     "name": "stdout",
     "output_type": "stream",
     "text": [
      "El porcentaje de filas duplicadas es: 0.00%\n"
     ]
    }
   ],
   "source": [
    "# Calcular el porcentaje de filas duplicadas \n",
    "print(\"El porcentaje de filas duplicadas es: \" +\n",
    "      f\"{(df_ab_events.duplicated().sum() / df_ab_events.shape[0]) * 100:.2f}%\")"
   ]
  },
  {
   "cell_type": "markdown",
   "metadata": {},
   "source": [
    "**Tratamiento de los valores ausentes**"
   ]
  },
  {
   "cell_type": "markdown",
   "metadata": {},
   "source": [
    "*Como se puede observar en el dataframe objeto de estudio se tienen valores ausentes en una de las cuatro columnas que conforma esta estructura de datos, para ser exacto es:*  \n",
    "\n",
    "- **details** con 363447 valores ausentes que corresponden al 85.77% del total de filas del dataframe.\n",
    "\n",
    "Al no ser dicha columna **una variable determinante dentro del análisis a realizar, no altera para nada el resultado final al que se desea llegar** por lo motivo no realize ningún tratamiento para este tipo de valores.\n",
    "\n",
    "Concluyó comentando que en nuestro caso no se puede investigar por qué esos valores están ausentes. Pero en la vida laboral a veces estos valores pueden revelar problemas sistemáticos en la recolección de datos, es decir, errores que ocurren en un proceso de recopilación de la información. "
   ]
  },
  {
   "cell_type": "code",
   "execution_count": 977,
   "metadata": {},
   "outputs": [
    {
     "data": {
      "text/plain": [
       "423761"
      ]
     },
     "execution_count": 977,
     "metadata": {},
     "output_type": "execute_result"
    }
   ],
   "source": [
    "# Mostrar el total de filas del dataFrame\n",
    "df_ab_events.shape[0]"
   ]
  },
  {
   "cell_type": "code",
   "execution_count": 978,
   "metadata": {},
   "outputs": [
    {
     "data": {
      "text/plain": [
       "user_id            0\n",
       "event_dt           0\n",
       "event_name         0\n",
       "details       363447\n",
       "dtype: int64"
      ]
     },
     "execution_count": 978,
     "metadata": {},
     "output_type": "execute_result"
    }
   ],
   "source": [
    "# Calcular el número de valores ausentes\n",
    "df_ab_events.isna().sum()"
   ]
  },
  {
   "cell_type": "code",
   "execution_count": 979,
   "metadata": {},
   "outputs": [
    {
     "name": "stdout",
     "output_type": "stream",
     "text": [
      "El porcentaje de valores ausentes en la columna 'details' es: 85.77%\n"
     ]
    }
   ],
   "source": [
    "# Calcular el porcentaje de valores ausentes para la columna 'details'\n",
    "print(\"El porcentaje de valores ausentes en la columna 'details' es: \" +\n",
    "      f\"{(df_ab_events['details'].isna().sum() / df_ab_events.shape[0]) * 100:.2f}%\")"
   ]
  },
  {
   "cell_type": "markdown",
   "metadata": {},
   "source": [
    "**Preparar los datos de la columna EVENT DT**"
   ]
  },
  {
   "cell_type": "code",
   "execution_count": 980,
   "metadata": {},
   "outputs": [],
   "source": [
    "# Convertir de tipo object a tipo datetime64[ns] la columna\n",
    "df_ab_events['event_dt'] = pd.to_datetime(df_ab_events['event_dt'])"
   ]
  },
  {
   "cell_type": "code",
   "execution_count": 981,
   "metadata": {},
   "outputs": [
    {
     "name": "stdout",
     "output_type": "stream",
     "text": [
      "<class 'pandas.core.frame.DataFrame'>\n",
      "RangeIndex: 423761 entries, 0 to 423760\n",
      "Data columns (total 4 columns):\n",
      " #   Column      Non-Null Count   Dtype         \n",
      "---  ------      --------------   -----         \n",
      " 0   user_id     423761 non-null  object        \n",
      " 1   event_dt    423761 non-null  datetime64[ns]\n",
      " 2   event_name  423761 non-null  object        \n",
      " 3   details     60314 non-null   float64       \n",
      "dtypes: datetime64[ns](1), float64(1), object(2)\n",
      "memory usage: 12.9+ MB\n"
     ]
    }
   ],
   "source": [
    "# Imprimir la información general/resumida actualizada\n",
    "df_ab_events.info()"
   ]
  },
  {
   "cell_type": "markdown",
   "metadata": {},
   "source": [
    "**Enriquecer los datos**"
   ]
  },
  {
   "cell_type": "code",
   "execution_count": 982,
   "metadata": {},
   "outputs": [],
   "source": [
    "# Enriquecer a partir de la columna event dt por día y convertir de tipo object a tipo datetime64[ns] la columna\n",
    "df_ab_events['event_date'] = df_ab_events['event_dt'].dt.date\n",
    "df_ab_events['event_date'] = pd.to_datetime(df_ab_events['event_date'], format='%Y-%m-%d')"
   ]
  },
  {
   "cell_type": "code",
   "execution_count": 983,
   "metadata": {},
   "outputs": [
    {
     "name": "stdout",
     "output_type": "stream",
     "text": [
      "<class 'pandas.core.frame.DataFrame'>\n",
      "RangeIndex: 423761 entries, 0 to 423760\n",
      "Data columns (total 5 columns):\n",
      " #   Column      Non-Null Count   Dtype         \n",
      "---  ------      --------------   -----         \n",
      " 0   user_id     423761 non-null  object        \n",
      " 1   event_dt    423761 non-null  datetime64[ns]\n",
      " 2   event_name  423761 non-null  object        \n",
      " 3   details     60314 non-null   float64       \n",
      " 4   event_date  423761 non-null  datetime64[ns]\n",
      "dtypes: datetime64[ns](2), float64(1), object(2)\n",
      "memory usage: 16.2+ MB\n"
     ]
    }
   ],
   "source": [
    "# Imprimir una muestra de los datos para los eventos después de enriquecer el dataframe\n",
    "df_ab_events.info()"
   ]
  },
  {
   "cell_type": "markdown",
   "metadata": {},
   "source": [
    "**Filtrar los datos**"
   ]
  },
  {
   "cell_type": "markdown",
   "metadata": {},
   "source": [
    "Es ideal en está fase filtrar los datos conforme a los requerimientos del proyecto para que ya estén listos para el análisis exploratorio.\n",
    "\n",
    "Condiciones:\n",
    "    event_date >= \"2020-12-07\" & <= event_date \"2020-12-21\" (todos los usuarios que se registraron en la tienda en línea)"
   ]
  },
  {
   "cell_type": "code",
   "execution_count": 984,
   "metadata": {},
   "outputs": [
    {
     "data": {
      "text/html": [
       "<div>\n",
       "<style scoped>\n",
       "    .dataframe tbody tr th:only-of-type {\n",
       "        vertical-align: middle;\n",
       "    }\n",
       "\n",
       "    .dataframe tbody tr th {\n",
       "        vertical-align: top;\n",
       "    }\n",
       "\n",
       "    .dataframe thead th {\n",
       "        text-align: right;\n",
       "    }\n",
       "</style>\n",
       "<table border=\"1\" class=\"dataframe\">\n",
       "  <thead>\n",
       "    <tr style=\"text-align: right;\">\n",
       "      <th></th>\n",
       "      <th>user_id</th>\n",
       "      <th>event_dt</th>\n",
       "      <th>event_name</th>\n",
       "      <th>details</th>\n",
       "      <th>event_date</th>\n",
       "    </tr>\n",
       "  </thead>\n",
       "  <tbody>\n",
       "    <tr>\n",
       "      <th>0</th>\n",
       "      <td>E1BDDCE0DAFA2679</td>\n",
       "      <td>2020-12-07 20:22:03</td>\n",
       "      <td>purchase</td>\n",
       "      <td>99.99</td>\n",
       "      <td>2020-12-07</td>\n",
       "    </tr>\n",
       "    <tr>\n",
       "      <th>1</th>\n",
       "      <td>7B6452F081F49504</td>\n",
       "      <td>2020-12-07 09:22:53</td>\n",
       "      <td>purchase</td>\n",
       "      <td>9.99</td>\n",
       "      <td>2020-12-07</td>\n",
       "    </tr>\n",
       "    <tr>\n",
       "      <th>2</th>\n",
       "      <td>9CD9F34546DF254C</td>\n",
       "      <td>2020-12-07 12:59:29</td>\n",
       "      <td>purchase</td>\n",
       "      <td>4.99</td>\n",
       "      <td>2020-12-07</td>\n",
       "    </tr>\n",
       "    <tr>\n",
       "      <th>3</th>\n",
       "      <td>96F27A054B191457</td>\n",
       "      <td>2020-12-07 04:02:40</td>\n",
       "      <td>purchase</td>\n",
       "      <td>4.99</td>\n",
       "      <td>2020-12-07</td>\n",
       "    </tr>\n",
       "    <tr>\n",
       "      <th>4</th>\n",
       "      <td>1FD7660FDF94CA1F</td>\n",
       "      <td>2020-12-07 10:15:09</td>\n",
       "      <td>purchase</td>\n",
       "      <td>4.99</td>\n",
       "      <td>2020-12-07</td>\n",
       "    </tr>\n",
       "  </tbody>\n",
       "</table>\n",
       "</div>"
      ],
      "text/plain": [
       "            user_id            event_dt event_name  details event_date\n",
       "0  E1BDDCE0DAFA2679 2020-12-07 20:22:03   purchase    99.99 2020-12-07\n",
       "1  7B6452F081F49504 2020-12-07 09:22:53   purchase     9.99 2020-12-07\n",
       "2  9CD9F34546DF254C 2020-12-07 12:59:29   purchase     4.99 2020-12-07\n",
       "3  96F27A054B191457 2020-12-07 04:02:40   purchase     4.99 2020-12-07\n",
       "4  1FD7660FDF94CA1F 2020-12-07 10:15:09   purchase     4.99 2020-12-07"
      ]
     },
     "execution_count": 984,
     "metadata": {},
     "output_type": "execute_result"
    }
   ],
   "source": [
    "# Filtrar eventos ocurridos entre el 7 de diciembre de 2020 y el 1 de enero de 2021\n",
    "df_ab_events_period = df_ab_events.query('event_date >= \"2020-12-07\" & event_date <= \"2021-01-01\"').reset_index(drop=True)\n",
    "\n",
    "# Imprimir una muestra de los datos\n",
    "df_ab_events_period.head()"
   ]
  },
  {
   "cell_type": "markdown",
   "metadata": {},
   "source": [
    "**4. Participantes**"
   ]
  },
  {
   "cell_type": "markdown",
   "metadata": {},
   "source": [
    "**ACCIONES A LLEVAR A CABO EN EL PREPROCESAMIENTO DE LOS DATOS DEL DATAFRAME PARTICIPANTES**\n",
    "\n",
    "a) Revisar y eliminar duplicados.\n",
    "\n",
    "b) Calcular el número de valores ausentes."
   ]
  },
  {
   "cell_type": "markdown",
   "metadata": {},
   "source": [
    "**Revisar y eliminar duplicados**"
   ]
  },
  {
   "cell_type": "code",
   "execution_count": 985,
   "metadata": {},
   "outputs": [
    {
     "data": {
      "text/plain": [
       "14525"
      ]
     },
     "execution_count": 985,
     "metadata": {},
     "output_type": "execute_result"
    }
   ],
   "source": [
    "# Mostrar el total de filas del dataFrame \n",
    "df_ab_participants.shape[0]"
   ]
  },
  {
   "cell_type": "code",
   "execution_count": 986,
   "metadata": {},
   "outputs": [
    {
     "data": {
      "text/plain": [
       "0"
      ]
     },
     "execution_count": 986,
     "metadata": {},
     "output_type": "execute_result"
    }
   ],
   "source": [
    "# Revisar si hay valores duplicados en el dataframe\n",
    "df_ab_participants.duplicated().sum()"
   ]
  },
  {
   "cell_type": "code",
   "execution_count": 987,
   "metadata": {},
   "outputs": [
    {
     "name": "stdout",
     "output_type": "stream",
     "text": [
      "El porcentaje de filas duplicadas es: 0.00%\n"
     ]
    }
   ],
   "source": [
    "# Calcular el porcentaje de filas duplicadas \n",
    "print(\"El porcentaje de filas duplicadas es: \" +\n",
    "      f\"{(df_ab_participants.duplicated().sum() / df_ab_participants.shape[0]) * 100:.2f}%\")"
   ]
  },
  {
   "cell_type": "markdown",
   "metadata": {},
   "source": [
    "**Tratamiento de los valores ausentes**"
   ]
  },
  {
   "cell_type": "markdown",
   "metadata": {},
   "source": [
    "Para este conjunto de datos caso de estudio no se procederá a realizar algún tratamiento de los valores ausentes ya que como se puede ver después de generar el código y ejecutar el mismo en la caja CODE de abajo, el dataframe PARTICIPANTS no cuenta con información de este tipo en ninguna de sus columnas."
   ]
  },
  {
   "cell_type": "code",
   "execution_count": 988,
   "metadata": {},
   "outputs": [
    {
     "data": {
      "text/plain": [
       "user_id    0\n",
       "group      0\n",
       "ab_test    0\n",
       "dtype: int64"
      ]
     },
     "execution_count": 988,
     "metadata": {},
     "output_type": "execute_result"
    }
   ],
   "source": [
    "# Calcular el número de valores ausentes\n",
    "df_ab_participants.isna().sum()"
   ]
  },
  {
   "cell_type": "markdown",
   "metadata": {},
   "source": [
    "**ETAPA 3. Análisis exploratorio**"
   ]
  },
  {
   "cell_type": "markdown",
   "metadata": {},
   "source": [
    "# Estudia la conversión en las diferentes etapas del embudo."
   ]
  },
  {
   "cell_type": "code",
   "execution_count": 989,
   "metadata": {},
   "outputs": [
    {
     "data": {
      "text/plain": [
       "0        D1ABA3E2887B6A73\n",
       "1        A7A3664BD6242119\n",
       "2        DABC14FDDFADD29E\n",
       "3        04988C5DF189632E\n",
       "4        4FF2998A348C484F\n",
       "               ...       \n",
       "14516    96304D5B53694096\n",
       "14518    A1281767A2983E4D\n",
       "14521    3DE51B726983B657\n",
       "14522    F501F79D332BE86C\n",
       "14523    63FBE257B05F2245\n",
       "Name: user_id, Length: 8214, dtype: object"
      ]
     },
     "execution_count": 989,
     "metadata": {},
     "output_type": "execute_result"
    }
   ],
   "source": [
    "# Filtrar los usuarios que están en el grupo A \n",
    "group_a_users = df_ab_participants[df_ab_participants['group'] == 'A']['user_id']\n",
    "group_a_users"
   ]
  },
  {
   "cell_type": "code",
   "execution_count": 990,
   "metadata": {},
   "outputs": [
    {
     "data": {
      "text/plain": [
       "10       CD74C3D22FFC09C2\n",
       "13       50AA023EF325BCA1\n",
       "15       EAFB9027A27D510C\n",
       "17       5D5E6EE92AF6E9E0\n",
       "21       52E7B7DC39F52987\n",
       "               ...       \n",
       "14513    06CB5B54FDFEA69F\n",
       "14517    60A2B3B987457ECE\n",
       "14519    4155D795096E6CFE\n",
       "14520    1D302F8688B91781\n",
       "14524    79F9ABFB029CF724\n",
       "Name: user_id, Length: 6311, dtype: object"
      ]
     },
     "execution_count": 990,
     "metadata": {},
     "output_type": "execute_result"
    }
   ],
   "source": [
    "# Filtrar los usuarios que están en el grupo B\n",
    "group_b_users = df_ab_participants[df_ab_participants['group'] == 'B']['user_id']\n",
    "group_b_users"
   ]
  },
  {
   "cell_type": "code",
   "execution_count": 991,
   "metadata": {},
   "outputs": [
    {
     "data": {
      "text/html": [
       "<div>\n",
       "<style scoped>\n",
       "    .dataframe tbody tr th:only-of-type {\n",
       "        vertical-align: middle;\n",
       "    }\n",
       "\n",
       "    .dataframe tbody tr th {\n",
       "        vertical-align: top;\n",
       "    }\n",
       "\n",
       "    .dataframe thead th {\n",
       "        text-align: right;\n",
       "    }\n",
       "</style>\n",
       "<table border=\"1\" class=\"dataframe\">\n",
       "  <thead>\n",
       "    <tr style=\"text-align: right;\">\n",
       "      <th></th>\n",
       "      <th>user_id</th>\n",
       "      <th>event_dt</th>\n",
       "      <th>event_name</th>\n",
       "      <th>details</th>\n",
       "      <th>event_date</th>\n",
       "    </tr>\n",
       "  </thead>\n",
       "  <tbody>\n",
       "    <tr>\n",
       "      <th>0</th>\n",
       "      <td>E1BDDCE0DAFA2679</td>\n",
       "      <td>2020-12-07 20:22:03</td>\n",
       "      <td>purchase</td>\n",
       "      <td>99.99</td>\n",
       "      <td>2020-12-07</td>\n",
       "    </tr>\n",
       "    <tr>\n",
       "      <th>1</th>\n",
       "      <td>7B6452F081F49504</td>\n",
       "      <td>2020-12-07 09:22:53</td>\n",
       "      <td>purchase</td>\n",
       "      <td>9.99</td>\n",
       "      <td>2020-12-07</td>\n",
       "    </tr>\n",
       "    <tr>\n",
       "      <th>2</th>\n",
       "      <td>9CD9F34546DF254C</td>\n",
       "      <td>2020-12-07 12:59:29</td>\n",
       "      <td>purchase</td>\n",
       "      <td>4.99</td>\n",
       "      <td>2020-12-07</td>\n",
       "    </tr>\n",
       "    <tr>\n",
       "      <th>3</th>\n",
       "      <td>96F27A054B191457</td>\n",
       "      <td>2020-12-07 04:02:40</td>\n",
       "      <td>purchase</td>\n",
       "      <td>4.99</td>\n",
       "      <td>2020-12-07</td>\n",
       "    </tr>\n",
       "    <tr>\n",
       "      <th>4</th>\n",
       "      <td>1FD7660FDF94CA1F</td>\n",
       "      <td>2020-12-07 10:15:09</td>\n",
       "      <td>purchase</td>\n",
       "      <td>4.99</td>\n",
       "      <td>2020-12-07</td>\n",
       "    </tr>\n",
       "  </tbody>\n",
       "</table>\n",
       "</div>"
      ],
      "text/plain": [
       "            user_id            event_dt event_name  details event_date\n",
       "0  E1BDDCE0DAFA2679 2020-12-07 20:22:03   purchase    99.99 2020-12-07\n",
       "1  7B6452F081F49504 2020-12-07 09:22:53   purchase     9.99 2020-12-07\n",
       "2  9CD9F34546DF254C 2020-12-07 12:59:29   purchase     4.99 2020-12-07\n",
       "3  96F27A054B191457 2020-12-07 04:02:40   purchase     4.99 2020-12-07\n",
       "4  1FD7660FDF94CA1F 2020-12-07 10:15:09   purchase     4.99 2020-12-07"
      ]
     },
     "execution_count": 991,
     "metadata": {},
     "output_type": "execute_result"
    }
   ],
   "source": [
    "# Filtrar los eventos de las tres etapas del embudo\n",
    "events_of_interest = ['product_page', 'product_cart', 'purchase']\n",
    "df_filtered_events = df_ab_events_period[df_ab_events_period['event_name'].isin(events_of_interest)]\n",
    "\n",
    "# Imprimir una muestra de los datos\n",
    "df_filtered_events.head()"
   ]
  },
  {
   "cell_type": "code",
   "execution_count": 992,
   "metadata": {},
   "outputs": [
    {
     "data": {
      "text/html": [
       "<div>\n",
       "<style scoped>\n",
       "    .dataframe tbody tr th:only-of-type {\n",
       "        vertical-align: middle;\n",
       "    }\n",
       "\n",
       "    .dataframe tbody tr th {\n",
       "        vertical-align: top;\n",
       "    }\n",
       "\n",
       "    .dataframe thead th {\n",
       "        text-align: right;\n",
       "    }\n",
       "</style>\n",
       "<table border=\"1\" class=\"dataframe\">\n",
       "  <thead>\n",
       "    <tr style=\"text-align: right;\">\n",
       "      <th></th>\n",
       "      <th>user_id</th>\n",
       "      <th>event_dt</th>\n",
       "      <th>event_name</th>\n",
       "      <th>details</th>\n",
       "      <th>event_date</th>\n",
       "    </tr>\n",
       "  </thead>\n",
       "  <tbody>\n",
       "    <tr>\n",
       "      <th>5</th>\n",
       "      <td>831887FE7F2D6CBA</td>\n",
       "      <td>2020-12-07 06:50:29</td>\n",
       "      <td>purchase</td>\n",
       "      <td>4.99</td>\n",
       "      <td>2020-12-07</td>\n",
       "    </tr>\n",
       "    <tr>\n",
       "      <th>9</th>\n",
       "      <td>A92195E3CFB83DBD</td>\n",
       "      <td>2020-12-07 00:32:07</td>\n",
       "      <td>purchase</td>\n",
       "      <td>4.99</td>\n",
       "      <td>2020-12-07</td>\n",
       "    </tr>\n",
       "    <tr>\n",
       "      <th>11</th>\n",
       "      <td>354D653172FF2A2D</td>\n",
       "      <td>2020-12-07 15:45:11</td>\n",
       "      <td>purchase</td>\n",
       "      <td>4.99</td>\n",
       "      <td>2020-12-07</td>\n",
       "    </tr>\n",
       "    <tr>\n",
       "      <th>13</th>\n",
       "      <td>0313C457F07C339E</td>\n",
       "      <td>2020-12-07 13:10:48</td>\n",
       "      <td>purchase</td>\n",
       "      <td>9.99</td>\n",
       "      <td>2020-12-07</td>\n",
       "    </tr>\n",
       "    <tr>\n",
       "      <th>17</th>\n",
       "      <td>3C5DD0288AC4FE23</td>\n",
       "      <td>2020-12-07 19:42:40</td>\n",
       "      <td>purchase</td>\n",
       "      <td>4.99</td>\n",
       "      <td>2020-12-07</td>\n",
       "    </tr>\n",
       "  </tbody>\n",
       "</table>\n",
       "</div>"
      ],
      "text/plain": [
       "             user_id            event_dt event_name  details event_date\n",
       "5   831887FE7F2D6CBA 2020-12-07 06:50:29   purchase     4.99 2020-12-07\n",
       "9   A92195E3CFB83DBD 2020-12-07 00:32:07   purchase     4.99 2020-12-07\n",
       "11  354D653172FF2A2D 2020-12-07 15:45:11   purchase     4.99 2020-12-07\n",
       "13  0313C457F07C339E 2020-12-07 13:10:48   purchase     9.99 2020-12-07\n",
       "17  3C5DD0288AC4FE23 2020-12-07 19:42:40   purchase     4.99 2020-12-07"
      ]
     },
     "execution_count": 992,
     "metadata": {},
     "output_type": "execute_result"
    }
   ],
   "source": [
    "# Filtrar los eventos solo para usuarios del grupo A\n",
    "df_filtered_events_group_a = df_filtered_events[df_filtered_events['user_id'].isin(group_a_users)]\n",
    "\n",
    "# Imprimir una muestra de los datos\n",
    "df_filtered_events_group_a.head()"
   ]
  },
  {
   "cell_type": "code",
   "execution_count": 993,
   "metadata": {},
   "outputs": [
    {
     "data": {
      "text/html": [
       "<div>\n",
       "<style scoped>\n",
       "    .dataframe tbody tr th:only-of-type {\n",
       "        vertical-align: middle;\n",
       "    }\n",
       "\n",
       "    .dataframe tbody tr th {\n",
       "        vertical-align: top;\n",
       "    }\n",
       "\n",
       "    .dataframe thead th {\n",
       "        text-align: right;\n",
       "    }\n",
       "</style>\n",
       "<table border=\"1\" class=\"dataframe\">\n",
       "  <thead>\n",
       "    <tr style=\"text-align: right;\">\n",
       "      <th></th>\n",
       "      <th>user_id</th>\n",
       "      <th>event_dt</th>\n",
       "      <th>event_name</th>\n",
       "      <th>details</th>\n",
       "      <th>event_date</th>\n",
       "    </tr>\n",
       "  </thead>\n",
       "  <tbody>\n",
       "    <tr>\n",
       "      <th>3</th>\n",
       "      <td>96F27A054B191457</td>\n",
       "      <td>2020-12-07 04:02:40</td>\n",
       "      <td>purchase</td>\n",
       "      <td>4.99</td>\n",
       "      <td>2020-12-07</td>\n",
       "    </tr>\n",
       "    <tr>\n",
       "      <th>12</th>\n",
       "      <td>7FCD34F47C13A9AC</td>\n",
       "      <td>2020-12-07 22:06:13</td>\n",
       "      <td>purchase</td>\n",
       "      <td>9.99</td>\n",
       "      <td>2020-12-07</td>\n",
       "    </tr>\n",
       "    <tr>\n",
       "      <th>25</th>\n",
       "      <td>C39E95E709714A06</td>\n",
       "      <td>2020-12-07 09:07:20</td>\n",
       "      <td>purchase</td>\n",
       "      <td>4.99</td>\n",
       "      <td>2020-12-07</td>\n",
       "    </tr>\n",
       "    <tr>\n",
       "      <th>30</th>\n",
       "      <td>78B3AFBB700310CC</td>\n",
       "      <td>2020-12-07 23:44:09</td>\n",
       "      <td>purchase</td>\n",
       "      <td>4.99</td>\n",
       "      <td>2020-12-07</td>\n",
       "    </tr>\n",
       "    <tr>\n",
       "      <th>31</th>\n",
       "      <td>80CEAF824A1F3E28</td>\n",
       "      <td>2020-12-07 15:54:06</td>\n",
       "      <td>purchase</td>\n",
       "      <td>499.99</td>\n",
       "      <td>2020-12-07</td>\n",
       "    </tr>\n",
       "  </tbody>\n",
       "</table>\n",
       "</div>"
      ],
      "text/plain": [
       "             user_id            event_dt event_name  details event_date\n",
       "3   96F27A054B191457 2020-12-07 04:02:40   purchase     4.99 2020-12-07\n",
       "12  7FCD34F47C13A9AC 2020-12-07 22:06:13   purchase     9.99 2020-12-07\n",
       "25  C39E95E709714A06 2020-12-07 09:07:20   purchase     4.99 2020-12-07\n",
       "30  78B3AFBB700310CC 2020-12-07 23:44:09   purchase     4.99 2020-12-07\n",
       "31  80CEAF824A1F3E28 2020-12-07 15:54:06   purchase   499.99 2020-12-07"
      ]
     },
     "execution_count": 993,
     "metadata": {},
     "output_type": "execute_result"
    }
   ],
   "source": [
    "# Filtrar los eventos solo para usuarios del grupo B\n",
    "df_filtered_events_group_b = df_filtered_events[df_filtered_events['user_id'].isin(group_b_users)]\n",
    "\n",
    "# Imprimir una muestra de los datos\n",
    "df_filtered_events_group_b.head()"
   ]
  },
  {
   "cell_type": "code",
   "execution_count": 994,
   "metadata": {},
   "outputs": [
    {
     "data": {
      "text/plain": [
       "array(['D72A72121175D8BE', '2E1BF1D4C37EA01F', 'DD4352CDCF8C3D57', ...,\n",
       "       '165AFCBF42C043F8', '54E7F36C0E976E24', '2DDC948BD76ABC57'],\n",
       "      dtype=object)"
      ]
     },
     "execution_count": 994,
     "metadata": {},
     "output_type": "execute_result"
    }
   ],
   "source": [
    "# Contar cuántos usuarios pasaron por cada etapa del embudo\n",
    "# Usuarios que realizaron el evento 'product_page' en el grupo A\n",
    "group_a_product_page_users = df_filtered_events_group_a[df_filtered_events_group_a['event_name'] == 'product_page'][\n",
    "    'user_id'].unique()\n",
    "\n",
    "group_a_product_page_users"
   ]
  },
  {
   "cell_type": "code",
   "execution_count": 995,
   "metadata": {},
   "outputs": [
    {
     "data": {
      "text/plain": [
       "array(['50734A22C0C63768', '96F27A054B191457', 'DD4352CDCF8C3D57', ...,\n",
       "       '32A46395A711AEFF', '7E43EB2E03A33E78', 'B8B679DEE9F2CA06'],\n",
       "      dtype=object)"
      ]
     },
     "execution_count": 995,
     "metadata": {},
     "output_type": "execute_result"
    }
   ],
   "source": [
    "# Contar cuántos usuarios pasaron por cada etapa del embudo\n",
    "# Usuarios que realizaron el evento 'product_page' en el grupo B\n",
    "group_b_product_page_users = df_filtered_events_group_b[df_filtered_events_group_b['event_name'] == 'product_page'][\n",
    "    'user_id'].unique()\n",
    "\n",
    "group_b_product_page_users"
   ]
  },
  {
   "cell_type": "code",
   "execution_count": 996,
   "metadata": {},
   "outputs": [
    {
     "data": {
      "text/plain": [
       "array(['2E1BF1D4C37EA01F', '05AAB890585C38F7', '7BFC18C3391016B3', ...,\n",
       "       '2D01A2E2F8B0EABB', '3FBB2AE89FE71F59', '165AFCBF42C043F8'],\n",
       "      dtype=object)"
      ]
     },
     "execution_count": 996,
     "metadata": {},
     "output_type": "execute_result"
    }
   ],
   "source": [
    "# Contar cuántos usuarios pasaron por cada etapa del embudo\n",
    "# Usuarios que realizaron el evento'product_cart' después de 'product_page' en el grupo A\n",
    "group_a_product_cart_users = df_filtered_events_group_a[df_filtered_events_group_a['event_name'] == 'product_cart']\n",
    "group_a_product_cart_users = group_a_product_cart_users[group_a_product_cart_users['user_id'].isin(\n",
    "    group_a_product_page_users)]['user_id'].unique()\n",
    "\n",
    "group_a_product_cart_users"
   ]
  },
  {
   "cell_type": "code",
   "execution_count": 997,
   "metadata": {},
   "outputs": [
    {
     "data": {
      "text/plain": [
       "array(['50734A22C0C63768', '7D1BFB181017EB46', '3E90A4CA2F922CE4', ...,\n",
       "       '327111639FEF567F', '2A3CC2DB6F886374', 'B8B679DEE9F2CA06'],\n",
       "      dtype=object)"
      ]
     },
     "execution_count": 997,
     "metadata": {},
     "output_type": "execute_result"
    }
   ],
   "source": [
    "# Contar cuántos usuarios pasaron por cada etapa del embudo\n",
    "# Usuarios que realizaron el evento'product_cart' después de 'product_page' en el grupo B\n",
    "group_b_product_cart_users = df_filtered_events_group_b[df_filtered_events_group_b['event_name'] == 'product_cart']\n",
    "group_b_product_cart_users = group_b_product_cart_users[group_b_product_cart_users['user_id'].isin(\n",
    "    group_b_product_page_users)]['user_id'].unique()\n",
    "\n",
    "group_b_product_cart_users"
   ]
  },
  {
   "cell_type": "code",
   "execution_count": 998,
   "metadata": {},
   "outputs": [],
   "source": [
    "# Contar cuántos usuarios pasaron por cada etapa del embudo\n",
    "# Usuarios que realizaron el evento 'purchase' después de 'product_cart' en el grupo A\n",
    "group_a_purchase_users = df_filtered_events_group_a[df_filtered_events_group_a['event_name'] == 'purchase']\n",
    "group_a_purchase_users = group_a_purchase_users[group_a_purchase_users['user_id'].isin(group_a_product_cart_users)][\n",
    "    'user_id'].unique()"
   ]
  },
  {
   "cell_type": "code",
   "execution_count": 999,
   "metadata": {},
   "outputs": [],
   "source": [
    "# Contar cuántos usuarios pasaron por cada etapa del embudo\n",
    "# Usuarios que realizaron el evento 'purchase' después de 'product_cart' en el grupo B\n",
    "group_b_purchase_users = df_filtered_events_group_b[df_filtered_events_group_b['event_name'] == 'purchase']\n",
    "group_b_purchase_users = group_b_purchase_users[group_b_purchase_users['user_id'].isin(group_b_product_cart_users)][\n",
    "    'user_id'].unique()"
   ]
  },
  {
   "cell_type": "code",
   "execution_count": 1000,
   "metadata": {},
   "outputs": [
    {
     "data": {
      "text/plain": [
       "0.6340394448502557"
      ]
     },
     "execution_count": 1000,
     "metadata": {},
     "output_type": "execute_result"
    }
   ],
   "source": [
    "# Calcular la tasa de conversión para cada grupo en cada etapa del embudo\n",
    "# Conversión en el evento product_page en el grupo A\n",
    "group_a_total_users = len(group_a_users)\n",
    "group_a_conversion_page = len(group_a_product_page_users) / group_a_total_users\n",
    "\n",
    "group_a_conversion_page"
   ]
  },
  {
   "cell_type": "code",
   "execution_count": 1001,
   "metadata": {},
   "outputs": [
    {
     "data": {
      "text/plain": [
       "0.6315956266835684"
      ]
     },
     "execution_count": 1001,
     "metadata": {},
     "output_type": "execute_result"
    }
   ],
   "source": [
    "# Calcular la tasa de conversión para cada grupo en cada etapa del embudo\n",
    "# Conversión en el evento product_page en el grupo B\n",
    "group_b_total_users = len(group_b_users)\n",
    "group_b_conversion_page = len(group_b_product_page_users) / group_b_total_users\n",
    "\n",
    "group_b_conversion_page"
   ]
  },
  {
   "cell_type": "code",
   "execution_count": 1002,
   "metadata": {},
   "outputs": [
    {
     "data": {
      "text/plain": [
       "0.3147081413210445"
      ]
     },
     "execution_count": 1002,
     "metadata": {},
     "output_type": "execute_result"
    }
   ],
   "source": [
    "# Calcular la tasa de conversión para cada grupo en cada etapa del embudo\n",
    "# Conversión en el evento product_cart en el grupo A\n",
    "group_a_conversion_cart = len(group_a_product_cart_users) / len(group_a_product_page_users)\n",
    "\n",
    "group_a_conversion_cart"
   ]
  },
  {
   "cell_type": "code",
   "execution_count": 1003,
   "metadata": {},
   "outputs": [
    {
     "data": {
      "text/plain": [
       "0.3299046663321626"
      ]
     },
     "execution_count": 1003,
     "metadata": {},
     "output_type": "execute_result"
    }
   ],
   "source": [
    "# Calcular la tasa de conversión para cada grupo en cada etapa del embudo\n",
    "# Conversión en el evento product_cart en el grupo B\n",
    "group_b_conversion_cart = len(group_b_product_cart_users) / len(group_b_product_page_users)\n",
    "\n",
    "group_b_conversion_cart"
   ]
  },
  {
   "cell_type": "code",
   "execution_count": 1004,
   "metadata": {},
   "outputs": [
    {
     "data": {
      "text/plain": [
       "0.3410616229408176"
      ]
     },
     "execution_count": 1004,
     "metadata": {},
     "output_type": "execute_result"
    }
   ],
   "source": [
    "# Calcular la tasa de conversión para cada grupo en cada etapa del embudo\n",
    "# Conversión en el evento purchase en el grupo A\n",
    "group_a_conversion_purchase = len(group_a_purchase_users) / len(group_a_product_cart_users)\n",
    "\n",
    "group_a_conversion_purchase"
   ]
  },
  {
   "cell_type": "code",
   "execution_count": 1005,
   "metadata": {},
   "outputs": [
    {
     "data": {
      "text/plain": [
       "0.3300380228136882"
      ]
     },
     "execution_count": 1005,
     "metadata": {},
     "output_type": "execute_result"
    }
   ],
   "source": [
    "# Calcular la tasa de conversión para cada grupo en cada etapa del embudo\n",
    "# Conversión en el evento purchase en el grupo B\n",
    "group_b_conversion_purchase = len(group_b_purchase_users) / len(group_b_product_cart_users)\n",
    "\n",
    "group_b_conversion_purchase"
   ]
  },
  {
   "cell_type": "code",
   "execution_count": 1006,
   "metadata": {},
   "outputs": [
    {
     "data": {
      "text/html": [
       "<div>\n",
       "<style scoped>\n",
       "    .dataframe tbody tr th:only-of-type {\n",
       "        vertical-align: middle;\n",
       "    }\n",
       "\n",
       "    .dataframe tbody tr th {\n",
       "        vertical-align: top;\n",
       "    }\n",
       "\n",
       "    .dataframe thead th {\n",
       "        text-align: right;\n",
       "    }\n",
       "</style>\n",
       "<table border=\"1\" class=\"dataframe\">\n",
       "  <thead>\n",
       "    <tr style=\"text-align: right;\">\n",
       "      <th></th>\n",
       "      <th>group</th>\n",
       "      <th>product_page_conversion</th>\n",
       "      <th>product_cart_conversion</th>\n",
       "      <th>purchase_conversion</th>\n",
       "    </tr>\n",
       "  </thead>\n",
       "  <tbody>\n",
       "    <tr>\n",
       "      <th>0</th>\n",
       "      <td>A</td>\n",
       "      <td>63.4%</td>\n",
       "      <td>31.5%</td>\n",
       "      <td>34.1%</td>\n",
       "    </tr>\n",
       "    <tr>\n",
       "      <th>1</th>\n",
       "      <td>B</td>\n",
       "      <td>63.2%</td>\n",
       "      <td>33.0%</td>\n",
       "      <td>33.0%</td>\n",
       "    </tr>\n",
       "  </tbody>\n",
       "</table>\n",
       "</div>"
      ],
      "text/plain": [
       "  group product_page_conversion product_cart_conversion purchase_conversion\n",
       "0     A                   63.4%                   31.5%               34.1%\n",
       "1     B                   63.2%                   33.0%               33.0%"
      ]
     },
     "execution_count": 1006,
     "metadata": {},
     "output_type": "execute_result"
    }
   ],
   "source": [
    "# Mostrar los resultados de la conversión por grupo y evento\n",
    "conversion_results = {\n",
    "    'group': ['A', 'B'],\n",
    "    'product_page_conversion': [f'{group_a_conversion_page * 100:.1f}%', f'{group_b_conversion_page * 100:.1f}%'],\n",
    "    'product_cart_conversion': [f'{group_a_conversion_cart * 100:.1f}%', f'{group_b_conversion_cart * 100:.1f}%'],\n",
    "    'purchase_conversion': [f'{group_a_conversion_purchase * 100:.1f}%', f'{group_b_conversion_purchase * 100:.1f}%']\n",
    "}\n",
    "\n",
    "df_conversion_results = pd.DataFrame(conversion_results)\n",
    "\n",
    "# Imprimir los datos\n",
    "df_conversion_results"
   ]
  },
  {
   "cell_type": "code",
   "execution_count": 1007,
   "metadata": {},
   "outputs": [
    {
     "data": {
      "application/vnd.plotly.v1+json": {
       "config": {
        "plotlyServerURL": "https://plot.ly"
       },
       "data": [
        {
         "marker": {
          "color": "royalblue"
         },
         "name": "Group A",
         "orientation": "h",
         "text": [
          "63.4%",
          "31.5%",
          "34.1%"
         ],
         "textposition": "inside",
         "type": "funnel",
         "x": [
          63.40394448502556,
          31.47081413210445,
          34.10616229408176
         ],
         "y": [
          "Product Page",
          "Product Cart",
          "Purchase"
         ]
        },
        {
         "marker": {
          "color": "tomato"
         },
         "name": "Group B",
         "orientation": "h",
         "text": [
          "63.2%",
          "33.0%",
          "33.0%"
         ],
         "textposition": "inside",
         "type": "funnel",
         "x": [
          63.15956266835684,
          32.99046663321626,
          33.00380228136882
         ],
         "y": [
          "Product Page",
          "Product Cart",
          "Purchase"
         ]
        }
       ],
       "layout": {
        "funnelmode": "stack",
        "template": {
         "data": {
          "bar": [
           {
            "error_x": {
             "color": "#2a3f5f"
            },
            "error_y": {
             "color": "#2a3f5f"
            },
            "marker": {
             "line": {
              "color": "#E5ECF6",
              "width": 0.5
             },
             "pattern": {
              "fillmode": "overlay",
              "size": 10,
              "solidity": 0.2
             }
            },
            "type": "bar"
           }
          ],
          "barpolar": [
           {
            "marker": {
             "line": {
              "color": "#E5ECF6",
              "width": 0.5
             },
             "pattern": {
              "fillmode": "overlay",
              "size": 10,
              "solidity": 0.2
             }
            },
            "type": "barpolar"
           }
          ],
          "carpet": [
           {
            "aaxis": {
             "endlinecolor": "#2a3f5f",
             "gridcolor": "white",
             "linecolor": "white",
             "minorgridcolor": "white",
             "startlinecolor": "#2a3f5f"
            },
            "baxis": {
             "endlinecolor": "#2a3f5f",
             "gridcolor": "white",
             "linecolor": "white",
             "minorgridcolor": "white",
             "startlinecolor": "#2a3f5f"
            },
            "type": "carpet"
           }
          ],
          "choropleth": [
           {
            "colorbar": {
             "outlinewidth": 0,
             "ticks": ""
            },
            "type": "choropleth"
           }
          ],
          "contour": [
           {
            "colorbar": {
             "outlinewidth": 0,
             "ticks": ""
            },
            "colorscale": [
             [
              0,
              "#0d0887"
             ],
             [
              0.1111111111111111,
              "#46039f"
             ],
             [
              0.2222222222222222,
              "#7201a8"
             ],
             [
              0.3333333333333333,
              "#9c179e"
             ],
             [
              0.4444444444444444,
              "#bd3786"
             ],
             [
              0.5555555555555556,
              "#d8576b"
             ],
             [
              0.6666666666666666,
              "#ed7953"
             ],
             [
              0.7777777777777778,
              "#fb9f3a"
             ],
             [
              0.8888888888888888,
              "#fdca26"
             ],
             [
              1,
              "#f0f921"
             ]
            ],
            "type": "contour"
           }
          ],
          "contourcarpet": [
           {
            "colorbar": {
             "outlinewidth": 0,
             "ticks": ""
            },
            "type": "contourcarpet"
           }
          ],
          "heatmap": [
           {
            "colorbar": {
             "outlinewidth": 0,
             "ticks": ""
            },
            "colorscale": [
             [
              0,
              "#0d0887"
             ],
             [
              0.1111111111111111,
              "#46039f"
             ],
             [
              0.2222222222222222,
              "#7201a8"
             ],
             [
              0.3333333333333333,
              "#9c179e"
             ],
             [
              0.4444444444444444,
              "#bd3786"
             ],
             [
              0.5555555555555556,
              "#d8576b"
             ],
             [
              0.6666666666666666,
              "#ed7953"
             ],
             [
              0.7777777777777778,
              "#fb9f3a"
             ],
             [
              0.8888888888888888,
              "#fdca26"
             ],
             [
              1,
              "#f0f921"
             ]
            ],
            "type": "heatmap"
           }
          ],
          "heatmapgl": [
           {
            "colorbar": {
             "outlinewidth": 0,
             "ticks": ""
            },
            "colorscale": [
             [
              0,
              "#0d0887"
             ],
             [
              0.1111111111111111,
              "#46039f"
             ],
             [
              0.2222222222222222,
              "#7201a8"
             ],
             [
              0.3333333333333333,
              "#9c179e"
             ],
             [
              0.4444444444444444,
              "#bd3786"
             ],
             [
              0.5555555555555556,
              "#d8576b"
             ],
             [
              0.6666666666666666,
              "#ed7953"
             ],
             [
              0.7777777777777778,
              "#fb9f3a"
             ],
             [
              0.8888888888888888,
              "#fdca26"
             ],
             [
              1,
              "#f0f921"
             ]
            ],
            "type": "heatmapgl"
           }
          ],
          "histogram": [
           {
            "marker": {
             "pattern": {
              "fillmode": "overlay",
              "size": 10,
              "solidity": 0.2
             }
            },
            "type": "histogram"
           }
          ],
          "histogram2d": [
           {
            "colorbar": {
             "outlinewidth": 0,
             "ticks": ""
            },
            "colorscale": [
             [
              0,
              "#0d0887"
             ],
             [
              0.1111111111111111,
              "#46039f"
             ],
             [
              0.2222222222222222,
              "#7201a8"
             ],
             [
              0.3333333333333333,
              "#9c179e"
             ],
             [
              0.4444444444444444,
              "#bd3786"
             ],
             [
              0.5555555555555556,
              "#d8576b"
             ],
             [
              0.6666666666666666,
              "#ed7953"
             ],
             [
              0.7777777777777778,
              "#fb9f3a"
             ],
             [
              0.8888888888888888,
              "#fdca26"
             ],
             [
              1,
              "#f0f921"
             ]
            ],
            "type": "histogram2d"
           }
          ],
          "histogram2dcontour": [
           {
            "colorbar": {
             "outlinewidth": 0,
             "ticks": ""
            },
            "colorscale": [
             [
              0,
              "#0d0887"
             ],
             [
              0.1111111111111111,
              "#46039f"
             ],
             [
              0.2222222222222222,
              "#7201a8"
             ],
             [
              0.3333333333333333,
              "#9c179e"
             ],
             [
              0.4444444444444444,
              "#bd3786"
             ],
             [
              0.5555555555555556,
              "#d8576b"
             ],
             [
              0.6666666666666666,
              "#ed7953"
             ],
             [
              0.7777777777777778,
              "#fb9f3a"
             ],
             [
              0.8888888888888888,
              "#fdca26"
             ],
             [
              1,
              "#f0f921"
             ]
            ],
            "type": "histogram2dcontour"
           }
          ],
          "mesh3d": [
           {
            "colorbar": {
             "outlinewidth": 0,
             "ticks": ""
            },
            "type": "mesh3d"
           }
          ],
          "parcoords": [
           {
            "line": {
             "colorbar": {
              "outlinewidth": 0,
              "ticks": ""
             }
            },
            "type": "parcoords"
           }
          ],
          "pie": [
           {
            "automargin": true,
            "type": "pie"
           }
          ],
          "scatter": [
           {
            "fillpattern": {
             "fillmode": "overlay",
             "size": 10,
             "solidity": 0.2
            },
            "type": "scatter"
           }
          ],
          "scatter3d": [
           {
            "line": {
             "colorbar": {
              "outlinewidth": 0,
              "ticks": ""
             }
            },
            "marker": {
             "colorbar": {
              "outlinewidth": 0,
              "ticks": ""
             }
            },
            "type": "scatter3d"
           }
          ],
          "scattercarpet": [
           {
            "marker": {
             "colorbar": {
              "outlinewidth": 0,
              "ticks": ""
             }
            },
            "type": "scattercarpet"
           }
          ],
          "scattergeo": [
           {
            "marker": {
             "colorbar": {
              "outlinewidth": 0,
              "ticks": ""
             }
            },
            "type": "scattergeo"
           }
          ],
          "scattergl": [
           {
            "marker": {
             "colorbar": {
              "outlinewidth": 0,
              "ticks": ""
             }
            },
            "type": "scattergl"
           }
          ],
          "scattermapbox": [
           {
            "marker": {
             "colorbar": {
              "outlinewidth": 0,
              "ticks": ""
             }
            },
            "type": "scattermapbox"
           }
          ],
          "scatterpolar": [
           {
            "marker": {
             "colorbar": {
              "outlinewidth": 0,
              "ticks": ""
             }
            },
            "type": "scatterpolar"
           }
          ],
          "scatterpolargl": [
           {
            "marker": {
             "colorbar": {
              "outlinewidth": 0,
              "ticks": ""
             }
            },
            "type": "scatterpolargl"
           }
          ],
          "scatterternary": [
           {
            "marker": {
             "colorbar": {
              "outlinewidth": 0,
              "ticks": ""
             }
            },
            "type": "scatterternary"
           }
          ],
          "surface": [
           {
            "colorbar": {
             "outlinewidth": 0,
             "ticks": ""
            },
            "colorscale": [
             [
              0,
              "#0d0887"
             ],
             [
              0.1111111111111111,
              "#46039f"
             ],
             [
              0.2222222222222222,
              "#7201a8"
             ],
             [
              0.3333333333333333,
              "#9c179e"
             ],
             [
              0.4444444444444444,
              "#bd3786"
             ],
             [
              0.5555555555555556,
              "#d8576b"
             ],
             [
              0.6666666666666666,
              "#ed7953"
             ],
             [
              0.7777777777777778,
              "#fb9f3a"
             ],
             [
              0.8888888888888888,
              "#fdca26"
             ],
             [
              1,
              "#f0f921"
             ]
            ],
            "type": "surface"
           }
          ],
          "table": [
           {
            "cells": {
             "fill": {
              "color": "#EBF0F8"
             },
             "line": {
              "color": "white"
             }
            },
            "header": {
             "fill": {
              "color": "#C8D4E3"
             },
             "line": {
              "color": "white"
             }
            },
            "type": "table"
           }
          ]
         },
         "layout": {
          "annotationdefaults": {
           "arrowcolor": "#2a3f5f",
           "arrowhead": 0,
           "arrowwidth": 1
          },
          "autotypenumbers": "strict",
          "coloraxis": {
           "colorbar": {
            "outlinewidth": 0,
            "ticks": ""
           }
          },
          "colorscale": {
           "diverging": [
            [
             0,
             "#8e0152"
            ],
            [
             0.1,
             "#c51b7d"
            ],
            [
             0.2,
             "#de77ae"
            ],
            [
             0.3,
             "#f1b6da"
            ],
            [
             0.4,
             "#fde0ef"
            ],
            [
             0.5,
             "#f7f7f7"
            ],
            [
             0.6,
             "#e6f5d0"
            ],
            [
             0.7,
             "#b8e186"
            ],
            [
             0.8,
             "#7fbc41"
            ],
            [
             0.9,
             "#4d9221"
            ],
            [
             1,
             "#276419"
            ]
           ],
           "sequential": [
            [
             0,
             "#0d0887"
            ],
            [
             0.1111111111111111,
             "#46039f"
            ],
            [
             0.2222222222222222,
             "#7201a8"
            ],
            [
             0.3333333333333333,
             "#9c179e"
            ],
            [
             0.4444444444444444,
             "#bd3786"
            ],
            [
             0.5555555555555556,
             "#d8576b"
            ],
            [
             0.6666666666666666,
             "#ed7953"
            ],
            [
             0.7777777777777778,
             "#fb9f3a"
            ],
            [
             0.8888888888888888,
             "#fdca26"
            ],
            [
             1,
             "#f0f921"
            ]
           ],
           "sequentialminus": [
            [
             0,
             "#0d0887"
            ],
            [
             0.1111111111111111,
             "#46039f"
            ],
            [
             0.2222222222222222,
             "#7201a8"
            ],
            [
             0.3333333333333333,
             "#9c179e"
            ],
            [
             0.4444444444444444,
             "#bd3786"
            ],
            [
             0.5555555555555556,
             "#d8576b"
            ],
            [
             0.6666666666666666,
             "#ed7953"
            ],
            [
             0.7777777777777778,
             "#fb9f3a"
            ],
            [
             0.8888888888888888,
             "#fdca26"
            ],
            [
             1,
             "#f0f921"
            ]
           ]
          },
          "colorway": [
           "#636efa",
           "#EF553B",
           "#00cc96",
           "#ab63fa",
           "#FFA15A",
           "#19d3f3",
           "#FF6692",
           "#B6E880",
           "#FF97FF",
           "#FECB52"
          ],
          "font": {
           "color": "#2a3f5f"
          },
          "geo": {
           "bgcolor": "white",
           "lakecolor": "white",
           "landcolor": "#E5ECF6",
           "showlakes": true,
           "showland": true,
           "subunitcolor": "white"
          },
          "hoverlabel": {
           "align": "left"
          },
          "hovermode": "closest",
          "mapbox": {
           "style": "light"
          },
          "paper_bgcolor": "white",
          "plot_bgcolor": "#E5ECF6",
          "polar": {
           "angularaxis": {
            "gridcolor": "white",
            "linecolor": "white",
            "ticks": ""
           },
           "bgcolor": "#E5ECF6",
           "radialaxis": {
            "gridcolor": "white",
            "linecolor": "white",
            "ticks": ""
           }
          },
          "scene": {
           "xaxis": {
            "backgroundcolor": "#E5ECF6",
            "gridcolor": "white",
            "gridwidth": 2,
            "linecolor": "white",
            "showbackground": true,
            "ticks": "",
            "zerolinecolor": "white"
           },
           "yaxis": {
            "backgroundcolor": "#E5ECF6",
            "gridcolor": "white",
            "gridwidth": 2,
            "linecolor": "white",
            "showbackground": true,
            "ticks": "",
            "zerolinecolor": "white"
           },
           "zaxis": {
            "backgroundcolor": "#E5ECF6",
            "gridcolor": "white",
            "gridwidth": 2,
            "linecolor": "white",
            "showbackground": true,
            "ticks": "",
            "zerolinecolor": "white"
           }
          },
          "shapedefaults": {
           "line": {
            "color": "#2a3f5f"
           }
          },
          "ternary": {
           "aaxis": {
            "gridcolor": "white",
            "linecolor": "white",
            "ticks": ""
           },
           "baxis": {
            "gridcolor": "white",
            "linecolor": "white",
            "ticks": ""
           },
           "bgcolor": "#E5ECF6",
           "caxis": {
            "gridcolor": "white",
            "linecolor": "white",
            "ticks": ""
           }
          },
          "title": {
           "x": 0.05
          },
          "xaxis": {
           "automargin": true,
           "gridcolor": "white",
           "linecolor": "white",
           "ticks": "",
           "title": {
            "standoff": 15
           },
           "zerolinecolor": "white",
           "zerolinewidth": 2
          },
          "yaxis": {
           "automargin": true,
           "gridcolor": "white",
           "linecolor": "white",
           "ticks": "",
           "title": {
            "standoff": 15
           },
           "zerolinecolor": "white",
           "zerolinewidth": 2
          }
         }
        },
        "title": {
         "text": "Funnel Conversion Comparison: Group A vs Group B"
        }
       }
      }
     },
     "metadata": {},
     "output_type": "display_data"
    }
   ],
   "source": [
    "# Nombres de las etapas del embudo\n",
    "stages = ['Product Page', 'Product Cart', 'Purchase']\n",
    "\n",
    "# Tasas de conversión reales \n",
    "group_a_rates = [\n",
    "    group_a_conversion_page * 100,\n",
    "    group_a_conversion_cart * 100,\n",
    "    group_a_conversion_purchase * 100\n",
    "]\n",
    "\n",
    "group_b_rates = [\n",
    "    group_b_conversion_page * 100,\n",
    "    group_b_conversion_cart * 100,\n",
    "    group_b_conversion_purchase * 100\n",
    "]\n",
    "\n",
    "# Crear gráfico tipo funnel apilado\n",
    "fig = go.Figure()\n",
    "\n",
    "fig.add_trace(go.Funnel(\n",
    "    name='Group A',\n",
    "    orientation='h',\n",
    "    y=stages,\n",
    "    x=group_a_rates,\n",
    "    text=[f'{v:.1f}%' for v in group_a_rates],\n",
    "    textposition='inside',\n",
    "    marker={\"color\": \"royalblue\"}\n",
    "))\n",
    "\n",
    "fig.add_trace(go.Funnel(\n",
    "    name='Group B',\n",
    "    orientation='h',\n",
    "    y=stages,\n",
    "    x=group_b_rates,\n",
    "    text=[f'{v:.1f}%' for v in group_b_rates],\n",
    "    textposition='inside',\n",
    "    marker={\"color\": \"tomato\"}\n",
    "))\n",
    "\n",
    "fig.update_layout(\n",
    "    title='Funnel Conversion Comparison: Group A vs Group B',\n",
    "    funnelmode='stack'  \n",
    ")\n",
    "\n",
    "fig.show()"
   ]
  },
  {
   "cell_type": "markdown",
   "metadata": {},
   "source": [
    "**Conclusión**\n",
    "\n",
    "La conversión desde **Product Page** hasta **Purchase** es **ligeramente mayor en el grupo A,** a pesar de que el grupo B parecía más prometedor en la mitad del embudo. \n",
    "\n",
    "\n",
    "Esto podría indicar que el grupo B **atrae más fácilmente,** pero quizás hay **fricción en la compra final**. Mientras que el grupo A **es más intencional**, es decir, menos usuarios llegan, pero los que lo hacen están más dispuestos a comprar."
   ]
  },
  {
   "cell_type": "markdown",
   "metadata": {},
   "source": [
    "# ¿El número de eventos por usuario está distribuido equitativamente entre las muestras?"
   ]
  },
  {
   "cell_type": "code",
   "execution_count": 1008,
   "metadata": {},
   "outputs": [
    {
     "data": {
      "text/html": [
       "<div>\n",
       "<style scoped>\n",
       "    .dataframe tbody tr th:only-of-type {\n",
       "        vertical-align: middle;\n",
       "    }\n",
       "\n",
       "    .dataframe tbody tr th {\n",
       "        vertical-align: top;\n",
       "    }\n",
       "\n",
       "    .dataframe thead th {\n",
       "        text-align: right;\n",
       "    }\n",
       "</style>\n",
       "<table border=\"1\" class=\"dataframe\">\n",
       "  <thead>\n",
       "    <tr style=\"text-align: right;\">\n",
       "      <th></th>\n",
       "      <th>user_id</th>\n",
       "      <th>group</th>\n",
       "      <th>event_count</th>\n",
       "    </tr>\n",
       "  </thead>\n",
       "  <tbody>\n",
       "    <tr>\n",
       "      <th>0</th>\n",
       "      <td>0002CE61FF2C4011</td>\n",
       "      <td>A</td>\n",
       "      <td>12</td>\n",
       "    </tr>\n",
       "    <tr>\n",
       "      <th>1</th>\n",
       "      <td>001064FEAAB631A1</td>\n",
       "      <td>B</td>\n",
       "      <td>12</td>\n",
       "    </tr>\n",
       "    <tr>\n",
       "      <th>2</th>\n",
       "      <td>0010A1C096941592</td>\n",
       "      <td>A</td>\n",
       "      <td>12</td>\n",
       "    </tr>\n",
       "    <tr>\n",
       "      <th>3</th>\n",
       "      <td>001E72F50D1C48FA</td>\n",
       "      <td>B</td>\n",
       "      <td>6</td>\n",
       "    </tr>\n",
       "    <tr>\n",
       "      <th>4</th>\n",
       "      <td>002412F1EB3F6E38</td>\n",
       "      <td>A</td>\n",
       "      <td>6</td>\n",
       "    </tr>\n",
       "  </tbody>\n",
       "</table>\n",
       "</div>"
      ],
      "text/plain": [
       "            user_id group  event_count\n",
       "0  0002CE61FF2C4011     A           12\n",
       "1  001064FEAAB631A1     B           12\n",
       "2  0010A1C096941592     A           12\n",
       "3  001E72F50D1C48FA     B            6\n",
       "4  002412F1EB3F6E38     A            6"
      ]
     },
     "execution_count": 1008,
     "metadata": {},
     "output_type": "execute_result"
    }
   ],
   "source": [
    "# Unir los dataframes para obtener el grupo de cada usuario\n",
    "merged_events = pd.merge(df_ab_events_period, df_ab_participants, on='user_id', how='inner')\n",
    "\n",
    "# Agrupar por usuario y grupo, y contar los eventos\n",
    "events_per_user = merged_events.groupby(['user_id', 'group'])['event_name'].count().reset_index()\n",
    "events_per_user.rename(columns={'event_name': 'event_count'}, inplace=True)\n",
    "\n",
    "# Imprimir una muestra de los datos\n",
    "events_per_user.head()"
   ]
  },
  {
   "cell_type": "markdown",
   "metadata": {},
   "source": [
    "*Con valores atípicos*"
   ]
  },
  {
   "cell_type": "code",
   "execution_count": 1009,
   "metadata": {},
   "outputs": [
    {
     "data": {
      "image/png": "[encoded data removed]",
      "text/plain": [
       "<Figure size 2400x600 with 3 Axes>"
      ]
     },
     "metadata": {},
     "output_type": "display_data"
    }
   ],
   "source": [
    "# Crear una figura con tres subplots \n",
    "fig, axes = plt.subplots(1, 3, figsize=(24, 6))\n",
    "\n",
    "# Histograma grupo A\n",
    "sns.histplot(events_per_user[events_per_user['group'] == 'A']['event_count'], bins=30, kde=True, ax=axes[0])\n",
    "axes[0].set_title('Distribution of Events per User (Group A)', fontsize=16, fontweight='bold')\n",
    "axes[0].set_xlabel('Number of Events', fontsize=12)\n",
    "axes[0].set_ylabel('Number of Users', fontsize=12)\n",
    "\n",
    "# Histograma grupo B\n",
    "sns.histplot(events_per_user[events_per_user['group'] == 'B']['event_count'], bins=30, kde=True, ax=axes[1])\n",
    "axes[1].set_title('Distribution of Events per User (Group B)', fontsize=16, fontweight='bold')\n",
    "axes[1].set_xlabel('Number of Events', fontsize=12)\n",
    "axes[1].set_ylabel('Number of Users', fontsize=12)\n",
    "\n",
    "# Diagrama de caja\n",
    "sns.boxplot(data=events_per_user, x='group', y='event_count', ax=axes[2], hue='group', palette='viridis', legend=False)\n",
    "axes[2].set_title('Distribution of Events per User (Boxplot)', fontsize=16, fontweight='bold')\n",
    "axes[2].set_xlabel('Group', fontsize=12)\n",
    "axes[2].set_ylabel('Number of Events', fontsize=12)\n",
    "\n",
    "# Mostrar el gráfico\n",
    "plt.tight_layout()\n",
    "plt.show()"
   ]
  },
  {
   "cell_type": "markdown",
   "metadata": {},
   "source": [
    "**Conclusiones**\n",
    "\n",
    "\n",
    "- Tanto el grupo A como el grupo B tienen distribuciones similares de eventos por usuario, con la mayoría de los usuarios registrando entre 0 y 10 eventos, y un pico alrededor de los 5 eventos. Esto sugiere que ambos grupos se comportan de manera parecida en términos de frecuencia de eventos.\n",
    "\n",
    "\n",
    "- Aunque las distribuciones parecen similares a simple vista, la prueba estadística de Mann-Whitney U encontroó una diferencia significativa. Es probable que estas diferencias sean sutiles y no tan evidentes en las gráficas.\n",
    "\n",
    "\n",
    "- El diagrama de caja muestra que ambos grupos tienen una mediana similar, alrededor de 5 eventos. También tienen rangos intercuartílicos similares, lo que indica una dispersión comparable de los datos. Sin embargo, ambos grupos presentan valores atípicos, lo que implica que hay usuarios que registraron un número considerablemente mayor de eventos."
   ]
  },
  {
   "cell_type": "code",
   "execution_count": 1010,
   "metadata": {},
   "outputs": [
    {
     "name": "stdout",
     "output_type": "stream",
     "text": [
      "Estadístico de Mann-Whitney U: 25458558.5, p-valor: 1.4211342403215935e-05\n"
     ]
    }
   ],
   "source": [
    "# Prueba de Mann-Whitney U\n",
    "group_a = events_per_user[events_per_user['group'] == 'A']['event_count']\n",
    "group_b = events_per_user[events_per_user['group'] == 'B']['event_count']\n",
    "\n",
    "stat, p = mannwhitneyu(group_a, group_b)\n",
    "print(f'Estadístico de Mann-Whitney U: {stat}, p-valor: {p}')"
   ]
  },
  {
   "cell_type": "markdown",
   "metadata": {},
   "source": [
    "*Sin valores atípicos*"
   ]
  },
  {
   "cell_type": "code",
   "execution_count": 1011,
   "metadata": {},
   "outputs": [],
   "source": [
    "# Identificar valores atípicos usando IQR\n",
    "def remove_outliers(df, col):\n",
    "    Q1 = df[col].quantile(0.25)\n",
    "    Q3 = df[col].quantile(0.75)\n",
    "    IQR = Q3 - Q1\n",
    "    lower_bound = Q1 - 1.5 * IQR\n",
    "    upper_bound = Q3 + 1.5 * IQR\n",
    "    return df[(df[col] >= lower_bound) & (df[col] <= upper_bound)]"
   ]
  },
  {
   "cell_type": "code",
   "execution_count": 1012,
   "metadata": {},
   "outputs": [],
   "source": [
    "# Aplicar la función de eliminación de valores atípicos a cada grupo\n",
    "group_a_no_outliers = remove_outliers(events_per_user[events_per_user['group'] == 'A'], 'event_count')\n",
    "group_b_no_outliers = remove_outliers(events_per_user[events_per_user['group'] == 'B'], 'event_count')"
   ]
  },
  {
   "cell_type": "code",
   "execution_count": 1013,
   "metadata": {},
   "outputs": [
    {
     "data": {
      "text/html": [
       "<div>\n",
       "<style scoped>\n",
       "    .dataframe tbody tr th:only-of-type {\n",
       "        vertical-align: middle;\n",
       "    }\n",
       "\n",
       "    .dataframe tbody tr th {\n",
       "        vertical-align: top;\n",
       "    }\n",
       "\n",
       "    .dataframe thead th {\n",
       "        text-align: right;\n",
       "    }\n",
       "</style>\n",
       "<table border=\"1\" class=\"dataframe\">\n",
       "  <thead>\n",
       "    <tr style=\"text-align: right;\">\n",
       "      <th></th>\n",
       "      <th>user_id</th>\n",
       "      <th>group</th>\n",
       "      <th>event_count</th>\n",
       "    </tr>\n",
       "  </thead>\n",
       "  <tbody>\n",
       "    <tr>\n",
       "      <th>0</th>\n",
       "      <td>0002CE61FF2C4011</td>\n",
       "      <td>A</td>\n",
       "      <td>12</td>\n",
       "    </tr>\n",
       "    <tr>\n",
       "      <th>2</th>\n",
       "      <td>0010A1C096941592</td>\n",
       "      <td>A</td>\n",
       "      <td>12</td>\n",
       "    </tr>\n",
       "    <tr>\n",
       "      <th>4</th>\n",
       "      <td>002412F1EB3F6E38</td>\n",
       "      <td>A</td>\n",
       "      <td>6</td>\n",
       "    </tr>\n",
       "    <tr>\n",
       "      <th>5</th>\n",
       "      <td>002540BE89C930FB</td>\n",
       "      <td>A</td>\n",
       "      <td>9</td>\n",
       "    </tr>\n",
       "    <tr>\n",
       "      <th>7</th>\n",
       "      <td>003346BB64227D0C</td>\n",
       "      <td>A</td>\n",
       "      <td>3</td>\n",
       "    </tr>\n",
       "  </tbody>\n",
       "</table>\n",
       "</div>"
      ],
      "text/plain": [
       "            user_id group  event_count\n",
       "0  0002CE61FF2C4011     A           12\n",
       "2  0010A1C096941592     A           12\n",
       "4  002412F1EB3F6E38     A            6\n",
       "5  002540BE89C930FB     A            9\n",
       "7  003346BB64227D0C     A            3"
      ]
     },
     "execution_count": 1013,
     "metadata": {},
     "output_type": "execute_result"
    }
   ],
   "source": [
    "# Combinar los grupos sin valores atípicos\n",
    "events_per_user_no_outliers = pd.concat([group_a_no_outliers, group_b_no_outliers])\n",
    "\n",
    "# Imprimir una muestra de los datos\n",
    "events_per_user_no_outliers.head()"
   ]
  },
  {
   "cell_type": "code",
   "execution_count": 1014,
   "metadata": {},
   "outputs": [
    {
     "data": {
      "image/png": "[encoded data removed]",
      "text/plain": [
       "<Figure size 2400x600 with 3 Axes>"
      ]
     },
     "metadata": {},
     "output_type": "display_data"
    }
   ],
   "source": [
    "# Crear una figura con tres subplots \n",
    "fig, axes = plt.subplots(1, 3, figsize=(24, 6))\n",
    "\n",
    "# Histograma grupo A\n",
    "sns.histplot(group_a_no_outliers['event_count'], bins=30, kde=True, ax=axes[0])\n",
    "axes[0].set_title('Distribution of Events per User (Group A, No Outliers)', fontsize=16, fontweight='bold')\n",
    "axes[0].set_xlabel('Number of Events', fontsize=12)\n",
    "axes[0].set_ylabel('Number of Users', fontsize=12)\n",
    "\n",
    "# Histograma grupo B\n",
    "sns.histplot(group_b_no_outliers['event_count'], bins=30, kde=True, ax=axes[1])\n",
    "axes[1].set_title('Distribution of Events per User (Group B, No Outliers)', fontsize=16, fontweight='bold')\n",
    "axes[1].set_xlabel('Number of Events', fontsize=12)\n",
    "axes[1].set_ylabel('Number of Users', fontsize=12)\n",
    "\n",
    "# Diagrama de caja\n",
    "sns.boxplot(data=events_per_user_no_outliers, x='group', y='event_count', ax=axes[2], hue='group', palette='viridis', legend=False)\n",
    "axes[2].set_title('Distribution of Events per User (Boxplot, No Outliers)', fontsize=16, fontweight='bold')\n",
    "axes[2].set_xlabel('Group', fontsize=12)\n",
    "axes[2].set_ylabel('Number of Events', fontsize=12)\n",
    "\n",
    "# Mostrar el gráfico\n",
    "plt.tight_layout()\n",
    "plt.show()"
   ]
  },
  {
   "cell_type": "markdown",
   "metadata": {},
   "source": [
    "**Conclusiones**\n",
    "\n",
    "- En los histogramas con densidad sobrepuesta, se aprecia que ambas distribuciones para el grupo A y el grupo B tienen una forma más definida y concentrada tras el tratamiento de los valores atípicos. Esto significa que los valores extremos ya no están influyendo en las colas de las distribuciones.\n",
    "\n",
    "\n",
    "- Ambas distribuciones parecen más ajustadas alrededor de las medianas de sus respectivos grupos. Esto indica que la mayoría de los usuarios tienen un número de eventos similar dentro de cada grupo.\n",
    "\n",
    "\n",
    "- El diagrama de caja muestra una comparación directa entre las medianas y las dispersiones de los dos grupos, pero ahora sin los valores extremos. Esto facilita identificar diferencias más sutiles entre los grupos.\n",
    "\n",
    "\n",
    "- Aunque las distribuciones y las medianas parecen similares visualmente, los resultados previos de la prueba de Mann-Whitney U sugieren que las diferencias entre los grupos aún son estadísticamente significativas."
   ]
  },
  {
   "cell_type": "code",
   "execution_count": 1015,
   "metadata": {},
   "outputs": [
    {
     "name": "stdout",
     "output_type": "stream",
     "text": [
      "Estadístico de Mann-Whitney U: 23720014.5, p-valor: 0.0004959698021684277\n"
     ]
    }
   ],
   "source": [
    "# Prueba de Mann-Whitney U \n",
    "sampleA = group_a_no_outliers['event_count']\n",
    "sampleB = group_b_no_outliers['event_count']\n",
    "\n",
    "stat, p = stats.mannwhitneyu(sampleA, sampleB)\n",
    "print(f'Estadístico de Mann-Whitney U: {stat}, p-valor: {p}')"
   ]
  },
  {
   "cell_type": "markdown",
   "metadata": {},
   "source": [
    "# ¿Hay usuarios que están presentes en ambas muestras?"
   ]
  },
  {
   "cell_type": "code",
   "execution_count": 1016,
   "metadata": {},
   "outputs": [
    {
     "name": "stdout",
     "output_type": "stream",
     "text": [
      "Hay 441 usuarios presentes en ambos grupos.\n"
     ]
    }
   ],
   "source": [
    "# Separar los grupos A y B\n",
    "group_a_users = df_ab_participants[df_ab_participants['group'] == 'A']['user_id'].unique()\n",
    "group_b_users = df_ab_participants[df_ab_participants['group'] == 'B']['user_id'].unique()\n",
    "\n",
    "# Encontrar usuarios comunes\n",
    "common_users = set(group_a_users) & set(group_b_users)\n",
    "\n",
    "# Mostrar los resultados\n",
    "if len(common_users) > 0:\n",
    "    print(f\"Hay {len(common_users)} usuarios presentes en ambos grupos.\")\n",
    "else:\n",
    "    print(\"No hay usuarios presentes en ambos grupos.\")"
   ]
  },
  {
   "cell_type": "code",
   "execution_count": 1017,
   "metadata": {},
   "outputs": [
    {
     "name": "stdout",
     "output_type": "stream",
     "text": [
      "Usuarios excluidos: 441\n",
      "Total de participantes después de la exclusión: 13643\n",
      "Total de eventos después de la exclusión: 421070\n"
     ]
    }
   ],
   "source": [
    "# Manejar la exclusión de usuarios asignados a ambos grupos\n",
    "\n",
    "# Identificar los usuarios comunes entre los dos grupos (A y B)\n",
    "common_users = set(group_a_users) & set(group_b_users)\n",
    "\n",
    "# Excluir los usuarios comunes del grupo B\n",
    "df_ab_participants_clean = df_ab_participants[~df_ab_participants['user_id'].isin(common_users)]\n",
    "\n",
    "# Excluir los eventos de los usuarios comunes\n",
    "df_ab_events_clean = df_ab_events_period[~df_ab_events_period['user_id'].isin(common_users)]\n",
    "df_filtered_events_clean = df_filtered_events[~df_filtered_events['user_id'].isin(common_users)]\n",
    "\n",
    "# Verificación: cuántos usuarios fueron excluidos\n",
    "print(f\"Usuarios excluidos: {len(common_users)}\")\n",
    "print(f\"Total de participantes después de la exclusión: {len(df_ab_participants_clean)}\")\n",
    "print(f\"Total de eventos después de la exclusión: {len(df_ab_events_clean)}\")"
   ]
  },
  {
   "cell_type": "markdown",
   "metadata": {},
   "source": [
    "**Conclusiones**\n",
    "\n",
    "- Se identificaron 441 usuarios que participaron en ambos grupos (A y B). Esto podría haber introducido un sesgo en los resultados, ya que esos usuarios podrían haber estado sujetos a condiciones de ambos grupos.\n",
    "\n",
    "\n",
    "- La exclusión de usuarios comunes garantiza que los grupos A y B sean completamente independientes, lo cual es fundamental para evitar problemas como influencia cruzada entre los grupos."
   ]
  },
  {
   "cell_type": "markdown",
   "metadata": {},
   "source": [
    "# ¿Cómo se distribuye el número de eventos entre los días?"
   ]
  },
  {
   "cell_type": "code",
   "execution_count": 1018,
   "metadata": {},
   "outputs": [
    {
     "data": {
      "image/png": "[encoded data removed]",
      "text/plain": [
       "<Figure size 1500x700 with 1 Axes>"
      ]
     },
     "metadata": {},
     "output_type": "display_data"
    }
   ],
   "source": [
    "# Agrupar por día y contar los eventos\n",
    "events_by_day = df_ab_events_period.groupby('event_date')['event_name'].count()\n",
    "\n",
    "# Visualizar la distribución\n",
    "plt.figure(figsize=(15, 7))\n",
    "sns.lineplot(x=events_by_day.index, y=events_by_day.values, marker='o', color='blue', label='User Events')\n",
    "\n",
    "plt.title('Distribution of Events by Day', fontsize=16, fontweight='bold')\n",
    "plt.xlabel('Date', fontsize=12)\n",
    "plt.ylabel('Number of Events', fontsize=12)\n",
    "plt.tight_layout()\n",
    "plt.show()"
   ]
  },
  {
   "cell_type": "markdown",
   "metadata": {},
   "source": [
    "**Conclusiones**\n",
    "\n",
    "- Desde el 9 de diciembre, los eventos diarios comienzan alrededor de 10000 y muestran un crecimiento constante, alcanzado un pico notable de más de 30000 eventos cerca del 20 de diciembre de 2020.\n",
    "\n",
    "\n",
    "- Después del punto máximo, el número de eventos experimenta una caída abrupta, finalizando por debajo de 5000 eventos el 29 de diciembre de 2020.\n",
    "\n",
    "\n",
    "- Se observa una tendencia de crecimiento en la primera mitad del período analizado, seguida de un descenso pronunciado en la segunda mitad.\n",
    "\n",
    "\n",
    "- La gráfica podría ser útil para analizar períodos de alta y baja actividad, proporcionando insights valiosos para planificar estrategias futuras o estudiar el impacto de eventos en las interacciones de los usuarios."
   ]
  },
  {
   "cell_type": "markdown",
   "metadata": {},
   "source": [
    "# ¿Hay alguna peculiaridad en los datos que hay que tener en cuenta antes de iniciar la prueba A/B?"
   ]
  },
  {
   "cell_type": "markdown",
   "metadata": {},
   "source": [
    "**Las peculiaridades en los datos que se deben tener en cuenta antes de iniciar la prueba A/B, basádo en el análisis que se ha realizado hasta ahora son:**\n",
    "\n",
    "\n",
    "- Presencia de valores atípicos en el número de eventos por usuario: Ambos grupos (A y B) muestran una cantidad significativa de valores atípicos en el número de eventos por usuario.\n",
    "\n",
    "\n",
    "- Si la asignación a los grupos A y B no fue aleatoria, podría haber un sesgo que afecte la comparabilidad de los dos grupos. En referencia a los 441 usuarios presentes en ambos grupos.\n",
    "\n",
    "\n",
    "- Disminución en el número de eventos hacia el final del período de la prueba: Se observa una marcada disminución en el número de eventos hacia el final del período analizado, específicamente a partir de finales de diciembre de 2020 hasta principios de enero de 2021.\n",
    "\n",
    "\n",
    "- Eventos de marketing durante el período de la prueba: Hubo múltiples eventos de marketing durante el período de la prueba, lo que podría haber influido en el comportamiento de los usuarios."
   ]
  },
  {
   "cell_type": "markdown",
   "metadata": {},
   "source": [
    "**ETAPA 4. Evaluar los resultados de la prueba A/B**"
   ]
  },
  {
   "cell_type": "markdown",
   "metadata": {},
   "source": [
    "# ¿Qué puedes decir sobre los resultados de la prueba A/B?"
   ]
  },
  {
   "cell_type": "code",
   "execution_count": 1019,
   "metadata": {},
   "outputs": [
    {
     "name": "stdout",
     "output_type": "stream",
     "text": [
      "Usuarios sin grupo asignado: 27024\n",
      "Conversión por región y dispositivo:\n",
      "device        Android  Mac    PC  iPhone\n",
      "group region                            \n",
      "A     EU         3326  762  1991    1503\n",
      "B     EU         2616  591  1430    1110\n"
     ]
    }
   ],
   "source": [
    "# Asegurar de que solo los usuarios que están presentes en ambos dataframes sean seleccionados\n",
    "\n",
    "df_ab_new_users_with_group = df_ab_new_users_period.merge(df_ab_participants[['user_id', 'group']], on='user_id', how='left')\n",
    "\n",
    "# Verificar si hay usuarios sin grupo asignado\n",
    "missing_groups = df_ab_new_users_with_group[df_ab_new_users_with_group['group'].isna()]\n",
    "if not missing_groups.empty:\n",
    "    print(f\"Usuarios sin grupo asignado: {len(missing_groups)}\")\n",
    "\n",
    "# Agrupar las conversiones por grupo y región/dispositivo\n",
    "conversion_by_region_device = df_ab_new_users_with_group.groupby(['group', 'region', 'device']).size().unstack(fill_value=0)\n",
    "\n",
    "# Mostrar la tabla de conversiones\n",
    "print(\"Conversión por región y dispositivo:\")\n",
    "print(conversion_by_region_device)\n",
    "\n",
    "# Crear una lista de fechas de los eventos de marketing\n",
    "marketing_dates = pd.concat([df_ab_marketing_events['start_dt'], df_ab_marketing_events['finish_dt']])\n",
    "\n",
    "#  Tener las conversiones diarias de los grupos A y B\n",
    "df_conversion_day = df_ab_events_clean.groupby('event_date').size()"
   ]
  },
  {
   "cell_type": "markdown",
   "metadata": {},
   "source": [
    "**Conclusiones**\n",
    "\n",
    "- El hecho de que 27024 usuarios no tengan grupo asignado es preocupante, ya que eso significa que no están siendo considerados en la prueba A/B.\n",
    "\n",
    "\n",
    "- En general, el grupo A muestra mayores conversiones en todas las categorías de dispositivo comparado con el grupo B. Esto podría sugerir que el grupo A tiene un rendimiento superior en términos de conversiones.\n",
    "\n",
    "- Si la asignación a los grupos no fue aleatoria, esto podría estar afectando los resultados de la prueba A/B. La asignación no aleatoria podría llevar a un sesgo en la distribución de usuarios, lo que afectaría la comparabilidad entre los grupos."
   ]
  },
  {
   "cell_type": "markdown",
   "metadata": {},
   "source": [
    "# Utiliza una prueba z para comprobar la diferencia estadística entre las proporciones."
   ]
  },
  {
   "cell_type": "code",
   "execution_count": 1020,
   "metadata": {},
   "outputs": [
    {
     "name": "stdout",
     "output_type": "stream",
     "text": [
      "Test Z para la etapa product_page:\n",
      "Z-Statistic: 0.2986808269558177\n",
      "P-Value: 0.7651835875168305\n",
      "\n",
      "Test Z para la etapa product_cart:\n",
      "Z-Statistic: -1.9168807864235846\n",
      "P-Value: 0.055253078536584566\n",
      "\n",
      "Test Z para la etapa purchase:\n",
      "Z-Statistic: 1.3746357661500932\n",
      "P-Value: 0.1692443944100982\n",
      "\n"
     ]
    }
   ],
   "source": [
    "# Calcular el número total de usuarios en los grupos A y B\n",
    "total_a = len(group_a_users)\n",
    "total_b = len(group_b_users)\n",
    "\n",
    "# Conversión en cada etapa para los dos grupos\n",
    "group_a_conversion_page\n",
    "group_a_conversion_cart\n",
    "group_a_conversion_purchase\n",
    "\n",
    "group_b_conversion_page\n",
    "group_b_conversion_cart\n",
    "group_b_conversion_purchase\n",
    "\n",
    "# Identificar el número de conversiones por grupo y etapa\n",
    "conversions_a = [\n",
    "    group_a_conversion_page * total_a,\n",
    "    group_a_conversion_cart * total_a,\n",
    "    group_a_conversion_purchase * total_a\n",
    "]\n",
    "\n",
    "conversions_b = [\n",
    "    group_b_conversion_page * total_b,\n",
    "    group_b_conversion_cart * total_b,\n",
    "    group_b_conversion_purchase * total_b\n",
    "]\n",
    "\n",
    "# Identificar el número total de usuarios en cada grupo \n",
    "nobs = [total_a, total_b]\n",
    "\n",
    "# Etapas del embudo\n",
    "stages = ['product_page', 'product_cart', 'purchase']\n",
    "\n",
    "# Ejecutar prueba z en cada etapa\n",
    "for i, stage in enumerate(stages):\n",
    "    count = [conversions_a[i], conversions_b[i]]\n",
    "    z_stat, p_val = proportions_ztest(count, nobs)\n",
    "    \n",
    "    print(f\"Test Z para la etapa {stage}:\")\n",
    "    print(f\"Z-Statistic: {z_stat}\")\n",
    "    print(f\"P-Value: {p_val}\\n\")\n"
   ]
  },
  {
   "cell_type": "markdown",
   "metadata": {},
   "source": [
    "**Pruebas de hipótesis**\n",
    "\n",
    "\n",
    "\n",
    "*Evento 'product_page'*\n",
    "\n",
    "¿Existen diferencias significativas en las tasas de conversión del evento **product_page** entre los grupos A y B?\n",
    "\n",
    "\n",
    "H0 = No hay diferencia significativa en las conversiones entre los grupos A y B en la etapa **product_page**\n",
    "\n",
    "HA = Existe una diferencia significativa en las conversiones entre los grupos A y B en la etapa **product_page**\n",
    "\n",
    "\n",
    "\n",
    "*Evento 'product_cart'*\n",
    "\n",
    "¿Existen diferencias significativas en las tasas de conversión del evento **product_car** entre los grupos A y B?\n",
    "\n",
    "\n",
    "H0 = No hay diferencia significativa en las conversiones entre los grupos A y B en la etapa **product_cart**\n",
    "\n",
    "HA = Existe una diferencia significativa en las conversiones entre los grupos A y B en la etapa **product_cart**\n",
    "\n",
    "\n",
    "\n",
    "*Evento 'purchase'*\n",
    "\n",
    "¿Existen diferencias significativas en las tasas de conversión del evento **purchase** entre los grupos A y B?\n",
    "\n",
    "\n",
    "H0 = No hay diferencia significativa en las conversiones entre los grupos A y B en la etapa **purchase**\n",
    "\n",
    "HA = Existe una diferencia significativa en las conversiones entre los grupos A y B en la etapa **purchase**"
   ]
  },
  {
   "cell_type": "code",
   "execution_count": 1021,
   "metadata": {},
   "outputs": [
    {
     "name": "stdout",
     "output_type": "stream",
     "text": [
      "Para la etapa product_page: No rechazamos la hipótesis nula (H₀). No hay diferencia significativa entre los grupos.\n",
      "Para la etapa product_cart: No rechazamos la hipótesis nula (H₀). No hay diferencia significativa entre los grupos.\n",
      "Para la etapa purchase: No rechazamos la hipótesis nula (H₀). No hay diferencia significativa entre los grupos.\n"
     ]
    }
   ],
   "source": [
    "# Definir un umbral de significancia\n",
    "alpha = 0.05\n",
    "\n",
    "# Inicializar los resultados de la pruebas Z para cada etapa del embudo\n",
    "results = {\n",
    "    'product_page': {'z_statistic': 0.2986808269558177, 'p_value': 0.7651835875168305},\n",
    "    'product_cart': {'z_statistic': -1.9168807864235846, 'p_value': 0.055253078536584566},\n",
    "    'purchase': {'z_statistic': 1.3746357661500932, 'p_value': 0.1692443944100982}\n",
    "}\n",
    "\n",
    "# Verificar mediante una función si se rechaza o no la hipótesis nula\n",
    "def test_hypothesis(event, p_value):\n",
    "    if p_value < alpha:\n",
    "        print(f\"Para la etapa {event}: Rechazamos la hipótesis nula (H₀). Hay una diferencia significativa entre los grupos.\")\n",
    "    else:\n",
    "        print(f\"Para la etapa {event}: No rechazamos la hipótesis nula (H₀). No hay diferencia significativa entre los grupos.\")\n",
    "\n",
    "# Llamar a la función para cada evento\n",
    "for event, values in results.items():\n",
    "    test_hypothesis(event, values['p_value'])"
   ]
  },
  {
   "cell_type": "markdown",
   "metadata": {},
   "source": [
    "**Conclusiones**\n",
    "\n",
    "*Evento 'product_page'*\n",
    "\n",
    "- La diferencia entre los dos grupos en la etapa de 'product_page' no es estadísticamente significativa. El p-value es mucho mayor que el umbral común de 0.05, lo que indica que no hay evidencia suficiente para rechazar la hipótesis nula. Las diferencias entre los dos grupos en esta etapa de convesión pueden ser atribuibles al azar.\n",
    "\n",
    "\n",
    "*Evento 'product_cart'*\n",
    "\n",
    "- La diferencia en la conversión en la etapa de 'product_cart' es marginalmente significativa. El p-value está cerca del umbral de 0.05, lo que indica que hay una tendencia hacia una diferencia significativa, pero no es lo suficientemente fuerte como para rechazar la hipótesis nula con un nivel de confianza del 95%.\n",
    "\n",
    "\n",
    "*Evento 'purchase'*\n",
    "\n",
    "- Al igual que en la etapa de 'product_page, la diferencia entre los grupos en la etapa de 'purchase' no es estadísticamente significativa. El p-value es mucho mayor que el umbral de 0.05, lo que indica que no hay evidencia suficiente para afirmar que el nuevo embudo de pago ha tenido un impacto en la conversión en la compra."
   ]
  },
  {
   "cell_type": "markdown",
   "metadata": {},
   "source": [
    "**ETAPA 5. Describe tus conclusiones con respecto a la etapa EDA y los resultados de la prueba A/B.**"
   ]
  },
  {
   "cell_type": "markdown",
   "metadata": {},
   "source": [
    "**Conclusiones**\n",
    "\n",
    "\n",
    "- Durante la etapa EDA los datos mostraron peculiaridades importantes como valores atípicos, solapamiento de usuarios entre grupos y eventos externos que puedieron haber influido en los resultados. Las situaciones atípicas identificadas sugieren la necesidad de un control más estricto en futuros experimentos para minimizar sesgos y garantizar una mayor fiabilidad en los datos analizados.\n",
    "\n",
    "\n",
    "- Durante la etapa resultados de la prueba A/B se encontraron usuarios sin grupo asignado 27024, lo que pudo afectar la representatividad de los datos y las conclusiones del experimento. En ninguna de las etapas clave del embudo se encontraron diferencias estadísticamente significativas entre los grupos A y B. Aunque se observaron ligeras variaciones en las tasas de conversión, estas no alcanzaron los niveles requeridos para rechazar la hipótesis nula (H0).\n",
    "\n",
    "\n",
    "**Recomendaciones**\n",
    "\n",
    "- Mejorar el proceso de asignación de usuarios para evitar solapamientos entre grupos y garantizar la independencia de las muestras.\n",
    "\n",
    "\n",
    "- Asegurarse de que la asignación sea completamente aleatoria para minimizar el sesgo en las muestras.\n",
    "\n",
    "\n",
    "- Excluir valores atípicos desde el inicio para reducir su impacto en las métricas clave.\n",
    "\n",
    "\n",
    "- Evitar realizar pruebas A/B durante períodos susceptibles a efectos estacionales o eventos externos, ya que estas pueden interferir con los resultados.\n",
    "\n",
    "\n",
    "- Llevar un seguimiento detallado de estos eventos para poder cuantificar y mitigar su influencia.\n",
    "\n",
    "\n",
    "- Profundizar en el análisis de conversiones por segmentos mediante pruebas estadísticas para explorar posibles áreas de mejora.\n",
    "\n",
    "\n",
    "- Realizar pruebas adicionales enfocadas en los segmentos más prometedores o con resultados atípicos para extraer aprendizajes más específicos.\n",
    "\n",
    "\n",
    "- Implementar un diseño iterativo para futuras pruebas A/B, utilizando los hallazgos actuales como base para ajustar y mejorar las metodologías."
   ]
  }
 ],
 "metadata": {
  "ExecuteTimeLog": [
   {
    "duration": 823,
    "start_time": "2025-03-13T22:38:27.227Z"
   },
   {
    "duration": 14,
    "start_time": "2025-03-13T22:38:46.344Z"
   },
   {
    "duration": 421,
    "start_time": "2025-03-13T22:45:34.404Z"
   },
   {
    "duration": 298,
    "start_time": "2025-03-13T22:50:59.146Z"
   },
   {
    "duration": 890,
    "start_time": "2025-03-13T22:51:10.674Z"
   },
   {
    "duration": 416,
    "start_time": "2025-03-13T22:51:11.567Z"
   },
   {
    "duration": 13,
    "start_time": "2025-03-13T22:51:11.985Z"
   },
   {
    "duration": 9,
    "start_time": "2025-03-13T22:51:41.750Z"
   },
   {
    "duration": 16,
    "start_time": "2025-03-13T22:54:22.518Z"
   },
   {
    "duration": 7,
    "start_time": "2025-03-13T22:55:12.304Z"
   },
   {
    "duration": 934,
    "start_time": "2025-03-13T22:57:50.890Z"
   },
   {
    "duration": 374,
    "start_time": "2025-03-13T22:57:51.827Z"
   },
   {
    "duration": 11,
    "start_time": "2025-03-13T22:57:52.203Z"
   },
   {
    "duration": 17,
    "start_time": "2025-03-13T22:57:52.216Z"
   },
   {
    "duration": 17,
    "start_time": "2025-03-13T22:57:52.235Z"
   },
   {
    "duration": 7,
    "start_time": "2025-03-13T22:57:52.254Z"
   },
   {
    "duration": 76,
    "start_time": "2025-03-13T22:57:52.263Z"
   },
   {
    "duration": 10,
    "start_time": "2025-03-13T22:58:33.343Z"
   },
   {
    "duration": 10,
    "start_time": "2025-03-13T23:01:37.372Z"
   },
   {
    "duration": 7,
    "start_time": "2025-03-13T23:01:58.071Z"
   },
   {
    "duration": 961,
    "start_time": "2025-03-13T23:02:14.565Z"
   },
   {
    "duration": 446,
    "start_time": "2025-03-13T23:02:15.532Z"
   },
   {
    "duration": 11,
    "start_time": "2025-03-13T23:02:15.980Z"
   },
   {
    "duration": 12,
    "start_time": "2025-03-13T23:02:15.996Z"
   },
   {
    "duration": 24,
    "start_time": "2025-03-13T23:02:16.011Z"
   },
   {
    "duration": 9,
    "start_time": "2025-03-13T23:02:16.037Z"
   },
   {
    "duration": 359,
    "start_time": "2025-03-13T23:02:16.048Z"
   },
   {
    "duration": 0,
    "start_time": "2025-03-13T23:02:16.410Z"
   },
   {
    "duration": 0,
    "start_time": "2025-03-13T23:02:16.411Z"
   },
   {
    "duration": 0,
    "start_time": "2025-03-13T23:02:16.412Z"
   },
   {
    "duration": 937,
    "start_time": "2025-03-13T23:02:40.931Z"
   },
   {
    "duration": 423,
    "start_time": "2025-03-13T23:02:41.870Z"
   },
   {
    "duration": 10,
    "start_time": "2025-03-13T23:02:42.297Z"
   },
   {
    "duration": 23,
    "start_time": "2025-03-13T23:02:42.310Z"
   },
   {
    "duration": 14,
    "start_time": "2025-03-13T23:02:42.335Z"
   },
   {
    "duration": 7,
    "start_time": "2025-03-13T23:02:42.351Z"
   },
   {
    "duration": 72,
    "start_time": "2025-03-13T23:02:42.361Z"
   },
   {
    "duration": 8,
    "start_time": "2025-03-13T23:02:42.435Z"
   },
   {
    "duration": 10,
    "start_time": "2025-03-13T23:02:42.445Z"
   },
   {
    "duration": 8,
    "start_time": "2025-03-13T23:02:42.457Z"
   },
   {
    "duration": 4,
    "start_time": "2025-03-13T23:09:47.302Z"
   },
   {
    "duration": 5,
    "start_time": "2025-03-13T23:10:30.963Z"
   },
   {
    "duration": 315,
    "start_time": "2025-03-13T23:11:06.116Z"
   },
   {
    "duration": 4,
    "start_time": "2025-03-13T23:11:17.012Z"
   },
   {
    "duration": 3,
    "start_time": "2025-03-13T23:12:25.849Z"
   },
   {
    "duration": 6,
    "start_time": "2025-03-13T23:12:43.359Z"
   },
   {
    "duration": 29,
    "start_time": "2025-03-13T23:17:34.356Z"
   },
   {
    "duration": 919,
    "start_time": "2025-03-13T23:17:50.979Z"
   },
   {
    "duration": 452,
    "start_time": "2025-03-13T23:17:51.900Z"
   },
   {
    "duration": 9,
    "start_time": "2025-03-13T23:17:52.354Z"
   },
   {
    "duration": 19,
    "start_time": "2025-03-13T23:17:52.365Z"
   },
   {
    "duration": 16,
    "start_time": "2025-03-13T23:17:52.387Z"
   },
   {
    "duration": 7,
    "start_time": "2025-03-13T23:17:52.405Z"
   },
   {
    "duration": 56,
    "start_time": "2025-03-13T23:17:52.447Z"
   },
   {
    "duration": 9,
    "start_time": "2025-03-13T23:17:52.505Z"
   },
   {
    "duration": 10,
    "start_time": "2025-03-13T23:17:52.517Z"
   },
   {
    "duration": 27,
    "start_time": "2025-03-13T23:17:52.532Z"
   },
   {
    "duration": 8,
    "start_time": "2025-03-13T23:17:52.560Z"
   },
   {
    "duration": 6,
    "start_time": "2025-03-13T23:17:52.575Z"
   },
   {
    "duration": 4,
    "start_time": "2025-03-13T23:17:52.583Z"
   },
   {
    "duration": 3,
    "start_time": "2025-03-13T23:17:52.590Z"
   },
   {
    "duration": 6,
    "start_time": "2025-03-13T23:17:52.595Z"
   },
   {
    "duration": 416,
    "start_time": "2025-03-13T23:17:52.603Z"
   },
   {
    "duration": 6,
    "start_time": "2025-03-13T23:19:44.972Z"
   },
   {
    "duration": 6,
    "start_time": "2025-03-13T23:21:36.218Z"
   },
   {
    "duration": 4,
    "start_time": "2025-03-13T23:22:14.809Z"
   },
   {
    "duration": 4,
    "start_time": "2025-03-13T23:22:18.408Z"
   },
   {
    "duration": 7,
    "start_time": "2025-03-13T23:22:23.405Z"
   },
   {
    "duration": 4,
    "start_time": "2025-03-13T23:22:59.408Z"
   },
   {
    "duration": 5,
    "start_time": "2025-03-13T23:23:04.823Z"
   },
   {
    "duration": 5,
    "start_time": "2025-03-13T23:23:10.989Z"
   },
   {
    "duration": 4,
    "start_time": "2025-03-13T23:24:42.629Z"
   },
   {
    "duration": 5,
    "start_time": "2025-03-13T23:25:13.162Z"
   },
   {
    "duration": 806,
    "start_time": "2025-03-13T23:25:20.425Z"
   },
   {
    "duration": 341,
    "start_time": "2025-03-13T23:25:21.233Z"
   },
   {
    "duration": 9,
    "start_time": "2025-03-13T23:25:21.576Z"
   },
   {
    "duration": 9,
    "start_time": "2025-03-13T23:25:21.587Z"
   },
   {
    "duration": 13,
    "start_time": "2025-03-13T23:25:21.599Z"
   },
   {
    "duration": 6,
    "start_time": "2025-03-13T23:25:21.632Z"
   },
   {
    "duration": 40,
    "start_time": "2025-03-13T23:25:21.640Z"
   },
   {
    "duration": 8,
    "start_time": "2025-03-13T23:25:21.683Z"
   },
   {
    "duration": 8,
    "start_time": "2025-03-13T23:25:21.692Z"
   },
   {
    "duration": 30,
    "start_time": "2025-03-13T23:25:21.702Z"
   },
   {
    "duration": 3,
    "start_time": "2025-03-13T23:25:21.734Z"
   },
   {
    "duration": 5,
    "start_time": "2025-03-13T23:25:21.739Z"
   },
   {
    "duration": 4,
    "start_time": "2025-03-13T23:25:21.745Z"
   },
   {
    "duration": 4,
    "start_time": "2025-03-13T23:25:21.751Z"
   },
   {
    "duration": 5,
    "start_time": "2025-03-13T23:25:21.756Z"
   },
   {
    "duration": 3,
    "start_time": "2025-03-13T23:25:21.762Z"
   },
   {
    "duration": 4,
    "start_time": "2025-03-13T23:26:00.109Z"
   },
   {
    "duration": 687,
    "start_time": "2025-03-13T23:31:03.808Z"
   },
   {
    "duration": 4,
    "start_time": "2025-03-13T23:31:23.946Z"
   },
   {
    "duration": 8,
    "start_time": "2025-03-13T23:34:43.804Z"
   },
   {
    "duration": 4,
    "start_time": "2025-03-13T23:36:11.360Z"
   },
   {
    "duration": 8,
    "start_time": "2025-03-13T23:36:30.478Z"
   },
   {
    "duration": 15,
    "start_time": "2025-03-13T23:49:38.478Z"
   },
   {
    "duration": 7,
    "start_time": "2025-03-13T23:49:47.000Z"
   },
   {
    "duration": 19,
    "start_time": "2025-03-13T23:50:39.896Z"
   },
   {
    "duration": 16,
    "start_time": "2025-03-13T23:50:56.708Z"
   },
   {
    "duration": 14,
    "start_time": "2025-03-13T23:51:02.756Z"
   },
   {
    "duration": 4,
    "start_time": "2025-03-13T23:51:11.912Z"
   },
   {
    "duration": 8,
    "start_time": "2025-03-13T23:52:15.378Z"
   },
   {
    "duration": 3,
    "start_time": "2025-03-13T23:53:49.529Z"
   },
   {
    "duration": 5,
    "start_time": "2025-03-13T23:55:07.040Z"
   },
   {
    "duration": 9,
    "start_time": "2025-03-13T23:55:25.197Z"
   },
   {
    "duration": 912,
    "start_time": "2025-03-13T23:56:40.482Z"
   },
   {
    "duration": 370,
    "start_time": "2025-03-13T23:56:41.397Z"
   },
   {
    "duration": 11,
    "start_time": "2025-03-13T23:56:41.769Z"
   },
   {
    "duration": 11,
    "start_time": "2025-03-13T23:56:41.783Z"
   },
   {
    "duration": 33,
    "start_time": "2025-03-13T23:56:41.798Z"
   },
   {
    "duration": 8,
    "start_time": "2025-03-13T23:56:41.833Z"
   },
   {
    "duration": 42,
    "start_time": "2025-03-13T23:56:41.843Z"
   },
   {
    "duration": 8,
    "start_time": "2025-03-13T23:56:41.887Z"
   },
   {
    "duration": 37,
    "start_time": "2025-03-13T23:56:41.897Z"
   },
   {
    "duration": 9,
    "start_time": "2025-03-13T23:56:41.936Z"
   },
   {
    "duration": 8,
    "start_time": "2025-03-13T23:56:41.947Z"
   },
   {
    "duration": 5,
    "start_time": "2025-03-13T23:56:41.957Z"
   },
   {
    "duration": 7,
    "start_time": "2025-03-13T23:56:41.964Z"
   },
   {
    "duration": 8,
    "start_time": "2025-03-13T23:56:41.977Z"
   },
   {
    "duration": 5,
    "start_time": "2025-03-13T23:56:41.987Z"
   },
   {
    "duration": 11,
    "start_time": "2025-03-13T23:56:41.993Z"
   },
   {
    "duration": 4,
    "start_time": "2025-03-13T23:56:42.032Z"
   },
   {
    "duration": 9,
    "start_time": "2025-03-13T23:56:42.038Z"
   },
   {
    "duration": 4,
    "start_time": "2025-03-13T23:56:42.050Z"
   },
   {
    "duration": 10,
    "start_time": "2025-03-13T23:56:42.056Z"
   },
   {
    "duration": 5,
    "start_time": "2025-03-13T23:56:42.068Z"
   },
   {
    "duration": 5,
    "start_time": "2025-03-13T23:56:42.076Z"
   },
   {
    "duration": 12,
    "start_time": "2025-03-13T23:56:42.083Z"
   },
   {
    "duration": 929,
    "start_time": "2025-03-13T23:57:05.969Z"
   },
   {
    "duration": 394,
    "start_time": "2025-03-13T23:57:06.901Z"
   },
   {
    "duration": 12,
    "start_time": "2025-03-13T23:57:07.297Z"
   },
   {
    "duration": 20,
    "start_time": "2025-03-13T23:57:07.311Z"
   },
   {
    "duration": 18,
    "start_time": "2025-03-13T23:57:07.334Z"
   },
   {
    "duration": 10,
    "start_time": "2025-03-13T23:57:07.354Z"
   },
   {
    "duration": 43,
    "start_time": "2025-03-13T23:57:07.366Z"
   },
   {
    "duration": 9,
    "start_time": "2025-03-13T23:57:07.432Z"
   },
   {
    "duration": 10,
    "start_time": "2025-03-13T23:57:07.443Z"
   },
   {
    "duration": 7,
    "start_time": "2025-03-13T23:57:07.454Z"
   },
   {
    "duration": 5,
    "start_time": "2025-03-13T23:57:07.463Z"
   },
   {
    "duration": 8,
    "start_time": "2025-03-13T23:57:07.469Z"
   },
   {
    "duration": 4,
    "start_time": "2025-03-13T23:57:07.480Z"
   },
   {
    "duration": 43,
    "start_time": "2025-03-13T23:57:07.488Z"
   },
   {
    "duration": 4,
    "start_time": "2025-03-13T23:57:07.533Z"
   },
   {
    "duration": 9,
    "start_time": "2025-03-13T23:57:07.539Z"
   },
   {
    "duration": 5,
    "start_time": "2025-03-13T23:57:07.550Z"
   },
   {
    "duration": 10,
    "start_time": "2025-03-13T23:57:07.557Z"
   },
   {
    "duration": 4,
    "start_time": "2025-03-13T23:57:07.569Z"
   },
   {
    "duration": 4,
    "start_time": "2025-03-13T23:57:07.575Z"
   },
   {
    "duration": 9,
    "start_time": "2025-03-13T23:57:07.581Z"
   },
   {
    "duration": 14,
    "start_time": "2025-03-13T23:57:15.755Z"
   },
   {
    "duration": 916,
    "start_time": "2025-03-13T23:57:54.397Z"
   },
   {
    "duration": 414,
    "start_time": "2025-03-13T23:57:55.316Z"
   },
   {
    "duration": 23,
    "start_time": "2025-03-13T23:57:55.747Z"
   },
   {
    "duration": 11,
    "start_time": "2025-03-13T23:57:55.775Z"
   },
   {
    "duration": 17,
    "start_time": "2025-03-13T23:57:55.789Z"
   },
   {
    "duration": 7,
    "start_time": "2025-03-13T23:57:55.808Z"
   },
   {
    "duration": 62,
    "start_time": "2025-03-13T23:57:55.817Z"
   },
   {
    "duration": 11,
    "start_time": "2025-03-13T23:57:55.880Z"
   },
   {
    "duration": 11,
    "start_time": "2025-03-13T23:57:55.894Z"
   },
   {
    "duration": 7,
    "start_time": "2025-03-13T23:57:55.909Z"
   },
   {
    "duration": 4,
    "start_time": "2025-03-13T23:57:55.918Z"
   },
   {
    "duration": 34,
    "start_time": "2025-03-13T23:57:55.947Z"
   },
   {
    "duration": 8,
    "start_time": "2025-03-13T23:57:55.983Z"
   },
   {
    "duration": 11,
    "start_time": "2025-03-13T23:57:55.994Z"
   },
   {
    "duration": 4,
    "start_time": "2025-03-13T23:57:56.007Z"
   },
   {
    "duration": 12,
    "start_time": "2025-03-13T23:57:56.015Z"
   },
   {
    "duration": 19,
    "start_time": "2025-03-13T23:57:56.031Z"
   },
   {
    "duration": 11,
    "start_time": "2025-03-13T23:57:56.056Z"
   },
   {
    "duration": 6,
    "start_time": "2025-03-13T23:57:56.072Z"
   },
   {
    "duration": 4,
    "start_time": "2025-03-13T23:57:56.080Z"
   },
   {
    "duration": 13,
    "start_time": "2025-03-13T23:57:56.088Z"
   },
   {
    "duration": 4,
    "start_time": "2025-03-14T00:03:23.947Z"
   },
   {
    "duration": 22,
    "start_time": "2025-03-14T00:03:55.204Z"
   },
   {
    "duration": 28,
    "start_time": "2025-03-14T00:04:36.826Z"
   },
   {
    "duration": 20,
    "start_time": "2025-03-14T00:05:31.387Z"
   },
   {
    "duration": 10,
    "start_time": "2025-03-14T00:12:35.061Z"
   },
   {
    "duration": 14,
    "start_time": "2025-03-14T00:13:24.383Z"
   },
   {
    "duration": 18,
    "start_time": "2025-03-14T00:13:42.030Z"
   },
   {
    "duration": 848,
    "start_time": "2025-03-14T00:15:24.835Z"
   },
   {
    "duration": 6,
    "start_time": "2025-03-14T00:15:46.873Z"
   },
   {
    "duration": 16,
    "start_time": "2025-03-14T00:16:55.443Z"
   },
   {
    "duration": 6,
    "start_time": "2025-03-14T00:19:25.691Z"
   },
   {
    "duration": 5,
    "start_time": "2025-03-14T00:20:08.317Z"
   },
   {
    "duration": 3,
    "start_time": "2025-03-14T00:20:36.099Z"
   },
   {
    "duration": 12,
    "start_time": "2025-03-14T00:21:34.880Z"
   },
   {
    "duration": 353,
    "start_time": "2025-03-14T00:21:44.317Z"
   },
   {
    "duration": 226,
    "start_time": "2025-03-14T00:22:11.636Z"
   },
   {
    "duration": 64,
    "start_time": "2025-03-14T00:22:58.653Z"
   },
   {
    "duration": 45,
    "start_time": "2025-03-14T00:25:45.637Z"
   },
   {
    "duration": 3,
    "start_time": "2025-03-14T00:26:07.566Z"
   },
   {
    "duration": 5,
    "start_time": "2025-03-14T00:27:22.771Z"
   },
   {
    "duration": 7,
    "start_time": "2025-03-14T00:27:34.287Z"
   },
   {
    "duration": 5,
    "start_time": "2025-03-14T00:27:44.870Z"
   },
   {
    "duration": 5,
    "start_time": "2025-03-14T00:28:01.089Z"
   },
   {
    "duration": 5,
    "start_time": "2025-03-14T00:28:08.182Z"
   },
   {
    "duration": 7,
    "start_time": "2025-03-14T00:28:11.595Z"
   },
   {
    "duration": 50,
    "start_time": "2025-03-14T00:34:51.454Z"
   },
   {
    "duration": 27,
    "start_time": "2025-03-14T00:36:03.645Z"
   },
   {
    "duration": 116,
    "start_time": "2025-03-14T00:38:03.442Z"
   },
   {
    "duration": 125,
    "start_time": "2025-03-14T00:46:00.895Z"
   },
   {
    "duration": 78,
    "start_time": "2025-03-14T00:46:25.424Z"
   },
   {
    "duration": 16,
    "start_time": "2025-03-14T00:49:59.579Z"
   },
   {
    "duration": 147,
    "start_time": "2025-03-14T00:51:10.951Z"
   },
   {
    "duration": 10,
    "start_time": "2025-03-14T00:51:51.977Z"
   },
   {
    "duration": 32,
    "start_time": "2025-03-14T00:52:08.480Z"
   },
   {
    "duration": 9,
    "start_time": "2025-03-14T00:52:17.588Z"
   },
   {
    "duration": 860,
    "start_time": "2025-03-14T00:52:44.560Z"
   },
   {
    "duration": 373,
    "start_time": "2025-03-14T00:52:45.423Z"
   },
   {
    "duration": 9,
    "start_time": "2025-03-14T00:52:45.801Z"
   },
   {
    "duration": 20,
    "start_time": "2025-03-14T00:52:45.813Z"
   },
   {
    "duration": 18,
    "start_time": "2025-03-14T00:52:45.835Z"
   },
   {
    "duration": 7,
    "start_time": "2025-03-14T00:52:45.855Z"
   },
   {
    "duration": 45,
    "start_time": "2025-03-14T00:52:45.864Z"
   },
   {
    "duration": 7,
    "start_time": "2025-03-14T00:52:45.932Z"
   },
   {
    "duration": 9,
    "start_time": "2025-03-14T00:52:45.941Z"
   },
   {
    "duration": 7,
    "start_time": "2025-03-14T00:52:45.951Z"
   },
   {
    "duration": 5,
    "start_time": "2025-03-14T00:52:45.961Z"
   },
   {
    "duration": 4,
    "start_time": "2025-03-14T00:52:45.968Z"
   },
   {
    "duration": 5,
    "start_time": "2025-03-14T00:52:45.977Z"
   },
   {
    "duration": 6,
    "start_time": "2025-03-14T00:52:45.986Z"
   },
   {
    "duration": 3,
    "start_time": "2025-03-14T00:52:45.994Z"
   },
   {
    "duration": 9,
    "start_time": "2025-03-14T00:52:46.032Z"
   },
   {
    "duration": 4,
    "start_time": "2025-03-14T00:52:46.042Z"
   },
   {
    "duration": 8,
    "start_time": "2025-03-14T00:52:46.048Z"
   },
   {
    "duration": 4,
    "start_time": "2025-03-14T00:52:46.057Z"
   },
   {
    "duration": 3,
    "start_time": "2025-03-14T00:52:46.063Z"
   },
   {
    "duration": 10,
    "start_time": "2025-03-14T00:52:46.068Z"
   },
   {
    "duration": 4,
    "start_time": "2025-03-14T00:52:46.080Z"
   },
   {
    "duration": 62,
    "start_time": "2025-03-14T00:52:46.086Z"
   },
   {
    "duration": 26,
    "start_time": "2025-03-14T00:52:46.150Z"
   },
   {
    "duration": 12,
    "start_time": "2025-03-14T00:52:46.179Z"
   },
   {
    "duration": 9,
    "start_time": "2025-03-14T00:52:46.192Z"
   },
   {
    "duration": 39,
    "start_time": "2025-03-14T00:52:46.202Z"
   },
   {
    "duration": 8,
    "start_time": "2025-03-14T00:52:46.244Z"
   },
   {
    "duration": 14,
    "start_time": "2025-03-14T00:52:46.255Z"
   },
   {
    "duration": 4,
    "start_time": "2025-03-14T00:52:46.272Z"
   },
   {
    "duration": 193,
    "start_time": "2025-03-14T00:52:46.278Z"
   },
   {
    "duration": 158,
    "start_time": "2025-03-14T00:52:46.473Z"
   },
   {
    "duration": 63,
    "start_time": "2025-03-14T00:52:46.633Z"
   },
   {
    "duration": 41,
    "start_time": "2025-03-14T00:52:46.697Z"
   },
   {
    "duration": 16,
    "start_time": "2025-03-14T00:52:46.740Z"
   },
   {
    "duration": 133,
    "start_time": "2025-03-14T00:52:46.758Z"
   },
   {
    "duration": 9,
    "start_time": "2025-03-14T00:52:46.892Z"
   },
   {
    "duration": 42,
    "start_time": "2025-03-14T00:52:46.903Z"
   },
   {
    "duration": 3,
    "start_time": "2025-03-14T00:52:46.947Z"
   },
   {
    "duration": 7,
    "start_time": "2025-03-14T00:52:46.955Z"
   },
   {
    "duration": 37,
    "start_time": "2025-03-14T00:52:46.964Z"
   },
   {
    "duration": 51,
    "start_time": "2025-03-14T00:52:47.003Z"
   },
   {
    "duration": 32,
    "start_time": "2025-03-14T00:53:32.612Z"
   },
   {
    "duration": 20,
    "start_time": "2025-03-14T00:53:52.669Z"
   },
   {
    "duration": 18,
    "start_time": "2025-03-14T00:54:03.233Z"
   },
   {
    "duration": 4,
    "start_time": "2025-03-14T00:54:41.913Z"
   },
   {
    "duration": 5,
    "start_time": "2025-03-14T00:59:13.313Z"
   },
   {
    "duration": 4,
    "start_time": "2025-03-14T01:00:44.359Z"
   },
   {
    "duration": 7,
    "start_time": "2025-03-14T01:01:32.092Z"
   },
   {
    "duration": 7,
    "start_time": "2025-03-14T01:02:02.596Z"
   },
   {
    "duration": 7,
    "start_time": "2025-03-14T01:02:57.461Z"
   },
   {
    "duration": 29,
    "start_time": "2025-03-14T01:08:20.948Z"
   },
   {
    "duration": 861,
    "start_time": "2025-03-14T01:08:33.664Z"
   },
   {
    "duration": 351,
    "start_time": "2025-03-14T01:08:34.527Z"
   },
   {
    "duration": 13,
    "start_time": "2025-03-14T01:08:34.880Z"
   },
   {
    "duration": 10,
    "start_time": "2025-03-14T01:08:34.896Z"
   },
   {
    "duration": 26,
    "start_time": "2025-03-14T01:08:34.907Z"
   },
   {
    "duration": 8,
    "start_time": "2025-03-14T01:08:34.937Z"
   },
   {
    "duration": 42,
    "start_time": "2025-03-14T01:08:34.949Z"
   },
   {
    "duration": 8,
    "start_time": "2025-03-14T01:08:34.992Z"
   },
   {
    "duration": 8,
    "start_time": "2025-03-14T01:08:35.002Z"
   },
   {
    "duration": 6,
    "start_time": "2025-03-14T01:08:35.034Z"
   },
   {
    "duration": 3,
    "start_time": "2025-03-14T01:08:35.043Z"
   },
   {
    "duration": 6,
    "start_time": "2025-03-14T01:08:35.047Z"
   },
   {
    "duration": 3,
    "start_time": "2025-03-14T01:08:35.054Z"
   },
   {
    "duration": 5,
    "start_time": "2025-03-14T01:08:35.059Z"
   },
   {
    "duration": 3,
    "start_time": "2025-03-14T01:08:35.066Z"
   },
   {
    "duration": 9,
    "start_time": "2025-03-14T01:08:35.070Z"
   },
   {
    "duration": 3,
    "start_time": "2025-03-14T01:08:35.081Z"
   },
   {
    "duration": 48,
    "start_time": "2025-03-14T01:08:35.086Z"
   },
   {
    "duration": 3,
    "start_time": "2025-03-14T01:08:35.136Z"
   },
   {
    "duration": 4,
    "start_time": "2025-03-14T01:08:35.141Z"
   },
   {
    "duration": 8,
    "start_time": "2025-03-14T01:08:35.146Z"
   },
   {
    "duration": 3,
    "start_time": "2025-03-14T01:08:35.156Z"
   },
   {
    "duration": 24,
    "start_time": "2025-03-14T01:08:35.161Z"
   },
   {
    "duration": 52,
    "start_time": "2025-03-14T01:08:35.186Z"
   },
   {
    "duration": 11,
    "start_time": "2025-03-14T01:08:35.239Z"
   },
   {
    "duration": 8,
    "start_time": "2025-03-14T01:08:35.252Z"
   },
   {
    "duration": 13,
    "start_time": "2025-03-14T01:08:35.262Z"
   },
   {
    "duration": 5,
    "start_time": "2025-03-14T01:08:35.279Z"
   },
   {
    "duration": 13,
    "start_time": "2025-03-14T01:08:35.285Z"
   },
   {
    "duration": 33,
    "start_time": "2025-03-14T01:08:35.299Z"
   },
   {
    "duration": 177,
    "start_time": "2025-03-14T01:08:35.334Z"
   },
   {
    "duration": 175,
    "start_time": "2025-03-14T01:08:35.513Z"
   },
   {
    "duration": 66,
    "start_time": "2025-03-14T01:08:35.691Z"
   },
   {
    "duration": 32,
    "start_time": "2025-03-14T01:08:35.758Z"
   },
   {
    "duration": 16,
    "start_time": "2025-03-14T01:08:35.792Z"
   },
   {
    "duration": 140,
    "start_time": "2025-03-14T01:08:35.809Z"
   },
   {
    "duration": 9,
    "start_time": "2025-03-14T01:08:35.951Z"
   },
   {
    "duration": 42,
    "start_time": "2025-03-14T01:08:35.961Z"
   },
   {
    "duration": 5,
    "start_time": "2025-03-14T01:08:36.005Z"
   },
   {
    "duration": 21,
    "start_time": "2025-03-14T01:08:36.011Z"
   },
   {
    "duration": 34,
    "start_time": "2025-03-14T01:08:36.034Z"
   },
   {
    "duration": 24,
    "start_time": "2025-03-14T01:08:36.071Z"
   },
   {
    "duration": 3,
    "start_time": "2025-03-14T01:08:36.097Z"
   },
   {
    "duration": 6,
    "start_time": "2025-03-14T01:08:36.101Z"
   },
   {
    "duration": 9,
    "start_time": "2025-03-14T01:08:36.131Z"
   },
   {
    "duration": 7,
    "start_time": "2025-03-14T01:08:36.141Z"
   },
   {
    "duration": 5,
    "start_time": "2025-03-14T01:08:36.150Z"
   },
   {
    "duration": 4,
    "start_time": "2025-03-14T01:14:27.186Z"
   },
   {
    "duration": 962,
    "start_time": "2025-03-14T01:14:44.367Z"
   },
   {
    "duration": 438,
    "start_time": "2025-03-14T01:14:45.331Z"
   },
   {
    "duration": 11,
    "start_time": "2025-03-14T01:14:45.771Z"
   },
   {
    "duration": 10,
    "start_time": "2025-03-14T01:14:45.785Z"
   },
   {
    "duration": 34,
    "start_time": "2025-03-14T01:14:45.798Z"
   },
   {
    "duration": 8,
    "start_time": "2025-03-14T01:14:45.834Z"
   },
   {
    "duration": 53,
    "start_time": "2025-03-14T01:14:45.844Z"
   },
   {
    "duration": 32,
    "start_time": "2025-03-14T01:14:45.900Z"
   },
   {
    "duration": 11,
    "start_time": "2025-03-14T01:14:45.934Z"
   },
   {
    "duration": 8,
    "start_time": "2025-03-14T01:14:45.948Z"
   },
   {
    "duration": 6,
    "start_time": "2025-03-14T01:14:45.959Z"
   },
   {
    "duration": 4,
    "start_time": "2025-03-14T01:14:45.967Z"
   },
   {
    "duration": 5,
    "start_time": "2025-03-14T01:14:45.973Z"
   },
   {
    "duration": 6,
    "start_time": "2025-03-14T01:14:45.980Z"
   },
   {
    "duration": 3,
    "start_time": "2025-03-14T01:14:45.988Z"
   },
   {
    "duration": 46,
    "start_time": "2025-03-14T01:14:45.994Z"
   },
   {
    "duration": 4,
    "start_time": "2025-03-14T01:14:46.042Z"
   },
   {
    "duration": 10,
    "start_time": "2025-03-14T01:14:46.048Z"
   },
   {
    "duration": 4,
    "start_time": "2025-03-14T01:14:46.061Z"
   },
   {
    "duration": 5,
    "start_time": "2025-03-14T01:14:46.067Z"
   },
   {
    "duration": 9,
    "start_time": "2025-03-14T01:14:46.074Z"
   },
   {
    "duration": 5,
    "start_time": "2025-03-14T01:14:46.085Z"
   },
   {
    "duration": 65,
    "start_time": "2025-03-14T01:14:46.091Z"
   },
   {
    "duration": 38,
    "start_time": "2025-03-14T01:14:46.160Z"
   },
   {
    "duration": 18,
    "start_time": "2025-03-14T01:14:46.206Z"
   },
   {
    "duration": 14,
    "start_time": "2025-03-14T01:14:46.228Z"
   },
   {
    "duration": 20,
    "start_time": "2025-03-14T01:14:46.245Z"
   },
   {
    "duration": 7,
    "start_time": "2025-03-14T01:14:46.270Z"
   },
   {
    "duration": 20,
    "start_time": "2025-03-14T01:14:46.281Z"
   },
   {
    "duration": 3,
    "start_time": "2025-03-14T01:14:46.303Z"
   },
   {
    "duration": 297,
    "start_time": "2025-03-14T01:14:46.316Z"
   },
   {
    "duration": 228,
    "start_time": "2025-03-14T01:14:46.617Z"
   },
   {
    "duration": 98,
    "start_time": "2025-03-14T01:14:46.849Z"
   },
   {
    "duration": 52,
    "start_time": "2025-03-14T01:14:46.950Z"
   },
   {
    "duration": 30,
    "start_time": "2025-03-14T01:14:47.005Z"
   },
   {
    "duration": 155,
    "start_time": "2025-03-14T01:14:47.037Z"
   },
   {
    "duration": 12,
    "start_time": "2025-03-14T01:14:47.194Z"
   },
   {
    "duration": 4,
    "start_time": "2025-03-14T01:14:47.209Z"
   },
   {
    "duration": 49,
    "start_time": "2025-03-14T01:14:47.215Z"
   },
   {
    "duration": 13,
    "start_time": "2025-03-14T01:14:47.267Z"
   },
   {
    "duration": 7,
    "start_time": "2025-03-14T01:14:47.282Z"
   },
   {
    "duration": 66,
    "start_time": "2025-03-14T01:14:47.290Z"
   },
   {
    "duration": 30,
    "start_time": "2025-03-14T01:14:47.358Z"
   },
   {
    "duration": 4,
    "start_time": "2025-03-14T01:14:47.390Z"
   },
   {
    "duration": 5,
    "start_time": "2025-03-14T01:14:47.396Z"
   },
   {
    "duration": 9,
    "start_time": "2025-03-14T01:14:47.403Z"
   },
   {
    "duration": 12,
    "start_time": "2025-03-14T01:14:47.431Z"
   },
   {
    "duration": 12,
    "start_time": "2025-03-14T01:14:47.449Z"
   },
   {
    "duration": 30,
    "start_time": "2025-03-14T01:15:53.812Z"
   },
   {
    "duration": 917,
    "start_time": "2025-03-14T01:16:36.079Z"
   },
   {
    "duration": 406,
    "start_time": "2025-03-14T01:16:36.998Z"
   },
   {
    "duration": 9,
    "start_time": "2025-03-14T01:16:37.406Z"
   },
   {
    "duration": 20,
    "start_time": "2025-03-14T01:16:37.419Z"
   },
   {
    "duration": 16,
    "start_time": "2025-03-14T01:16:37.441Z"
   },
   {
    "duration": 8,
    "start_time": "2025-03-14T01:16:37.459Z"
   },
   {
    "duration": 66,
    "start_time": "2025-03-14T01:16:37.469Z"
   },
   {
    "duration": 9,
    "start_time": "2025-03-14T01:16:37.537Z"
   },
   {
    "duration": 11,
    "start_time": "2025-03-14T01:16:37.547Z"
   },
   {
    "duration": 7,
    "start_time": "2025-03-14T01:16:37.563Z"
   },
   {
    "duration": 3,
    "start_time": "2025-03-14T01:16:37.572Z"
   },
   {
    "duration": 7,
    "start_time": "2025-03-14T01:16:37.577Z"
   },
   {
    "duration": 4,
    "start_time": "2025-03-14T01:16:37.586Z"
   },
   {
    "duration": 42,
    "start_time": "2025-03-14T01:16:37.592Z"
   },
   {
    "duration": 4,
    "start_time": "2025-03-14T01:16:37.636Z"
   },
   {
    "duration": 13,
    "start_time": "2025-03-14T01:16:37.642Z"
   },
   {
    "duration": 17,
    "start_time": "2025-03-14T01:16:37.657Z"
   },
   {
    "duration": 11,
    "start_time": "2025-03-14T01:16:37.681Z"
   },
   {
    "duration": 4,
    "start_time": "2025-03-14T01:16:37.694Z"
   },
   {
    "duration": 4,
    "start_time": "2025-03-14T01:16:37.700Z"
   },
   {
    "duration": 9,
    "start_time": "2025-03-14T01:16:37.706Z"
   },
   {
    "duration": 22,
    "start_time": "2025-03-14T01:16:37.716Z"
   },
   {
    "duration": 31,
    "start_time": "2025-03-14T01:16:37.740Z"
   },
   {
    "duration": 29,
    "start_time": "2025-03-14T01:16:37.773Z"
   },
   {
    "duration": 31,
    "start_time": "2025-03-14T01:16:37.804Z"
   },
   {
    "duration": 12,
    "start_time": "2025-03-14T01:16:37.836Z"
   },
   {
    "duration": 16,
    "start_time": "2025-03-14T01:16:37.850Z"
   },
   {
    "duration": 5,
    "start_time": "2025-03-14T01:16:37.871Z"
   },
   {
    "duration": 17,
    "start_time": "2025-03-14T01:16:37.878Z"
   },
   {
    "duration": 37,
    "start_time": "2025-03-14T01:16:37.896Z"
   },
   {
    "duration": 281,
    "start_time": "2025-03-14T01:16:37.935Z"
   },
   {
    "duration": 222,
    "start_time": "2025-03-14T01:16:38.218Z"
   },
   {
    "duration": 69,
    "start_time": "2025-03-14T01:16:38.442Z"
   },
   {
    "duration": 50,
    "start_time": "2025-03-14T01:16:38.513Z"
   },
   {
    "duration": 22,
    "start_time": "2025-03-14T01:16:38.564Z"
   },
   {
    "duration": 154,
    "start_time": "2025-03-14T01:16:38.588Z"
   },
   {
    "duration": 9,
    "start_time": "2025-03-14T01:16:38.744Z"
   },
   {
    "duration": 4,
    "start_time": "2025-03-14T01:16:38.755Z"
   },
   {
    "duration": 43,
    "start_time": "2025-03-14T01:16:38.761Z"
   },
   {
    "duration": 27,
    "start_time": "2025-03-14T01:16:38.806Z"
   },
   {
    "duration": 33,
    "start_time": "2025-03-14T01:16:38.835Z"
   },
   {
    "duration": 7,
    "start_time": "2025-03-14T01:16:38.872Z"
   },
   {
    "duration": 27,
    "start_time": "2025-03-14T01:16:38.881Z"
   },
   {
    "duration": 5,
    "start_time": "2025-03-14T01:16:38.930Z"
   },
   {
    "duration": 4,
    "start_time": "2025-03-14T01:16:38.937Z"
   },
   {
    "duration": 10,
    "start_time": "2025-03-14T01:16:38.942Z"
   },
   {
    "duration": 9,
    "start_time": "2025-03-14T01:16:38.953Z"
   },
   {
    "duration": 12,
    "start_time": "2025-03-14T01:16:38.964Z"
   },
   {
    "duration": 22,
    "start_time": "2025-03-14T01:19:21.492Z"
   },
   {
    "duration": 6,
    "start_time": "2025-03-14T01:19:27.379Z"
   },
   {
    "duration": 18,
    "start_time": "2025-03-14T01:19:32.079Z"
   },
   {
    "duration": 3,
    "start_time": "2025-03-14T01:19:35.335Z"
   },
   {
    "duration": 5,
    "start_time": "2025-03-14T01:20:03.536Z"
   },
   {
    "duration": 4,
    "start_time": "2025-03-14T01:20:44.382Z"
   },
   {
    "duration": 321,
    "start_time": "2025-03-14T01:22:09.337Z"
   },
   {
    "duration": 4,
    "start_time": "2025-03-14T01:22:43.784Z"
   },
   {
    "duration": 33,
    "start_time": "2025-03-14T02:38:37.598Z"
   },
   {
    "duration": 4,
    "start_time": "2025-03-14T02:38:44.117Z"
   },
   {
    "duration": 28,
    "start_time": "2025-03-14T02:38:46.685Z"
   },
   {
    "duration": 4,
    "start_time": "2025-03-14T02:38:52.015Z"
   },
   {
    "duration": 3,
    "start_time": "2025-03-14T03:08:58.297Z"
   },
   {
    "duration": 9,
    "start_time": "2025-03-14T03:09:43.693Z"
   },
   {
    "duration": 14,
    "start_time": "2025-03-14T03:17:02.568Z"
   },
   {
    "duration": 34,
    "start_time": "2025-03-14T03:18:37.933Z"
   },
   {
    "duration": 596,
    "start_time": "2025-03-14T03:20:38.558Z"
   },
   {
    "duration": 17,
    "start_time": "2025-03-14T03:21:24.279Z"
   },
   {
    "duration": 16,
    "start_time": "2025-03-14T03:22:00.062Z"
   },
   {
    "duration": 9,
    "start_time": "2025-03-14T03:30:12.293Z"
   },
   {
    "duration": 16,
    "start_time": "2025-03-14T03:30:19.554Z"
   },
   {
    "duration": 30,
    "start_time": "2025-03-14T03:34:37.641Z"
   },
   {
    "duration": 14,
    "start_time": "2025-03-14T03:35:39.554Z"
   },
   {
    "duration": 20,
    "start_time": "2025-03-14T03:35:46.241Z"
   },
   {
    "duration": 13,
    "start_time": "2025-03-14T03:42:30.207Z"
   },
   {
    "duration": 4,
    "start_time": "2025-03-14T03:42:41.234Z"
   },
   {
    "duration": 10,
    "start_time": "2025-03-14T03:42:55.685Z"
   },
   {
    "duration": 4,
    "start_time": "2025-03-14T03:43:01.282Z"
   },
   {
    "duration": 3,
    "start_time": "2025-03-14T03:43:08.030Z"
   },
   {
    "duration": 164,
    "start_time": "2025-03-14T03:46:25.528Z"
   },
   {
    "duration": 16,
    "start_time": "2025-03-14T03:46:42.180Z"
   },
   {
    "duration": 169,
    "start_time": "2025-03-14T14:34:18.104Z"
   },
   {
    "duration": 2951,
    "start_time": "2025-03-14T14:34:23.823Z"
   },
   {
    "duration": 418,
    "start_time": "2025-03-14T14:34:26.777Z"
   },
   {
    "duration": 18,
    "start_time": "2025-03-14T14:34:27.197Z"
   },
   {
    "duration": 9,
    "start_time": "2025-03-14T14:34:27.218Z"
   },
   {
    "duration": 4,
    "start_time": "2025-03-14T14:34:27.229Z"
   },
   {
    "duration": 14,
    "start_time": "2025-03-14T14:34:27.235Z"
   },
   {
    "duration": 7,
    "start_time": "2025-03-14T14:34:27.251Z"
   },
   {
    "duration": 50,
    "start_time": "2025-03-14T14:34:27.260Z"
   },
   {
    "duration": 47,
    "start_time": "2025-03-14T14:34:27.312Z"
   },
   {
    "duration": 8,
    "start_time": "2025-03-14T14:34:27.361Z"
   },
   {
    "duration": 10,
    "start_time": "2025-03-14T14:34:27.371Z"
   },
   {
    "duration": 28,
    "start_time": "2025-03-14T14:34:27.382Z"
   },
   {
    "duration": 4,
    "start_time": "2025-03-14T14:34:27.412Z"
   },
   {
    "duration": 5,
    "start_time": "2025-03-14T14:34:27.421Z"
   },
   {
    "duration": 4,
    "start_time": "2025-03-14T14:34:27.428Z"
   },
   {
    "duration": 4,
    "start_time": "2025-03-14T14:34:27.434Z"
   },
   {
    "duration": 3,
    "start_time": "2025-03-14T14:34:27.440Z"
   },
   {
    "duration": 10,
    "start_time": "2025-03-14T14:34:27.444Z"
   },
   {
    "duration": 3,
    "start_time": "2025-03-14T14:34:27.456Z"
   },
   {
    "duration": 54,
    "start_time": "2025-03-14T14:34:27.461Z"
   },
   {
    "duration": 6,
    "start_time": "2025-03-14T14:34:27.519Z"
   },
   {
    "duration": 4,
    "start_time": "2025-03-14T14:34:27.526Z"
   },
   {
    "duration": 10,
    "start_time": "2025-03-14T14:34:27.532Z"
   },
   {
    "duration": 6,
    "start_time": "2025-03-14T14:34:27.544Z"
   },
   {
    "duration": 56,
    "start_time": "2025-03-14T14:34:27.553Z"
   },
   {
    "duration": 39,
    "start_time": "2025-03-14T14:34:27.612Z"
   },
   {
    "duration": 13,
    "start_time": "2025-03-14T14:34:27.653Z"
   },
   {
    "duration": 11,
    "start_time": "2025-03-14T14:34:27.668Z"
   },
   {
    "duration": 35,
    "start_time": "2025-03-14T14:34:27.681Z"
   },
   {
    "duration": 5,
    "start_time": "2025-03-14T14:34:27.722Z"
   },
   {
    "duration": 26,
    "start_time": "2025-03-14T14:34:27.731Z"
   },
   {
    "duration": 5,
    "start_time": "2025-03-14T14:34:27.761Z"
   },
   {
    "duration": 274,
    "start_time": "2025-03-14T14:34:27.768Z"
   },
   {
    "duration": 179,
    "start_time": "2025-03-14T14:34:28.044Z"
   },
   {
    "duration": 63,
    "start_time": "2025-03-14T14:34:28.225Z"
   },
   {
    "duration": 47,
    "start_time": "2025-03-14T14:34:28.290Z"
   },
   {
    "duration": 15,
    "start_time": "2025-03-14T14:34:28.340Z"
   },
   {
    "duration": 156,
    "start_time": "2025-03-14T14:34:28.358Z"
   },
   {
    "duration": 11,
    "start_time": "2025-03-14T14:34:28.516Z"
   },
   {
    "duration": 5,
    "start_time": "2025-03-14T14:34:28.529Z"
   },
   {
    "duration": 42,
    "start_time": "2025-03-14T14:34:28.540Z"
   },
   {
    "duration": 25,
    "start_time": "2025-03-14T14:34:28.584Z"
   },
   {
    "duration": 14,
    "start_time": "2025-03-14T14:34:28.611Z"
   },
   {
    "duration": 3,
    "start_time": "2025-03-14T14:34:28.627Z"
   },
   {
    "duration": 9,
    "start_time": "2025-03-14T14:34:28.632Z"
   },
   {
    "duration": 3,
    "start_time": "2025-03-14T14:34:28.642Z"
   },
   {
    "duration": 3,
    "start_time": "2025-03-14T14:34:28.647Z"
   },
   {
    "duration": 17,
    "start_time": "2025-03-14T14:34:28.652Z"
   },
   {
    "duration": 4,
    "start_time": "2025-03-14T14:34:28.710Z"
   },
   {
    "duration": 8,
    "start_time": "2025-03-14T14:34:28.717Z"
   },
   {
    "duration": 9,
    "start_time": "2025-03-14T14:34:28.727Z"
   },
   {
    "duration": 8,
    "start_time": "2025-03-14T14:34:28.738Z"
   },
   {
    "duration": 837,
    "start_time": "2025-03-14T14:51:59.112Z"
   },
   {
    "duration": 369,
    "start_time": "2025-03-14T14:51:59.952Z"
   },
   {
    "duration": 8,
    "start_time": "2025-03-14T14:52:00.323Z"
   },
   {
    "duration": 9,
    "start_time": "2025-03-14T14:52:00.333Z"
   },
   {
    "duration": 14,
    "start_time": "2025-03-14T14:52:00.344Z"
   },
   {
    "duration": 7,
    "start_time": "2025-03-14T14:52:00.359Z"
   },
   {
    "duration": 61,
    "start_time": "2025-03-14T14:52:00.367Z"
   },
   {
    "duration": 9,
    "start_time": "2025-03-14T14:52:00.430Z"
   },
   {
    "duration": 8,
    "start_time": "2025-03-14T14:52:00.441Z"
   },
   {
    "duration": 6,
    "start_time": "2025-03-14T14:52:00.450Z"
   },
   {
    "duration": 4,
    "start_time": "2025-03-14T14:52:00.458Z"
   },
   {
    "duration": 5,
    "start_time": "2025-03-14T14:52:00.463Z"
   },
   {
    "duration": 3,
    "start_time": "2025-03-14T14:52:00.470Z"
   },
   {
    "duration": 5,
    "start_time": "2025-03-14T14:52:00.510Z"
   },
   {
    "duration": 3,
    "start_time": "2025-03-14T14:52:00.517Z"
   },
   {
    "duration": 8,
    "start_time": "2025-03-14T14:52:00.522Z"
   },
   {
    "duration": 3,
    "start_time": "2025-03-14T14:52:00.532Z"
   },
   {
    "duration": 8,
    "start_time": "2025-03-14T14:52:00.537Z"
   },
   {
    "duration": 3,
    "start_time": "2025-03-14T14:52:00.546Z"
   },
   {
    "duration": 3,
    "start_time": "2025-03-14T14:52:00.551Z"
   },
   {
    "duration": 54,
    "start_time": "2025-03-14T14:52:00.556Z"
   },
   {
    "duration": 4,
    "start_time": "2025-03-14T14:52:00.611Z"
   },
   {
    "duration": 22,
    "start_time": "2025-03-14T14:52:00.617Z"
   },
   {
    "duration": 21,
    "start_time": "2025-03-14T14:52:00.641Z"
   },
   {
    "duration": 11,
    "start_time": "2025-03-14T14:52:00.664Z"
   },
   {
    "duration": 33,
    "start_time": "2025-03-14T14:52:00.676Z"
   },
   {
    "duration": 17,
    "start_time": "2025-03-14T14:52:00.711Z"
   },
   {
    "duration": 5,
    "start_time": "2025-03-14T14:52:00.733Z"
   },
   {
    "duration": 12,
    "start_time": "2025-03-14T14:52:00.740Z"
   },
   {
    "duration": 17,
    "start_time": "2025-03-14T14:52:00.754Z"
   },
   {
    "duration": 3,
    "start_time": "2025-03-14T14:52:00.773Z"
   },
   {
    "duration": 168,
    "start_time": "2025-03-14T14:52:00.809Z"
   },
   {
    "duration": 176,
    "start_time": "2025-03-14T14:52:00.979Z"
   },
   {
    "duration": 66,
    "start_time": "2025-03-14T14:52:01.157Z"
   },
   {
    "duration": 30,
    "start_time": "2025-03-14T14:52:01.227Z"
   },
   {
    "duration": 16,
    "start_time": "2025-03-14T14:52:01.259Z"
   },
   {
    "duration": 141,
    "start_time": "2025-03-14T14:52:01.277Z"
   },
   {
    "duration": 8,
    "start_time": "2025-03-14T14:52:01.420Z"
   },
   {
    "duration": 4,
    "start_time": "2025-03-14T14:52:01.430Z"
   },
   {
    "duration": 29,
    "start_time": "2025-03-14T14:52:01.435Z"
   },
   {
    "duration": 3,
    "start_time": "2025-03-14T14:52:01.469Z"
   },
   {
    "duration": 43,
    "start_time": "2025-03-14T14:52:01.474Z"
   },
   {
    "duration": 4,
    "start_time": "2025-03-14T14:52:01.519Z"
   },
   {
    "duration": 9,
    "start_time": "2025-03-14T14:52:01.525Z"
   },
   {
    "duration": 3,
    "start_time": "2025-03-14T14:52:01.536Z"
   },
   {
    "duration": 4,
    "start_time": "2025-03-14T14:52:01.541Z"
   },
   {
    "duration": 16,
    "start_time": "2025-03-14T14:52:01.547Z"
   },
   {
    "duration": 44,
    "start_time": "2025-03-14T14:52:01.565Z"
   },
   {
    "duration": 7,
    "start_time": "2025-03-14T14:52:01.611Z"
   },
   {
    "duration": 6,
    "start_time": "2025-03-14T14:52:01.620Z"
   },
   {
    "duration": 6,
    "start_time": "2025-03-14T14:52:01.628Z"
   },
   {
    "duration": 804,
    "start_time": "2025-03-14T14:56:49.006Z"
   },
   {
    "duration": 344,
    "start_time": "2025-03-14T14:56:49.812Z"
   },
   {
    "duration": 9,
    "start_time": "2025-03-14T14:56:50.157Z"
   },
   {
    "duration": 9,
    "start_time": "2025-03-14T14:56:50.169Z"
   },
   {
    "duration": 34,
    "start_time": "2025-03-14T14:56:50.180Z"
   },
   {
    "duration": 8,
    "start_time": "2025-03-14T14:56:50.215Z"
   },
   {
    "duration": 40,
    "start_time": "2025-03-14T14:56:50.224Z"
   },
   {
    "duration": 8,
    "start_time": "2025-03-14T14:56:50.266Z"
   },
   {
    "duration": 8,
    "start_time": "2025-03-14T14:56:50.275Z"
   },
   {
    "duration": 6,
    "start_time": "2025-03-14T14:56:50.309Z"
   },
   {
    "duration": 3,
    "start_time": "2025-03-14T14:56:50.317Z"
   },
   {
    "duration": 5,
    "start_time": "2025-03-14T14:56:50.322Z"
   },
   {
    "duration": 4,
    "start_time": "2025-03-14T14:56:50.328Z"
   },
   {
    "duration": 4,
    "start_time": "2025-03-14T14:56:50.334Z"
   },
   {
    "duration": 4,
    "start_time": "2025-03-14T14:56:50.339Z"
   },
   {
    "duration": 8,
    "start_time": "2025-03-14T14:56:50.344Z"
   },
   {
    "duration": 4,
    "start_time": "2025-03-14T14:56:50.354Z"
   },
   {
    "duration": 55,
    "start_time": "2025-03-14T14:56:50.359Z"
   },
   {
    "duration": 3,
    "start_time": "2025-03-14T14:56:50.415Z"
   },
   {
    "duration": 4,
    "start_time": "2025-03-14T14:56:50.420Z"
   },
   {
    "duration": 7,
    "start_time": "2025-03-14T14:56:50.426Z"
   },
   {
    "duration": 4,
    "start_time": "2025-03-14T14:56:50.435Z"
   },
   {
    "duration": 22,
    "start_time": "2025-03-14T14:56:50.441Z"
   },
   {
    "duration": 51,
    "start_time": "2025-03-14T14:56:50.464Z"
   },
   {
    "duration": 11,
    "start_time": "2025-03-14T14:56:50.517Z"
   },
   {
    "duration": 9,
    "start_time": "2025-03-14T14:56:50.529Z"
   },
   {
    "duration": 14,
    "start_time": "2025-03-14T14:56:50.539Z"
   },
   {
    "duration": 6,
    "start_time": "2025-03-14T14:56:50.558Z"
   },
   {
    "duration": 47,
    "start_time": "2025-03-14T14:56:50.565Z"
   },
   {
    "duration": 16,
    "start_time": "2025-03-14T14:56:50.614Z"
   },
   {
    "duration": 3,
    "start_time": "2025-03-14T14:56:50.631Z"
   },
   {
    "duration": 176,
    "start_time": "2025-03-14T14:56:50.636Z"
   },
   {
    "duration": 161,
    "start_time": "2025-03-14T14:56:50.813Z"
   },
   {
    "duration": 63,
    "start_time": "2025-03-14T14:56:50.977Z"
   },
   {
    "duration": 31,
    "start_time": "2025-03-14T14:56:51.042Z"
   },
   {
    "duration": 15,
    "start_time": "2025-03-14T14:56:51.075Z"
   },
   {
    "duration": 138,
    "start_time": "2025-03-14T14:56:51.091Z"
   },
   {
    "duration": 9,
    "start_time": "2025-03-14T14:56:51.230Z"
   },
   {
    "duration": 4,
    "start_time": "2025-03-14T14:56:51.240Z"
   },
   {
    "duration": 29,
    "start_time": "2025-03-14T14:56:51.245Z"
   },
   {
    "duration": 3,
    "start_time": "2025-03-14T14:56:51.276Z"
   },
   {
    "duration": 35,
    "start_time": "2025-03-14T14:56:51.281Z"
   },
   {
    "duration": 4,
    "start_time": "2025-03-14T14:56:51.317Z"
   },
   {
    "duration": 8,
    "start_time": "2025-03-14T14:56:51.323Z"
   },
   {
    "duration": 3,
    "start_time": "2025-03-14T14:56:51.333Z"
   },
   {
    "duration": 3,
    "start_time": "2025-03-14T14:56:51.337Z"
   },
   {
    "duration": 15,
    "start_time": "2025-03-14T14:56:51.342Z"
   },
   {
    "duration": 4,
    "start_time": "2025-03-14T14:56:51.358Z"
   },
   {
    "duration": 46,
    "start_time": "2025-03-14T14:56:51.364Z"
   },
   {
    "duration": 7,
    "start_time": "2025-03-14T14:56:51.412Z"
   },
   {
    "duration": 5,
    "start_time": "2025-03-14T14:56:51.421Z"
   },
   {
    "duration": 13,
    "start_time": "2025-03-14T14:57:39.080Z"
   },
   {
    "duration": 13,
    "start_time": "2025-03-14T15:00:04.693Z"
   },
   {
    "duration": 822,
    "start_time": "2025-03-14T15:00:18.068Z"
   },
   {
    "duration": 344,
    "start_time": "2025-03-14T15:00:18.892Z"
   },
   {
    "duration": 9,
    "start_time": "2025-03-14T15:00:19.237Z"
   },
   {
    "duration": 9,
    "start_time": "2025-03-14T15:00:19.248Z"
   },
   {
    "duration": 13,
    "start_time": "2025-03-14T15:00:19.259Z"
   },
   {
    "duration": 7,
    "start_time": "2025-03-14T15:00:19.274Z"
   },
   {
    "duration": 65,
    "start_time": "2025-03-14T15:00:19.282Z"
   },
   {
    "duration": 8,
    "start_time": "2025-03-14T15:00:19.349Z"
   },
   {
    "duration": 9,
    "start_time": "2025-03-14T15:00:19.359Z"
   },
   {
    "duration": 6,
    "start_time": "2025-03-14T15:00:19.370Z"
   },
   {
    "duration": 32,
    "start_time": "2025-03-14T15:00:19.378Z"
   },
   {
    "duration": 4,
    "start_time": "2025-03-14T15:00:19.412Z"
   },
   {
    "duration": 4,
    "start_time": "2025-03-14T15:00:19.418Z"
   },
   {
    "duration": 5,
    "start_time": "2025-03-14T15:00:19.425Z"
   },
   {
    "duration": 4,
    "start_time": "2025-03-14T15:00:19.431Z"
   },
   {
    "duration": 8,
    "start_time": "2025-03-14T15:00:19.437Z"
   },
   {
    "duration": 3,
    "start_time": "2025-03-14T15:00:19.447Z"
   },
   {
    "duration": 9,
    "start_time": "2025-03-14T15:00:19.451Z"
   },
   {
    "duration": 3,
    "start_time": "2025-03-14T15:00:19.462Z"
   },
   {
    "duration": 4,
    "start_time": "2025-03-14T15:00:19.509Z"
   },
   {
    "duration": 9,
    "start_time": "2025-03-14T15:00:19.514Z"
   },
   {
    "duration": 4,
    "start_time": "2025-03-14T15:00:19.524Z"
   },
   {
    "duration": 21,
    "start_time": "2025-03-14T15:00:19.530Z"
   },
   {
    "duration": 22,
    "start_time": "2025-03-14T15:00:19.553Z"
   },
   {
    "duration": 40,
    "start_time": "2025-03-14T15:00:19.577Z"
   },
   {
    "duration": 8,
    "start_time": "2025-03-14T15:00:19.619Z"
   },
   {
    "duration": 12,
    "start_time": "2025-03-14T15:00:19.629Z"
   },
   {
    "duration": 5,
    "start_time": "2025-03-14T15:00:19.642Z"
   },
   {
    "duration": 12,
    "start_time": "2025-03-14T15:00:19.649Z"
   },
   {
    "duration": 47,
    "start_time": "2025-03-14T15:00:19.662Z"
   },
   {
    "duration": 5,
    "start_time": "2025-03-14T15:00:19.711Z"
   },
   {
    "duration": 170,
    "start_time": "2025-03-14T15:00:19.717Z"
   },
   {
    "duration": 156,
    "start_time": "2025-03-14T15:00:19.889Z"
   },
   {
    "duration": 82,
    "start_time": "2025-03-14T15:00:20.046Z"
   },
   {
    "duration": 30,
    "start_time": "2025-03-14T15:00:20.131Z"
   },
   {
    "duration": 16,
    "start_time": "2025-03-14T15:00:20.163Z"
   },
   {
    "duration": 162,
    "start_time": "2025-03-14T15:00:20.181Z"
   },
   {
    "duration": 8,
    "start_time": "2025-03-14T15:00:20.345Z"
   },
   {
    "duration": 4,
    "start_time": "2025-03-14T15:00:20.355Z"
   },
   {
    "duration": 58,
    "start_time": "2025-03-14T15:00:20.360Z"
   },
   {
    "duration": 3,
    "start_time": "2025-03-14T15:00:20.422Z"
   },
   {
    "duration": 15,
    "start_time": "2025-03-14T15:00:20.426Z"
   },
   {
    "duration": 3,
    "start_time": "2025-03-14T15:00:20.442Z"
   },
   {
    "duration": 8,
    "start_time": "2025-03-14T15:00:20.446Z"
   },
   {
    "duration": 3,
    "start_time": "2025-03-14T15:00:20.455Z"
   },
   {
    "duration": 3,
    "start_time": "2025-03-14T15:00:20.460Z"
   },
   {
    "duration": 46,
    "start_time": "2025-03-14T15:00:20.464Z"
   },
   {
    "duration": 3,
    "start_time": "2025-03-14T15:00:20.511Z"
   },
   {
    "duration": 8,
    "start_time": "2025-03-14T15:00:20.516Z"
   },
   {
    "duration": 7,
    "start_time": "2025-03-14T15:00:20.525Z"
   },
   {
    "duration": 6,
    "start_time": "2025-03-14T15:00:20.533Z"
   },
   {
    "duration": 822,
    "start_time": "2025-03-14T15:44:54.877Z"
   },
   {
    "duration": 352,
    "start_time": "2025-03-14T15:44:55.701Z"
   },
   {
    "duration": 8,
    "start_time": "2025-03-14T15:44:56.055Z"
   },
   {
    "duration": 8,
    "start_time": "2025-03-14T15:44:56.066Z"
   },
   {
    "duration": 14,
    "start_time": "2025-03-14T15:44:56.075Z"
   },
   {
    "duration": 23,
    "start_time": "2025-03-14T15:44:56.090Z"
   },
   {
    "duration": 41,
    "start_time": "2025-03-14T15:44:56.115Z"
   },
   {
    "duration": 8,
    "start_time": "2025-03-14T15:44:56.158Z"
   },
   {
    "duration": 8,
    "start_time": "2025-03-14T15:44:56.168Z"
   },
   {
    "duration": 5,
    "start_time": "2025-03-14T15:44:56.209Z"
   },
   {
    "duration": 4,
    "start_time": "2025-03-14T15:44:56.216Z"
   },
   {
    "duration": 5,
    "start_time": "2025-03-14T15:44:56.222Z"
   },
   {
    "duration": 4,
    "start_time": "2025-03-14T15:44:56.228Z"
   },
   {
    "duration": 6,
    "start_time": "2025-03-14T15:44:56.233Z"
   },
   {
    "duration": 4,
    "start_time": "2025-03-14T15:44:56.240Z"
   },
   {
    "duration": 9,
    "start_time": "2025-03-14T15:44:56.245Z"
   },
   {
    "duration": 3,
    "start_time": "2025-03-14T15:44:56.255Z"
   },
   {
    "duration": 54,
    "start_time": "2025-03-14T15:44:56.260Z"
   },
   {
    "duration": 4,
    "start_time": "2025-03-14T15:44:56.316Z"
   },
   {
    "duration": 4,
    "start_time": "2025-03-14T15:44:56.321Z"
   },
   {
    "duration": 8,
    "start_time": "2025-03-14T15:44:56.327Z"
   },
   {
    "duration": 3,
    "start_time": "2025-03-14T15:44:56.336Z"
   },
   {
    "duration": 22,
    "start_time": "2025-03-14T15:44:56.341Z"
   },
   {
    "duration": 52,
    "start_time": "2025-03-14T15:44:56.365Z"
   },
   {
    "duration": 11,
    "start_time": "2025-03-14T15:44:56.419Z"
   },
   {
    "duration": 8,
    "start_time": "2025-03-14T15:44:56.431Z"
   },
   {
    "duration": 12,
    "start_time": "2025-03-14T15:44:56.441Z"
   },
   {
    "duration": 5,
    "start_time": "2025-03-14T15:44:56.456Z"
   },
   {
    "duration": 12,
    "start_time": "2025-03-14T15:44:56.463Z"
   },
   {
    "duration": 15,
    "start_time": "2025-03-14T15:44:56.508Z"
   },
   {
    "duration": 4,
    "start_time": "2025-03-14T15:44:56.525Z"
   },
   {
    "duration": 178,
    "start_time": "2025-03-14T15:44:56.531Z"
   },
   {
    "duration": 170,
    "start_time": "2025-03-14T15:44:56.712Z"
   },
   {
    "duration": 3,
    "start_time": "2025-03-14T15:44:56.884Z"
   },
   {
    "duration": 46,
    "start_time": "2025-03-14T15:44:56.889Z"
   },
   {
    "duration": 4,
    "start_time": "2025-03-14T15:44:56.937Z"
   },
   {
    "duration": 12,
    "start_time": "2025-03-14T15:44:56.942Z"
   },
   {
    "duration": 76,
    "start_time": "2025-03-14T15:44:56.956Z"
   },
   {
    "duration": 30,
    "start_time": "2025-03-14T15:44:57.034Z"
   },
   {
    "duration": 15,
    "start_time": "2025-03-14T15:44:57.066Z"
   },
   {
    "duration": 155,
    "start_time": "2025-03-14T15:44:57.083Z"
   },
   {
    "duration": 8,
    "start_time": "2025-03-14T15:44:57.240Z"
   },
   {
    "duration": 3,
    "start_time": "2025-03-14T15:44:57.250Z"
   },
   {
    "duration": 9,
    "start_time": "2025-03-14T15:44:57.255Z"
   },
   {
    "duration": 3,
    "start_time": "2025-03-14T15:44:57.266Z"
   },
   {
    "duration": 3,
    "start_time": "2025-03-14T15:44:57.272Z"
   },
   {
    "duration": 903,
    "start_time": "2025-03-14T15:44:57.277Z"
   },
   {
    "duration": 0,
    "start_time": "2025-03-14T15:44:58.182Z"
   },
   {
    "duration": 0,
    "start_time": "2025-03-14T15:44:58.183Z"
   },
   {
    "duration": 0,
    "start_time": "2025-03-14T15:44:58.184Z"
   },
   {
    "duration": 0,
    "start_time": "2025-03-14T15:44:58.186Z"
   },
   {
    "duration": 13,
    "start_time": "2025-03-14T15:45:50.318Z"
   },
   {
    "duration": 3,
    "start_time": "2025-03-14T15:46:10.515Z"
   },
   {
    "duration": 10,
    "start_time": "2025-03-14T17:09:22.882Z"
   },
   {
    "duration": 142,
    "start_time": "2025-03-14T17:14:42.854Z"
   },
   {
    "duration": 879,
    "start_time": "2025-03-14T17:14:53.898Z"
   },
   {
    "duration": 357,
    "start_time": "2025-03-14T17:14:54.779Z"
   },
   {
    "duration": 8,
    "start_time": "2025-03-14T17:14:55.138Z"
   },
   {
    "duration": 8,
    "start_time": "2025-03-14T17:14:55.149Z"
   },
   {
    "duration": 14,
    "start_time": "2025-03-14T17:14:55.159Z"
   },
   {
    "duration": 6,
    "start_time": "2025-03-14T17:14:55.176Z"
   },
   {
    "duration": 62,
    "start_time": "2025-03-14T17:14:55.184Z"
   },
   {
    "duration": 8,
    "start_time": "2025-03-14T17:14:55.248Z"
   },
   {
    "duration": 8,
    "start_time": "2025-03-14T17:14:55.258Z"
   },
   {
    "duration": 6,
    "start_time": "2025-03-14T17:14:55.270Z"
   },
   {
    "duration": 32,
    "start_time": "2025-03-14T17:14:55.277Z"
   },
   {
    "duration": 4,
    "start_time": "2025-03-14T17:14:55.311Z"
   },
   {
    "duration": 4,
    "start_time": "2025-03-14T17:14:55.316Z"
   },
   {
    "duration": 5,
    "start_time": "2025-03-14T17:14:55.323Z"
   },
   {
    "duration": 4,
    "start_time": "2025-03-14T17:14:55.329Z"
   },
   {
    "duration": 8,
    "start_time": "2025-03-14T17:14:55.334Z"
   },
   {
    "duration": 3,
    "start_time": "2025-03-14T17:14:55.343Z"
   },
   {
    "duration": 8,
    "start_time": "2025-03-14T17:14:55.348Z"
   },
   {
    "duration": 4,
    "start_time": "2025-03-14T17:14:55.358Z"
   },
   {
    "duration": 4,
    "start_time": "2025-03-14T17:14:55.363Z"
   },
   {
    "duration": 10,
    "start_time": "2025-03-14T17:14:55.409Z"
   },
   {
    "duration": 3,
    "start_time": "2025-03-14T17:14:55.421Z"
   },
   {
    "duration": 25,
    "start_time": "2025-03-14T17:14:55.426Z"
   },
   {
    "duration": 21,
    "start_time": "2025-03-14T17:14:55.453Z"
   },
   {
    "duration": 39,
    "start_time": "2025-03-14T17:14:55.476Z"
   },
   {
    "duration": 8,
    "start_time": "2025-03-14T17:14:55.517Z"
   },
   {
    "duration": 12,
    "start_time": "2025-03-14T17:14:55.527Z"
   },
   {
    "duration": 4,
    "start_time": "2025-03-14T17:14:55.543Z"
   },
   {
    "duration": 12,
    "start_time": "2025-03-14T17:14:55.549Z"
   },
   {
    "duration": 47,
    "start_time": "2025-03-14T17:14:55.562Z"
   },
   {
    "duration": 5,
    "start_time": "2025-03-14T17:14:55.610Z"
   },
   {
    "duration": 168,
    "start_time": "2025-03-14T17:14:55.617Z"
   },
   {
    "duration": 169,
    "start_time": "2025-03-14T17:14:55.787Z"
   },
   {
    "duration": 5,
    "start_time": "2025-03-14T17:14:55.959Z"
   },
   {
    "duration": 46,
    "start_time": "2025-03-14T17:14:55.966Z"
   },
   {
    "duration": 3,
    "start_time": "2025-03-14T17:14:56.014Z"
   },
   {
    "duration": 13,
    "start_time": "2025-03-14T17:14:56.019Z"
   },
   {
    "duration": 4,
    "start_time": "2025-03-14T17:14:56.034Z"
   },
   {
    "duration": 84,
    "start_time": "2025-03-14T17:14:56.040Z"
   },
   {
    "duration": 31,
    "start_time": "2025-03-14T17:14:56.126Z"
   },
   {
    "duration": 15,
    "start_time": "2025-03-14T17:14:56.159Z"
   },
   {
    "duration": 141,
    "start_time": "2025-03-14T17:14:56.176Z"
   },
   {
    "duration": 9,
    "start_time": "2025-03-14T17:14:56.319Z"
   },
   {
    "duration": 875,
    "start_time": "2025-03-14T17:14:56.330Z"
   },
   {
    "duration": 0,
    "start_time": "2025-03-14T17:14:57.209Z"
   },
   {
    "duration": 0,
    "start_time": "2025-03-14T17:14:57.210Z"
   },
   {
    "duration": 0,
    "start_time": "2025-03-14T17:14:57.213Z"
   },
   {
    "duration": 0,
    "start_time": "2025-03-14T17:14:57.214Z"
   },
   {
    "duration": 817,
    "start_time": "2025-03-14T17:16:25.609Z"
   },
   {
    "duration": 345,
    "start_time": "2025-03-14T17:16:26.429Z"
   },
   {
    "duration": 9,
    "start_time": "2025-03-14T17:16:26.775Z"
   },
   {
    "duration": 9,
    "start_time": "2025-03-14T17:16:26.786Z"
   },
   {
    "duration": 21,
    "start_time": "2025-03-14T17:16:26.798Z"
   },
   {
    "duration": 6,
    "start_time": "2025-03-14T17:16:26.821Z"
   },
   {
    "duration": 43,
    "start_time": "2025-03-14T17:16:26.829Z"
   },
   {
    "duration": 7,
    "start_time": "2025-03-14T17:16:26.874Z"
   },
   {
    "duration": 32,
    "start_time": "2025-03-14T17:16:26.883Z"
   },
   {
    "duration": 6,
    "start_time": "2025-03-14T17:16:26.917Z"
   },
   {
    "duration": 4,
    "start_time": "2025-03-14T17:16:26.924Z"
   },
   {
    "duration": 4,
    "start_time": "2025-03-14T17:16:26.930Z"
   },
   {
    "duration": 4,
    "start_time": "2025-03-14T17:16:26.935Z"
   },
   {
    "duration": 4,
    "start_time": "2025-03-14T17:16:26.943Z"
   },
   {
    "duration": 4,
    "start_time": "2025-03-14T17:16:26.949Z"
   },
   {
    "duration": 54,
    "start_time": "2025-03-14T17:16:26.955Z"
   },
   {
    "duration": 3,
    "start_time": "2025-03-14T17:16:27.011Z"
   },
   {
    "duration": 8,
    "start_time": "2025-03-14T17:16:27.016Z"
   },
   {
    "duration": 3,
    "start_time": "2025-03-14T17:16:27.026Z"
   },
   {
    "duration": 4,
    "start_time": "2025-03-14T17:16:27.030Z"
   },
   {
    "duration": 9,
    "start_time": "2025-03-14T17:16:27.035Z"
   },
   {
    "duration": 4,
    "start_time": "2025-03-14T17:16:27.045Z"
   },
   {
    "duration": 23,
    "start_time": "2025-03-14T17:16:27.051Z"
   },
   {
    "duration": 55,
    "start_time": "2025-03-14T17:16:27.075Z"
   },
   {
    "duration": 11,
    "start_time": "2025-03-14T17:16:27.132Z"
   },
   {
    "duration": 9,
    "start_time": "2025-03-14T17:16:27.144Z"
   },
   {
    "duration": 13,
    "start_time": "2025-03-14T17:16:27.154Z"
   },
   {
    "duration": 5,
    "start_time": "2025-03-14T17:16:27.170Z"
   },
   {
    "duration": 47,
    "start_time": "2025-03-14T17:16:27.176Z"
   },
   {
    "duration": 14,
    "start_time": "2025-03-14T17:16:27.225Z"
   },
   {
    "duration": 3,
    "start_time": "2025-03-14T17:16:27.242Z"
   },
   {
    "duration": 196,
    "start_time": "2025-03-14T17:16:27.246Z"
   },
   {
    "duration": 181,
    "start_time": "2025-03-14T17:16:27.444Z"
   },
   {
    "duration": 5,
    "start_time": "2025-03-14T17:16:27.627Z"
   },
   {
    "duration": 41,
    "start_time": "2025-03-14T17:16:27.634Z"
   },
   {
    "duration": 3,
    "start_time": "2025-03-14T17:16:27.677Z"
   },
   {
    "duration": 36,
    "start_time": "2025-03-14T17:16:27.682Z"
   },
   {
    "duration": 3,
    "start_time": "2025-03-14T17:16:27.720Z"
   },
   {
    "duration": 62,
    "start_time": "2025-03-14T17:16:27.725Z"
   },
   {
    "duration": 46,
    "start_time": "2025-03-14T17:16:27.789Z"
   },
   {
    "duration": 15,
    "start_time": "2025-03-14T17:16:27.839Z"
   },
   {
    "duration": 132,
    "start_time": "2025-03-14T17:16:27.857Z"
   },
   {
    "duration": 19,
    "start_time": "2025-03-14T17:16:27.991Z"
   },
   {
    "duration": 856,
    "start_time": "2025-03-14T17:16:28.012Z"
   },
   {
    "duration": 0,
    "start_time": "2025-03-14T17:16:28.870Z"
   },
   {
    "duration": 0,
    "start_time": "2025-03-14T17:16:28.870Z"
   },
   {
    "duration": 0,
    "start_time": "2025-03-14T17:16:28.872Z"
   },
   {
    "duration": 0,
    "start_time": "2025-03-14T17:16:28.873Z"
   },
   {
    "duration": 818,
    "start_time": "2025-03-14T17:18:06.092Z"
   },
   {
    "duration": 356,
    "start_time": "2025-03-14T17:18:06.913Z"
   },
   {
    "duration": 18,
    "start_time": "2025-03-14T17:18:07.271Z"
   },
   {
    "duration": 16,
    "start_time": "2025-03-14T17:18:07.292Z"
   },
   {
    "duration": 14,
    "start_time": "2025-03-14T17:18:07.311Z"
   },
   {
    "duration": 7,
    "start_time": "2025-03-14T17:18:07.328Z"
   },
   {
    "duration": 46,
    "start_time": "2025-03-14T17:18:07.336Z"
   },
   {
    "duration": 30,
    "start_time": "2025-03-14T17:18:07.384Z"
   },
   {
    "duration": 9,
    "start_time": "2025-03-14T17:18:07.416Z"
   },
   {
    "duration": 7,
    "start_time": "2025-03-14T17:18:07.428Z"
   },
   {
    "duration": 3,
    "start_time": "2025-03-14T17:18:07.436Z"
   },
   {
    "duration": 4,
    "start_time": "2025-03-14T17:18:07.441Z"
   },
   {
    "duration": 3,
    "start_time": "2025-03-14T17:18:07.447Z"
   },
   {
    "duration": 4,
    "start_time": "2025-03-14T17:18:07.454Z"
   },
   {
    "duration": 4,
    "start_time": "2025-03-14T17:18:07.460Z"
   },
   {
    "duration": 9,
    "start_time": "2025-03-14T17:18:07.509Z"
   },
   {
    "duration": 3,
    "start_time": "2025-03-14T17:18:07.519Z"
   },
   {
    "duration": 8,
    "start_time": "2025-03-14T17:18:07.524Z"
   },
   {
    "duration": 4,
    "start_time": "2025-03-14T17:18:07.533Z"
   },
   {
    "duration": 3,
    "start_time": "2025-03-14T17:18:07.539Z"
   },
   {
    "duration": 9,
    "start_time": "2025-03-14T17:18:07.543Z"
   },
   {
    "duration": 3,
    "start_time": "2025-03-14T17:18:07.554Z"
   },
   {
    "duration": 62,
    "start_time": "2025-03-14T17:18:07.559Z"
   },
   {
    "duration": 21,
    "start_time": "2025-03-14T17:18:07.622Z"
   },
   {
    "duration": 11,
    "start_time": "2025-03-14T17:18:07.644Z"
   },
   {
    "duration": 9,
    "start_time": "2025-03-14T17:18:07.656Z"
   },
   {
    "duration": 13,
    "start_time": "2025-03-14T17:18:07.666Z"
   },
   {
    "duration": 30,
    "start_time": "2025-03-14T17:18:07.681Z"
   },
   {
    "duration": 16,
    "start_time": "2025-03-14T17:18:07.713Z"
   },
   {
    "duration": 17,
    "start_time": "2025-03-14T17:18:07.731Z"
   },
   {
    "duration": 4,
    "start_time": "2025-03-14T17:18:07.750Z"
   },
   {
    "duration": 209,
    "start_time": "2025-03-14T17:18:07.757Z"
   },
   {
    "duration": 164,
    "start_time": "2025-03-14T17:18:07.968Z"
   },
   {
    "duration": 3,
    "start_time": "2025-03-14T17:18:08.134Z"
   },
   {
    "duration": 38,
    "start_time": "2025-03-14T17:18:08.140Z"
   },
   {
    "duration": 3,
    "start_time": "2025-03-14T17:18:08.180Z"
   },
   {
    "duration": 34,
    "start_time": "2025-03-14T17:18:08.185Z"
   },
   {
    "duration": 4,
    "start_time": "2025-03-14T17:18:08.221Z"
   },
   {
    "duration": 11,
    "start_time": "2025-03-14T17:18:08.227Z"
   },
   {
    "duration": 12,
    "start_time": "2025-03-14T17:18:08.240Z"
   },
   {
    "duration": 5,
    "start_time": "2025-03-14T17:18:08.256Z"
   },
   {
    "duration": 49,
    "start_time": "2025-03-14T17:18:08.263Z"
   },
   {
    "duration": 8,
    "start_time": "2025-03-14T17:18:08.314Z"
   },
   {
    "duration": 13,
    "start_time": "2025-03-14T17:18:08.324Z"
   },
   {
    "duration": 3,
    "start_time": "2025-03-14T17:18:08.340Z"
   },
   {
    "duration": 7,
    "start_time": "2025-03-14T17:18:08.345Z"
   },
   {
    "duration": 7,
    "start_time": "2025-03-14T17:18:08.354Z"
   },
   {
    "duration": 8,
    "start_time": "2025-03-14T17:18:08.362Z"
   },
   {
    "duration": 12,
    "start_time": "2025-03-14T17:18:23.864Z"
   },
   {
    "duration": 17,
    "start_time": "2025-03-14T17:27:36.606Z"
   },
   {
    "duration": 17,
    "start_time": "2025-03-14T17:33:04.982Z"
   },
   {
    "duration": 813,
    "start_time": "2025-03-14T17:33:25.984Z"
   },
   {
    "duration": 345,
    "start_time": "2025-03-14T17:33:26.799Z"
   },
   {
    "duration": 9,
    "start_time": "2025-03-14T17:33:27.146Z"
   },
   {
    "duration": 10,
    "start_time": "2025-03-14T17:33:27.158Z"
   },
   {
    "duration": 16,
    "start_time": "2025-03-14T17:33:27.169Z"
   },
   {
    "duration": 31,
    "start_time": "2025-03-14T17:33:27.187Z"
   },
   {
    "duration": 44,
    "start_time": "2025-03-14T17:33:27.220Z"
   },
   {
    "duration": 14,
    "start_time": "2025-03-14T17:33:27.267Z"
   },
   {
    "duration": 25,
    "start_time": "2025-03-14T17:33:27.284Z"
   },
   {
    "duration": 7,
    "start_time": "2025-03-14T17:33:27.313Z"
   },
   {
    "duration": 4,
    "start_time": "2025-03-14T17:33:27.321Z"
   },
   {
    "duration": 4,
    "start_time": "2025-03-14T17:33:27.327Z"
   },
   {
    "duration": 4,
    "start_time": "2025-03-14T17:33:27.333Z"
   },
   {
    "duration": 5,
    "start_time": "2025-03-14T17:33:27.338Z"
   },
   {
    "duration": 4,
    "start_time": "2025-03-14T17:33:27.344Z"
   },
   {
    "duration": 9,
    "start_time": "2025-03-14T17:33:27.349Z"
   },
   {
    "duration": 6,
    "start_time": "2025-03-14T17:33:27.359Z"
   },
   {
    "duration": 47,
    "start_time": "2025-03-14T17:33:27.366Z"
   },
   {
    "duration": 8,
    "start_time": "2025-03-14T17:33:27.415Z"
   },
   {
    "duration": 3,
    "start_time": "2025-03-14T17:33:27.425Z"
   },
   {
    "duration": 8,
    "start_time": "2025-03-14T17:33:27.431Z"
   },
   {
    "duration": 4,
    "start_time": "2025-03-14T17:33:27.440Z"
   },
   {
    "duration": 29,
    "start_time": "2025-03-14T17:33:27.446Z"
   },
   {
    "duration": 24,
    "start_time": "2025-03-14T17:33:27.508Z"
   },
   {
    "duration": 11,
    "start_time": "2025-03-14T17:33:27.534Z"
   },
   {
    "duration": 8,
    "start_time": "2025-03-14T17:33:27.546Z"
   },
   {
    "duration": 14,
    "start_time": "2025-03-14T17:33:27.555Z"
   },
   {
    "duration": 4,
    "start_time": "2025-03-14T17:33:27.573Z"
   },
   {
    "duration": 38,
    "start_time": "2025-03-14T17:33:27.579Z"
   },
   {
    "duration": 15,
    "start_time": "2025-03-14T17:33:27.618Z"
   },
   {
    "duration": 4,
    "start_time": "2025-03-14T17:33:27.635Z"
   },
   {
    "duration": 192,
    "start_time": "2025-03-14T17:33:27.640Z"
   },
   {
    "duration": 171,
    "start_time": "2025-03-14T17:33:27.833Z"
   },
   {
    "duration": 4,
    "start_time": "2025-03-14T17:33:28.006Z"
   },
   {
    "duration": 40,
    "start_time": "2025-03-14T17:33:28.011Z"
   },
   {
    "duration": 4,
    "start_time": "2025-03-14T17:33:28.053Z"
   },
   {
    "duration": 14,
    "start_time": "2025-03-14T17:33:28.059Z"
   },
   {
    "duration": 4,
    "start_time": "2025-03-14T17:33:28.074Z"
   },
   {
    "duration": 40,
    "start_time": "2025-03-14T17:33:28.079Z"
   },
   {
    "duration": 12,
    "start_time": "2025-03-14T17:33:28.121Z"
   },
   {
    "duration": 5,
    "start_time": "2025-03-14T17:33:28.134Z"
   },
   {
    "duration": 21,
    "start_time": "2025-03-14T17:33:28.140Z"
   },
   {
    "duration": 13,
    "start_time": "2025-03-14T17:33:28.162Z"
   },
   {
    "duration": 43,
    "start_time": "2025-03-14T17:33:28.177Z"
   },
   {
    "duration": 3,
    "start_time": "2025-03-14T17:33:28.222Z"
   },
   {
    "duration": 7,
    "start_time": "2025-03-14T17:33:28.227Z"
   },
   {
    "duration": 7,
    "start_time": "2025-03-14T17:33:28.236Z"
   },
   {
    "duration": 5,
    "start_time": "2025-03-14T17:33:28.245Z"
   },
   {
    "duration": 841,
    "start_time": "2025-03-14T17:33:53.347Z"
   },
   {
    "duration": 348,
    "start_time": "2025-03-14T17:33:54.191Z"
   },
   {
    "duration": 9,
    "start_time": "2025-03-14T17:33:54.541Z"
   },
   {
    "duration": 9,
    "start_time": "2025-03-14T17:33:54.551Z"
   },
   {
    "duration": 14,
    "start_time": "2025-03-14T17:33:54.562Z"
   },
   {
    "duration": 7,
    "start_time": "2025-03-14T17:33:54.577Z"
   },
   {
    "duration": 41,
    "start_time": "2025-03-14T17:33:54.610Z"
   },
   {
    "duration": 7,
    "start_time": "2025-03-14T17:33:54.653Z"
   },
   {
    "duration": 8,
    "start_time": "2025-03-14T17:33:54.662Z"
   },
   {
    "duration": 6,
    "start_time": "2025-03-14T17:33:54.672Z"
   },
   {
    "duration": 31,
    "start_time": "2025-03-14T17:33:54.679Z"
   },
   {
    "duration": 5,
    "start_time": "2025-03-14T17:33:54.712Z"
   },
   {
    "duration": 3,
    "start_time": "2025-03-14T17:33:54.718Z"
   },
   {
    "duration": 4,
    "start_time": "2025-03-14T17:33:54.725Z"
   },
   {
    "duration": 4,
    "start_time": "2025-03-14T17:33:54.730Z"
   },
   {
    "duration": 8,
    "start_time": "2025-03-14T17:33:54.735Z"
   },
   {
    "duration": 3,
    "start_time": "2025-03-14T17:33:54.745Z"
   },
   {
    "duration": 7,
    "start_time": "2025-03-14T17:33:54.751Z"
   },
   {
    "duration": 4,
    "start_time": "2025-03-14T17:33:54.759Z"
   },
   {
    "duration": 46,
    "start_time": "2025-03-14T17:33:54.764Z"
   },
   {
    "duration": 8,
    "start_time": "2025-03-14T17:33:54.812Z"
   },
   {
    "duration": 4,
    "start_time": "2025-03-14T17:33:54.822Z"
   },
   {
    "duration": 23,
    "start_time": "2025-03-14T17:33:54.828Z"
   },
   {
    "duration": 21,
    "start_time": "2025-03-14T17:33:54.852Z"
   },
   {
    "duration": 37,
    "start_time": "2025-03-14T17:33:54.875Z"
   },
   {
    "duration": 8,
    "start_time": "2025-03-14T17:33:54.914Z"
   },
   {
    "duration": 12,
    "start_time": "2025-03-14T17:33:54.924Z"
   },
   {
    "duration": 4,
    "start_time": "2025-03-14T17:33:54.938Z"
   },
   {
    "duration": 11,
    "start_time": "2025-03-14T17:33:54.944Z"
   },
   {
    "duration": 16,
    "start_time": "2025-03-14T17:33:54.957Z"
   },
   {
    "duration": 4,
    "start_time": "2025-03-14T17:33:55.008Z"
   },
   {
    "duration": 168,
    "start_time": "2025-03-14T17:33:55.014Z"
   },
   {
    "duration": 157,
    "start_time": "2025-03-14T17:33:55.184Z"
   },
   {
    "duration": 5,
    "start_time": "2025-03-14T17:33:55.344Z"
   },
   {
    "duration": 40,
    "start_time": "2025-03-14T17:33:55.350Z"
   },
   {
    "duration": 16,
    "start_time": "2025-03-14T17:33:55.392Z"
   },
   {
    "duration": 12,
    "start_time": "2025-03-14T17:33:55.411Z"
   },
   {
    "duration": 4,
    "start_time": "2025-03-14T17:33:55.425Z"
   },
   {
    "duration": 12,
    "start_time": "2025-03-14T17:33:55.430Z"
   },
   {
    "duration": 11,
    "start_time": "2025-03-14T17:33:55.444Z"
   },
   {
    "duration": 5,
    "start_time": "2025-03-14T17:33:55.459Z"
   },
   {
    "duration": 54,
    "start_time": "2025-03-14T17:33:55.465Z"
   },
   {
    "duration": 13,
    "start_time": "2025-03-14T17:33:55.521Z"
   },
   {
    "duration": 14,
    "start_time": "2025-03-14T17:33:55.535Z"
   },
   {
    "duration": 3,
    "start_time": "2025-03-14T17:33:55.551Z"
   },
   {
    "duration": 7,
    "start_time": "2025-03-14T17:33:55.556Z"
   },
   {
    "duration": 12,
    "start_time": "2025-03-14T17:33:55.565Z"
   },
   {
    "duration": 35,
    "start_time": "2025-03-14T17:33:55.579Z"
   },
   {
    "duration": 810,
    "start_time": "2025-03-14T17:34:44.011Z"
   },
   {
    "duration": 360,
    "start_time": "2025-03-14T17:34:44.823Z"
   },
   {
    "duration": 8,
    "start_time": "2025-03-14T17:34:45.185Z"
   },
   {
    "duration": 20,
    "start_time": "2025-03-14T17:34:45.195Z"
   },
   {
    "duration": 14,
    "start_time": "2025-03-14T17:34:45.216Z"
   },
   {
    "duration": 7,
    "start_time": "2025-03-14T17:34:45.231Z"
   },
   {
    "duration": 42,
    "start_time": "2025-03-14T17:34:45.240Z"
   },
   {
    "duration": 29,
    "start_time": "2025-03-14T17:34:45.284Z"
   },
   {
    "duration": 8,
    "start_time": "2025-03-14T17:34:45.314Z"
   },
   {
    "duration": 5,
    "start_time": "2025-03-14T17:34:45.325Z"
   },
   {
    "duration": 4,
    "start_time": "2025-03-14T17:34:45.332Z"
   },
   {
    "duration": 5,
    "start_time": "2025-03-14T17:34:45.337Z"
   },
   {
    "duration": 4,
    "start_time": "2025-03-14T17:34:45.343Z"
   },
   {
    "duration": 4,
    "start_time": "2025-03-14T17:34:45.349Z"
   },
   {
    "duration": 4,
    "start_time": "2025-03-14T17:34:45.355Z"
   },
   {
    "duration": 56,
    "start_time": "2025-03-14T17:34:45.360Z"
   },
   {
    "duration": 4,
    "start_time": "2025-03-14T17:34:45.418Z"
   },
   {
    "duration": 8,
    "start_time": "2025-03-14T17:34:45.423Z"
   },
   {
    "duration": 4,
    "start_time": "2025-03-14T17:34:45.433Z"
   },
   {
    "duration": 4,
    "start_time": "2025-03-14T17:34:45.438Z"
   },
   {
    "duration": 8,
    "start_time": "2025-03-14T17:34:45.443Z"
   },
   {
    "duration": 4,
    "start_time": "2025-03-14T17:34:45.453Z"
   },
   {
    "duration": 60,
    "start_time": "2025-03-14T17:34:45.458Z"
   },
   {
    "duration": 21,
    "start_time": "2025-03-14T17:34:45.519Z"
   },
   {
    "duration": 11,
    "start_time": "2025-03-14T17:34:45.542Z"
   },
   {
    "duration": 8,
    "start_time": "2025-03-14T17:34:45.554Z"
   },
   {
    "duration": 13,
    "start_time": "2025-03-14T17:34:45.564Z"
   },
   {
    "duration": 6,
    "start_time": "2025-03-14T17:34:45.609Z"
   },
   {
    "duration": 13,
    "start_time": "2025-03-14T17:34:45.616Z"
   },
   {
    "duration": 14,
    "start_time": "2025-03-14T17:34:45.630Z"
   },
   {
    "duration": 3,
    "start_time": "2025-03-14T17:34:45.645Z"
   },
   {
    "duration": 180,
    "start_time": "2025-03-14T17:34:45.650Z"
   },
   {
    "duration": 162,
    "start_time": "2025-03-14T17:34:45.831Z"
   },
   {
    "duration": 4,
    "start_time": "2025-03-14T17:34:45.995Z"
   },
   {
    "duration": 47,
    "start_time": "2025-03-14T17:34:46.008Z"
   },
   {
    "duration": 4,
    "start_time": "2025-03-14T17:34:46.057Z"
   },
   {
    "duration": 14,
    "start_time": "2025-03-14T17:34:46.063Z"
   },
   {
    "duration": 4,
    "start_time": "2025-03-14T17:34:46.078Z"
   },
   {
    "duration": 11,
    "start_time": "2025-03-14T17:34:46.110Z"
   },
   {
    "duration": 11,
    "start_time": "2025-03-14T17:34:46.123Z"
   },
   {
    "duration": 4,
    "start_time": "2025-03-14T17:34:46.136Z"
   },
   {
    "duration": 20,
    "start_time": "2025-03-14T17:34:46.142Z"
   },
   {
    "duration": 14,
    "start_time": "2025-03-14T17:34:46.163Z"
   },
   {
    "duration": 42,
    "start_time": "2025-03-14T17:34:46.178Z"
   },
   {
    "duration": 3,
    "start_time": "2025-03-14T17:34:46.222Z"
   },
   {
    "duration": 10,
    "start_time": "2025-03-14T17:34:46.227Z"
   },
   {
    "duration": 6,
    "start_time": "2025-03-14T17:34:46.240Z"
   },
   {
    "duration": 6,
    "start_time": "2025-03-14T17:34:46.248Z"
   },
   {
    "duration": 11,
    "start_time": "2025-03-14T17:59:00.844Z"
   },
   {
    "duration": 31,
    "start_time": "2025-03-14T18:07:26.908Z"
   },
   {
    "duration": 36,
    "start_time": "2025-03-14T18:08:18.394Z"
   },
   {
    "duration": 18,
    "start_time": "2025-03-14T18:11:19.905Z"
   },
   {
    "duration": 35,
    "start_time": "2025-03-14T18:11:37.812Z"
   },
   {
    "duration": 11,
    "start_time": "2025-03-14T18:14:56.913Z"
   },
   {
    "duration": 41,
    "start_time": "2025-03-14T18:15:07.173Z"
   },
   {
    "duration": 891,
    "start_time": "2025-03-14T18:15:25.355Z"
   },
   {
    "duration": 377,
    "start_time": "2025-03-14T18:15:26.249Z"
   },
   {
    "duration": 10,
    "start_time": "2025-03-14T18:15:26.628Z"
   },
   {
    "duration": 9,
    "start_time": "2025-03-14T18:15:26.639Z"
   },
   {
    "duration": 14,
    "start_time": "2025-03-14T18:15:26.652Z"
   },
   {
    "duration": 7,
    "start_time": "2025-03-14T18:15:26.668Z"
   },
   {
    "duration": 69,
    "start_time": "2025-03-14T18:15:26.677Z"
   },
   {
    "duration": 7,
    "start_time": "2025-03-14T18:15:26.748Z"
   },
   {
    "duration": 12,
    "start_time": "2025-03-14T18:15:26.757Z"
   },
   {
    "duration": 6,
    "start_time": "2025-03-14T18:15:26.771Z"
   },
   {
    "duration": 4,
    "start_time": "2025-03-14T18:15:26.778Z"
   },
   {
    "duration": 29,
    "start_time": "2025-03-14T18:15:26.784Z"
   },
   {
    "duration": 4,
    "start_time": "2025-03-14T18:15:26.815Z"
   },
   {
    "duration": 5,
    "start_time": "2025-03-14T18:15:26.823Z"
   },
   {
    "duration": 3,
    "start_time": "2025-03-14T18:15:26.830Z"
   },
   {
    "duration": 9,
    "start_time": "2025-03-14T18:15:26.835Z"
   },
   {
    "duration": 6,
    "start_time": "2025-03-14T18:15:26.847Z"
   },
   {
    "duration": 11,
    "start_time": "2025-03-14T18:15:26.854Z"
   },
   {
    "duration": 45,
    "start_time": "2025-03-14T18:15:26.866Z"
   },
   {
    "duration": 4,
    "start_time": "2025-03-14T18:15:26.914Z"
   },
   {
    "duration": 11,
    "start_time": "2025-03-14T18:15:26.920Z"
   },
   {
    "duration": 5,
    "start_time": "2025-03-14T18:15:26.933Z"
   },
   {
    "duration": 36,
    "start_time": "2025-03-14T18:15:26.939Z"
   },
   {
    "duration": 61,
    "start_time": "2025-03-14T18:15:26.977Z"
   },
   {
    "duration": 15,
    "start_time": "2025-03-14T18:15:27.040Z"
   },
   {
    "duration": 9,
    "start_time": "2025-03-14T18:15:27.056Z"
   },
   {
    "duration": 14,
    "start_time": "2025-03-14T18:15:27.067Z"
   },
   {
    "duration": 30,
    "start_time": "2025-03-14T18:15:27.082Z"
   },
   {
    "duration": 16,
    "start_time": "2025-03-14T18:15:27.114Z"
   },
   {
    "duration": 19,
    "start_time": "2025-03-14T18:15:27.132Z"
   },
   {
    "duration": 4,
    "start_time": "2025-03-14T18:15:27.152Z"
   },
   {
    "duration": 210,
    "start_time": "2025-03-14T18:15:27.158Z"
   },
   {
    "duration": 208,
    "start_time": "2025-03-14T18:15:27.370Z"
   },
   {
    "duration": 4,
    "start_time": "2025-03-14T18:15:27.580Z"
   },
   {
    "duration": 56,
    "start_time": "2025-03-14T18:15:27.587Z"
   },
   {
    "duration": 5,
    "start_time": "2025-03-14T18:15:27.645Z"
   },
   {
    "duration": 18,
    "start_time": "2025-03-14T18:15:27.651Z"
   },
   {
    "duration": 5,
    "start_time": "2025-03-14T18:15:27.671Z"
   },
   {
    "duration": 36,
    "start_time": "2025-03-14T18:15:27.678Z"
   },
   {
    "duration": 17,
    "start_time": "2025-03-14T18:15:27.717Z"
   },
   {
    "duration": 7,
    "start_time": "2025-03-14T18:15:27.740Z"
   },
   {
    "duration": 34,
    "start_time": "2025-03-14T18:15:27.748Z"
   },
   {
    "duration": 33,
    "start_time": "2025-03-14T18:15:27.784Z"
   },
   {
    "duration": 15,
    "start_time": "2025-03-14T18:15:27.819Z"
   },
   {
    "duration": 12,
    "start_time": "2025-03-14T18:15:27.835Z"
   },
   {
    "duration": 3,
    "start_time": "2025-03-14T18:15:27.849Z"
   },
   {
    "duration": 8,
    "start_time": "2025-03-14T18:15:27.854Z"
   },
   {
    "duration": 8,
    "start_time": "2025-03-14T18:15:27.864Z"
   },
   {
    "duration": 35,
    "start_time": "2025-03-14T18:15:27.874Z"
   },
   {
    "duration": 13,
    "start_time": "2025-03-14T18:15:27.912Z"
   },
   {
    "duration": 29,
    "start_time": "2025-03-14T18:15:27.927Z"
   },
   {
    "duration": 277,
    "start_time": "2025-03-14T18:17:03.876Z"
   },
   {
    "duration": 12,
    "start_time": "2025-03-14T18:17:09.143Z"
   },
   {
    "duration": 11,
    "start_time": "2025-03-14T18:17:11.002Z"
   },
   {
    "duration": 26,
    "start_time": "2025-03-14T18:17:17.634Z"
   },
   {
    "duration": 880,
    "start_time": "2025-03-14T18:19:30.394Z"
   },
   {
    "duration": 356,
    "start_time": "2025-03-14T18:19:31.276Z"
   },
   {
    "duration": 9,
    "start_time": "2025-03-14T18:19:31.634Z"
   },
   {
    "duration": 9,
    "start_time": "2025-03-14T18:19:31.646Z"
   },
   {
    "duration": 19,
    "start_time": "2025-03-14T18:19:31.656Z"
   },
   {
    "duration": 32,
    "start_time": "2025-03-14T18:19:31.677Z"
   },
   {
    "duration": 66,
    "start_time": "2025-03-14T18:19:31.711Z"
   },
   {
    "duration": 11,
    "start_time": "2025-03-14T18:19:31.779Z"
   },
   {
    "duration": 12,
    "start_time": "2025-03-14T18:19:31.808Z"
   },
   {
    "duration": 6,
    "start_time": "2025-03-14T18:19:31.823Z"
   },
   {
    "duration": 3,
    "start_time": "2025-03-14T18:19:31.831Z"
   },
   {
    "duration": 5,
    "start_time": "2025-03-14T18:19:31.835Z"
   },
   {
    "duration": 3,
    "start_time": "2025-03-14T18:19:31.842Z"
   },
   {
    "duration": 4,
    "start_time": "2025-03-14T18:19:31.847Z"
   },
   {
    "duration": 4,
    "start_time": "2025-03-14T18:19:31.853Z"
   },
   {
    "duration": 53,
    "start_time": "2025-03-14T18:19:31.859Z"
   },
   {
    "duration": 4,
    "start_time": "2025-03-14T18:19:31.914Z"
   },
   {
    "duration": 10,
    "start_time": "2025-03-14T18:19:31.919Z"
   },
   {
    "duration": 4,
    "start_time": "2025-03-14T18:19:31.931Z"
   },
   {
    "duration": 3,
    "start_time": "2025-03-14T18:19:31.937Z"
   },
   {
    "duration": 8,
    "start_time": "2025-03-14T18:19:31.942Z"
   },
   {
    "duration": 5,
    "start_time": "2025-03-14T18:19:31.952Z"
   },
   {
    "duration": 70,
    "start_time": "2025-03-14T18:19:31.959Z"
   },
   {
    "duration": 23,
    "start_time": "2025-03-14T18:19:32.031Z"
   },
   {
    "duration": 11,
    "start_time": "2025-03-14T18:19:32.057Z"
   },
   {
    "duration": 8,
    "start_time": "2025-03-14T18:19:32.070Z"
   },
   {
    "duration": 37,
    "start_time": "2025-03-14T18:19:32.080Z"
   },
   {
    "duration": 6,
    "start_time": "2025-03-14T18:19:32.123Z"
   },
   {
    "duration": 13,
    "start_time": "2025-03-14T18:19:32.131Z"
   },
   {
    "duration": 14,
    "start_time": "2025-03-14T18:19:32.145Z"
   },
   {
    "duration": 4,
    "start_time": "2025-03-14T18:19:32.160Z"
   },
   {
    "duration": 267,
    "start_time": "2025-03-14T18:19:32.165Z"
   },
   {
    "duration": 165,
    "start_time": "2025-03-14T18:19:32.434Z"
   },
   {
    "duration": 9,
    "start_time": "2025-03-14T18:19:32.601Z"
   },
   {
    "duration": 55,
    "start_time": "2025-03-14T18:19:32.612Z"
   },
   {
    "duration": 4,
    "start_time": "2025-03-14T18:19:32.669Z"
   },
   {
    "duration": 13,
    "start_time": "2025-03-14T18:19:32.675Z"
   },
   {
    "duration": 5,
    "start_time": "2025-03-14T18:19:32.709Z"
   },
   {
    "duration": 12,
    "start_time": "2025-03-14T18:19:32.717Z"
   },
   {
    "duration": 13,
    "start_time": "2025-03-14T18:19:32.731Z"
   },
   {
    "duration": 21,
    "start_time": "2025-03-14T18:19:32.746Z"
   },
   {
    "duration": 41,
    "start_time": "2025-03-14T18:19:32.769Z"
   },
   {
    "duration": 13,
    "start_time": "2025-03-14T18:19:32.811Z"
   },
   {
    "duration": 11,
    "start_time": "2025-03-14T18:19:32.826Z"
   },
   {
    "duration": 4,
    "start_time": "2025-03-14T18:19:32.839Z"
   },
   {
    "duration": 9,
    "start_time": "2025-03-14T18:19:32.844Z"
   },
   {
    "duration": 7,
    "start_time": "2025-03-14T18:19:32.854Z"
   },
   {
    "duration": 6,
    "start_time": "2025-03-14T18:19:32.862Z"
   },
   {
    "duration": 17,
    "start_time": "2025-03-14T18:19:32.909Z"
   },
   {
    "duration": 29,
    "start_time": "2025-03-14T18:19:32.929Z"
   },
   {
    "duration": 24,
    "start_time": "2025-03-14T18:19:32.961Z"
   },
   {
    "duration": 17,
    "start_time": "2025-03-14T18:20:20.569Z"
   },
   {
    "duration": 8,
    "start_time": "2025-03-14T18:21:36.091Z"
   },
   {
    "duration": 7,
    "start_time": "2025-03-14T18:24:05.361Z"
   },
   {
    "duration": 12,
    "start_time": "2025-03-14T18:24:57.703Z"
   },
   {
    "duration": 17,
    "start_time": "2025-03-14T18:33:47.691Z"
   },
   {
    "duration": 289,
    "start_time": "2025-03-14T18:39:09.237Z"
   },
   {
    "duration": 14,
    "start_time": "2025-03-14T18:39:50.707Z"
   },
   {
    "duration": 18,
    "start_time": "2025-03-14T18:45:13.768Z"
   },
   {
    "duration": 21,
    "start_time": "2025-03-14T18:45:36.887Z"
   },
   {
    "duration": 13,
    "start_time": "2025-03-14T18:45:51.522Z"
   },
   {
    "duration": 12,
    "start_time": "2025-03-14T18:48:19.876Z"
   },
   {
    "duration": 16,
    "start_time": "2025-03-14T18:49:07.045Z"
   },
   {
    "duration": 16,
    "start_time": "2025-03-14T18:49:22.711Z"
   },
   {
    "duration": 5,
    "start_time": "2025-03-14T18:50:46.076Z"
   },
   {
    "duration": 16,
    "start_time": "2025-03-14T18:51:24.606Z"
   },
   {
    "duration": 13,
    "start_time": "2025-03-14T18:51:40.118Z"
   },
   {
    "duration": 16,
    "start_time": "2025-03-14T18:56:45.286Z"
   },
   {
    "duration": 33,
    "start_time": "2025-03-14T19:00:03.722Z"
   },
   {
    "duration": 29,
    "start_time": "2025-03-14T19:16:10.436Z"
   },
   {
    "duration": 12,
    "start_time": "2025-03-14T19:18:33.857Z"
   },
   {
    "duration": 12,
    "start_time": "2025-03-14T19:21:46.460Z"
   },
   {
    "duration": 895,
    "start_time": "2025-03-14T19:22:07.350Z"
   },
   {
    "duration": 390,
    "start_time": "2025-03-14T19:22:08.249Z"
   },
   {
    "duration": 12,
    "start_time": "2025-03-14T19:22:08.640Z"
   },
   {
    "duration": 9,
    "start_time": "2025-03-14T19:22:08.656Z"
   },
   {
    "duration": 13,
    "start_time": "2025-03-14T19:22:08.668Z"
   },
   {
    "duration": 26,
    "start_time": "2025-03-14T19:22:08.682Z"
   },
   {
    "duration": 58,
    "start_time": "2025-03-14T19:22:08.710Z"
   },
   {
    "duration": 9,
    "start_time": "2025-03-14T19:22:08.771Z"
   },
   {
    "duration": 8,
    "start_time": "2025-03-14T19:22:08.782Z"
   },
   {
    "duration": 7,
    "start_time": "2025-03-14T19:22:08.809Z"
   },
   {
    "duration": 4,
    "start_time": "2025-03-14T19:22:08.818Z"
   },
   {
    "duration": 6,
    "start_time": "2025-03-14T19:22:08.824Z"
   },
   {
    "duration": 9,
    "start_time": "2025-03-14T19:22:08.831Z"
   },
   {
    "duration": 8,
    "start_time": "2025-03-14T19:22:08.842Z"
   },
   {
    "duration": 4,
    "start_time": "2025-03-14T19:22:08.852Z"
   },
   {
    "duration": 11,
    "start_time": "2025-03-14T19:22:08.861Z"
   },
   {
    "duration": 4,
    "start_time": "2025-03-14T19:22:08.875Z"
   },
   {
    "duration": 11,
    "start_time": "2025-03-14T19:22:08.909Z"
   },
   {
    "duration": 4,
    "start_time": "2025-03-14T19:22:08.923Z"
   },
   {
    "duration": 3,
    "start_time": "2025-03-14T19:22:08.930Z"
   },
   {
    "duration": 10,
    "start_time": "2025-03-14T19:22:08.936Z"
   },
   {
    "duration": 4,
    "start_time": "2025-03-14T19:22:08.948Z"
   },
   {
    "duration": 55,
    "start_time": "2025-03-14T19:22:08.955Z"
   },
   {
    "duration": 31,
    "start_time": "2025-03-14T19:22:09.012Z"
   },
   {
    "duration": 12,
    "start_time": "2025-03-14T19:22:09.045Z"
   },
   {
    "duration": 9,
    "start_time": "2025-03-14T19:22:09.059Z"
   },
   {
    "duration": 12,
    "start_time": "2025-03-14T19:22:09.069Z"
   },
   {
    "duration": 5,
    "start_time": "2025-03-14T19:22:09.110Z"
   },
   {
    "duration": 15,
    "start_time": "2025-03-14T19:22:09.117Z"
   },
   {
    "duration": 20,
    "start_time": "2025-03-14T19:22:09.134Z"
   },
   {
    "duration": 4,
    "start_time": "2025-03-14T19:22:09.156Z"
   },
   {
    "duration": 223,
    "start_time": "2025-03-14T19:22:09.161Z"
   },
   {
    "duration": 213,
    "start_time": "2025-03-14T19:22:09.386Z"
   },
   {
    "duration": 3,
    "start_time": "2025-03-14T19:22:09.601Z"
   },
   {
    "duration": 59,
    "start_time": "2025-03-14T19:22:09.611Z"
   },
   {
    "duration": 3,
    "start_time": "2025-03-14T19:22:09.672Z"
   },
   {
    "duration": 12,
    "start_time": "2025-03-14T19:22:09.677Z"
   },
   {
    "duration": 3,
    "start_time": "2025-03-14T19:22:09.710Z"
   },
   {
    "duration": 24,
    "start_time": "2025-03-14T19:22:09.715Z"
   },
   {
    "duration": 19,
    "start_time": "2025-03-14T19:22:09.741Z"
   },
   {
    "duration": 24,
    "start_time": "2025-03-14T19:22:09.763Z"
   },
   {
    "duration": 32,
    "start_time": "2025-03-14T19:22:09.789Z"
   },
   {
    "duration": 15,
    "start_time": "2025-03-14T19:22:09.823Z"
   },
   {
    "duration": 16,
    "start_time": "2025-03-14T19:22:09.842Z"
   },
   {
    "duration": 4,
    "start_time": "2025-03-14T19:22:09.859Z"
   },
   {
    "duration": 8,
    "start_time": "2025-03-14T19:22:09.865Z"
   },
   {
    "duration": 6,
    "start_time": "2025-03-14T19:22:09.875Z"
   },
   {
    "duration": 7,
    "start_time": "2025-03-14T19:22:09.908Z"
   },
   {
    "duration": 22,
    "start_time": "2025-03-14T19:22:09.917Z"
   },
   {
    "duration": 12,
    "start_time": "2025-03-14T19:22:09.943Z"
   },
   {
    "duration": 10,
    "start_time": "2025-03-14T19:22:09.957Z"
   },
   {
    "duration": 367,
    "start_time": "2025-03-14T19:22:09.969Z"
   },
   {
    "duration": 0,
    "start_time": "2025-03-14T19:22:10.339Z"
   },
   {
    "duration": 0,
    "start_time": "2025-03-14T19:22:10.340Z"
   },
   {
    "duration": 0,
    "start_time": "2025-03-14T19:22:10.341Z"
   },
   {
    "duration": 12,
    "start_time": "2025-03-14T19:27:04.793Z"
   },
   {
    "duration": 13,
    "start_time": "2025-03-14T19:29:51.384Z"
   },
   {
    "duration": 18,
    "start_time": "2025-03-14T19:38:58.278Z"
   },
   {
    "duration": 14,
    "start_time": "2025-03-14T19:39:46.332Z"
   },
   {
    "duration": 6,
    "start_time": "2025-03-14T19:41:17.038Z"
   },
   {
    "duration": 1093,
    "start_time": "2025-03-14T19:41:28.247Z"
   },
   {
    "duration": 489,
    "start_time": "2025-03-14T19:41:29.345Z"
   },
   {
    "duration": 14,
    "start_time": "2025-03-14T19:41:29.836Z"
   },
   {
    "duration": 12,
    "start_time": "2025-03-14T19:41:29.852Z"
   },
   {
    "duration": 18,
    "start_time": "2025-03-14T19:41:29.868Z"
   },
   {
    "duration": 9,
    "start_time": "2025-03-14T19:41:29.889Z"
   },
   {
    "duration": 62,
    "start_time": "2025-03-14T19:41:29.909Z"
   },
   {
    "duration": 11,
    "start_time": "2025-03-14T19:41:29.974Z"
   },
   {
    "duration": 12,
    "start_time": "2025-03-14T19:41:29.989Z"
   },
   {
    "duration": 7,
    "start_time": "2025-03-14T19:41:30.010Z"
   },
   {
    "duration": 4,
    "start_time": "2025-03-14T19:41:30.020Z"
   },
   {
    "duration": 5,
    "start_time": "2025-03-14T19:41:30.026Z"
   },
   {
    "duration": 4,
    "start_time": "2025-03-14T19:41:30.033Z"
   },
   {
    "duration": 6,
    "start_time": "2025-03-14T19:41:30.042Z"
   },
   {
    "duration": 4,
    "start_time": "2025-03-14T19:41:30.050Z"
   },
   {
    "duration": 10,
    "start_time": "2025-03-14T19:41:30.055Z"
   },
   {
    "duration": 5,
    "start_time": "2025-03-14T19:41:30.109Z"
   },
   {
    "duration": 11,
    "start_time": "2025-03-14T19:41:30.116Z"
   },
   {
    "duration": 4,
    "start_time": "2025-03-14T19:41:30.129Z"
   },
   {
    "duration": 4,
    "start_time": "2025-03-14T19:41:30.135Z"
   },
   {
    "duration": 9,
    "start_time": "2025-03-14T19:41:30.141Z"
   },
   {
    "duration": 4,
    "start_time": "2025-03-14T19:41:30.152Z"
   },
   {
    "duration": 77,
    "start_time": "2025-03-14T19:41:30.158Z"
   },
   {
    "duration": 31,
    "start_time": "2025-03-14T19:41:30.237Z"
   },
   {
    "duration": 16,
    "start_time": "2025-03-14T19:41:30.270Z"
   },
   {
    "duration": 31,
    "start_time": "2025-03-14T19:41:30.288Z"
   },
   {
    "duration": 18,
    "start_time": "2025-03-14T19:41:30.322Z"
   },
   {
    "duration": 6,
    "start_time": "2025-03-14T19:41:30.343Z"
   },
   {
    "duration": 17,
    "start_time": "2025-03-14T19:41:30.351Z"
   },
   {
    "duration": 40,
    "start_time": "2025-03-14T19:41:30.370Z"
   },
   {
    "duration": 5,
    "start_time": "2025-03-14T19:41:30.412Z"
   },
   {
    "duration": 215,
    "start_time": "2025-03-14T19:41:30.419Z"
   },
   {
    "duration": 162,
    "start_time": "2025-03-14T19:41:30.636Z"
   },
   {
    "duration": 12,
    "start_time": "2025-03-14T19:41:30.800Z"
   },
   {
    "duration": 58,
    "start_time": "2025-03-14T19:41:30.814Z"
   },
   {
    "duration": 4,
    "start_time": "2025-03-14T19:41:30.874Z"
   },
   {
    "duration": 30,
    "start_time": "2025-03-14T19:41:30.879Z"
   },
   {
    "duration": 7,
    "start_time": "2025-03-14T19:41:30.910Z"
   },
   {
    "duration": 4,
    "start_time": "2025-03-14T19:41:30.919Z"
   },
   {
    "duration": 12,
    "start_time": "2025-03-14T19:41:30.925Z"
   },
   {
    "duration": 11,
    "start_time": "2025-03-14T19:41:30.942Z"
   },
   {
    "duration": 55,
    "start_time": "2025-03-14T19:41:30.955Z"
   },
   {
    "duration": 15,
    "start_time": "2025-03-14T19:41:31.012Z"
   },
   {
    "duration": 14,
    "start_time": "2025-03-14T19:41:31.029Z"
   },
   {
    "duration": 14,
    "start_time": "2025-03-14T19:41:31.045Z"
   },
   {
    "duration": 4,
    "start_time": "2025-03-14T19:41:31.061Z"
   },
   {
    "duration": 10,
    "start_time": "2025-03-14T19:41:31.067Z"
   },
   {
    "duration": 35,
    "start_time": "2025-03-14T19:41:31.079Z"
   },
   {
    "duration": 7,
    "start_time": "2025-03-14T19:41:31.116Z"
   },
   {
    "duration": 5,
    "start_time": "2025-03-14T19:41:31.125Z"
   },
   {
    "duration": 12,
    "start_time": "2025-03-14T19:41:31.132Z"
   },
   {
    "duration": 407,
    "start_time": "2025-03-14T19:41:31.145Z"
   },
   {
    "duration": 31,
    "start_time": "2025-03-14T19:43:32.275Z"
   },
   {
    "duration": 774,
    "start_time": "2025-03-14T19:45:07.476Z"
   },
   {
    "duration": 77,
    "start_time": "2025-03-14T19:45:51.439Z"
   },
   {
    "duration": 62,
    "start_time": "2025-03-14T19:46:00.237Z"
   },
   {
    "duration": 33,
    "start_time": "2025-03-14T19:47:16.023Z"
   },
   {
    "duration": 14,
    "start_time": "2025-03-14T19:53:39.783Z"
   },
   {
    "duration": 5,
    "start_time": "2025-03-14T19:53:48.482Z"
   },
   {
    "duration": 70,
    "start_time": "2025-03-14T20:17:55.195Z"
   },
   {
    "duration": 95,
    "start_time": "2025-03-14T20:18:04.963Z"
   },
   {
    "duration": 4,
    "start_time": "2025-03-14T23:05:07.588Z"
   },
   {
    "duration": 4,
    "start_time": "2025-03-14T23:05:31.267Z"
   },
   {
    "duration": 4,
    "start_time": "2025-03-14T23:15:23.681Z"
   },
   {
    "duration": 834,
    "start_time": "2025-03-14T23:15:33.376Z"
   },
   {
    "duration": 345,
    "start_time": "2025-03-14T23:15:34.213Z"
   },
   {
    "duration": 10,
    "start_time": "2025-03-14T23:15:34.559Z"
   },
   {
    "duration": 9,
    "start_time": "2025-03-14T23:15:34.570Z"
   },
   {
    "duration": 27,
    "start_time": "2025-03-14T23:15:34.582Z"
   },
   {
    "duration": 6,
    "start_time": "2025-03-14T23:15:34.610Z"
   },
   {
    "duration": 7,
    "start_time": "2025-03-14T23:15:34.618Z"
   },
   {
    "duration": 43,
    "start_time": "2025-03-14T23:15:34.627Z"
   },
   {
    "duration": 10,
    "start_time": "2025-03-14T23:15:34.672Z"
   },
   {
    "duration": 11,
    "start_time": "2025-03-14T23:15:34.708Z"
   },
   {
    "duration": 7,
    "start_time": "2025-03-14T23:15:34.721Z"
   },
   {
    "duration": 3,
    "start_time": "2025-03-14T23:15:34.730Z"
   },
   {
    "duration": 4,
    "start_time": "2025-03-14T23:15:34.735Z"
   },
   {
    "duration": 4,
    "start_time": "2025-03-14T23:15:34.742Z"
   },
   {
    "duration": 6,
    "start_time": "2025-03-14T23:15:34.748Z"
   },
   {
    "duration": 4,
    "start_time": "2025-03-14T23:15:34.755Z"
   },
   {
    "duration": 50,
    "start_time": "2025-03-14T23:15:34.761Z"
   },
   {
    "duration": 3,
    "start_time": "2025-03-14T23:15:34.813Z"
   },
   {
    "duration": 8,
    "start_time": "2025-03-14T23:15:34.818Z"
   },
   {
    "duration": 3,
    "start_time": "2025-03-14T23:15:34.828Z"
   },
   {
    "duration": 3,
    "start_time": "2025-03-14T23:15:34.833Z"
   },
   {
    "duration": 8,
    "start_time": "2025-03-14T23:15:34.838Z"
   },
   {
    "duration": 4,
    "start_time": "2025-03-14T23:15:34.847Z"
   },
   {
    "duration": 58,
    "start_time": "2025-03-14T23:15:34.852Z"
   },
   {
    "duration": 21,
    "start_time": "2025-03-14T23:15:34.912Z"
   },
   {
    "duration": 12,
    "start_time": "2025-03-14T23:15:34.935Z"
   },
   {
    "duration": 9,
    "start_time": "2025-03-14T23:15:34.948Z"
   },
   {
    "duration": 13,
    "start_time": "2025-03-14T23:15:34.959Z"
   },
   {
    "duration": 5,
    "start_time": "2025-03-14T23:15:34.973Z"
   },
   {
    "duration": 41,
    "start_time": "2025-03-14T23:15:34.980Z"
   },
   {
    "duration": 14,
    "start_time": "2025-03-14T23:15:35.023Z"
   },
   {
    "duration": 4,
    "start_time": "2025-03-14T23:15:35.038Z"
   },
   {
    "duration": 191,
    "start_time": "2025-03-14T23:15:35.043Z"
   },
   {
    "duration": 162,
    "start_time": "2025-03-14T23:15:35.235Z"
   },
   {
    "duration": 11,
    "start_time": "2025-03-14T23:15:35.399Z"
   },
   {
    "duration": 20,
    "start_time": "2025-03-14T23:15:35.412Z"
   },
   {
    "duration": 60,
    "start_time": "2025-03-14T23:15:35.433Z"
   },
   {
    "duration": 39,
    "start_time": "2025-03-14T23:15:35.509Z"
   },
   {
    "duration": 3,
    "start_time": "2025-03-14T23:15:35.550Z"
   },
   {
    "duration": 9,
    "start_time": "2025-03-14T23:15:35.555Z"
   },
   {
    "duration": 6,
    "start_time": "2025-03-14T23:15:35.570Z"
   },
   {
    "duration": 32,
    "start_time": "2025-03-14T23:15:35.577Z"
   },
   {
    "duration": 12,
    "start_time": "2025-03-14T23:15:35.611Z"
   },
   {
    "duration": 12,
    "start_time": "2025-03-14T23:15:35.625Z"
   },
   {
    "duration": 20,
    "start_time": "2025-03-14T23:15:35.639Z"
   },
   {
    "duration": 12,
    "start_time": "2025-03-14T23:15:35.661Z"
   },
   {
    "duration": 40,
    "start_time": "2025-03-14T23:15:35.674Z"
   },
   {
    "duration": 5,
    "start_time": "2025-03-14T23:15:35.715Z"
   },
   {
    "duration": 8,
    "start_time": "2025-03-14T23:15:35.722Z"
   },
   {
    "duration": 7,
    "start_time": "2025-03-14T23:15:35.731Z"
   },
   {
    "duration": 5,
    "start_time": "2025-03-14T23:15:35.740Z"
   },
   {
    "duration": 16,
    "start_time": "2025-03-14T23:15:35.747Z"
   },
   {
    "duration": 44,
    "start_time": "2025-03-14T23:15:35.765Z"
   },
   {
    "duration": 678,
    "start_time": "2025-03-14T23:18:42.777Z"
   },
   {
    "duration": 805,
    "start_time": "2025-03-14T23:19:04.405Z"
   },
   {
    "duration": 344,
    "start_time": "2025-03-14T23:19:05.213Z"
   },
   {
    "duration": 10,
    "start_time": "2025-03-14T23:19:05.558Z"
   },
   {
    "duration": 8,
    "start_time": "2025-03-14T23:19:05.571Z"
   },
   {
    "duration": 30,
    "start_time": "2025-03-14T23:19:05.580Z"
   },
   {
    "duration": 6,
    "start_time": "2025-03-14T23:19:05.612Z"
   },
   {
    "duration": 7,
    "start_time": "2025-03-14T23:19:05.619Z"
   },
   {
    "duration": 41,
    "start_time": "2025-03-14T23:19:05.628Z"
   },
   {
    "duration": 720,
    "start_time": "2025-03-14T23:19:05.670Z"
   },
   {
    "duration": 0,
    "start_time": "2025-03-14T23:19:06.393Z"
   },
   {
    "duration": 0,
    "start_time": "2025-03-14T23:19:06.395Z"
   },
   {
    "duration": 0,
    "start_time": "2025-03-14T23:19:06.396Z"
   },
   {
    "duration": 0,
    "start_time": "2025-03-14T23:19:06.397Z"
   },
   {
    "duration": 0,
    "start_time": "2025-03-14T23:19:06.399Z"
   },
   {
    "duration": 0,
    "start_time": "2025-03-14T23:19:06.408Z"
   },
   {
    "duration": 0,
    "start_time": "2025-03-14T23:19:06.409Z"
   },
   {
    "duration": 0,
    "start_time": "2025-03-14T23:19:06.411Z"
   },
   {
    "duration": 0,
    "start_time": "2025-03-14T23:19:06.412Z"
   },
   {
    "duration": 0,
    "start_time": "2025-03-14T23:19:06.413Z"
   },
   {
    "duration": 0,
    "start_time": "2025-03-14T23:19:06.414Z"
   },
   {
    "duration": 0,
    "start_time": "2025-03-14T23:19:06.415Z"
   },
   {
    "duration": 0,
    "start_time": "2025-03-14T23:19:06.416Z"
   },
   {
    "duration": 0,
    "start_time": "2025-03-14T23:19:06.417Z"
   },
   {
    "duration": 0,
    "start_time": "2025-03-14T23:19:06.418Z"
   },
   {
    "duration": 0,
    "start_time": "2025-03-14T23:19:06.419Z"
   },
   {
    "duration": 0,
    "start_time": "2025-03-14T23:19:06.421Z"
   },
   {
    "duration": 0,
    "start_time": "2025-03-14T23:19:06.422Z"
   },
   {
    "duration": 0,
    "start_time": "2025-03-14T23:19:06.423Z"
   },
   {
    "duration": 0,
    "start_time": "2025-03-14T23:19:06.424Z"
   },
   {
    "duration": 0,
    "start_time": "2025-03-14T23:19:06.425Z"
   },
   {
    "duration": 0,
    "start_time": "2025-03-14T23:19:06.426Z"
   },
   {
    "duration": 0,
    "start_time": "2025-03-14T23:19:06.427Z"
   },
   {
    "duration": 0,
    "start_time": "2025-03-14T23:19:06.428Z"
   },
   {
    "duration": 0,
    "start_time": "2025-03-14T23:19:06.429Z"
   },
   {
    "duration": 0,
    "start_time": "2025-03-14T23:19:06.431Z"
   },
   {
    "duration": 0,
    "start_time": "2025-03-14T23:19:06.432Z"
   },
   {
    "duration": 0,
    "start_time": "2025-03-14T23:19:06.434Z"
   },
   {
    "duration": 0,
    "start_time": "2025-03-14T23:19:06.436Z"
   },
   {
    "duration": 0,
    "start_time": "2025-03-14T23:19:06.438Z"
   },
   {
    "duration": 0,
    "start_time": "2025-03-14T23:19:06.439Z"
   },
   {
    "duration": 0,
    "start_time": "2025-03-14T23:19:06.440Z"
   },
   {
    "duration": 0,
    "start_time": "2025-03-14T23:19:06.442Z"
   },
   {
    "duration": 0,
    "start_time": "2025-03-14T23:19:06.443Z"
   },
   {
    "duration": 0,
    "start_time": "2025-03-14T23:19:06.444Z"
   },
   {
    "duration": 0,
    "start_time": "2025-03-14T23:19:06.446Z"
   },
   {
    "duration": 0,
    "start_time": "2025-03-14T23:19:06.447Z"
   },
   {
    "duration": 0,
    "start_time": "2025-03-14T23:19:06.509Z"
   },
   {
    "duration": 0,
    "start_time": "2025-03-14T23:19:06.511Z"
   },
   {
    "duration": 0,
    "start_time": "2025-03-14T23:19:06.512Z"
   },
   {
    "duration": 0,
    "start_time": "2025-03-14T23:19:06.514Z"
   },
   {
    "duration": 0,
    "start_time": "2025-03-14T23:19:06.515Z"
   },
   {
    "duration": 0,
    "start_time": "2025-03-14T23:19:06.516Z"
   },
   {
    "duration": 0,
    "start_time": "2025-03-14T23:19:06.518Z"
   },
   {
    "duration": 0,
    "start_time": "2025-03-14T23:19:06.519Z"
   },
   {
    "duration": 870,
    "start_time": "2025-03-14T23:19:32.246Z"
   },
   {
    "duration": 411,
    "start_time": "2025-03-14T23:19:33.119Z"
   },
   {
    "duration": 10,
    "start_time": "2025-03-14T23:19:33.531Z"
   },
   {
    "duration": 8,
    "start_time": "2025-03-14T23:19:33.543Z"
   },
   {
    "duration": 15,
    "start_time": "2025-03-14T23:19:33.554Z"
   },
   {
    "duration": 9,
    "start_time": "2025-03-14T23:19:33.572Z"
   },
   {
    "duration": 31,
    "start_time": "2025-03-14T23:19:33.583Z"
   },
   {
    "duration": 52,
    "start_time": "2025-03-14T23:19:33.617Z"
   },
   {
    "duration": 92,
    "start_time": "2025-03-14T23:19:33.670Z"
   },
   {
    "duration": 7,
    "start_time": "2025-03-14T23:19:33.764Z"
   },
   {
    "duration": 9,
    "start_time": "2025-03-14T23:19:33.773Z"
   },
   {
    "duration": 25,
    "start_time": "2025-03-14T23:19:33.784Z"
   },
   {
    "duration": 4,
    "start_time": "2025-03-14T23:19:33.811Z"
   },
   {
    "duration": 8,
    "start_time": "2025-03-14T23:19:33.819Z"
   },
   {
    "duration": 4,
    "start_time": "2025-03-14T23:19:33.829Z"
   },
   {
    "duration": 5,
    "start_time": "2025-03-14T23:19:33.835Z"
   },
   {
    "duration": 3,
    "start_time": "2025-03-14T23:19:33.841Z"
   },
   {
    "duration": 8,
    "start_time": "2025-03-14T23:19:33.846Z"
   },
   {
    "duration": 3,
    "start_time": "2025-03-14T23:19:33.855Z"
   },
   {
    "duration": 49,
    "start_time": "2025-03-14T23:19:33.860Z"
   },
   {
    "duration": 5,
    "start_time": "2025-03-14T23:19:33.911Z"
   },
   {
    "duration": 4,
    "start_time": "2025-03-14T23:19:33.917Z"
   },
   {
    "duration": 8,
    "start_time": "2025-03-14T23:19:33.923Z"
   },
   {
    "duration": 4,
    "start_time": "2025-03-14T23:19:33.933Z"
   },
   {
    "duration": 22,
    "start_time": "2025-03-14T23:19:33.938Z"
   },
   {
    "duration": 59,
    "start_time": "2025-03-14T23:19:33.961Z"
   },
   {
    "duration": 10,
    "start_time": "2025-03-14T23:19:34.022Z"
   },
   {
    "duration": 8,
    "start_time": "2025-03-14T23:19:34.034Z"
   },
   {
    "duration": 13,
    "start_time": "2025-03-14T23:19:34.043Z"
   },
   {
    "duration": 4,
    "start_time": "2025-03-14T23:19:34.058Z"
   },
   {
    "duration": 12,
    "start_time": "2025-03-14T23:19:34.064Z"
   },
   {
    "duration": 44,
    "start_time": "2025-03-14T23:19:34.077Z"
   },
   {
    "duration": 3,
    "start_time": "2025-03-14T23:19:34.123Z"
   },
   {
    "duration": 181,
    "start_time": "2025-03-14T23:19:34.128Z"
   },
   {
    "duration": 170,
    "start_time": "2025-03-14T23:19:34.311Z"
   },
   {
    "duration": 4,
    "start_time": "2025-03-14T23:19:34.483Z"
   },
   {
    "duration": 28,
    "start_time": "2025-03-14T23:19:34.488Z"
   },
   {
    "duration": 61,
    "start_time": "2025-03-14T23:19:34.518Z"
   },
   {
    "duration": 49,
    "start_time": "2025-03-14T23:19:34.581Z"
   },
   {
    "duration": 3,
    "start_time": "2025-03-14T23:19:34.632Z"
   },
   {
    "duration": 9,
    "start_time": "2025-03-14T23:19:34.640Z"
   },
   {
    "duration": 7,
    "start_time": "2025-03-14T23:19:34.651Z"
   },
   {
    "duration": 4,
    "start_time": "2025-03-14T23:19:34.659Z"
   },
   {
    "duration": 48,
    "start_time": "2025-03-14T23:19:34.665Z"
   },
   {
    "duration": 11,
    "start_time": "2025-03-14T23:19:34.715Z"
   },
   {
    "duration": 21,
    "start_time": "2025-03-14T23:19:34.728Z"
   },
   {
    "duration": 11,
    "start_time": "2025-03-14T23:19:34.751Z"
   },
   {
    "duration": 12,
    "start_time": "2025-03-14T23:19:34.764Z"
   },
   {
    "duration": 3,
    "start_time": "2025-03-14T23:19:34.778Z"
   },
   {
    "duration": 34,
    "start_time": "2025-03-14T23:19:34.782Z"
   },
   {
    "duration": 7,
    "start_time": "2025-03-14T23:19:34.817Z"
   },
   {
    "duration": 6,
    "start_time": "2025-03-14T23:19:34.826Z"
   },
   {
    "duration": 13,
    "start_time": "2025-03-14T23:19:34.834Z"
   },
   {
    "duration": 5,
    "start_time": "2025-03-14T23:19:34.849Z"
   },
   {
    "duration": 6,
    "start_time": "2025-03-14T23:20:12.771Z"
   },
   {
    "duration": 59,
    "start_time": "2025-03-14T23:20:20.175Z"
   },
   {
    "duration": 19,
    "start_time": "2025-03-14T23:20:49.999Z"
   },
   {
    "duration": 700,
    "start_time": "2025-03-14T23:21:19.435Z"
   },
   {
    "duration": 41,
    "start_time": "2025-03-14T23:21:38.206Z"
   },
   {
    "duration": 15,
    "start_time": "2025-03-14T23:21:56.570Z"
   },
   {
    "duration": 42,
    "start_time": "2025-03-14T23:22:16.082Z"
   },
   {
    "duration": 19,
    "start_time": "2025-03-14T23:22:32.956Z"
   },
   {
    "duration": 2817,
    "start_time": "2025-03-15T13:58:12.300Z"
   },
   {
    "duration": 443,
    "start_time": "2025-03-15T13:58:15.120Z"
   },
   {
    "duration": 9,
    "start_time": "2025-03-15T13:58:15.565Z"
   },
   {
    "duration": 8,
    "start_time": "2025-03-15T13:58:15.577Z"
   },
   {
    "duration": 13,
    "start_time": "2025-03-15T13:58:15.587Z"
   },
   {
    "duration": 7,
    "start_time": "2025-03-15T13:58:15.601Z"
   },
   {
    "duration": 67,
    "start_time": "2025-03-15T13:58:15.610Z"
   },
   {
    "duration": 11,
    "start_time": "2025-03-15T13:58:15.679Z"
   },
   {
    "duration": 9,
    "start_time": "2025-03-15T13:58:15.692Z"
   },
   {
    "duration": 6,
    "start_time": "2025-03-15T13:58:15.704Z"
   },
   {
    "duration": 5,
    "start_time": "2025-03-15T13:58:15.712Z"
   },
   {
    "duration": 5,
    "start_time": "2025-03-15T13:58:15.720Z"
   },
   {
    "duration": 44,
    "start_time": "2025-03-15T13:58:15.727Z"
   },
   {
    "duration": 9,
    "start_time": "2025-03-15T13:58:15.772Z"
   },
   {
    "duration": 4,
    "start_time": "2025-03-15T13:58:15.783Z"
   },
   {
    "duration": 9,
    "start_time": "2025-03-15T13:58:15.789Z"
   },
   {
    "duration": 4,
    "start_time": "2025-03-15T13:58:15.799Z"
   },
   {
    "duration": 8,
    "start_time": "2025-03-15T13:58:15.805Z"
   },
   {
    "duration": 6,
    "start_time": "2025-03-15T13:58:15.820Z"
   },
   {
    "duration": 4,
    "start_time": "2025-03-15T13:58:15.829Z"
   },
   {
    "duration": 41,
    "start_time": "2025-03-15T13:58:15.834Z"
   },
   {
    "duration": 6,
    "start_time": "2025-03-15T13:58:15.877Z"
   },
   {
    "duration": 32,
    "start_time": "2025-03-15T13:58:15.884Z"
   },
   {
    "duration": 24,
    "start_time": "2025-03-15T13:58:15.919Z"
   },
   {
    "duration": 30,
    "start_time": "2025-03-15T13:58:15.945Z"
   },
   {
    "duration": 11,
    "start_time": "2025-03-15T13:58:15.979Z"
   },
   {
    "duration": 16,
    "start_time": "2025-03-15T13:58:15.992Z"
   },
   {
    "duration": 6,
    "start_time": "2025-03-15T13:58:16.015Z"
   },
   {
    "duration": 16,
    "start_time": "2025-03-15T13:58:16.024Z"
   },
   {
    "duration": 42,
    "start_time": "2025-03-15T13:58:16.041Z"
   },
   {
    "duration": 3,
    "start_time": "2025-03-15T13:58:16.085Z"
   },
   {
    "duration": 193,
    "start_time": "2025-03-15T13:58:16.091Z"
   },
   {
    "duration": 244,
    "start_time": "2025-03-15T13:58:16.285Z"
   },
   {
    "duration": 4,
    "start_time": "2025-03-15T13:58:16.532Z"
   },
   {
    "duration": 42,
    "start_time": "2025-03-15T13:58:16.538Z"
   },
   {
    "duration": 90,
    "start_time": "2025-03-15T13:58:16.582Z"
   },
   {
    "duration": 58,
    "start_time": "2025-03-15T13:58:16.674Z"
   },
   {
    "duration": 4,
    "start_time": "2025-03-15T13:58:16.734Z"
   },
   {
    "duration": 10,
    "start_time": "2025-03-15T13:58:16.739Z"
   },
   {
    "duration": 13,
    "start_time": "2025-03-15T13:58:16.769Z"
   },
   {
    "duration": 4,
    "start_time": "2025-03-15T13:58:16.784Z"
   },
   {
    "duration": 12,
    "start_time": "2025-03-15T13:58:16.790Z"
   },
   {
    "duration": 15,
    "start_time": "2025-03-15T13:58:16.804Z"
   },
   {
    "duration": 54,
    "start_time": "2025-03-15T13:58:16.822Z"
   },
   {
    "duration": 16,
    "start_time": "2025-03-15T13:58:16.879Z"
   },
   {
    "duration": 16,
    "start_time": "2025-03-15T13:58:16.898Z"
   },
   {
    "duration": 6,
    "start_time": "2025-03-15T13:58:16.917Z"
   },
   {
    "duration": 10,
    "start_time": "2025-03-15T13:58:16.925Z"
   },
   {
    "duration": 35,
    "start_time": "2025-03-15T13:58:16.937Z"
   },
   {
    "duration": 10,
    "start_time": "2025-03-15T13:58:16.974Z"
   },
   {
    "duration": 19,
    "start_time": "2025-03-15T13:58:16.985Z"
   },
   {
    "duration": 8,
    "start_time": "2025-03-15T13:58:17.006Z"
   },
   {
    "duration": 860,
    "start_time": "2025-03-15T14:11:08.482Z"
   },
   {
    "duration": 362,
    "start_time": "2025-03-15T14:11:09.344Z"
   },
   {
    "duration": 9,
    "start_time": "2025-03-15T14:11:09.708Z"
   },
   {
    "duration": 10,
    "start_time": "2025-03-15T14:11:09.719Z"
   },
   {
    "duration": 17,
    "start_time": "2025-03-15T14:11:09.730Z"
   },
   {
    "duration": 24,
    "start_time": "2025-03-15T14:11:09.749Z"
   },
   {
    "duration": 44,
    "start_time": "2025-03-15T14:11:09.775Z"
   },
   {
    "duration": 7,
    "start_time": "2025-03-15T14:11:09.821Z"
   },
   {
    "duration": 8,
    "start_time": "2025-03-15T14:11:09.830Z"
   },
   {
    "duration": 32,
    "start_time": "2025-03-15T14:11:09.842Z"
   },
   {
    "duration": 4,
    "start_time": "2025-03-15T14:11:09.876Z"
   },
   {
    "duration": 4,
    "start_time": "2025-03-15T14:11:09.881Z"
   },
   {
    "duration": 4,
    "start_time": "2025-03-15T14:11:09.887Z"
   },
   {
    "duration": 5,
    "start_time": "2025-03-15T14:11:09.892Z"
   },
   {
    "duration": 4,
    "start_time": "2025-03-15T14:11:09.898Z"
   },
   {
    "duration": 9,
    "start_time": "2025-03-15T14:11:09.903Z"
   },
   {
    "duration": 3,
    "start_time": "2025-03-15T14:11:09.913Z"
   },
   {
    "duration": 9,
    "start_time": "2025-03-15T14:11:09.917Z"
   },
   {
    "duration": 43,
    "start_time": "2025-03-15T14:11:09.927Z"
   },
   {
    "duration": 4,
    "start_time": "2025-03-15T14:11:09.972Z"
   },
   {
    "duration": 9,
    "start_time": "2025-03-15T14:11:09.977Z"
   },
   {
    "duration": 3,
    "start_time": "2025-03-15T14:11:09.989Z"
   },
   {
    "duration": 31,
    "start_time": "2025-03-15T14:11:09.994Z"
   },
   {
    "duration": 50,
    "start_time": "2025-03-15T14:11:10.027Z"
   },
   {
    "duration": 12,
    "start_time": "2025-03-15T14:11:10.080Z"
   },
   {
    "duration": 8,
    "start_time": "2025-03-15T14:11:10.094Z"
   },
   {
    "duration": 14,
    "start_time": "2025-03-15T14:11:10.104Z"
   },
   {
    "duration": 5,
    "start_time": "2025-03-15T14:11:10.122Z"
   },
   {
    "duration": 15,
    "start_time": "2025-03-15T14:11:10.128Z"
   },
   {
    "duration": 15,
    "start_time": "2025-03-15T14:11:10.171Z"
   },
   {
    "duration": 4,
    "start_time": "2025-03-15T14:11:10.187Z"
   },
   {
    "duration": 185,
    "start_time": "2025-03-15T14:11:10.193Z"
   },
   {
    "duration": 174,
    "start_time": "2025-03-15T14:11:10.382Z"
   },
   {
    "duration": 5,
    "start_time": "2025-03-15T14:11:10.558Z"
   },
   {
    "duration": 39,
    "start_time": "2025-03-15T14:11:10.570Z"
   },
   {
    "duration": 3,
    "start_time": "2025-03-15T14:11:10.611Z"
   },
   {
    "duration": 285,
    "start_time": "2025-03-15T14:11:10.616Z"
   },
   {
    "duration": 0,
    "start_time": "2025-03-15T14:11:10.903Z"
   },
   {
    "duration": 0,
    "start_time": "2025-03-15T14:11:10.904Z"
   },
   {
    "duration": 0,
    "start_time": "2025-03-15T14:11:10.905Z"
   },
   {
    "duration": 0,
    "start_time": "2025-03-15T14:11:10.906Z"
   },
   {
    "duration": 0,
    "start_time": "2025-03-15T14:11:10.907Z"
   },
   {
    "duration": 0,
    "start_time": "2025-03-15T14:11:10.908Z"
   },
   {
    "duration": 0,
    "start_time": "2025-03-15T14:11:10.909Z"
   },
   {
    "duration": 0,
    "start_time": "2025-03-15T14:11:10.910Z"
   },
   {
    "duration": 0,
    "start_time": "2025-03-15T14:11:10.911Z"
   },
   {
    "duration": 0,
    "start_time": "2025-03-15T14:11:10.913Z"
   },
   {
    "duration": 822,
    "start_time": "2025-03-15T14:12:25.310Z"
   },
   {
    "duration": 357,
    "start_time": "2025-03-15T14:12:26.135Z"
   },
   {
    "duration": 8,
    "start_time": "2025-03-15T14:12:26.495Z"
   },
   {
    "duration": 9,
    "start_time": "2025-03-15T14:12:26.506Z"
   },
   {
    "duration": 14,
    "start_time": "2025-03-15T14:12:26.516Z"
   },
   {
    "duration": 11,
    "start_time": "2025-03-15T14:12:26.537Z"
   },
   {
    "duration": 55,
    "start_time": "2025-03-15T14:12:26.551Z"
   },
   {
    "duration": 9,
    "start_time": "2025-03-15T14:12:26.607Z"
   },
   {
    "duration": 9,
    "start_time": "2025-03-15T14:12:26.618Z"
   },
   {
    "duration": 6,
    "start_time": "2025-03-15T14:12:26.629Z"
   },
   {
    "duration": 34,
    "start_time": "2025-03-15T14:12:26.636Z"
   },
   {
    "duration": 5,
    "start_time": "2025-03-15T14:12:26.672Z"
   },
   {
    "duration": 4,
    "start_time": "2025-03-15T14:12:26.679Z"
   },
   {
    "duration": 5,
    "start_time": "2025-03-15T14:12:26.685Z"
   },
   {
    "duration": 4,
    "start_time": "2025-03-15T14:12:26.691Z"
   },
   {
    "duration": 8,
    "start_time": "2025-03-15T14:12:26.697Z"
   },
   {
    "duration": 3,
    "start_time": "2025-03-15T14:12:26.706Z"
   },
   {
    "duration": 9,
    "start_time": "2025-03-15T14:12:26.711Z"
   },
   {
    "duration": 3,
    "start_time": "2025-03-15T14:12:26.722Z"
   },
   {
    "duration": 45,
    "start_time": "2025-03-15T14:12:26.726Z"
   },
   {
    "duration": 9,
    "start_time": "2025-03-15T14:12:26.773Z"
   },
   {
    "duration": 6,
    "start_time": "2025-03-15T14:12:26.783Z"
   },
   {
    "duration": 21,
    "start_time": "2025-03-15T14:12:26.790Z"
   },
   {
    "duration": 21,
    "start_time": "2025-03-15T14:12:26.813Z"
   },
   {
    "duration": 37,
    "start_time": "2025-03-15T14:12:26.835Z"
   },
   {
    "duration": 9,
    "start_time": "2025-03-15T14:12:26.874Z"
   },
   {
    "duration": 12,
    "start_time": "2025-03-15T14:12:26.885Z"
   },
   {
    "duration": 5,
    "start_time": "2025-03-15T14:12:26.900Z"
   },
   {
    "duration": 13,
    "start_time": "2025-03-15T14:12:26.906Z"
   },
   {
    "duration": 14,
    "start_time": "2025-03-15T14:12:26.920Z"
   },
   {
    "duration": 3,
    "start_time": "2025-03-15T14:12:26.935Z"
   },
   {
    "duration": 160,
    "start_time": "2025-03-15T14:12:26.971Z"
   },
   {
    "duration": 173,
    "start_time": "2025-03-15T14:12:27.133Z"
   },
   {
    "duration": 4,
    "start_time": "2025-03-15T14:12:27.308Z"
   },
   {
    "duration": 37,
    "start_time": "2025-03-15T14:12:27.314Z"
   },
   {
    "duration": 18,
    "start_time": "2025-03-15T14:12:27.353Z"
   },
   {
    "duration": 62,
    "start_time": "2025-03-15T14:12:27.373Z"
   },
   {
    "duration": 47,
    "start_time": "2025-03-15T14:12:27.437Z"
   },
   {
    "duration": 119,
    "start_time": "2025-03-15T14:12:27.486Z"
   },
   {
    "duration": 32,
    "start_time": "2025-03-15T14:12:27.606Z"
   },
   {
    "duration": 302,
    "start_time": "2025-03-15T14:12:27.639Z"
   },
   {
    "duration": 0,
    "start_time": "2025-03-15T14:12:27.943Z"
   },
   {
    "duration": 0,
    "start_time": "2025-03-15T14:12:27.944Z"
   },
   {
    "duration": 0,
    "start_time": "2025-03-15T14:12:27.945Z"
   },
   {
    "duration": 0,
    "start_time": "2025-03-15T14:12:27.946Z"
   },
   {
    "duration": 0,
    "start_time": "2025-03-15T14:12:27.947Z"
   },
   {
    "duration": 0,
    "start_time": "2025-03-15T14:12:27.949Z"
   },
   {
    "duration": 834,
    "start_time": "2025-03-15T14:12:45.187Z"
   },
   {
    "duration": 344,
    "start_time": "2025-03-15T14:12:46.025Z"
   },
   {
    "duration": 10,
    "start_time": "2025-03-15T14:12:46.372Z"
   },
   {
    "duration": 9,
    "start_time": "2025-03-15T14:12:46.383Z"
   },
   {
    "duration": 14,
    "start_time": "2025-03-15T14:12:46.395Z"
   },
   {
    "duration": 6,
    "start_time": "2025-03-15T14:12:46.412Z"
   },
   {
    "duration": 61,
    "start_time": "2025-03-15T14:12:46.419Z"
   },
   {
    "duration": 8,
    "start_time": "2025-03-15T14:12:46.481Z"
   },
   {
    "duration": 8,
    "start_time": "2025-03-15T14:12:46.491Z"
   },
   {
    "duration": 6,
    "start_time": "2025-03-15T14:12:46.500Z"
   },
   {
    "duration": 4,
    "start_time": "2025-03-15T14:12:46.508Z"
   },
   {
    "duration": 5,
    "start_time": "2025-03-15T14:12:46.513Z"
   },
   {
    "duration": 4,
    "start_time": "2025-03-15T14:12:46.519Z"
   },
   {
    "duration": 45,
    "start_time": "2025-03-15T14:12:46.527Z"
   },
   {
    "duration": 3,
    "start_time": "2025-03-15T14:12:46.574Z"
   },
   {
    "duration": 9,
    "start_time": "2025-03-15T14:12:46.579Z"
   },
   {
    "duration": 4,
    "start_time": "2025-03-15T14:12:46.589Z"
   },
   {
    "duration": 9,
    "start_time": "2025-03-15T14:12:46.594Z"
   },
   {
    "duration": 5,
    "start_time": "2025-03-15T14:12:46.604Z"
   },
   {
    "duration": 4,
    "start_time": "2025-03-15T14:12:46.610Z"
   },
   {
    "duration": 9,
    "start_time": "2025-03-15T14:12:46.615Z"
   },
   {
    "duration": 4,
    "start_time": "2025-03-15T14:12:46.626Z"
   },
   {
    "duration": 24,
    "start_time": "2025-03-15T14:12:46.669Z"
   },
   {
    "duration": 21,
    "start_time": "2025-03-15T14:12:46.695Z"
   },
   {
    "duration": 11,
    "start_time": "2025-03-15T14:12:46.717Z"
   },
   {
    "duration": 8,
    "start_time": "2025-03-15T14:12:46.730Z"
   },
   {
    "duration": 37,
    "start_time": "2025-03-15T14:12:46.740Z"
   },
   {
    "duration": 6,
    "start_time": "2025-03-15T14:12:46.779Z"
   },
   {
    "duration": 12,
    "start_time": "2025-03-15T14:12:46.787Z"
   },
   {
    "duration": 13,
    "start_time": "2025-03-15T14:12:46.800Z"
   },
   {
    "duration": 3,
    "start_time": "2025-03-15T14:12:46.815Z"
   },
   {
    "duration": 188,
    "start_time": "2025-03-15T14:12:46.821Z"
   },
   {
    "duration": 178,
    "start_time": "2025-03-15T14:12:47.011Z"
   },
   {
    "duration": 4,
    "start_time": "2025-03-15T14:12:47.192Z"
   },
   {
    "duration": 41,
    "start_time": "2025-03-15T14:12:47.198Z"
   },
   {
    "duration": 5,
    "start_time": "2025-03-15T14:12:47.241Z"
   },
   {
    "duration": 85,
    "start_time": "2025-03-15T14:12:47.249Z"
   },
   {
    "duration": 38,
    "start_time": "2025-03-15T14:12:47.336Z"
   },
   {
    "duration": 125,
    "start_time": "2025-03-15T14:12:47.376Z"
   },
   {
    "duration": 32,
    "start_time": "2025-03-15T14:12:47.502Z"
   },
   {
    "duration": 45,
    "start_time": "2025-03-15T14:12:47.538Z"
   },
   {
    "duration": 3,
    "start_time": "2025-03-15T14:12:47.585Z"
   },
   {
    "duration": 8,
    "start_time": "2025-03-15T14:12:47.590Z"
   },
   {
    "duration": 7,
    "start_time": "2025-03-15T14:12:47.599Z"
   },
   {
    "duration": 5,
    "start_time": "2025-03-15T14:12:47.608Z"
   },
   {
    "duration": 307,
    "start_time": "2025-03-15T14:12:47.615Z"
   },
   {
    "duration": 0,
    "start_time": "2025-03-15T14:12:47.924Z"
   },
   {
    "duration": 780,
    "start_time": "2025-03-15T14:13:31.270Z"
   },
   {
    "duration": 338,
    "start_time": "2025-03-15T14:13:32.052Z"
   },
   {
    "duration": 9,
    "start_time": "2025-03-15T14:13:32.391Z"
   },
   {
    "duration": 8,
    "start_time": "2025-03-15T14:13:32.403Z"
   },
   {
    "duration": 13,
    "start_time": "2025-03-15T14:13:32.412Z"
   },
   {
    "duration": 6,
    "start_time": "2025-03-15T14:13:32.427Z"
   },
   {
    "duration": 67,
    "start_time": "2025-03-15T14:13:32.435Z"
   },
   {
    "duration": 8,
    "start_time": "2025-03-15T14:13:32.504Z"
   },
   {
    "duration": 9,
    "start_time": "2025-03-15T14:13:32.514Z"
   },
   {
    "duration": 7,
    "start_time": "2025-03-15T14:13:32.526Z"
   },
   {
    "duration": 4,
    "start_time": "2025-03-15T14:13:32.534Z"
   },
   {
    "duration": 32,
    "start_time": "2025-03-15T14:13:32.539Z"
   },
   {
    "duration": 4,
    "start_time": "2025-03-15T14:13:32.573Z"
   },
   {
    "duration": 6,
    "start_time": "2025-03-15T14:13:32.579Z"
   },
   {
    "duration": 8,
    "start_time": "2025-03-15T14:13:32.586Z"
   },
   {
    "duration": 9,
    "start_time": "2025-03-15T14:13:32.596Z"
   },
   {
    "duration": 3,
    "start_time": "2025-03-15T14:13:32.607Z"
   },
   {
    "duration": 9,
    "start_time": "2025-03-15T14:13:32.611Z"
   },
   {
    "duration": 4,
    "start_time": "2025-03-15T14:13:32.622Z"
   },
   {
    "duration": 43,
    "start_time": "2025-03-15T14:13:32.627Z"
   },
   {
    "duration": 8,
    "start_time": "2025-03-15T14:13:32.672Z"
   },
   {
    "duration": 4,
    "start_time": "2025-03-15T14:13:32.682Z"
   },
   {
    "duration": 25,
    "start_time": "2025-03-15T14:13:32.687Z"
   },
   {
    "duration": 20,
    "start_time": "2025-03-15T14:13:32.714Z"
   },
   {
    "duration": 37,
    "start_time": "2025-03-15T14:13:32.736Z"
   },
   {
    "duration": 8,
    "start_time": "2025-03-15T14:13:32.775Z"
   },
   {
    "duration": 13,
    "start_time": "2025-03-15T14:13:32.786Z"
   },
   {
    "duration": 5,
    "start_time": "2025-03-15T14:13:32.803Z"
   },
   {
    "duration": 15,
    "start_time": "2025-03-15T14:13:32.810Z"
   },
   {
    "duration": 14,
    "start_time": "2025-03-15T14:13:32.827Z"
   },
   {
    "duration": 29,
    "start_time": "2025-03-15T14:13:32.842Z"
   },
   {
    "duration": 172,
    "start_time": "2025-03-15T14:13:32.873Z"
   },
   {
    "duration": 161,
    "start_time": "2025-03-15T14:13:33.047Z"
   },
   {
    "duration": 3,
    "start_time": "2025-03-15T14:13:33.210Z"
   },
   {
    "duration": 39,
    "start_time": "2025-03-15T14:13:33.215Z"
   },
   {
    "duration": 4,
    "start_time": "2025-03-15T14:13:33.270Z"
   },
   {
    "duration": 60,
    "start_time": "2025-03-15T14:13:33.275Z"
   },
   {
    "duration": 47,
    "start_time": "2025-03-15T14:13:33.337Z"
   },
   {
    "duration": 124,
    "start_time": "2025-03-15T14:13:33.386Z"
   },
   {
    "duration": 32,
    "start_time": "2025-03-15T14:13:33.511Z"
   },
   {
    "duration": 43,
    "start_time": "2025-03-15T14:13:33.544Z"
   },
   {
    "duration": 4,
    "start_time": "2025-03-15T14:13:33.589Z"
   },
   {
    "duration": 8,
    "start_time": "2025-03-15T14:13:33.595Z"
   },
   {
    "duration": 7,
    "start_time": "2025-03-15T14:13:33.605Z"
   },
   {
    "duration": 6,
    "start_time": "2025-03-15T14:13:33.614Z"
   },
   {
    "duration": 82,
    "start_time": "2025-03-15T14:13:33.622Z"
   },
   {
    "duration": 5,
    "start_time": "2025-03-15T14:13:33.706Z"
   },
   {
    "duration": 38,
    "start_time": "2025-03-15T14:14:02.409Z"
   },
   {
    "duration": 4,
    "start_time": "2025-03-15T14:18:51.578Z"
   },
   {
    "duration": 21,
    "start_time": "2025-03-15T14:19:44.035Z"
   },
   {
    "duration": 4,
    "start_time": "2025-03-15T14:20:41.462Z"
   },
   {
    "duration": 785,
    "start_time": "2025-03-15T14:20:52.546Z"
   },
   {
    "duration": 341,
    "start_time": "2025-03-15T14:20:53.333Z"
   },
   {
    "duration": 8,
    "start_time": "2025-03-15T14:20:53.676Z"
   },
   {
    "duration": 8,
    "start_time": "2025-03-15T14:20:53.686Z"
   },
   {
    "duration": 13,
    "start_time": "2025-03-15T14:20:53.697Z"
   },
   {
    "duration": 6,
    "start_time": "2025-03-15T14:20:53.711Z"
   },
   {
    "duration": 66,
    "start_time": "2025-03-15T14:20:53.719Z"
   },
   {
    "duration": 8,
    "start_time": "2025-03-15T14:20:53.787Z"
   },
   {
    "duration": 8,
    "start_time": "2025-03-15T14:20:53.796Z"
   },
   {
    "duration": 6,
    "start_time": "2025-03-15T14:20:53.808Z"
   },
   {
    "duration": 4,
    "start_time": "2025-03-15T14:20:53.815Z"
   },
   {
    "duration": 4,
    "start_time": "2025-03-15T14:20:53.821Z"
   },
   {
    "duration": 3,
    "start_time": "2025-03-15T14:20:53.827Z"
   },
   {
    "duration": 42,
    "start_time": "2025-03-15T14:20:53.832Z"
   },
   {
    "duration": 4,
    "start_time": "2025-03-15T14:20:53.875Z"
   },
   {
    "duration": 8,
    "start_time": "2025-03-15T14:20:53.881Z"
   },
   {
    "duration": 3,
    "start_time": "2025-03-15T14:20:53.890Z"
   },
   {
    "duration": 7,
    "start_time": "2025-03-15T14:20:53.896Z"
   },
   {
    "duration": 4,
    "start_time": "2025-03-15T14:20:53.905Z"
   },
   {
    "duration": 4,
    "start_time": "2025-03-15T14:20:53.911Z"
   },
   {
    "duration": 9,
    "start_time": "2025-03-15T14:20:53.916Z"
   },
   {
    "duration": 4,
    "start_time": "2025-03-15T14:20:53.926Z"
   },
   {
    "duration": 23,
    "start_time": "2025-03-15T14:20:53.971Z"
   },
   {
    "duration": 21,
    "start_time": "2025-03-15T14:20:53.995Z"
   },
   {
    "duration": 11,
    "start_time": "2025-03-15T14:20:54.018Z"
   },
   {
    "duration": 8,
    "start_time": "2025-03-15T14:20:54.032Z"
   },
   {
    "duration": 37,
    "start_time": "2025-03-15T14:20:54.041Z"
   },
   {
    "duration": 4,
    "start_time": "2025-03-15T14:20:54.082Z"
   },
   {
    "duration": 12,
    "start_time": "2025-03-15T14:20:54.088Z"
   },
   {
    "duration": 13,
    "start_time": "2025-03-15T14:20:54.101Z"
   },
   {
    "duration": 4,
    "start_time": "2025-03-15T14:20:54.116Z"
   },
   {
    "duration": 186,
    "start_time": "2025-03-15T14:20:54.121Z"
   },
   {
    "duration": 156,
    "start_time": "2025-03-15T14:20:54.308Z"
   },
   {
    "duration": 5,
    "start_time": "2025-03-15T14:20:54.466Z"
   },
   {
    "duration": 39,
    "start_time": "2025-03-15T14:20:54.473Z"
   },
   {
    "duration": 3,
    "start_time": "2025-03-15T14:20:54.514Z"
   },
   {
    "duration": 80,
    "start_time": "2025-03-15T14:20:54.518Z"
   },
   {
    "duration": 31,
    "start_time": "2025-03-15T14:20:54.600Z"
   },
   {
    "duration": 125,
    "start_time": "2025-03-15T14:20:54.632Z"
   },
   {
    "duration": 40,
    "start_time": "2025-03-15T14:20:54.759Z"
   },
   {
    "duration": 32,
    "start_time": "2025-03-15T14:20:54.801Z"
   },
   {
    "duration": 4,
    "start_time": "2025-03-15T14:20:54.835Z"
   },
   {
    "duration": 45,
    "start_time": "2025-03-15T14:20:54.841Z"
   },
   {
    "duration": 4,
    "start_time": "2025-03-15T14:20:54.889Z"
   },
   {
    "duration": 5,
    "start_time": "2025-03-15T14:20:54.895Z"
   },
   {
    "duration": 10,
    "start_time": "2025-03-15T14:20:54.902Z"
   },
   {
    "duration": 8,
    "start_time": "2025-03-15T14:20:54.913Z"
   },
   {
    "duration": 6,
    "start_time": "2025-03-15T14:20:54.922Z"
   },
   {
    "duration": 85,
    "start_time": "2025-03-15T14:20:54.930Z"
   },
   {
    "duration": 5,
    "start_time": "2025-03-15T14:20:55.017Z"
   },
   {
    "duration": 3,
    "start_time": "2025-03-15T14:21:29.578Z"
   },
   {
    "duration": 273,
    "start_time": "2025-03-15T14:24:24.086Z"
   },
   {
    "duration": 26,
    "start_time": "2025-03-15T14:24:36.740Z"
   },
   {
    "duration": 19,
    "start_time": "2025-03-15T14:25:44.633Z"
   },
   {
    "duration": 834,
    "start_time": "2025-03-15T14:25:55.402Z"
   },
   {
    "duration": 486,
    "start_time": "2025-03-15T14:25:56.240Z"
   },
   {
    "duration": 9,
    "start_time": "2025-03-15T14:25:56.728Z"
   },
   {
    "duration": 9,
    "start_time": "2025-03-15T14:25:56.739Z"
   },
   {
    "duration": 26,
    "start_time": "2025-03-15T14:25:56.749Z"
   },
   {
    "duration": 12,
    "start_time": "2025-03-15T14:25:56.777Z"
   },
   {
    "duration": 61,
    "start_time": "2025-03-15T14:25:56.792Z"
   },
   {
    "duration": 9,
    "start_time": "2025-03-15T14:25:56.855Z"
   },
   {
    "duration": 11,
    "start_time": "2025-03-15T14:25:56.870Z"
   },
   {
    "duration": 6,
    "start_time": "2025-03-15T14:25:56.884Z"
   },
   {
    "duration": 4,
    "start_time": "2025-03-15T14:25:56.892Z"
   },
   {
    "duration": 4,
    "start_time": "2025-03-15T14:25:56.898Z"
   },
   {
    "duration": 4,
    "start_time": "2025-03-15T14:25:56.904Z"
   },
   {
    "duration": 6,
    "start_time": "2025-03-15T14:25:56.910Z"
   },
   {
    "duration": 4,
    "start_time": "2025-03-15T14:25:56.917Z"
   },
   {
    "duration": 47,
    "start_time": "2025-03-15T14:25:56.923Z"
   },
   {
    "duration": 6,
    "start_time": "2025-03-15T14:25:56.973Z"
   },
   {
    "duration": 12,
    "start_time": "2025-03-15T14:25:56.981Z"
   },
   {
    "duration": 4,
    "start_time": "2025-03-15T14:25:56.995Z"
   },
   {
    "duration": 4,
    "start_time": "2025-03-15T14:25:57.001Z"
   },
   {
    "duration": 8,
    "start_time": "2025-03-15T14:25:57.007Z"
   },
   {
    "duration": 3,
    "start_time": "2025-03-15T14:25:57.017Z"
   },
   {
    "duration": 54,
    "start_time": "2025-03-15T14:25:57.022Z"
   },
   {
    "duration": 29,
    "start_time": "2025-03-15T14:25:57.078Z"
   },
   {
    "duration": 15,
    "start_time": "2025-03-15T14:25:57.109Z"
   },
   {
    "duration": 8,
    "start_time": "2025-03-15T14:25:57.125Z"
   },
   {
    "duration": 35,
    "start_time": "2025-03-15T14:25:57.135Z"
   },
   {
    "duration": 9,
    "start_time": "2025-03-15T14:25:57.175Z"
   },
   {
    "duration": 15,
    "start_time": "2025-03-15T14:25:57.189Z"
   },
   {
    "duration": 18,
    "start_time": "2025-03-15T14:25:57.206Z"
   },
   {
    "duration": 3,
    "start_time": "2025-03-15T14:25:57.226Z"
   },
   {
    "duration": 193,
    "start_time": "2025-03-15T14:25:57.231Z"
   },
   {
    "duration": 172,
    "start_time": "2025-03-15T14:25:57.426Z"
   },
   {
    "duration": 4,
    "start_time": "2025-03-15T14:25:57.600Z"
   },
   {
    "duration": 65,
    "start_time": "2025-03-15T14:25:57.606Z"
   },
   {
    "duration": 3,
    "start_time": "2025-03-15T14:25:57.673Z"
   },
   {
    "duration": 63,
    "start_time": "2025-03-15T14:25:57.677Z"
   },
   {
    "duration": 44,
    "start_time": "2025-03-15T14:25:57.743Z"
   },
   {
    "duration": 128,
    "start_time": "2025-03-15T14:25:57.789Z"
   },
   {
    "duration": 36,
    "start_time": "2025-03-15T14:25:57.918Z"
   },
   {
    "duration": 47,
    "start_time": "2025-03-15T14:25:57.955Z"
   },
   {
    "duration": 4,
    "start_time": "2025-03-15T14:25:58.003Z"
   },
   {
    "duration": 10,
    "start_time": "2025-03-15T14:25:58.009Z"
   },
   {
    "duration": 9,
    "start_time": "2025-03-15T14:25:58.021Z"
   },
   {
    "duration": 7,
    "start_time": "2025-03-15T14:25:58.034Z"
   },
   {
    "duration": 98,
    "start_time": "2025-03-15T14:25:58.043Z"
   },
   {
    "duration": 6,
    "start_time": "2025-03-15T14:25:58.143Z"
   },
   {
    "duration": 17,
    "start_time": "2025-03-15T14:26:24.469Z"
   },
   {
    "duration": 811,
    "start_time": "2025-03-15T14:32:42.912Z"
   },
   {
    "duration": 342,
    "start_time": "2025-03-15T14:32:43.724Z"
   },
   {
    "duration": 9,
    "start_time": "2025-03-15T14:32:44.067Z"
   },
   {
    "duration": 10,
    "start_time": "2025-03-15T14:32:44.079Z"
   },
   {
    "duration": 14,
    "start_time": "2025-03-15T14:32:44.091Z"
   },
   {
    "duration": 7,
    "start_time": "2025-03-15T14:32:44.107Z"
   },
   {
    "duration": 69,
    "start_time": "2025-03-15T14:32:44.115Z"
   },
   {
    "duration": 7,
    "start_time": "2025-03-15T14:32:44.186Z"
   },
   {
    "duration": 8,
    "start_time": "2025-03-15T14:32:44.195Z"
   },
   {
    "duration": 6,
    "start_time": "2025-03-15T14:32:44.206Z"
   },
   {
    "duration": 3,
    "start_time": "2025-03-15T14:32:44.214Z"
   },
   {
    "duration": 5,
    "start_time": "2025-03-15T14:32:44.218Z"
   },
   {
    "duration": 3,
    "start_time": "2025-03-15T14:32:44.225Z"
   },
   {
    "duration": 41,
    "start_time": "2025-03-15T14:32:44.230Z"
   },
   {
    "duration": 4,
    "start_time": "2025-03-15T14:32:44.272Z"
   },
   {
    "duration": 8,
    "start_time": "2025-03-15T14:32:44.277Z"
   },
   {
    "duration": 4,
    "start_time": "2025-03-15T14:32:44.286Z"
   },
   {
    "duration": 8,
    "start_time": "2025-03-15T14:32:44.292Z"
   },
   {
    "duration": 4,
    "start_time": "2025-03-15T14:32:44.302Z"
   },
   {
    "duration": 4,
    "start_time": "2025-03-15T14:32:44.308Z"
   },
   {
    "duration": 8,
    "start_time": "2025-03-15T14:32:44.313Z"
   },
   {
    "duration": 4,
    "start_time": "2025-03-15T14:32:44.322Z"
   },
   {
    "duration": 64,
    "start_time": "2025-03-15T14:32:44.328Z"
   },
   {
    "duration": 20,
    "start_time": "2025-03-15T14:32:44.394Z"
   },
   {
    "duration": 12,
    "start_time": "2025-03-15T14:32:44.415Z"
   },
   {
    "duration": 8,
    "start_time": "2025-03-15T14:32:44.428Z"
   },
   {
    "duration": 32,
    "start_time": "2025-03-15T14:32:44.438Z"
   },
   {
    "duration": 4,
    "start_time": "2025-03-15T14:32:44.474Z"
   },
   {
    "duration": 13,
    "start_time": "2025-03-15T14:32:44.480Z"
   },
   {
    "duration": 13,
    "start_time": "2025-03-15T14:32:44.494Z"
   },
   {
    "duration": 3,
    "start_time": "2025-03-15T14:32:44.509Z"
   },
   {
    "duration": 188,
    "start_time": "2025-03-15T14:32:44.514Z"
   },
   {
    "duration": 158,
    "start_time": "2025-03-15T14:32:44.704Z"
   },
   {
    "duration": 4,
    "start_time": "2025-03-15T14:32:44.869Z"
   },
   {
    "duration": 48,
    "start_time": "2025-03-15T14:32:44.874Z"
   },
   {
    "duration": 3,
    "start_time": "2025-03-15T14:32:44.924Z"
   },
   {
    "duration": 79,
    "start_time": "2025-03-15T14:32:44.929Z"
   },
   {
    "duration": 31,
    "start_time": "2025-03-15T14:32:45.010Z"
   },
   {
    "duration": 130,
    "start_time": "2025-03-15T14:32:45.042Z"
   },
   {
    "duration": 35,
    "start_time": "2025-03-15T14:32:45.174Z"
   },
   {
    "duration": 33,
    "start_time": "2025-03-15T14:32:45.211Z"
   },
   {
    "duration": 3,
    "start_time": "2025-03-15T14:32:45.246Z"
   },
   {
    "duration": 25,
    "start_time": "2025-03-15T14:32:45.251Z"
   },
   {
    "duration": 7,
    "start_time": "2025-03-15T14:32:45.277Z"
   },
   {
    "duration": 5,
    "start_time": "2025-03-15T14:32:45.286Z"
   },
   {
    "duration": 77,
    "start_time": "2025-03-15T14:32:45.293Z"
   },
   {
    "duration": 5,
    "start_time": "2025-03-15T14:32:45.373Z"
   },
   {
    "duration": 25,
    "start_time": "2025-03-15T14:42:12.254Z"
   },
   {
    "duration": 9,
    "start_time": "2025-03-15T14:43:05.045Z"
   },
   {
    "duration": 50,
    "start_time": "2025-03-15T14:50:55.407Z"
   },
   {
    "duration": 14,
    "start_time": "2025-03-15T14:54:41.745Z"
   },
   {
    "duration": 6,
    "start_time": "2025-03-15T14:55:12.906Z"
   },
   {
    "duration": 5,
    "start_time": "2025-03-15T14:55:30.347Z"
   },
   {
    "duration": 812,
    "start_time": "2025-03-15T14:55:36.349Z"
   },
   {
    "duration": 372,
    "start_time": "2025-03-15T14:55:37.164Z"
   },
   {
    "duration": 8,
    "start_time": "2025-03-15T14:55:37.538Z"
   },
   {
    "duration": 9,
    "start_time": "2025-03-15T14:55:37.549Z"
   },
   {
    "duration": 17,
    "start_time": "2025-03-15T14:55:37.559Z"
   },
   {
    "duration": 6,
    "start_time": "2025-03-15T14:55:37.578Z"
   },
   {
    "duration": 44,
    "start_time": "2025-03-15T14:55:37.585Z"
   },
   {
    "duration": 8,
    "start_time": "2025-03-15T14:55:37.631Z"
   },
   {
    "duration": 39,
    "start_time": "2025-03-15T14:55:37.641Z"
   },
   {
    "duration": 7,
    "start_time": "2025-03-15T14:55:37.684Z"
   },
   {
    "duration": 3,
    "start_time": "2025-03-15T14:55:37.693Z"
   },
   {
    "duration": 5,
    "start_time": "2025-03-15T14:55:37.700Z"
   },
   {
    "duration": 3,
    "start_time": "2025-03-15T14:55:37.707Z"
   },
   {
    "duration": 7,
    "start_time": "2025-03-15T14:55:37.714Z"
   },
   {
    "duration": 4,
    "start_time": "2025-03-15T14:55:37.723Z"
   },
   {
    "duration": 45,
    "start_time": "2025-03-15T14:55:37.729Z"
   },
   {
    "duration": 3,
    "start_time": "2025-03-15T14:55:37.776Z"
   },
   {
    "duration": 8,
    "start_time": "2025-03-15T14:55:37.781Z"
   },
   {
    "duration": 3,
    "start_time": "2025-03-15T14:55:37.791Z"
   },
   {
    "duration": 4,
    "start_time": "2025-03-15T14:55:37.795Z"
   },
   {
    "duration": 9,
    "start_time": "2025-03-15T14:55:37.800Z"
   },
   {
    "duration": 4,
    "start_time": "2025-03-15T14:55:37.810Z"
   },
   {
    "duration": 58,
    "start_time": "2025-03-15T14:55:37.816Z"
   },
   {
    "duration": 22,
    "start_time": "2025-03-15T14:55:37.877Z"
   },
   {
    "duration": 12,
    "start_time": "2025-03-15T14:55:37.901Z"
   },
   {
    "duration": 9,
    "start_time": "2025-03-15T14:55:37.914Z"
   },
   {
    "duration": 11,
    "start_time": "2025-03-15T14:55:37.925Z"
   },
   {
    "duration": 30,
    "start_time": "2025-03-15T14:55:37.941Z"
   },
   {
    "duration": 12,
    "start_time": "2025-03-15T14:55:37.973Z"
   },
   {
    "duration": 14,
    "start_time": "2025-03-15T14:55:37.986Z"
   },
   {
    "duration": 3,
    "start_time": "2025-03-15T14:55:38.002Z"
   },
   {
    "duration": 183,
    "start_time": "2025-03-15T14:55:38.007Z"
   },
   {
    "duration": 173,
    "start_time": "2025-03-15T14:55:38.192Z"
   },
   {
    "duration": 3,
    "start_time": "2025-03-15T14:55:38.370Z"
   },
   {
    "duration": 38,
    "start_time": "2025-03-15T14:55:38.375Z"
   },
   {
    "duration": 4,
    "start_time": "2025-03-15T14:55:38.414Z"
   },
   {
    "duration": 81,
    "start_time": "2025-03-15T14:55:38.419Z"
   },
   {
    "duration": 30,
    "start_time": "2025-03-15T14:55:38.502Z"
   },
   {
    "duration": 140,
    "start_time": "2025-03-15T14:55:38.534Z"
   },
   {
    "duration": 32,
    "start_time": "2025-03-15T14:55:38.676Z"
   },
   {
    "duration": 32,
    "start_time": "2025-03-15T14:55:38.710Z"
   },
   {
    "duration": 42,
    "start_time": "2025-03-15T14:55:38.744Z"
   },
   {
    "duration": 4,
    "start_time": "2025-03-15T14:55:38.788Z"
   },
   {
    "duration": 8,
    "start_time": "2025-03-15T14:55:38.793Z"
   },
   {
    "duration": 6,
    "start_time": "2025-03-15T14:55:38.803Z"
   },
   {
    "duration": 7,
    "start_time": "2025-03-15T14:55:38.810Z"
   },
   {
    "duration": 8,
    "start_time": "2025-03-15T14:55:38.818Z"
   },
   {
    "duration": 94,
    "start_time": "2025-03-15T14:55:38.828Z"
   },
   {
    "duration": 265,
    "start_time": "2025-03-15T14:55:38.924Z"
   },
   {
    "duration": 0,
    "start_time": "2025-03-15T14:55:39.191Z"
   },
   {
    "duration": 0,
    "start_time": "2025-03-15T14:55:39.192Z"
   },
   {
    "duration": 771,
    "start_time": "2025-03-15T14:55:54.469Z"
   },
   {
    "duration": 339,
    "start_time": "2025-03-15T14:55:55.242Z"
   },
   {
    "duration": 9,
    "start_time": "2025-03-15T14:55:55.583Z"
   },
   {
    "duration": 8,
    "start_time": "2025-03-15T14:55:55.595Z"
   },
   {
    "duration": 13,
    "start_time": "2025-03-15T14:55:55.605Z"
   },
   {
    "duration": 6,
    "start_time": "2025-03-15T14:55:55.620Z"
   },
   {
    "duration": 69,
    "start_time": "2025-03-15T14:55:55.628Z"
   },
   {
    "duration": 9,
    "start_time": "2025-03-15T14:55:55.698Z"
   },
   {
    "duration": 8,
    "start_time": "2025-03-15T14:55:55.708Z"
   },
   {
    "duration": 5,
    "start_time": "2025-03-15T14:55:55.720Z"
   },
   {
    "duration": 3,
    "start_time": "2025-03-15T14:55:55.727Z"
   },
   {
    "duration": 4,
    "start_time": "2025-03-15T14:55:55.732Z"
   },
   {
    "duration": 32,
    "start_time": "2025-03-15T14:55:55.738Z"
   },
   {
    "duration": 5,
    "start_time": "2025-03-15T14:55:55.772Z"
   },
   {
    "duration": 3,
    "start_time": "2025-03-15T14:55:55.779Z"
   },
   {
    "duration": 7,
    "start_time": "2025-03-15T14:55:55.785Z"
   },
   {
    "duration": 4,
    "start_time": "2025-03-15T14:55:55.794Z"
   },
   {
    "duration": 9,
    "start_time": "2025-03-15T14:55:55.799Z"
   },
   {
    "duration": 4,
    "start_time": "2025-03-15T14:55:55.810Z"
   },
   {
    "duration": 4,
    "start_time": "2025-03-15T14:55:55.816Z"
   },
   {
    "duration": 7,
    "start_time": "2025-03-15T14:55:55.822Z"
   },
   {
    "duration": 42,
    "start_time": "2025-03-15T14:55:55.831Z"
   },
   {
    "duration": 22,
    "start_time": "2025-03-15T14:55:55.875Z"
   },
   {
    "duration": 20,
    "start_time": "2025-03-15T14:55:55.899Z"
   },
   {
    "duration": 11,
    "start_time": "2025-03-15T14:55:55.921Z"
   },
   {
    "duration": 37,
    "start_time": "2025-03-15T14:55:55.933Z"
   },
   {
    "duration": 13,
    "start_time": "2025-03-15T14:55:55.972Z"
   },
   {
    "duration": 4,
    "start_time": "2025-03-15T14:55:55.990Z"
   },
   {
    "duration": 12,
    "start_time": "2025-03-15T14:55:55.996Z"
   },
   {
    "duration": 14,
    "start_time": "2025-03-15T14:55:56.010Z"
   },
   {
    "duration": 3,
    "start_time": "2025-03-15T14:55:56.026Z"
   },
   {
    "duration": 190,
    "start_time": "2025-03-15T14:55:56.031Z"
   },
   {
    "duration": 155,
    "start_time": "2025-03-15T14:55:56.223Z"
   },
   {
    "duration": 4,
    "start_time": "2025-03-15T14:55:56.380Z"
   },
   {
    "duration": 39,
    "start_time": "2025-03-15T14:55:56.386Z"
   },
   {
    "duration": 5,
    "start_time": "2025-03-15T14:55:56.426Z"
   },
   {
    "duration": 85,
    "start_time": "2025-03-15T14:55:56.432Z"
   },
   {
    "duration": 51,
    "start_time": "2025-03-15T14:55:56.519Z"
   },
   {
    "duration": 127,
    "start_time": "2025-03-15T14:55:56.572Z"
   },
   {
    "duration": 31,
    "start_time": "2025-03-15T14:55:56.701Z"
   },
   {
    "duration": 46,
    "start_time": "2025-03-15T14:55:56.734Z"
   },
   {
    "duration": 24,
    "start_time": "2025-03-15T14:55:56.782Z"
   },
   {
    "duration": 4,
    "start_time": "2025-03-15T14:55:56.807Z"
   },
   {
    "duration": 7,
    "start_time": "2025-03-15T14:55:56.813Z"
   },
   {
    "duration": 7,
    "start_time": "2025-03-15T14:55:56.822Z"
   },
   {
    "duration": 5,
    "start_time": "2025-03-15T14:55:56.831Z"
   },
   {
    "duration": 40,
    "start_time": "2025-03-15T14:55:56.838Z"
   },
   {
    "duration": 53,
    "start_time": "2025-03-15T14:55:56.880Z"
   },
   {
    "duration": 7,
    "start_time": "2025-03-15T14:55:56.934Z"
   },
   {
    "duration": 35,
    "start_time": "2025-03-15T14:55:56.943Z"
   },
   {
    "duration": 6,
    "start_time": "2025-03-15T14:55:56.980Z"
   },
   {
    "duration": 53,
    "start_time": "2025-03-15T14:56:10.501Z"
   },
   {
    "duration": 18,
    "start_time": "2025-03-15T14:56:24.559Z"
   },
   {
    "duration": 804,
    "start_time": "2025-03-15T14:57:04.431Z"
   },
   {
    "duration": 347,
    "start_time": "2025-03-15T14:57:05.237Z"
   },
   {
    "duration": 8,
    "start_time": "2025-03-15T14:57:05.586Z"
   },
   {
    "duration": 10,
    "start_time": "2025-03-15T14:57:05.596Z"
   },
   {
    "duration": 13,
    "start_time": "2025-03-15T14:57:05.607Z"
   },
   {
    "duration": 7,
    "start_time": "2025-03-15T14:57:05.621Z"
   },
   {
    "duration": 60,
    "start_time": "2025-03-15T14:57:05.629Z"
   },
   {
    "duration": 8,
    "start_time": "2025-03-15T14:57:05.691Z"
   },
   {
    "duration": 9,
    "start_time": "2025-03-15T14:57:05.700Z"
   },
   {
    "duration": 7,
    "start_time": "2025-03-15T14:57:05.712Z"
   },
   {
    "duration": 3,
    "start_time": "2025-03-15T14:57:05.721Z"
   },
   {
    "duration": 5,
    "start_time": "2025-03-15T14:57:05.726Z"
   },
   {
    "duration": 38,
    "start_time": "2025-03-15T14:57:05.732Z"
   },
   {
    "duration": 5,
    "start_time": "2025-03-15T14:57:05.771Z"
   },
   {
    "duration": 4,
    "start_time": "2025-03-15T14:57:05.779Z"
   },
   {
    "duration": 8,
    "start_time": "2025-03-15T14:57:05.784Z"
   },
   {
    "duration": 4,
    "start_time": "2025-03-15T14:57:05.794Z"
   },
   {
    "duration": 8,
    "start_time": "2025-03-15T14:57:05.799Z"
   },
   {
    "duration": 4,
    "start_time": "2025-03-15T14:57:05.808Z"
   },
   {
    "duration": 4,
    "start_time": "2025-03-15T14:57:05.813Z"
   },
   {
    "duration": 7,
    "start_time": "2025-03-15T14:57:05.821Z"
   },
   {
    "duration": 42,
    "start_time": "2025-03-15T14:57:05.829Z"
   },
   {
    "duration": 22,
    "start_time": "2025-03-15T14:57:05.872Z"
   },
   {
    "duration": 21,
    "start_time": "2025-03-15T14:57:05.896Z"
   },
   {
    "duration": 11,
    "start_time": "2025-03-15T14:57:05.919Z"
   },
   {
    "duration": 8,
    "start_time": "2025-03-15T14:57:05.932Z"
   },
   {
    "duration": 12,
    "start_time": "2025-03-15T14:57:05.969Z"
   },
   {
    "duration": 4,
    "start_time": "2025-03-15T14:57:05.985Z"
   },
   {
    "duration": 12,
    "start_time": "2025-03-15T14:57:05.991Z"
   },
   {
    "duration": 15,
    "start_time": "2025-03-15T14:57:06.005Z"
   },
   {
    "duration": 4,
    "start_time": "2025-03-15T14:57:06.021Z"
   },
   {
    "duration": 181,
    "start_time": "2025-03-15T14:57:06.027Z"
   },
   {
    "duration": 163,
    "start_time": "2025-03-15T14:57:06.210Z"
   },
   {
    "duration": 4,
    "start_time": "2025-03-15T14:57:06.375Z"
   },
   {
    "duration": 39,
    "start_time": "2025-03-15T14:57:06.380Z"
   },
   {
    "duration": 4,
    "start_time": "2025-03-15T14:57:06.421Z"
   },
   {
    "duration": 86,
    "start_time": "2025-03-15T14:57:06.427Z"
   },
   {
    "duration": 38,
    "start_time": "2025-03-15T14:57:06.515Z"
   },
   {
    "duration": 126,
    "start_time": "2025-03-15T14:57:06.562Z"
   },
   {
    "duration": 32,
    "start_time": "2025-03-15T14:57:06.689Z"
   },
   {
    "duration": 29,
    "start_time": "2025-03-15T14:57:06.723Z"
   },
   {
    "duration": 42,
    "start_time": "2025-03-15T14:57:06.754Z"
   },
   {
    "duration": 5,
    "start_time": "2025-03-15T14:57:06.797Z"
   },
   {
    "duration": 7,
    "start_time": "2025-03-15T14:57:06.804Z"
   },
   {
    "duration": 7,
    "start_time": "2025-03-15T14:57:06.812Z"
   },
   {
    "duration": 5,
    "start_time": "2025-03-15T14:57:06.821Z"
   },
   {
    "duration": 8,
    "start_time": "2025-03-15T14:57:06.828Z"
   },
   {
    "duration": 52,
    "start_time": "2025-03-15T14:57:06.872Z"
   },
   {
    "duration": 16,
    "start_time": "2025-03-15T14:57:06.926Z"
   },
   {
    "duration": 6,
    "start_time": "2025-03-15T14:57:06.943Z"
   },
   {
    "duration": 263,
    "start_time": "2025-03-15T14:57:43.883Z"
   },
   {
    "duration": 37,
    "start_time": "2025-03-15T14:58:54.277Z"
   },
   {
    "duration": 27,
    "start_time": "2025-03-15T15:02:44.367Z"
   },
   {
    "duration": 27,
    "start_time": "2025-03-15T15:03:43.310Z"
   },
   {
    "duration": 27,
    "start_time": "2025-03-15T15:04:18.662Z"
   },
   {
    "duration": 993,
    "start_time": "2025-03-15T15:04:58.356Z"
   },
   {
    "duration": 497,
    "start_time": "2025-03-15T15:04:59.352Z"
   },
   {
    "duration": 15,
    "start_time": "2025-03-15T15:04:59.851Z"
   },
   {
    "duration": 10,
    "start_time": "2025-03-15T15:04:59.868Z"
   },
   {
    "duration": 18,
    "start_time": "2025-03-15T15:04:59.880Z"
   },
   {
    "duration": 10,
    "start_time": "2025-03-15T15:04:59.900Z"
   },
   {
    "duration": 88,
    "start_time": "2025-03-15T15:04:59.913Z"
   },
   {
    "duration": 10,
    "start_time": "2025-03-15T15:05:00.003Z"
   },
   {
    "duration": 18,
    "start_time": "2025-03-15T15:05:00.015Z"
   },
   {
    "duration": 7,
    "start_time": "2025-03-15T15:05:00.037Z"
   },
   {
    "duration": 3,
    "start_time": "2025-03-15T15:05:00.045Z"
   },
   {
    "duration": 20,
    "start_time": "2025-03-15T15:05:00.050Z"
   },
   {
    "duration": 4,
    "start_time": "2025-03-15T15:05:00.072Z"
   },
   {
    "duration": 4,
    "start_time": "2025-03-15T15:05:00.078Z"
   },
   {
    "duration": 3,
    "start_time": "2025-03-15T15:05:00.084Z"
   },
   {
    "duration": 8,
    "start_time": "2025-03-15T15:05:00.091Z"
   },
   {
    "duration": 3,
    "start_time": "2025-03-15T15:05:00.101Z"
   },
   {
    "duration": 9,
    "start_time": "2025-03-15T15:05:00.106Z"
   },
   {
    "duration": 4,
    "start_time": "2025-03-15T15:05:00.117Z"
   },
   {
    "duration": 4,
    "start_time": "2025-03-15T15:05:00.122Z"
   },
   {
    "duration": 43,
    "start_time": "2025-03-15T15:05:00.127Z"
   },
   {
    "duration": 3,
    "start_time": "2025-03-15T15:05:00.172Z"
   },
   {
    "duration": 38,
    "start_time": "2025-03-15T15:05:00.177Z"
   },
   {
    "duration": 74,
    "start_time": "2025-03-15T15:05:00.217Z"
   },
   {
    "duration": 14,
    "start_time": "2025-03-15T15:05:00.293Z"
   },
   {
    "duration": 11,
    "start_time": "2025-03-15T15:05:00.309Z"
   },
   {
    "duration": 48,
    "start_time": "2025-03-15T15:05:00.322Z"
   },
   {
    "duration": 4,
    "start_time": "2025-03-15T15:05:00.375Z"
   },
   {
    "duration": 13,
    "start_time": "2025-03-15T15:05:00.381Z"
   },
   {
    "duration": 19,
    "start_time": "2025-03-15T15:05:00.396Z"
   },
   {
    "duration": 3,
    "start_time": "2025-03-15T15:05:00.417Z"
   },
   {
    "duration": 184,
    "start_time": "2025-03-15T15:05:00.422Z"
   },
   {
    "duration": 157,
    "start_time": "2025-03-15T15:05:00.609Z"
   },
   {
    "duration": 4,
    "start_time": "2025-03-15T15:05:00.770Z"
   },
   {
    "duration": 55,
    "start_time": "2025-03-15T15:05:00.776Z"
   },
   {
    "duration": 4,
    "start_time": "2025-03-15T15:05:00.833Z"
   },
   {
    "duration": 113,
    "start_time": "2025-03-15T15:05:00.839Z"
   },
   {
    "duration": 38,
    "start_time": "2025-03-15T15:05:00.954Z"
   },
   {
    "duration": 124,
    "start_time": "2025-03-15T15:05:00.993Z"
   },
   {
    "duration": 32,
    "start_time": "2025-03-15T15:05:01.119Z"
   },
   {
    "duration": 43,
    "start_time": "2025-03-15T15:05:01.153Z"
   },
   {
    "duration": 26,
    "start_time": "2025-03-15T15:05:01.198Z"
   },
   {
    "duration": 3,
    "start_time": "2025-03-15T15:05:01.226Z"
   },
   {
    "duration": 8,
    "start_time": "2025-03-15T15:05:01.231Z"
   },
   {
    "duration": 30,
    "start_time": "2025-03-15T15:05:01.242Z"
   },
   {
    "duration": 6,
    "start_time": "2025-03-15T15:05:01.274Z"
   },
   {
    "duration": 10,
    "start_time": "2025-03-15T15:05:01.282Z"
   },
   {
    "duration": 85,
    "start_time": "2025-03-15T15:05:01.294Z"
   },
   {
    "duration": 20,
    "start_time": "2025-03-15T15:05:01.381Z"
   },
   {
    "duration": 37,
    "start_time": "2025-03-15T15:05:01.403Z"
   },
   {
    "duration": 52,
    "start_time": "2025-03-15T15:05:01.442Z"
   },
   {
    "duration": 29,
    "start_time": "2025-03-15T15:09:22.008Z"
   },
   {
    "duration": 291,
    "start_time": "2025-03-15T15:11:05.084Z"
   },
   {
    "duration": 28,
    "start_time": "2025-03-15T15:12:27.374Z"
   },
   {
    "duration": 27,
    "start_time": "2025-03-15T15:12:51.234Z"
   },
   {
    "duration": 26,
    "start_time": "2025-03-15T15:16:22.344Z"
   },
   {
    "duration": 8,
    "start_time": "2025-03-15T16:01:05.572Z"
   },
   {
    "duration": 34,
    "start_time": "2025-03-15T16:03:13.864Z"
   },
   {
    "duration": 846,
    "start_time": "2025-03-15T16:03:52.598Z"
   },
   {
    "duration": 346,
    "start_time": "2025-03-15T16:03:53.446Z"
   },
   {
    "duration": 8,
    "start_time": "2025-03-15T16:03:53.795Z"
   },
   {
    "duration": 8,
    "start_time": "2025-03-15T16:03:53.805Z"
   },
   {
    "duration": 13,
    "start_time": "2025-03-15T16:03:53.815Z"
   },
   {
    "duration": 6,
    "start_time": "2025-03-15T16:03:53.830Z"
   },
   {
    "duration": 68,
    "start_time": "2025-03-15T16:03:53.838Z"
   },
   {
    "duration": 9,
    "start_time": "2025-03-15T16:03:53.908Z"
   },
   {
    "duration": 9,
    "start_time": "2025-03-15T16:03:53.918Z"
   },
   {
    "duration": 5,
    "start_time": "2025-03-15T16:03:53.930Z"
   },
   {
    "duration": 4,
    "start_time": "2025-03-15T16:03:53.937Z"
   },
   {
    "duration": 29,
    "start_time": "2025-03-15T16:03:53.942Z"
   },
   {
    "duration": 3,
    "start_time": "2025-03-15T16:03:53.973Z"
   },
   {
    "duration": 5,
    "start_time": "2025-03-15T16:03:53.978Z"
   },
   {
    "duration": 4,
    "start_time": "2025-03-15T16:03:53.985Z"
   },
   {
    "duration": 8,
    "start_time": "2025-03-15T16:03:53.991Z"
   },
   {
    "duration": 3,
    "start_time": "2025-03-15T16:03:54.001Z"
   },
   {
    "duration": 8,
    "start_time": "2025-03-15T16:03:54.006Z"
   },
   {
    "duration": 4,
    "start_time": "2025-03-15T16:03:54.016Z"
   },
   {
    "duration": 3,
    "start_time": "2025-03-15T16:03:54.022Z"
   },
   {
    "duration": 48,
    "start_time": "2025-03-15T16:03:54.027Z"
   },
   {
    "duration": 4,
    "start_time": "2025-03-15T16:03:54.076Z"
   },
   {
    "duration": 22,
    "start_time": "2025-03-15T16:03:54.082Z"
   },
   {
    "duration": 21,
    "start_time": "2025-03-15T16:03:54.105Z"
   },
   {
    "duration": 12,
    "start_time": "2025-03-15T16:03:54.127Z"
   },
   {
    "duration": 38,
    "start_time": "2025-03-15T16:03:54.140Z"
   },
   {
    "duration": 13,
    "start_time": "2025-03-15T16:03:54.180Z"
   },
   {
    "duration": 4,
    "start_time": "2025-03-15T16:03:54.198Z"
   },
   {
    "duration": 12,
    "start_time": "2025-03-15T16:03:54.204Z"
   },
   {
    "duration": 14,
    "start_time": "2025-03-15T16:03:54.218Z"
   },
   {
    "duration": 3,
    "start_time": "2025-03-15T16:03:54.234Z"
   },
   {
    "duration": 160,
    "start_time": "2025-03-15T16:03:54.270Z"
   },
   {
    "duration": 156,
    "start_time": "2025-03-15T16:03:54.431Z"
   },
   {
    "duration": 4,
    "start_time": "2025-03-15T16:03:54.588Z"
   },
   {
    "duration": 38,
    "start_time": "2025-03-15T16:03:54.594Z"
   },
   {
    "duration": 4,
    "start_time": "2025-03-15T16:03:54.633Z"
   },
   {
    "duration": 81,
    "start_time": "2025-03-15T16:03:54.638Z"
   },
   {
    "duration": 30,
    "start_time": "2025-03-15T16:03:54.721Z"
   },
   {
    "duration": 130,
    "start_time": "2025-03-15T16:03:54.752Z"
   },
   {
    "duration": 32,
    "start_time": "2025-03-15T16:03:54.884Z"
   },
   {
    "duration": 52,
    "start_time": "2025-03-15T16:03:54.918Z"
   },
   {
    "duration": 31,
    "start_time": "2025-03-15T16:03:54.971Z"
   },
   {
    "duration": 3,
    "start_time": "2025-03-15T16:03:55.004Z"
   },
   {
    "duration": 8,
    "start_time": "2025-03-15T16:03:55.009Z"
   },
   {
    "duration": 6,
    "start_time": "2025-03-15T16:03:55.019Z"
   },
   {
    "duration": 6,
    "start_time": "2025-03-15T16:03:55.027Z"
   },
   {
    "duration": 41,
    "start_time": "2025-03-15T16:03:55.035Z"
   },
   {
    "duration": 6,
    "start_time": "2025-03-15T16:03:55.078Z"
   },
   {
    "duration": 66,
    "start_time": "2025-03-15T16:03:55.085Z"
   },
   {
    "duration": 21,
    "start_time": "2025-03-15T16:03:55.169Z"
   },
   {
    "duration": 32,
    "start_time": "2025-03-15T16:03:55.192Z"
   },
   {
    "duration": 4,
    "start_time": "2025-03-15T16:12:34.605Z"
   },
   {
    "duration": 838,
    "start_time": "2025-03-15T16:16:00.494Z"
   },
   {
    "duration": 359,
    "start_time": "2025-03-15T16:16:01.335Z"
   },
   {
    "duration": 9,
    "start_time": "2025-03-15T16:16:01.696Z"
   },
   {
    "duration": 11,
    "start_time": "2025-03-15T16:16:01.707Z"
   },
   {
    "duration": 16,
    "start_time": "2025-03-15T16:16:01.719Z"
   },
   {
    "duration": 8,
    "start_time": "2025-03-15T16:16:01.737Z"
   },
   {
    "duration": 42,
    "start_time": "2025-03-15T16:16:01.771Z"
   },
   {
    "duration": 7,
    "start_time": "2025-03-15T16:16:01.815Z"
   },
   {
    "duration": 9,
    "start_time": "2025-03-15T16:16:01.824Z"
   },
   {
    "duration": 6,
    "start_time": "2025-03-15T16:16:01.837Z"
   },
   {
    "duration": 28,
    "start_time": "2025-03-15T16:16:01.845Z"
   },
   {
    "duration": 5,
    "start_time": "2025-03-15T16:16:01.875Z"
   },
   {
    "duration": 3,
    "start_time": "2025-03-15T16:16:01.882Z"
   },
   {
    "duration": 5,
    "start_time": "2025-03-15T16:16:01.887Z"
   },
   {
    "duration": 4,
    "start_time": "2025-03-15T16:16:01.893Z"
   },
   {
    "duration": 9,
    "start_time": "2025-03-15T16:16:01.898Z"
   },
   {
    "duration": 3,
    "start_time": "2025-03-15T16:16:01.909Z"
   },
   {
    "duration": 7,
    "start_time": "2025-03-15T16:16:01.914Z"
   },
   {
    "duration": 47,
    "start_time": "2025-03-15T16:16:01.923Z"
   },
   {
    "duration": 3,
    "start_time": "2025-03-15T16:16:01.972Z"
   },
   {
    "duration": 9,
    "start_time": "2025-03-15T16:16:01.976Z"
   },
   {
    "duration": 4,
    "start_time": "2025-03-15T16:16:01.986Z"
   },
   {
    "duration": 21,
    "start_time": "2025-03-15T16:16:01.992Z"
   },
   {
    "duration": 21,
    "start_time": "2025-03-15T16:16:02.015Z"
   },
   {
    "duration": 39,
    "start_time": "2025-03-15T16:16:02.038Z"
   },
   {
    "duration": 8,
    "start_time": "2025-03-15T16:16:02.079Z"
   },
   {
    "duration": 13,
    "start_time": "2025-03-15T16:16:02.088Z"
   },
   {
    "duration": 5,
    "start_time": "2025-03-15T16:16:02.105Z"
   },
   {
    "duration": 13,
    "start_time": "2025-03-15T16:16:02.112Z"
   },
   {
    "duration": 44,
    "start_time": "2025-03-15T16:16:02.126Z"
   },
   {
    "duration": 3,
    "start_time": "2025-03-15T16:16:02.172Z"
   },
   {
    "duration": 167,
    "start_time": "2025-03-15T16:16:02.177Z"
   },
   {
    "duration": 158,
    "start_time": "2025-03-15T16:16:02.346Z"
   },
   {
    "duration": 4,
    "start_time": "2025-03-15T16:16:02.505Z"
   },
   {
    "duration": 40,
    "start_time": "2025-03-15T16:16:02.511Z"
   },
   {
    "duration": 4,
    "start_time": "2025-03-15T16:16:02.571Z"
   },
   {
    "duration": 63,
    "start_time": "2025-03-15T16:16:02.576Z"
   },
   {
    "duration": 48,
    "start_time": "2025-03-15T16:16:02.641Z"
   },
   {
    "duration": 125,
    "start_time": "2025-03-15T16:16:02.691Z"
   },
   {
    "duration": 33,
    "start_time": "2025-03-15T16:16:02.818Z"
   },
   {
    "duration": 46,
    "start_time": "2025-03-15T16:16:02.853Z"
   },
   {
    "duration": 31,
    "start_time": "2025-03-15T16:16:02.901Z"
   },
   {
    "duration": 4,
    "start_time": "2025-03-15T16:16:02.934Z"
   },
   {
    "duration": 35,
    "start_time": "2025-03-15T16:16:02.939Z"
   },
   {
    "duration": 7,
    "start_time": "2025-03-15T16:16:02.976Z"
   },
   {
    "duration": 6,
    "start_time": "2025-03-15T16:16:02.985Z"
   },
   {
    "duration": 9,
    "start_time": "2025-03-15T16:16:02.992Z"
   },
   {
    "duration": 7,
    "start_time": "2025-03-15T16:16:03.002Z"
   },
   {
    "duration": 102,
    "start_time": "2025-03-15T16:16:03.011Z"
   },
   {
    "duration": 19,
    "start_time": "2025-03-15T16:16:03.115Z"
   },
   {
    "duration": 50,
    "start_time": "2025-03-15T16:16:03.136Z"
   },
   {
    "duration": 10,
    "start_time": "2025-03-15T16:35:29.749Z"
   },
   {
    "duration": 20,
    "start_time": "2025-03-15T16:35:38.070Z"
   },
   {
    "duration": 5,
    "start_time": "2025-03-15T16:36:28.942Z"
   },
   {
    "duration": 121,
    "start_time": "2025-03-15T16:42:44.365Z"
   },
   {
    "duration": 127,
    "start_time": "2025-03-15T16:43:16.957Z"
   },
   {
    "duration": 11,
    "start_time": "2025-03-15T16:45:04.685Z"
   },
   {
    "duration": 27,
    "start_time": "2025-03-15T16:45:22.004Z"
   },
   {
    "duration": 35,
    "start_time": "2025-03-15T16:46:20.877Z"
   },
   {
    "duration": 48,
    "start_time": "2025-03-15T16:50:56.430Z"
   },
   {
    "duration": 18,
    "start_time": "2025-03-15T16:51:13.053Z"
   },
   {
    "duration": 33,
    "start_time": "2025-03-15T16:51:19.854Z"
   },
   {
    "duration": 819,
    "start_time": "2025-03-15T16:54:12.506Z"
   },
   {
    "duration": 342,
    "start_time": "2025-03-15T16:54:13.327Z"
   },
   {
    "duration": 9,
    "start_time": "2025-03-15T16:54:13.671Z"
   },
   {
    "duration": 8,
    "start_time": "2025-03-15T16:54:13.683Z"
   },
   {
    "duration": 14,
    "start_time": "2025-03-15T16:54:13.692Z"
   },
   {
    "duration": 7,
    "start_time": "2025-03-15T16:54:13.707Z"
   },
   {
    "duration": 70,
    "start_time": "2025-03-15T16:54:13.716Z"
   },
   {
    "duration": 8,
    "start_time": "2025-03-15T16:54:13.787Z"
   },
   {
    "duration": 8,
    "start_time": "2025-03-15T16:54:13.797Z"
   },
   {
    "duration": 6,
    "start_time": "2025-03-15T16:54:13.808Z"
   },
   {
    "duration": 4,
    "start_time": "2025-03-15T16:54:13.815Z"
   },
   {
    "duration": 4,
    "start_time": "2025-03-15T16:54:13.820Z"
   },
   {
    "duration": 4,
    "start_time": "2025-03-15T16:54:13.826Z"
   },
   {
    "duration": 40,
    "start_time": "2025-03-15T16:54:13.831Z"
   },
   {
    "duration": 4,
    "start_time": "2025-03-15T16:54:13.872Z"
   },
   {
    "duration": 8,
    "start_time": "2025-03-15T16:54:13.878Z"
   },
   {
    "duration": 4,
    "start_time": "2025-03-15T16:54:13.887Z"
   },
   {
    "duration": 7,
    "start_time": "2025-03-15T16:54:13.893Z"
   },
   {
    "duration": 4,
    "start_time": "2025-03-15T16:54:13.903Z"
   },
   {
    "duration": 4,
    "start_time": "2025-03-15T16:54:13.908Z"
   },
   {
    "duration": 9,
    "start_time": "2025-03-15T16:54:13.913Z"
   },
   {
    "duration": 4,
    "start_time": "2025-03-15T16:54:13.924Z"
   },
   {
    "duration": 61,
    "start_time": "2025-03-15T16:54:13.930Z"
   },
   {
    "duration": 20,
    "start_time": "2025-03-15T16:54:13.993Z"
   },
   {
    "duration": 11,
    "start_time": "2025-03-15T16:54:14.015Z"
   },
   {
    "duration": 8,
    "start_time": "2025-03-15T16:54:14.028Z"
   },
   {
    "duration": 38,
    "start_time": "2025-03-15T16:54:14.038Z"
   },
   {
    "duration": 4,
    "start_time": "2025-03-15T16:54:14.080Z"
   },
   {
    "duration": 12,
    "start_time": "2025-03-15T16:54:14.086Z"
   },
   {
    "duration": 14,
    "start_time": "2025-03-15T16:54:14.099Z"
   },
   {
    "duration": 4,
    "start_time": "2025-03-15T16:54:14.114Z"
   },
   {
    "duration": 183,
    "start_time": "2025-03-15T16:54:14.120Z"
   },
   {
    "duration": 158,
    "start_time": "2025-03-15T16:54:14.305Z"
   },
   {
    "duration": 7,
    "start_time": "2025-03-15T16:54:14.465Z"
   },
   {
    "duration": 38,
    "start_time": "2025-03-15T16:54:14.474Z"
   },
   {
    "duration": 4,
    "start_time": "2025-03-15T16:54:14.514Z"
   },
   {
    "duration": 76,
    "start_time": "2025-03-15T16:54:14.519Z"
   },
   {
    "duration": 31,
    "start_time": "2025-03-15T16:54:14.597Z"
   },
   {
    "duration": 129,
    "start_time": "2025-03-15T16:54:14.630Z"
   },
   {
    "duration": 41,
    "start_time": "2025-03-15T16:54:14.761Z"
   },
   {
    "duration": 41,
    "start_time": "2025-03-15T16:54:14.804Z"
   },
   {
    "duration": 47,
    "start_time": "2025-03-15T16:54:14.846Z"
   },
   {
    "duration": 132,
    "start_time": "2025-03-15T16:54:14.895Z"
   },
   {
    "duration": 24,
    "start_time": "2025-03-15T16:54:15.029Z"
   },
   {
    "duration": 16,
    "start_time": "2025-03-15T16:54:15.055Z"
   },
   {
    "duration": 8,
    "start_time": "2025-03-15T16:54:15.073Z"
   },
   {
    "duration": 6,
    "start_time": "2025-03-15T16:54:15.082Z"
   },
   {
    "duration": 5,
    "start_time": "2025-03-15T16:54:15.090Z"
   },
   {
    "duration": 8,
    "start_time": "2025-03-15T16:54:15.097Z"
   },
   {
    "duration": 6,
    "start_time": "2025-03-15T16:54:15.107Z"
   },
   {
    "duration": 87,
    "start_time": "2025-03-15T16:54:15.114Z"
   },
   {
    "duration": 18,
    "start_time": "2025-03-15T16:54:15.202Z"
   },
   {
    "duration": 30,
    "start_time": "2025-03-15T16:54:15.222Z"
   },
   {
    "duration": 271,
    "start_time": "2025-03-15T16:59:39.299Z"
   },
   {
    "duration": 99,
    "start_time": "2025-03-15T17:00:51.829Z"
   },
   {
    "duration": 17,
    "start_time": "2025-03-15T17:01:40.191Z"
   },
   {
    "duration": 105,
    "start_time": "2025-03-15T17:02:40.251Z"
   },
   {
    "duration": 43,
    "start_time": "2025-03-15T17:04:19.731Z"
   },
   {
    "duration": 864,
    "start_time": "2025-03-15T18:06:14.484Z"
   },
   {
    "duration": 338,
    "start_time": "2025-03-15T18:06:15.350Z"
   },
   {
    "duration": 9,
    "start_time": "2025-03-15T18:06:15.689Z"
   },
   {
    "duration": 9,
    "start_time": "2025-03-15T18:06:15.701Z"
   },
   {
    "duration": 13,
    "start_time": "2025-03-15T18:06:15.711Z"
   },
   {
    "duration": 6,
    "start_time": "2025-03-15T18:06:15.726Z"
   },
   {
    "duration": 65,
    "start_time": "2025-03-15T18:06:15.734Z"
   },
   {
    "duration": 8,
    "start_time": "2025-03-15T18:06:15.801Z"
   },
   {
    "duration": 8,
    "start_time": "2025-03-15T18:06:15.810Z"
   },
   {
    "duration": 5,
    "start_time": "2025-03-15T18:06:15.822Z"
   },
   {
    "duration": 3,
    "start_time": "2025-03-15T18:06:15.829Z"
   },
   {
    "duration": 4,
    "start_time": "2025-03-15T18:06:15.834Z"
   },
   {
    "duration": 33,
    "start_time": "2025-03-15T18:06:15.839Z"
   },
   {
    "duration": 5,
    "start_time": "2025-03-15T18:06:15.874Z"
   },
   {
    "duration": 4,
    "start_time": "2025-03-15T18:06:15.880Z"
   },
   {
    "duration": 8,
    "start_time": "2025-03-15T18:06:15.886Z"
   },
   {
    "duration": 3,
    "start_time": "2025-03-15T18:06:15.896Z"
   },
   {
    "duration": 8,
    "start_time": "2025-03-15T18:06:15.900Z"
   },
   {
    "duration": 4,
    "start_time": "2025-03-15T18:06:15.910Z"
   },
   {
    "duration": 4,
    "start_time": "2025-03-15T18:06:15.916Z"
   },
   {
    "duration": 49,
    "start_time": "2025-03-15T18:06:15.921Z"
   },
   {
    "duration": 3,
    "start_time": "2025-03-15T18:06:15.972Z"
   },
   {
    "duration": 28,
    "start_time": "2025-03-15T18:06:15.977Z"
   },
   {
    "duration": 21,
    "start_time": "2025-03-15T18:06:16.007Z"
   },
   {
    "duration": 11,
    "start_time": "2025-03-15T18:06:16.030Z"
   },
   {
    "duration": 34,
    "start_time": "2025-03-15T18:06:16.043Z"
   },
   {
    "duration": 13,
    "start_time": "2025-03-15T18:06:16.079Z"
   },
   {
    "duration": 5,
    "start_time": "2025-03-15T18:06:16.097Z"
   },
   {
    "duration": 13,
    "start_time": "2025-03-15T18:06:16.104Z"
   },
   {
    "duration": 14,
    "start_time": "2025-03-15T18:06:16.118Z"
   },
   {
    "duration": 4,
    "start_time": "2025-03-15T18:06:16.133Z"
   },
   {
    "duration": 195,
    "start_time": "2025-03-15T18:06:16.170Z"
   },
   {
    "duration": 157,
    "start_time": "2025-03-15T18:06:16.369Z"
   },
   {
    "duration": 8,
    "start_time": "2025-03-15T18:06:16.528Z"
   },
   {
    "duration": 45,
    "start_time": "2025-03-15T18:06:16.538Z"
   },
   {
    "duration": 3,
    "start_time": "2025-03-15T18:06:16.585Z"
   },
   {
    "duration": 61,
    "start_time": "2025-03-15T18:06:16.590Z"
   },
   {
    "duration": 31,
    "start_time": "2025-03-15T18:06:16.671Z"
   },
   {
    "duration": 134,
    "start_time": "2025-03-15T18:06:16.703Z"
   },
   {
    "duration": 37,
    "start_time": "2025-03-15T18:06:16.838Z"
   },
   {
    "duration": 42,
    "start_time": "2025-03-15T18:06:16.876Z"
   },
   {
    "duration": 50,
    "start_time": "2025-03-15T18:06:16.920Z"
   },
   {
    "duration": 5,
    "start_time": "2025-03-15T18:06:16.972Z"
   },
   {
    "duration": 8,
    "start_time": "2025-03-15T18:06:16.979Z"
   },
   {
    "duration": 6,
    "start_time": "2025-03-15T18:06:16.989Z"
   },
   {
    "duration": 6,
    "start_time": "2025-03-15T18:06:16.997Z"
   },
   {
    "duration": 8,
    "start_time": "2025-03-15T18:06:17.004Z"
   },
   {
    "duration": 7,
    "start_time": "2025-03-15T18:06:17.014Z"
   },
   {
    "duration": 120,
    "start_time": "2025-03-15T18:06:17.023Z"
   },
   {
    "duration": 45,
    "start_time": "2025-03-15T18:06:17.145Z"
   },
   {
    "duration": 43,
    "start_time": "2025-03-15T18:06:17.194Z"
   },
   {
    "duration": 258,
    "start_time": "2025-03-15T18:30:24.353Z"
   },
   {
    "duration": 6,
    "start_time": "2025-03-15T18:32:05.191Z"
   },
   {
    "duration": 8,
    "start_time": "2025-03-15T18:32:17.038Z"
   },
   {
    "duration": 17,
    "start_time": "2025-03-15T18:32:26.496Z"
   },
   {
    "duration": 794,
    "start_time": "2025-03-15T18:32:44.642Z"
   },
   {
    "duration": 351,
    "start_time": "2025-03-15T18:32:45.438Z"
   },
   {
    "duration": 9,
    "start_time": "2025-03-15T18:32:45.791Z"
   },
   {
    "duration": 9,
    "start_time": "2025-03-15T18:32:45.802Z"
   },
   {
    "duration": 14,
    "start_time": "2025-03-15T18:32:45.812Z"
   },
   {
    "duration": 7,
    "start_time": "2025-03-15T18:32:45.828Z"
   },
   {
    "duration": 61,
    "start_time": "2025-03-15T18:32:45.837Z"
   },
   {
    "duration": 8,
    "start_time": "2025-03-15T18:32:45.900Z"
   },
   {
    "duration": 8,
    "start_time": "2025-03-15T18:32:45.911Z"
   },
   {
    "duration": 6,
    "start_time": "2025-03-15T18:32:45.921Z"
   },
   {
    "duration": 4,
    "start_time": "2025-03-15T18:32:45.928Z"
   },
   {
    "duration": 38,
    "start_time": "2025-03-15T18:32:45.934Z"
   },
   {
    "duration": 3,
    "start_time": "2025-03-15T18:32:45.973Z"
   },
   {
    "duration": 5,
    "start_time": "2025-03-15T18:32:45.978Z"
   },
   {
    "duration": 5,
    "start_time": "2025-03-15T18:32:45.984Z"
   },
   {
    "duration": 7,
    "start_time": "2025-03-15T18:32:45.991Z"
   },
   {
    "duration": 4,
    "start_time": "2025-03-15T18:32:46.000Z"
   },
   {
    "duration": 8,
    "start_time": "2025-03-15T18:32:46.005Z"
   },
   {
    "duration": 4,
    "start_time": "2025-03-15T18:32:46.015Z"
   },
   {
    "duration": 3,
    "start_time": "2025-03-15T18:32:46.021Z"
   },
   {
    "duration": 48,
    "start_time": "2025-03-15T18:32:46.026Z"
   },
   {
    "duration": 4,
    "start_time": "2025-03-15T18:32:46.076Z"
   },
   {
    "duration": 21,
    "start_time": "2025-03-15T18:32:46.082Z"
   },
   {
    "duration": 21,
    "start_time": "2025-03-15T18:32:46.105Z"
   },
   {
    "duration": 11,
    "start_time": "2025-03-15T18:32:46.128Z"
   },
   {
    "duration": 37,
    "start_time": "2025-03-15T18:32:46.140Z"
   },
   {
    "duration": 12,
    "start_time": "2025-03-15T18:32:46.178Z"
   },
   {
    "duration": 5,
    "start_time": "2025-03-15T18:32:46.195Z"
   },
   {
    "duration": 12,
    "start_time": "2025-03-15T18:32:46.202Z"
   },
   {
    "duration": 15,
    "start_time": "2025-03-15T18:32:46.216Z"
   },
   {
    "duration": 359,
    "start_time": "2025-03-15T18:32:46.233Z"
   },
   {
    "duration": 0,
    "start_time": "2025-03-15T18:32:46.595Z"
   },
   {
    "duration": 0,
    "start_time": "2025-03-15T18:32:46.596Z"
   },
   {
    "duration": 0,
    "start_time": "2025-03-15T18:32:46.598Z"
   },
   {
    "duration": 0,
    "start_time": "2025-03-15T18:32:46.600Z"
   },
   {
    "duration": 0,
    "start_time": "2025-03-15T18:32:46.601Z"
   },
   {
    "duration": 0,
    "start_time": "2025-03-15T18:32:46.602Z"
   },
   {
    "duration": 0,
    "start_time": "2025-03-15T18:32:46.603Z"
   },
   {
    "duration": 0,
    "start_time": "2025-03-15T18:32:46.605Z"
   },
   {
    "duration": 0,
    "start_time": "2025-03-15T18:32:46.607Z"
   },
   {
    "duration": 0,
    "start_time": "2025-03-15T18:32:46.607Z"
   },
   {
    "duration": 0,
    "start_time": "2025-03-15T18:32:46.609Z"
   },
   {
    "duration": 0,
    "start_time": "2025-03-15T18:32:46.610Z"
   },
   {
    "duration": 0,
    "start_time": "2025-03-15T18:32:46.611Z"
   },
   {
    "duration": 0,
    "start_time": "2025-03-15T18:32:46.613Z"
   },
   {
    "duration": 0,
    "start_time": "2025-03-15T18:32:46.614Z"
   },
   {
    "duration": 0,
    "start_time": "2025-03-15T18:32:46.615Z"
   },
   {
    "duration": 0,
    "start_time": "2025-03-15T18:32:46.617Z"
   },
   {
    "duration": 0,
    "start_time": "2025-03-15T18:32:46.618Z"
   },
   {
    "duration": 0,
    "start_time": "2025-03-15T18:32:46.620Z"
   },
   {
    "duration": 0,
    "start_time": "2025-03-15T18:32:46.622Z"
   },
   {
    "duration": 0,
    "start_time": "2025-03-15T18:32:46.623Z"
   },
   {
    "duration": 0,
    "start_time": "2025-03-15T18:32:46.625Z"
   },
   {
    "duration": 7,
    "start_time": "2025-03-15T18:33:10.942Z"
   },
   {
    "duration": 15,
    "start_time": "2025-03-15T18:33:40.127Z"
   },
   {
    "duration": 777,
    "start_time": "2025-03-15T18:33:57.568Z"
   },
   {
    "duration": 342,
    "start_time": "2025-03-15T18:33:58.347Z"
   },
   {
    "duration": 11,
    "start_time": "2025-03-15T18:33:58.691Z"
   },
   {
    "duration": 8,
    "start_time": "2025-03-15T18:33:58.704Z"
   },
   {
    "duration": 14,
    "start_time": "2025-03-15T18:33:58.714Z"
   },
   {
    "duration": 6,
    "start_time": "2025-03-15T18:33:58.729Z"
   },
   {
    "duration": 64,
    "start_time": "2025-03-15T18:33:58.737Z"
   },
   {
    "duration": 8,
    "start_time": "2025-03-15T18:33:58.803Z"
   },
   {
    "duration": 9,
    "start_time": "2025-03-15T18:33:58.813Z"
   },
   {
    "duration": 7,
    "start_time": "2025-03-15T18:33:58.825Z"
   },
   {
    "duration": 4,
    "start_time": "2025-03-15T18:33:58.834Z"
   },
   {
    "duration": 31,
    "start_time": "2025-03-15T18:33:58.840Z"
   },
   {
    "duration": 3,
    "start_time": "2025-03-15T18:33:58.872Z"
   },
   {
    "duration": 5,
    "start_time": "2025-03-15T18:33:58.877Z"
   },
   {
    "duration": 4,
    "start_time": "2025-03-15T18:33:58.884Z"
   },
   {
    "duration": 8,
    "start_time": "2025-03-15T18:33:58.889Z"
   },
   {
    "duration": 4,
    "start_time": "2025-03-15T18:33:58.899Z"
   },
   {
    "duration": 8,
    "start_time": "2025-03-15T18:33:58.904Z"
   },
   {
    "duration": 3,
    "start_time": "2025-03-15T18:33:58.914Z"
   },
   {
    "duration": 4,
    "start_time": "2025-03-15T18:33:58.918Z"
   },
   {
    "duration": 46,
    "start_time": "2025-03-15T18:33:58.924Z"
   },
   {
    "duration": 4,
    "start_time": "2025-03-15T18:33:58.971Z"
   },
   {
    "duration": 21,
    "start_time": "2025-03-15T18:33:58.977Z"
   },
   {
    "duration": 20,
    "start_time": "2025-03-15T18:33:58.999Z"
   },
   {
    "duration": 11,
    "start_time": "2025-03-15T18:33:59.021Z"
   },
   {
    "duration": 9,
    "start_time": "2025-03-15T18:33:59.033Z"
   },
   {
    "duration": 13,
    "start_time": "2025-03-15T18:33:59.070Z"
   },
   {
    "duration": 5,
    "start_time": "2025-03-15T18:33:59.086Z"
   },
   {
    "duration": 13,
    "start_time": "2025-03-15T18:33:59.092Z"
   },
   {
    "duration": 15,
    "start_time": "2025-03-15T18:33:59.106Z"
   },
   {
    "duration": 6,
    "start_time": "2025-03-15T18:33:59.122Z"
   },
   {
    "duration": 3,
    "start_time": "2025-03-15T18:33:59.129Z"
   },
   {
    "duration": 191,
    "start_time": "2025-03-15T18:33:59.134Z"
   },
   {
    "duration": 156,
    "start_time": "2025-03-15T18:33:59.327Z"
   },
   {
    "duration": 3,
    "start_time": "2025-03-15T18:33:59.485Z"
   },
   {
    "duration": 38,
    "start_time": "2025-03-15T18:33:59.490Z"
   },
   {
    "duration": 3,
    "start_time": "2025-03-15T18:33:59.530Z"
   },
   {
    "duration": 89,
    "start_time": "2025-03-15T18:33:59.535Z"
   },
   {
    "duration": 36,
    "start_time": "2025-03-15T18:33:59.626Z"
   },
   {
    "duration": 127,
    "start_time": "2025-03-15T18:33:59.664Z"
   },
   {
    "duration": 32,
    "start_time": "2025-03-15T18:33:59.793Z"
   },
   {
    "duration": 52,
    "start_time": "2025-03-15T18:33:59.827Z"
   },
   {
    "duration": 289,
    "start_time": "2025-03-15T18:33:59.881Z"
   },
   {
    "duration": 0,
    "start_time": "2025-03-15T18:34:00.171Z"
   },
   {
    "duration": 0,
    "start_time": "2025-03-15T18:34:00.173Z"
   },
   {
    "duration": 0,
    "start_time": "2025-03-15T18:34:00.173Z"
   },
   {
    "duration": 0,
    "start_time": "2025-03-15T18:34:00.174Z"
   },
   {
    "duration": 0,
    "start_time": "2025-03-15T18:34:00.175Z"
   },
   {
    "duration": 0,
    "start_time": "2025-03-15T18:34:00.176Z"
   },
   {
    "duration": 0,
    "start_time": "2025-03-15T18:34:00.177Z"
   },
   {
    "duration": 0,
    "start_time": "2025-03-15T18:34:00.178Z"
   },
   {
    "duration": 0,
    "start_time": "2025-03-15T18:34:00.179Z"
   },
   {
    "duration": 0,
    "start_time": "2025-03-15T18:34:00.180Z"
   },
   {
    "duration": 811,
    "start_time": "2025-03-15T18:34:24.925Z"
   },
   {
    "duration": 402,
    "start_time": "2025-03-15T18:34:25.738Z"
   },
   {
    "duration": 11,
    "start_time": "2025-03-15T18:34:26.142Z"
   },
   {
    "duration": 20,
    "start_time": "2025-03-15T18:34:26.155Z"
   },
   {
    "duration": 20,
    "start_time": "2025-03-15T18:34:26.178Z"
   },
   {
    "duration": 8,
    "start_time": "2025-03-15T18:34:26.200Z"
   },
   {
    "duration": 81,
    "start_time": "2025-03-15T18:34:26.210Z"
   },
   {
    "duration": 9,
    "start_time": "2025-03-15T18:34:26.293Z"
   },
   {
    "duration": 12,
    "start_time": "2025-03-15T18:34:26.304Z"
   },
   {
    "duration": 8,
    "start_time": "2025-03-15T18:34:26.318Z"
   },
   {
    "duration": 5,
    "start_time": "2025-03-15T18:34:26.330Z"
   },
   {
    "duration": 4,
    "start_time": "2025-03-15T18:34:26.336Z"
   },
   {
    "duration": 28,
    "start_time": "2025-03-15T18:34:26.342Z"
   },
   {
    "duration": 7,
    "start_time": "2025-03-15T18:34:26.376Z"
   },
   {
    "duration": 3,
    "start_time": "2025-03-15T18:34:26.385Z"
   },
   {
    "duration": 9,
    "start_time": "2025-03-15T18:34:26.389Z"
   },
   {
    "duration": 4,
    "start_time": "2025-03-15T18:34:26.399Z"
   },
   {
    "duration": 9,
    "start_time": "2025-03-15T18:34:26.406Z"
   },
   {
    "duration": 4,
    "start_time": "2025-03-15T18:34:26.416Z"
   },
   {
    "duration": 3,
    "start_time": "2025-03-15T18:34:26.422Z"
   },
   {
    "duration": 54,
    "start_time": "2025-03-15T18:34:26.427Z"
   },
   {
    "duration": 5,
    "start_time": "2025-03-15T18:34:26.483Z"
   },
   {
    "duration": 25,
    "start_time": "2025-03-15T18:34:26.490Z"
   },
   {
    "duration": 28,
    "start_time": "2025-03-15T18:34:26.517Z"
   },
   {
    "duration": 14,
    "start_time": "2025-03-15T18:34:26.571Z"
   },
   {
    "duration": 10,
    "start_time": "2025-03-15T18:34:26.586Z"
   },
   {
    "duration": 19,
    "start_time": "2025-03-15T18:34:26.597Z"
   },
   {
    "duration": 6,
    "start_time": "2025-03-15T18:34:26.618Z"
   },
   {
    "duration": 18,
    "start_time": "2025-03-15T18:34:26.626Z"
   },
   {
    "duration": 16,
    "start_time": "2025-03-15T18:34:26.671Z"
   },
   {
    "duration": 7,
    "start_time": "2025-03-15T18:34:26.689Z"
   },
   {
    "duration": 4,
    "start_time": "2025-03-15T18:34:26.698Z"
   },
   {
    "duration": 216,
    "start_time": "2025-03-15T18:34:26.704Z"
   },
   {
    "duration": 186,
    "start_time": "2025-03-15T18:34:26.925Z"
   },
   {
    "duration": 3,
    "start_time": "2025-03-15T18:34:27.113Z"
   },
   {
    "duration": 61,
    "start_time": "2025-03-15T18:34:27.119Z"
   },
   {
    "duration": 4,
    "start_time": "2025-03-15T18:34:27.182Z"
   },
   {
    "duration": 66,
    "start_time": "2025-03-15T18:34:27.187Z"
   },
   {
    "duration": 45,
    "start_time": "2025-03-15T18:34:27.255Z"
   },
   {
    "duration": 123,
    "start_time": "2025-03-15T18:34:27.302Z"
   },
   {
    "duration": 44,
    "start_time": "2025-03-15T18:34:27.429Z"
   },
   {
    "duration": 40,
    "start_time": "2025-03-15T18:34:27.474Z"
   },
   {
    "duration": 59,
    "start_time": "2025-03-15T18:34:27.516Z"
   },
   {
    "duration": 31,
    "start_time": "2025-03-15T18:34:27.577Z"
   },
   {
    "duration": 4,
    "start_time": "2025-03-15T18:34:27.609Z"
   },
   {
    "duration": 9,
    "start_time": "2025-03-15T18:34:27.614Z"
   },
   {
    "duration": 7,
    "start_time": "2025-03-15T18:34:27.625Z"
   },
   {
    "duration": 6,
    "start_time": "2025-03-15T18:34:27.634Z"
   },
   {
    "duration": 8,
    "start_time": "2025-03-15T18:34:27.670Z"
   },
   {
    "duration": 6,
    "start_time": "2025-03-15T18:34:27.680Z"
   },
   {
    "duration": 87,
    "start_time": "2025-03-15T18:34:27.688Z"
   },
   {
    "duration": 18,
    "start_time": "2025-03-15T18:34:27.777Z"
   },
   {
    "duration": 33,
    "start_time": "2025-03-15T18:34:27.796Z"
   },
   {
    "duration": 12,
    "start_time": "2025-03-15T18:36:33.783Z"
   },
   {
    "duration": 272,
    "start_time": "2025-03-15T18:40:47.733Z"
   },
   {
    "duration": 44,
    "start_time": "2025-03-15T18:41:46.734Z"
   },
   {
    "duration": 44,
    "start_time": "2025-03-15T18:43:22.458Z"
   },
   {
    "duration": 791,
    "start_time": "2025-03-15T18:45:52.353Z"
   },
   {
    "duration": 344,
    "start_time": "2025-03-15T18:45:53.146Z"
   },
   {
    "duration": 8,
    "start_time": "2025-03-15T18:45:53.492Z"
   },
   {
    "duration": 8,
    "start_time": "2025-03-15T18:45:53.503Z"
   },
   {
    "duration": 13,
    "start_time": "2025-03-15T18:45:53.513Z"
   },
   {
    "duration": 7,
    "start_time": "2025-03-15T18:45:53.528Z"
   },
   {
    "duration": 72,
    "start_time": "2025-03-15T18:45:53.536Z"
   },
   {
    "duration": 9,
    "start_time": "2025-03-15T18:45:53.610Z"
   },
   {
    "duration": 9,
    "start_time": "2025-03-15T18:45:53.621Z"
   },
   {
    "duration": 5,
    "start_time": "2025-03-15T18:45:53.634Z"
   },
   {
    "duration": 4,
    "start_time": "2025-03-15T18:45:53.641Z"
   },
   {
    "duration": 25,
    "start_time": "2025-03-15T18:45:53.647Z"
   },
   {
    "duration": 4,
    "start_time": "2025-03-15T18:45:53.674Z"
   },
   {
    "duration": 5,
    "start_time": "2025-03-15T18:45:53.679Z"
   },
   {
    "duration": 4,
    "start_time": "2025-03-15T18:45:53.685Z"
   },
   {
    "duration": 8,
    "start_time": "2025-03-15T18:45:53.691Z"
   },
   {
    "duration": 4,
    "start_time": "2025-03-15T18:45:53.700Z"
   },
   {
    "duration": 8,
    "start_time": "2025-03-15T18:45:53.705Z"
   },
   {
    "duration": 4,
    "start_time": "2025-03-15T18:45:53.715Z"
   },
   {
    "duration": 3,
    "start_time": "2025-03-15T18:45:53.721Z"
   },
   {
    "duration": 51,
    "start_time": "2025-03-15T18:45:53.726Z"
   },
   {
    "duration": 4,
    "start_time": "2025-03-15T18:45:53.779Z"
   },
   {
    "duration": 25,
    "start_time": "2025-03-15T18:45:53.785Z"
   },
   {
    "duration": 21,
    "start_time": "2025-03-15T18:45:53.812Z"
   },
   {
    "duration": 36,
    "start_time": "2025-03-15T18:45:53.835Z"
   },
   {
    "duration": 8,
    "start_time": "2025-03-15T18:45:53.873Z"
   },
   {
    "duration": 13,
    "start_time": "2025-03-15T18:45:53.883Z"
   },
   {
    "duration": 4,
    "start_time": "2025-03-15T18:45:53.900Z"
   },
   {
    "duration": 13,
    "start_time": "2025-03-15T18:45:53.906Z"
   },
   {
    "duration": 14,
    "start_time": "2025-03-15T18:45:53.921Z"
   },
   {
    "duration": 34,
    "start_time": "2025-03-15T18:45:53.936Z"
   },
   {
    "duration": 3,
    "start_time": "2025-03-15T18:45:53.972Z"
   },
   {
    "duration": 173,
    "start_time": "2025-03-15T18:45:53.977Z"
   },
   {
    "duration": 157,
    "start_time": "2025-03-15T18:45:54.152Z"
   },
   {
    "duration": 3,
    "start_time": "2025-03-15T18:45:54.311Z"
   },
   {
    "duration": 39,
    "start_time": "2025-03-15T18:45:54.316Z"
   },
   {
    "duration": 4,
    "start_time": "2025-03-15T18:45:54.370Z"
   },
   {
    "duration": 63,
    "start_time": "2025-03-15T18:45:54.376Z"
   },
   {
    "duration": 47,
    "start_time": "2025-03-15T18:45:54.441Z"
   },
   {
    "duration": 126,
    "start_time": "2025-03-15T18:45:54.491Z"
   },
   {
    "duration": 31,
    "start_time": "2025-03-15T18:45:54.619Z"
   },
   {
    "duration": 56,
    "start_time": "2025-03-15T18:45:54.652Z"
   },
   {
    "duration": 41,
    "start_time": "2025-03-15T18:45:54.710Z"
   },
   {
    "duration": 23,
    "start_time": "2025-03-15T18:45:54.753Z"
   },
   {
    "duration": 51,
    "start_time": "2025-03-15T18:45:54.778Z"
   },
   {
    "duration": 45,
    "start_time": "2025-03-15T18:45:54.831Z"
   },
   {
    "duration": 3,
    "start_time": "2025-03-15T18:45:54.878Z"
   },
   {
    "duration": 8,
    "start_time": "2025-03-15T18:45:54.883Z"
   },
   {
    "duration": 7,
    "start_time": "2025-03-15T18:45:54.893Z"
   },
   {
    "duration": 6,
    "start_time": "2025-03-15T18:45:54.901Z"
   },
   {
    "duration": 9,
    "start_time": "2025-03-15T18:45:54.909Z"
   },
   {
    "duration": 6,
    "start_time": "2025-03-15T18:45:54.920Z"
   },
   {
    "duration": 114,
    "start_time": "2025-03-15T18:45:54.927Z"
   },
   {
    "duration": 29,
    "start_time": "2025-03-15T18:45:55.042Z"
   },
   {
    "duration": 36,
    "start_time": "2025-03-15T18:45:55.073Z"
   },
   {
    "duration": 377,
    "start_time": "2025-03-15T18:57:14.601Z"
   },
   {
    "duration": 72,
    "start_time": "2025-03-15T18:59:30.918Z"
   },
   {
    "duration": 850,
    "start_time": "2025-03-15T19:01:58.183Z"
   },
   {
    "duration": 336,
    "start_time": "2025-03-15T19:01:59.035Z"
   },
   {
    "duration": 8,
    "start_time": "2025-03-15T19:01:59.373Z"
   },
   {
    "duration": 9,
    "start_time": "2025-03-15T19:01:59.384Z"
   },
   {
    "duration": 13,
    "start_time": "2025-03-15T19:01:59.394Z"
   },
   {
    "duration": 6,
    "start_time": "2025-03-15T19:01:59.409Z"
   },
   {
    "duration": 66,
    "start_time": "2025-03-15T19:01:59.416Z"
   },
   {
    "duration": 7,
    "start_time": "2025-03-15T19:01:59.484Z"
   },
   {
    "duration": 8,
    "start_time": "2025-03-15T19:01:59.493Z"
   },
   {
    "duration": 5,
    "start_time": "2025-03-15T19:01:59.504Z"
   },
   {
    "duration": 4,
    "start_time": "2025-03-15T19:01:59.511Z"
   },
   {
    "duration": 5,
    "start_time": "2025-03-15T19:01:59.517Z"
   },
   {
    "duration": 3,
    "start_time": "2025-03-15T19:01:59.524Z"
   },
   {
    "duration": 46,
    "start_time": "2025-03-15T19:01:59.529Z"
   },
   {
    "duration": 5,
    "start_time": "2025-03-15T19:01:59.576Z"
   },
   {
    "duration": 8,
    "start_time": "2025-03-15T19:01:59.583Z"
   },
   {
    "duration": 3,
    "start_time": "2025-03-15T19:01:59.592Z"
   },
   {
    "duration": 12,
    "start_time": "2025-03-15T19:01:59.597Z"
   },
   {
    "duration": 5,
    "start_time": "2025-03-15T19:01:59.611Z"
   },
   {
    "duration": 4,
    "start_time": "2025-03-15T19:01:59.617Z"
   },
   {
    "duration": 9,
    "start_time": "2025-03-15T19:01:59.623Z"
   },
   {
    "duration": 38,
    "start_time": "2025-03-15T19:01:59.633Z"
   },
   {
    "duration": 24,
    "start_time": "2025-03-15T19:01:59.673Z"
   },
   {
    "duration": 20,
    "start_time": "2025-03-15T19:01:59.699Z"
   },
   {
    "duration": 11,
    "start_time": "2025-03-15T19:01:59.721Z"
   },
   {
    "duration": 36,
    "start_time": "2025-03-15T19:01:59.734Z"
   },
   {
    "duration": 13,
    "start_time": "2025-03-15T19:01:59.772Z"
   },
   {
    "duration": 4,
    "start_time": "2025-03-15T19:01:59.790Z"
   },
   {
    "duration": 12,
    "start_time": "2025-03-15T19:01:59.796Z"
   },
   {
    "duration": 14,
    "start_time": "2025-03-15T19:01:59.809Z"
   },
   {
    "duration": 5,
    "start_time": "2025-03-15T19:01:59.825Z"
   },
   {
    "duration": 3,
    "start_time": "2025-03-15T19:01:59.833Z"
   },
   {
    "duration": 189,
    "start_time": "2025-03-15T19:01:59.837Z"
   },
   {
    "duration": 162,
    "start_time": "2025-03-15T19:02:00.028Z"
   },
   {
    "duration": 3,
    "start_time": "2025-03-15T19:02:00.192Z"
   },
   {
    "duration": 41,
    "start_time": "2025-03-15T19:02:00.197Z"
   },
   {
    "duration": 4,
    "start_time": "2025-03-15T19:02:00.239Z"
   },
   {
    "duration": 86,
    "start_time": "2025-03-15T19:02:00.244Z"
   },
   {
    "duration": 40,
    "start_time": "2025-03-15T19:02:00.331Z"
   },
   {
    "duration": 126,
    "start_time": "2025-03-15T19:02:00.373Z"
   },
   {
    "duration": 31,
    "start_time": "2025-03-15T19:02:00.500Z"
   },
   {
    "duration": 53,
    "start_time": "2025-03-15T19:02:00.533Z"
   },
   {
    "duration": 38,
    "start_time": "2025-03-15T19:02:00.588Z"
   },
   {
    "duration": 43,
    "start_time": "2025-03-15T19:02:00.628Z"
   },
   {
    "duration": 4,
    "start_time": "2025-03-15T19:02:00.673Z"
   },
   {
    "duration": 8,
    "start_time": "2025-03-15T19:02:00.679Z"
   },
   {
    "duration": 6,
    "start_time": "2025-03-15T19:02:00.689Z"
   },
   {
    "duration": 6,
    "start_time": "2025-03-15T19:02:00.697Z"
   },
   {
    "duration": 8,
    "start_time": "2025-03-15T19:02:00.704Z"
   },
   {
    "duration": 6,
    "start_time": "2025-03-15T19:02:00.714Z"
   },
   {
    "duration": 52,
    "start_time": "2025-03-15T19:02:00.721Z"
   },
   {
    "duration": 49,
    "start_time": "2025-03-15T19:02:00.775Z"
   },
   {
    "duration": 84,
    "start_time": "2025-03-15T19:02:00.826Z"
   },
   {
    "duration": 19,
    "start_time": "2025-03-15T19:02:00.912Z"
   },
   {
    "duration": 44,
    "start_time": "2025-03-15T19:02:00.932Z"
   },
   {
    "duration": 35,
    "start_time": "2025-03-15T19:09:28.351Z"
   },
   {
    "duration": 7,
    "start_time": "2025-03-15T19:11:12.747Z"
   },
   {
    "duration": 272,
    "start_time": "2025-03-15T19:11:45.806Z"
   },
   {
    "duration": 17,
    "start_time": "2025-03-15T19:12:01.109Z"
   },
   {
    "duration": 16,
    "start_time": "2025-03-15T19:12:16.685Z"
   },
   {
    "duration": 842,
    "start_time": "2025-03-15T19:14:50.578Z"
   },
   {
    "duration": 350,
    "start_time": "2025-03-15T19:14:51.422Z"
   },
   {
    "duration": 9,
    "start_time": "2025-03-15T19:14:51.775Z"
   },
   {
    "duration": 9,
    "start_time": "2025-03-15T19:14:51.786Z"
   },
   {
    "duration": 13,
    "start_time": "2025-03-15T19:14:51.797Z"
   },
   {
    "duration": 6,
    "start_time": "2025-03-15T19:14:51.812Z"
   },
   {
    "duration": 71,
    "start_time": "2025-03-15T19:14:51.820Z"
   },
   {
    "duration": 7,
    "start_time": "2025-03-15T19:14:51.893Z"
   },
   {
    "duration": 9,
    "start_time": "2025-03-15T19:14:51.901Z"
   },
   {
    "duration": 7,
    "start_time": "2025-03-15T19:14:51.911Z"
   },
   {
    "duration": 3,
    "start_time": "2025-03-15T19:14:51.920Z"
   },
   {
    "duration": 5,
    "start_time": "2025-03-15T19:14:51.925Z"
   },
   {
    "duration": 36,
    "start_time": "2025-03-15T19:14:51.934Z"
   },
   {
    "duration": 4,
    "start_time": "2025-03-15T19:14:51.972Z"
   },
   {
    "duration": 4,
    "start_time": "2025-03-15T19:14:51.978Z"
   },
   {
    "duration": 8,
    "start_time": "2025-03-15T19:14:51.984Z"
   },
   {
    "duration": 3,
    "start_time": "2025-03-15T19:14:51.994Z"
   },
   {
    "duration": 8,
    "start_time": "2025-03-15T19:14:51.998Z"
   },
   {
    "duration": 3,
    "start_time": "2025-03-15T19:14:52.008Z"
   },
   {
    "duration": 4,
    "start_time": "2025-03-15T19:14:52.013Z"
   },
   {
    "duration": 8,
    "start_time": "2025-03-15T19:14:52.019Z"
   },
   {
    "duration": 44,
    "start_time": "2025-03-15T19:14:52.029Z"
   },
   {
    "duration": 22,
    "start_time": "2025-03-15T19:14:52.075Z"
   },
   {
    "duration": 21,
    "start_time": "2025-03-15T19:14:52.099Z"
   },
   {
    "duration": 11,
    "start_time": "2025-03-15T19:14:52.121Z"
   },
   {
    "duration": 8,
    "start_time": "2025-03-15T19:14:52.134Z"
   },
   {
    "duration": 37,
    "start_time": "2025-03-15T19:14:52.143Z"
   },
   {
    "duration": 4,
    "start_time": "2025-03-15T19:14:52.182Z"
   },
   {
    "duration": 12,
    "start_time": "2025-03-15T19:14:52.188Z"
   },
   {
    "duration": 14,
    "start_time": "2025-03-15T19:14:52.202Z"
   },
   {
    "duration": 6,
    "start_time": "2025-03-15T19:14:52.218Z"
   },
   {
    "duration": 4,
    "start_time": "2025-03-15T19:14:52.225Z"
   },
   {
    "duration": 198,
    "start_time": "2025-03-15T19:14:52.230Z"
   },
   {
    "duration": 154,
    "start_time": "2025-03-15T19:14:52.430Z"
   },
   {
    "duration": 3,
    "start_time": "2025-03-15T19:14:52.586Z"
   },
   {
    "duration": 39,
    "start_time": "2025-03-15T19:14:52.590Z"
   },
   {
    "duration": 3,
    "start_time": "2025-03-15T19:14:52.631Z"
   },
   {
    "duration": 80,
    "start_time": "2025-03-15T19:14:52.636Z"
   },
   {
    "duration": 30,
    "start_time": "2025-03-15T19:14:52.718Z"
   },
   {
    "duration": 133,
    "start_time": "2025-03-15T19:14:52.752Z"
   },
   {
    "duration": 31,
    "start_time": "2025-03-15T19:14:52.887Z"
   },
   {
    "duration": 54,
    "start_time": "2025-03-15T19:14:52.920Z"
   },
   {
    "duration": 40,
    "start_time": "2025-03-15T19:14:52.976Z"
   },
   {
    "duration": 31,
    "start_time": "2025-03-15T19:14:53.018Z"
   },
   {
    "duration": 20,
    "start_time": "2025-03-15T19:14:53.051Z"
   },
   {
    "duration": 8,
    "start_time": "2025-03-15T19:14:53.073Z"
   },
   {
    "duration": 6,
    "start_time": "2025-03-15T19:14:53.083Z"
   },
   {
    "duration": 6,
    "start_time": "2025-03-15T19:14:53.091Z"
   },
   {
    "duration": 8,
    "start_time": "2025-03-15T19:14:53.098Z"
   },
   {
    "duration": 6,
    "start_time": "2025-03-15T19:14:53.108Z"
   },
   {
    "duration": 14,
    "start_time": "2025-03-15T19:14:53.116Z"
   },
   {
    "duration": 94,
    "start_time": "2025-03-15T19:14:53.132Z"
   },
   {
    "duration": 35,
    "start_time": "2025-03-15T19:14:53.228Z"
   },
   {
    "duration": 76,
    "start_time": "2025-03-15T19:14:53.265Z"
   },
   {
    "duration": 32,
    "start_time": "2025-03-15T19:14:53.343Z"
   },
   {
    "duration": 38,
    "start_time": "2025-03-15T19:14:53.377Z"
   },
   {
    "duration": 15,
    "start_time": "2025-03-15T19:19:59.514Z"
   },
   {
    "duration": 3,
    "start_time": "2025-03-15T19:22:15.349Z"
   },
   {
    "duration": 8,
    "start_time": "2025-03-15T19:24:26.198Z"
   },
   {
    "duration": 9,
    "start_time": "2025-03-15T19:24:37.128Z"
   },
   {
    "duration": 11,
    "start_time": "2025-03-15T19:24:45.629Z"
   },
   {
    "duration": 11,
    "start_time": "2025-03-15T19:25:44.242Z"
   },
   {
    "duration": 805,
    "start_time": "2025-03-15T19:26:41.573Z"
   },
   {
    "duration": 342,
    "start_time": "2025-03-15T19:26:42.380Z"
   },
   {
    "duration": 9,
    "start_time": "2025-03-15T19:26:42.723Z"
   },
   {
    "duration": 8,
    "start_time": "2025-03-15T19:26:42.735Z"
   },
   {
    "duration": 29,
    "start_time": "2025-03-15T19:26:42.744Z"
   },
   {
    "duration": 7,
    "start_time": "2025-03-15T19:26:42.774Z"
   },
   {
    "duration": 42,
    "start_time": "2025-03-15T19:26:42.782Z"
   },
   {
    "duration": 8,
    "start_time": "2025-03-15T19:26:42.825Z"
   },
   {
    "duration": 8,
    "start_time": "2025-03-15T19:26:42.835Z"
   },
   {
    "duration": 6,
    "start_time": "2025-03-15T19:26:42.871Z"
   },
   {
    "duration": 5,
    "start_time": "2025-03-15T19:26:42.879Z"
   },
   {
    "duration": 4,
    "start_time": "2025-03-15T19:26:42.885Z"
   },
   {
    "duration": 4,
    "start_time": "2025-03-15T19:26:42.891Z"
   },
   {
    "duration": 5,
    "start_time": "2025-03-15T19:26:42.896Z"
   },
   {
    "duration": 4,
    "start_time": "2025-03-15T19:26:42.902Z"
   },
   {
    "duration": 8,
    "start_time": "2025-03-15T19:26:42.908Z"
   },
   {
    "duration": 4,
    "start_time": "2025-03-15T19:26:42.917Z"
   },
   {
    "duration": 49,
    "start_time": "2025-03-15T19:26:42.922Z"
   },
   {
    "duration": 4,
    "start_time": "2025-03-15T19:26:42.972Z"
   },
   {
    "duration": 4,
    "start_time": "2025-03-15T19:26:42.977Z"
   },
   {
    "duration": 9,
    "start_time": "2025-03-15T19:26:42.982Z"
   },
   {
    "duration": 4,
    "start_time": "2025-03-15T19:26:42.992Z"
   },
   {
    "duration": 22,
    "start_time": "2025-03-15T19:26:42.998Z"
   },
   {
    "duration": 49,
    "start_time": "2025-03-15T19:26:43.021Z"
   },
   {
    "duration": 11,
    "start_time": "2025-03-15T19:26:43.072Z"
   },
   {
    "duration": 9,
    "start_time": "2025-03-15T19:26:43.084Z"
   },
   {
    "duration": 13,
    "start_time": "2025-03-15T19:26:43.094Z"
   },
   {
    "duration": 4,
    "start_time": "2025-03-15T19:26:43.111Z"
   },
   {
    "duration": 12,
    "start_time": "2025-03-15T19:26:43.117Z"
   },
   {
    "duration": 49,
    "start_time": "2025-03-15T19:26:43.131Z"
   },
   {
    "duration": 6,
    "start_time": "2025-03-15T19:26:43.182Z"
   },
   {
    "duration": 4,
    "start_time": "2025-03-15T19:26:43.190Z"
   },
   {
    "duration": 175,
    "start_time": "2025-03-15T19:26:43.197Z"
   },
   {
    "duration": 155,
    "start_time": "2025-03-15T19:26:43.374Z"
   },
   {
    "duration": 3,
    "start_time": "2025-03-15T19:26:43.531Z"
   },
   {
    "duration": 51,
    "start_time": "2025-03-15T19:26:43.536Z"
   },
   {
    "duration": 4,
    "start_time": "2025-03-15T19:26:43.588Z"
   },
   {
    "duration": 60,
    "start_time": "2025-03-15T19:26:43.594Z"
   },
   {
    "duration": 45,
    "start_time": "2025-03-15T19:26:43.656Z"
   },
   {
    "duration": 129,
    "start_time": "2025-03-15T19:26:43.703Z"
   },
   {
    "duration": 39,
    "start_time": "2025-03-15T19:26:43.834Z"
   },
   {
    "duration": 39,
    "start_time": "2025-03-15T19:26:43.875Z"
   },
   {
    "duration": 37,
    "start_time": "2025-03-15T19:26:43.916Z"
   },
   {
    "duration": 31,
    "start_time": "2025-03-15T19:26:43.970Z"
   },
   {
    "duration": 3,
    "start_time": "2025-03-15T19:26:44.003Z"
   },
   {
    "duration": 12,
    "start_time": "2025-03-15T19:26:44.008Z"
   },
   {
    "duration": 6,
    "start_time": "2025-03-15T19:26:44.022Z"
   },
   {
    "duration": 6,
    "start_time": "2025-03-15T19:26:44.030Z"
   },
   {
    "duration": 37,
    "start_time": "2025-03-15T19:26:44.037Z"
   },
   {
    "duration": 6,
    "start_time": "2025-03-15T19:26:44.076Z"
   },
   {
    "duration": 15,
    "start_time": "2025-03-15T19:26:44.084Z"
   },
   {
    "duration": 70,
    "start_time": "2025-03-15T19:26:44.101Z"
   },
   {
    "duration": 45,
    "start_time": "2025-03-15T19:26:44.173Z"
   },
   {
    "duration": 74,
    "start_time": "2025-03-15T19:26:44.220Z"
   },
   {
    "duration": 19,
    "start_time": "2025-03-15T19:26:44.296Z"
   },
   {
    "duration": 36,
    "start_time": "2025-03-15T19:26:44.317Z"
   },
   {
    "duration": 7,
    "start_time": "2025-03-15T19:42:36.159Z"
   },
   {
    "duration": 13,
    "start_time": "2025-03-15T19:55:23.596Z"
   },
   {
    "duration": 14,
    "start_time": "2025-03-15T19:55:54.776Z"
   },
   {
    "duration": 159,
    "start_time": "2025-03-16T19:59:04.503Z"
   },
   {
    "duration": 2573,
    "start_time": "2025-03-16T19:59:13.492Z"
   },
   {
    "duration": 422,
    "start_time": "2025-03-16T19:59:16.067Z"
   },
   {
    "duration": 10,
    "start_time": "2025-03-16T19:59:16.490Z"
   },
   {
    "duration": 8,
    "start_time": "2025-03-16T19:59:16.503Z"
   },
   {
    "duration": 21,
    "start_time": "2025-03-16T19:59:16.513Z"
   },
   {
    "duration": 6,
    "start_time": "2025-03-16T19:59:16.536Z"
   },
   {
    "duration": 43,
    "start_time": "2025-03-16T19:59:16.544Z"
   },
   {
    "duration": 10,
    "start_time": "2025-03-16T19:59:16.588Z"
   },
   {
    "duration": 33,
    "start_time": "2025-03-16T19:59:16.599Z"
   },
   {
    "duration": 7,
    "start_time": "2025-03-16T19:59:16.636Z"
   },
   {
    "duration": 3,
    "start_time": "2025-03-16T19:59:16.645Z"
   },
   {
    "duration": 5,
    "start_time": "2025-03-16T19:59:16.649Z"
   },
   {
    "duration": 4,
    "start_time": "2025-03-16T19:59:16.655Z"
   },
   {
    "duration": 5,
    "start_time": "2025-03-16T19:59:16.661Z"
   },
   {
    "duration": 4,
    "start_time": "2025-03-16T19:59:16.667Z"
   },
   {
    "duration": 9,
    "start_time": "2025-03-16T19:59:16.673Z"
   },
   {
    "duration": 4,
    "start_time": "2025-03-16T19:59:16.683Z"
   },
   {
    "duration": 49,
    "start_time": "2025-03-16T19:59:16.689Z"
   },
   {
    "duration": 3,
    "start_time": "2025-03-16T19:59:16.740Z"
   },
   {
    "duration": 4,
    "start_time": "2025-03-16T19:59:16.745Z"
   },
   {
    "duration": 8,
    "start_time": "2025-03-16T19:59:16.750Z"
   },
   {
    "duration": 3,
    "start_time": "2025-03-16T19:59:16.760Z"
   },
   {
    "duration": 22,
    "start_time": "2025-03-16T19:59:16.765Z"
   },
   {
    "duration": 54,
    "start_time": "2025-03-16T19:59:16.788Z"
   },
   {
    "duration": 11,
    "start_time": "2025-03-16T19:59:16.844Z"
   },
   {
    "duration": 9,
    "start_time": "2025-03-16T19:59:16.857Z"
   },
   {
    "duration": 12,
    "start_time": "2025-03-16T19:59:16.867Z"
   },
   {
    "duration": 5,
    "start_time": "2025-03-16T19:59:16.883Z"
   },
   {
    "duration": 12,
    "start_time": "2025-03-16T19:59:16.890Z"
   },
   {
    "duration": 15,
    "start_time": "2025-03-16T19:59:16.932Z"
   },
   {
    "duration": 5,
    "start_time": "2025-03-16T19:59:16.948Z"
   },
   {
    "duration": 4,
    "start_time": "2025-03-16T19:59:16.955Z"
   },
   {
    "duration": 182,
    "start_time": "2025-03-16T19:59:16.960Z"
   },
   {
    "duration": 169,
    "start_time": "2025-03-16T19:59:17.144Z"
   },
   {
    "duration": 3,
    "start_time": "2025-03-16T19:59:17.315Z"
   },
   {
    "duration": 38,
    "start_time": "2025-03-16T19:59:17.331Z"
   },
   {
    "duration": 3,
    "start_time": "2025-03-16T19:59:17.371Z"
   },
   {
    "duration": 74,
    "start_time": "2025-03-16T19:59:17.375Z"
   },
   {
    "duration": 31,
    "start_time": "2025-03-16T19:59:17.450Z"
   },
   {
    "duration": 131,
    "start_time": "2025-03-16T19:59:17.482Z"
   },
   {
    "duration": 41,
    "start_time": "2025-03-16T19:59:17.614Z"
   },
   {
    "duration": 48,
    "start_time": "2025-03-16T19:59:17.657Z"
   },
   {
    "duration": 31,
    "start_time": "2025-03-16T19:59:17.706Z"
   },
   {
    "duration": 28,
    "start_time": "2025-03-16T19:59:17.739Z"
   },
   {
    "duration": 20,
    "start_time": "2025-03-16T19:59:17.769Z"
   },
   {
    "duration": 4,
    "start_time": "2025-03-16T19:59:17.791Z"
   },
   {
    "duration": 7,
    "start_time": "2025-03-16T19:59:17.796Z"
   },
   {
    "duration": 32,
    "start_time": "2025-03-16T19:59:17.805Z"
   },
   {
    "duration": 7,
    "start_time": "2025-03-16T19:59:17.839Z"
   },
   {
    "duration": 8,
    "start_time": "2025-03-16T19:59:17.847Z"
   },
   {
    "duration": 7,
    "start_time": "2025-03-16T19:59:17.857Z"
   },
   {
    "duration": 12,
    "start_time": "2025-03-16T19:59:17.865Z"
   },
   {
    "duration": 85,
    "start_time": "2025-03-16T19:59:17.879Z"
   },
   {
    "duration": 33,
    "start_time": "2025-03-16T19:59:17.966Z"
   },
   {
    "duration": 43,
    "start_time": "2025-03-16T19:59:18.001Z"
   },
   {
    "duration": 14,
    "start_time": "2025-03-16T19:59:18.046Z"
   },
   {
    "duration": 35,
    "start_time": "2025-03-16T19:59:18.062Z"
   },
   {
    "duration": 12,
    "start_time": "2025-03-16T19:59:50.488Z"
   },
   {
    "duration": 826,
    "start_time": "2025-03-16T20:03:27.628Z"
   },
   {
    "duration": 344,
    "start_time": "2025-03-16T20:03:28.456Z"
   },
   {
    "duration": 8,
    "start_time": "2025-03-16T20:03:28.802Z"
   },
   {
    "duration": 19,
    "start_time": "2025-03-16T20:03:28.813Z"
   },
   {
    "duration": 14,
    "start_time": "2025-03-16T20:03:28.833Z"
   },
   {
    "duration": 6,
    "start_time": "2025-03-16T20:03:28.849Z"
   },
   {
    "duration": 43,
    "start_time": "2025-03-16T20:03:28.857Z"
   },
   {
    "duration": 31,
    "start_time": "2025-03-16T20:03:28.902Z"
   },
   {
    "duration": 8,
    "start_time": "2025-03-16T20:03:28.935Z"
   },
   {
    "duration": 7,
    "start_time": "2025-03-16T20:03:28.946Z"
   },
   {
    "duration": 4,
    "start_time": "2025-03-16T20:03:28.955Z"
   },
   {
    "duration": 4,
    "start_time": "2025-03-16T20:03:28.960Z"
   },
   {
    "duration": 4,
    "start_time": "2025-03-16T20:03:28.966Z"
   },
   {
    "duration": 5,
    "start_time": "2025-03-16T20:03:28.971Z"
   },
   {
    "duration": 3,
    "start_time": "2025-03-16T20:03:28.978Z"
   },
   {
    "duration": 53,
    "start_time": "2025-03-16T20:03:28.983Z"
   },
   {
    "duration": 4,
    "start_time": "2025-03-16T20:03:29.038Z"
   },
   {
    "duration": 8,
    "start_time": "2025-03-16T20:03:29.043Z"
   },
   {
    "duration": 4,
    "start_time": "2025-03-16T20:03:29.053Z"
   },
   {
    "duration": 3,
    "start_time": "2025-03-16T20:03:29.059Z"
   },
   {
    "duration": 8,
    "start_time": "2025-03-16T20:03:29.064Z"
   },
   {
    "duration": 3,
    "start_time": "2025-03-16T20:03:29.074Z"
   },
   {
    "duration": 55,
    "start_time": "2025-03-16T20:03:29.079Z"
   },
   {
    "duration": 19,
    "start_time": "2025-03-16T20:03:29.136Z"
   },
   {
    "duration": 11,
    "start_time": "2025-03-16T20:03:29.157Z"
   },
   {
    "duration": 8,
    "start_time": "2025-03-16T20:03:29.170Z"
   },
   {
    "duration": 11,
    "start_time": "2025-03-16T20:03:29.181Z"
   },
   {
    "duration": 4,
    "start_time": "2025-03-16T20:03:29.197Z"
   },
   {
    "duration": 13,
    "start_time": "2025-03-16T20:03:29.231Z"
   },
   {
    "duration": 13,
    "start_time": "2025-03-16T20:03:29.246Z"
   },
   {
    "duration": 2,
    "start_time": "2025-03-16T20:03:29.261Z"
   },
   {
    "duration": 5,
    "start_time": "2025-03-16T20:03:29.265Z"
   },
   {
    "duration": 199,
    "start_time": "2025-03-16T20:03:29.272Z"
   },
   {
    "duration": 155,
    "start_time": "2025-03-16T20:03:29.473Z"
   },
   {
    "duration": 4,
    "start_time": "2025-03-16T20:03:29.631Z"
   },
   {
    "duration": 38,
    "start_time": "2025-03-16T20:03:29.637Z"
   },
   {
    "duration": 3,
    "start_time": "2025-03-16T20:03:29.677Z"
   },
   {
    "duration": 81,
    "start_time": "2025-03-16T20:03:29.682Z"
   },
   {
    "duration": 31,
    "start_time": "2025-03-16T20:03:29.765Z"
   },
   {
    "duration": 134,
    "start_time": "2025-03-16T20:03:29.797Z"
   },
   {
    "duration": 31,
    "start_time": "2025-03-16T20:03:29.933Z"
   },
   {
    "duration": 44,
    "start_time": "2025-03-16T20:03:29.965Z"
   },
   {
    "duration": 30,
    "start_time": "2025-03-16T20:03:30.011Z"
   },
   {
    "duration": 12,
    "start_time": "2025-03-16T20:03:30.042Z"
   },
   {
    "duration": 2,
    "start_time": "2025-03-16T20:03:30.055Z"
   },
   {
    "duration": 22,
    "start_time": "2025-03-16T20:03:30.058Z"
   },
   {
    "duration": 3,
    "start_time": "2025-03-16T20:03:30.081Z"
   },
   {
    "duration": 8,
    "start_time": "2025-03-16T20:03:30.086Z"
   },
   {
    "duration": 40,
    "start_time": "2025-03-16T20:03:30.095Z"
   },
   {
    "duration": 6,
    "start_time": "2025-03-16T20:03:30.137Z"
   },
   {
    "duration": 8,
    "start_time": "2025-03-16T20:03:30.144Z"
   },
   {
    "duration": 7,
    "start_time": "2025-03-16T20:03:30.153Z"
   },
   {
    "duration": 3,
    "start_time": "2025-03-16T20:03:30.161Z"
   },
   {
    "duration": 3,
    "start_time": "2025-03-16T20:03:30.165Z"
   },
   {
    "duration": 3,
    "start_time": "2025-03-16T20:03:30.170Z"
   },
   {
    "duration": 68,
    "start_time": "2025-03-16T20:03:30.175Z"
   },
   {
    "duration": 14,
    "start_time": "2025-03-16T20:03:30.245Z"
   },
   {
    "duration": 32,
    "start_time": "2025-03-16T20:03:30.261Z"
   },
   {
    "duration": 822,
    "start_time": "2025-03-16T20:09:53.189Z"
   },
   {
    "duration": 333,
    "start_time": "2025-03-16T20:09:54.013Z"
   },
   {
    "duration": 9,
    "start_time": "2025-03-16T20:09:54.348Z"
   },
   {
    "duration": 9,
    "start_time": "2025-03-16T20:09:54.359Z"
   },
   {
    "duration": 13,
    "start_time": "2025-03-16T20:09:54.370Z"
   },
   {
    "duration": 6,
    "start_time": "2025-03-16T20:09:54.385Z"
   },
   {
    "duration": 78,
    "start_time": "2025-03-16T20:09:54.393Z"
   },
   {
    "duration": 8,
    "start_time": "2025-03-16T20:09:54.474Z"
   },
   {
    "duration": 11,
    "start_time": "2025-03-16T20:09:54.484Z"
   },
   {
    "duration": 6,
    "start_time": "2025-03-16T20:09:54.497Z"
   },
   {
    "duration": 4,
    "start_time": "2025-03-16T20:09:54.504Z"
   },
   {
    "duration": 25,
    "start_time": "2025-03-16T20:09:54.509Z"
   },
   {
    "duration": 4,
    "start_time": "2025-03-16T20:09:54.536Z"
   },
   {
    "duration": 5,
    "start_time": "2025-03-16T20:09:54.543Z"
   },
   {
    "duration": 4,
    "start_time": "2025-03-16T20:09:54.550Z"
   },
   {
    "duration": 7,
    "start_time": "2025-03-16T20:09:54.557Z"
   },
   {
    "duration": 3,
    "start_time": "2025-03-16T20:09:54.566Z"
   },
   {
    "duration": 8,
    "start_time": "2025-03-16T20:09:54.571Z"
   },
   {
    "duration": 4,
    "start_time": "2025-03-16T20:09:54.581Z"
   },
   {
    "duration": 44,
    "start_time": "2025-03-16T20:09:54.587Z"
   },
   {
    "duration": 9,
    "start_time": "2025-03-16T20:09:54.633Z"
   },
   {
    "duration": 4,
    "start_time": "2025-03-16T20:09:54.644Z"
   },
   {
    "duration": 22,
    "start_time": "2025-03-16T20:09:54.650Z"
   },
   {
    "duration": 20,
    "start_time": "2025-03-16T20:09:54.674Z"
   },
   {
    "duration": 36,
    "start_time": "2025-03-16T20:09:54.696Z"
   },
   {
    "duration": 8,
    "start_time": "2025-03-16T20:09:54.734Z"
   },
   {
    "duration": 12,
    "start_time": "2025-03-16T20:09:54.744Z"
   },
   {
    "duration": 5,
    "start_time": "2025-03-16T20:09:54.757Z"
   },
   {
    "duration": 12,
    "start_time": "2025-03-16T20:09:54.764Z"
   },
   {
    "duration": 14,
    "start_time": "2025-03-16T20:09:54.778Z"
   },
   {
    "duration": 2,
    "start_time": "2025-03-16T20:09:54.793Z"
   },
   {
    "duration": 38,
    "start_time": "2025-03-16T20:09:54.796Z"
   },
   {
    "duration": 170,
    "start_time": "2025-03-16T20:09:54.835Z"
   },
   {
    "duration": 159,
    "start_time": "2025-03-16T20:09:55.006Z"
   },
   {
    "duration": 4,
    "start_time": "2025-03-16T20:09:55.167Z"
   },
   {
    "duration": 39,
    "start_time": "2025-03-16T20:09:55.172Z"
   },
   {
    "duration": 18,
    "start_time": "2025-03-16T20:09:55.213Z"
   },
   {
    "duration": 66,
    "start_time": "2025-03-16T20:09:55.232Z"
   },
   {
    "duration": 38,
    "start_time": "2025-03-16T20:09:55.300Z"
   },
   {
    "duration": 131,
    "start_time": "2025-03-16T20:09:55.339Z"
   },
   {
    "duration": 33,
    "start_time": "2025-03-16T20:09:55.475Z"
   },
   {
    "duration": 54,
    "start_time": "2025-03-16T20:09:55.510Z"
   },
   {
    "duration": 19,
    "start_time": "2025-03-16T20:09:55.566Z"
   },
   {
    "duration": 11,
    "start_time": "2025-03-16T20:09:55.587Z"
   },
   {
    "duration": 2,
    "start_time": "2025-03-16T20:09:55.600Z"
   },
   {
    "duration": 42,
    "start_time": "2025-03-16T20:09:55.604Z"
   },
   {
    "duration": 3,
    "start_time": "2025-03-16T20:09:55.648Z"
   },
   {
    "duration": 7,
    "start_time": "2025-03-16T20:09:55.653Z"
   },
   {
    "duration": 7,
    "start_time": "2025-03-16T20:09:55.661Z"
   },
   {
    "duration": 6,
    "start_time": "2025-03-16T20:09:55.669Z"
   },
   {
    "duration": 8,
    "start_time": "2025-03-16T20:09:55.677Z"
   },
   {
    "duration": 6,
    "start_time": "2025-03-16T20:09:55.687Z"
   },
   {
    "duration": 37,
    "start_time": "2025-03-16T20:09:55.695Z"
   },
   {
    "duration": 3,
    "start_time": "2025-03-16T20:09:55.734Z"
   },
   {
    "duration": 2,
    "start_time": "2025-03-16T20:09:55.739Z"
   },
   {
    "duration": 130,
    "start_time": "2025-03-16T20:09:55.743Z"
   },
   {
    "duration": 38,
    "start_time": "2025-03-16T20:09:55.874Z"
   },
   {
    "duration": 28,
    "start_time": "2025-03-16T20:09:55.914Z"
   },
   {
    "duration": 32,
    "start_time": "2025-03-16T20:09:55.943Z"
   },
   {
    "duration": 792,
    "start_time": "2025-03-16T20:10:33.328Z"
   },
   {
    "duration": 343,
    "start_time": "2025-03-16T20:10:34.122Z"
   },
   {
    "duration": 8,
    "start_time": "2025-03-16T20:10:34.468Z"
   },
   {
    "duration": 9,
    "start_time": "2025-03-16T20:10:34.479Z"
   },
   {
    "duration": 12,
    "start_time": "2025-03-16T20:10:34.490Z"
   },
   {
    "duration": 27,
    "start_time": "2025-03-16T20:10:34.504Z"
   },
   {
    "duration": 41,
    "start_time": "2025-03-16T20:10:34.533Z"
   },
   {
    "duration": 8,
    "start_time": "2025-03-16T20:10:34.576Z"
   },
   {
    "duration": 8,
    "start_time": "2025-03-16T20:10:34.586Z"
   },
   {
    "duration": 6,
    "start_time": "2025-03-16T20:10:34.597Z"
   },
   {
    "duration": 29,
    "start_time": "2025-03-16T20:10:34.604Z"
   },
   {
    "duration": 5,
    "start_time": "2025-03-16T20:10:34.635Z"
   },
   {
    "duration": 4,
    "start_time": "2025-03-16T20:10:34.642Z"
   },
   {
    "duration": 5,
    "start_time": "2025-03-16T20:10:34.648Z"
   },
   {
    "duration": 4,
    "start_time": "2025-03-16T20:10:34.654Z"
   },
   {
    "duration": 10,
    "start_time": "2025-03-16T20:10:34.660Z"
   },
   {
    "duration": 4,
    "start_time": "2025-03-16T20:10:34.672Z"
   },
   {
    "duration": 9,
    "start_time": "2025-03-16T20:10:34.677Z"
   },
   {
    "duration": 46,
    "start_time": "2025-03-16T20:10:34.688Z"
   },
   {
    "duration": 4,
    "start_time": "2025-03-16T20:10:34.735Z"
   },
   {
    "duration": 9,
    "start_time": "2025-03-16T20:10:34.740Z"
   },
   {
    "duration": 4,
    "start_time": "2025-03-16T20:10:34.751Z"
   },
   {
    "duration": 25,
    "start_time": "2025-03-16T20:10:34.756Z"
   },
   {
    "duration": 20,
    "start_time": "2025-03-16T20:10:34.783Z"
   },
   {
    "duration": 11,
    "start_time": "2025-03-16T20:10:34.832Z"
   },
   {
    "duration": 8,
    "start_time": "2025-03-16T20:10:34.844Z"
   },
   {
    "duration": 12,
    "start_time": "2025-03-16T20:10:34.854Z"
   },
   {
    "duration": 4,
    "start_time": "2025-03-16T20:10:34.872Z"
   },
   {
    "duration": 13,
    "start_time": "2025-03-16T20:10:34.878Z"
   },
   {
    "duration": 46,
    "start_time": "2025-03-16T20:10:34.893Z"
   },
   {
    "duration": 2,
    "start_time": "2025-03-16T20:10:34.941Z"
   },
   {
    "duration": 4,
    "start_time": "2025-03-16T20:10:34.945Z"
   },
   {
    "duration": 172,
    "start_time": "2025-03-16T20:10:34.950Z"
   },
   {
    "duration": 164,
    "start_time": "2025-03-16T20:10:35.124Z"
   },
   {
    "duration": 4,
    "start_time": "2025-03-16T20:10:35.290Z"
   },
   {
    "duration": 50,
    "start_time": "2025-03-16T20:10:35.296Z"
   },
   {
    "duration": 3,
    "start_time": "2025-03-16T20:10:35.348Z"
   },
   {
    "duration": 78,
    "start_time": "2025-03-16T20:10:35.353Z"
   },
   {
    "duration": 30,
    "start_time": "2025-03-16T20:10:35.434Z"
   },
   {
    "duration": 128,
    "start_time": "2025-03-16T20:10:35.465Z"
   },
   {
    "duration": 39,
    "start_time": "2025-03-16T20:10:35.595Z"
   },
   {
    "duration": 42,
    "start_time": "2025-03-16T20:10:35.636Z"
   },
   {
    "duration": 16,
    "start_time": "2025-03-16T20:10:35.680Z"
   },
   {
    "duration": 12,
    "start_time": "2025-03-16T20:10:35.697Z"
   },
   {
    "duration": 3,
    "start_time": "2025-03-16T20:10:35.732Z"
   },
   {
    "duration": 28,
    "start_time": "2025-03-16T20:10:35.736Z"
   },
   {
    "duration": 3,
    "start_time": "2025-03-16T20:10:35.766Z"
   },
   {
    "duration": 8,
    "start_time": "2025-03-16T20:10:35.772Z"
   },
   {
    "duration": 9,
    "start_time": "2025-03-16T20:10:35.782Z"
   },
   {
    "duration": 39,
    "start_time": "2025-03-16T20:10:35.792Z"
   },
   {
    "duration": 8,
    "start_time": "2025-03-16T20:10:35.833Z"
   },
   {
    "duration": 7,
    "start_time": "2025-03-16T20:10:35.843Z"
   },
   {
    "duration": 3,
    "start_time": "2025-03-16T20:10:35.851Z"
   },
   {
    "duration": 3,
    "start_time": "2025-03-16T20:10:35.856Z"
   },
   {
    "duration": 3,
    "start_time": "2025-03-16T20:10:35.860Z"
   },
   {
    "duration": 149,
    "start_time": "2025-03-16T20:10:35.865Z"
   },
   {
    "duration": 20,
    "start_time": "2025-03-16T20:10:36.016Z"
   },
   {
    "duration": 15,
    "start_time": "2025-03-16T20:10:36.038Z"
   },
   {
    "duration": 12,
    "start_time": "2025-03-16T20:10:36.055Z"
   },
   {
    "duration": 874,
    "start_time": "2025-03-16T20:13:33.646Z"
   },
   {
    "duration": 345,
    "start_time": "2025-03-16T20:13:34.522Z"
   },
   {
    "duration": 9,
    "start_time": "2025-03-16T20:13:34.869Z"
   },
   {
    "duration": 8,
    "start_time": "2025-03-16T20:13:34.881Z"
   },
   {
    "duration": 13,
    "start_time": "2025-03-16T20:13:34.890Z"
   },
   {
    "duration": 6,
    "start_time": "2025-03-16T20:13:34.905Z"
   },
   {
    "duration": 41,
    "start_time": "2025-03-16T20:13:34.932Z"
   },
   {
    "duration": 9,
    "start_time": "2025-03-16T20:13:34.975Z"
   },
   {
    "duration": 8,
    "start_time": "2025-03-16T20:13:34.985Z"
   },
   {
    "duration": 6,
    "start_time": "2025-03-16T20:13:34.996Z"
   },
   {
    "duration": 29,
    "start_time": "2025-03-16T20:13:35.003Z"
   },
   {
    "duration": 5,
    "start_time": "2025-03-16T20:13:35.033Z"
   },
   {
    "duration": 3,
    "start_time": "2025-03-16T20:13:35.040Z"
   },
   {
    "duration": 5,
    "start_time": "2025-03-16T20:13:35.045Z"
   },
   {
    "duration": 3,
    "start_time": "2025-03-16T20:13:35.052Z"
   },
   {
    "duration": 8,
    "start_time": "2025-03-16T20:13:35.057Z"
   },
   {
    "duration": 3,
    "start_time": "2025-03-16T20:13:35.067Z"
   },
   {
    "duration": 9,
    "start_time": "2025-03-16T20:13:35.071Z"
   },
   {
    "duration": 5,
    "start_time": "2025-03-16T20:13:35.082Z"
   },
   {
    "duration": 43,
    "start_time": "2025-03-16T20:13:35.088Z"
   },
   {
    "duration": 9,
    "start_time": "2025-03-16T20:13:35.133Z"
   },
   {
    "duration": 4,
    "start_time": "2025-03-16T20:13:35.143Z"
   },
   {
    "duration": 24,
    "start_time": "2025-03-16T20:13:35.148Z"
   },
   {
    "duration": 21,
    "start_time": "2025-03-16T20:13:35.174Z"
   },
   {
    "duration": 40,
    "start_time": "2025-03-16T20:13:35.197Z"
   },
   {
    "duration": 9,
    "start_time": "2025-03-16T20:13:35.238Z"
   },
   {
    "duration": 12,
    "start_time": "2025-03-16T20:13:35.248Z"
   },
   {
    "duration": 5,
    "start_time": "2025-03-16T20:13:35.264Z"
   },
   {
    "duration": 12,
    "start_time": "2025-03-16T20:13:35.271Z"
   },
   {
    "duration": 14,
    "start_time": "2025-03-16T20:13:35.285Z"
   },
   {
    "duration": 32,
    "start_time": "2025-03-16T20:13:35.300Z"
   },
   {
    "duration": 5,
    "start_time": "2025-03-16T20:13:35.334Z"
   },
   {
    "duration": 171,
    "start_time": "2025-03-16T20:13:35.341Z"
   },
   {
    "duration": 169,
    "start_time": "2025-03-16T20:13:35.514Z"
   },
   {
    "duration": 3,
    "start_time": "2025-03-16T20:13:35.685Z"
   },
   {
    "duration": 50,
    "start_time": "2025-03-16T20:13:35.690Z"
   },
   {
    "duration": 3,
    "start_time": "2025-03-16T20:13:35.742Z"
   },
   {
    "duration": 62,
    "start_time": "2025-03-16T20:13:35.747Z"
   },
   {
    "duration": 42,
    "start_time": "2025-03-16T20:13:35.810Z"
   },
   {
    "duration": 129,
    "start_time": "2025-03-16T20:13:35.854Z"
   },
   {
    "duration": 34,
    "start_time": "2025-03-16T20:13:35.985Z"
   },
   {
    "duration": 51,
    "start_time": "2025-03-16T20:13:36.021Z"
   },
   {
    "duration": 18,
    "start_time": "2025-03-16T20:13:36.074Z"
   },
   {
    "duration": 12,
    "start_time": "2025-03-16T20:13:36.094Z"
   },
   {
    "duration": 24,
    "start_time": "2025-03-16T20:13:36.107Z"
   },
   {
    "duration": 21,
    "start_time": "2025-03-16T20:13:36.133Z"
   },
   {
    "duration": 5,
    "start_time": "2025-03-16T20:13:36.157Z"
   },
   {
    "duration": 7,
    "start_time": "2025-03-16T20:13:36.164Z"
   },
   {
    "duration": 6,
    "start_time": "2025-03-16T20:13:36.173Z"
   },
   {
    "duration": 6,
    "start_time": "2025-03-16T20:13:36.181Z"
   },
   {
    "duration": 44,
    "start_time": "2025-03-16T20:13:36.188Z"
   },
   {
    "duration": 6,
    "start_time": "2025-03-16T20:13:36.234Z"
   },
   {
    "duration": 4,
    "start_time": "2025-03-16T20:13:36.242Z"
   },
   {
    "duration": 4,
    "start_time": "2025-03-16T20:13:36.247Z"
   },
   {
    "duration": 2,
    "start_time": "2025-03-16T20:13:36.253Z"
   },
   {
    "duration": 138,
    "start_time": "2025-03-16T20:13:36.257Z"
   },
   {
    "duration": 17,
    "start_time": "2025-03-16T20:13:36.397Z"
   },
   {
    "duration": 2,
    "start_time": "2025-03-16T20:13:36.415Z"
   },
   {
    "duration": 294,
    "start_time": "2025-03-16T20:13:36.419Z"
   },
   {
    "duration": 945,
    "start_time": "2025-03-16T20:14:26.343Z"
   },
   {
    "duration": 367,
    "start_time": "2025-03-16T20:14:27.291Z"
   },
   {
    "duration": 15,
    "start_time": "2025-03-16T20:14:27.661Z"
   },
   {
    "duration": 9,
    "start_time": "2025-03-16T20:14:27.680Z"
   },
   {
    "duration": 14,
    "start_time": "2025-03-16T20:14:27.690Z"
   },
   {
    "duration": 6,
    "start_time": "2025-03-16T20:14:27.705Z"
   },
   {
    "duration": 64,
    "start_time": "2025-03-16T20:14:27.713Z"
   },
   {
    "duration": 8,
    "start_time": "2025-03-16T20:14:27.780Z"
   },
   {
    "duration": 9,
    "start_time": "2025-03-16T20:14:27.790Z"
   },
   {
    "duration": 7,
    "start_time": "2025-03-16T20:14:27.801Z"
   },
   {
    "duration": 22,
    "start_time": "2025-03-16T20:14:27.810Z"
   },
   {
    "duration": 7,
    "start_time": "2025-03-16T20:14:27.835Z"
   },
   {
    "duration": 4,
    "start_time": "2025-03-16T20:14:27.844Z"
   },
   {
    "duration": 5,
    "start_time": "2025-03-16T20:14:27.849Z"
   },
   {
    "duration": 4,
    "start_time": "2025-03-16T20:14:27.855Z"
   },
   {
    "duration": 8,
    "start_time": "2025-03-16T20:14:27.862Z"
   },
   {
    "duration": 5,
    "start_time": "2025-03-16T20:14:27.871Z"
   },
   {
    "duration": 8,
    "start_time": "2025-03-16T20:14:27.877Z"
   },
   {
    "duration": 48,
    "start_time": "2025-03-16T20:14:27.886Z"
   },
   {
    "duration": 5,
    "start_time": "2025-03-16T20:14:27.935Z"
   },
   {
    "duration": 9,
    "start_time": "2025-03-16T20:14:27.942Z"
   },
   {
    "duration": 3,
    "start_time": "2025-03-16T20:14:27.952Z"
   },
   {
    "duration": 23,
    "start_time": "2025-03-16T20:14:27.957Z"
   },
   {
    "duration": 48,
    "start_time": "2025-03-16T20:14:27.983Z"
   },
   {
    "duration": 14,
    "start_time": "2025-03-16T20:14:28.033Z"
   },
   {
    "duration": 8,
    "start_time": "2025-03-16T20:14:28.049Z"
   },
   {
    "duration": 13,
    "start_time": "2025-03-16T20:14:28.059Z"
   },
   {
    "duration": 4,
    "start_time": "2025-03-16T20:14:28.077Z"
   },
   {
    "duration": 12,
    "start_time": "2025-03-16T20:14:28.083Z"
   },
   {
    "duration": 47,
    "start_time": "2025-03-16T20:14:28.096Z"
   },
   {
    "duration": 2,
    "start_time": "2025-03-16T20:14:28.146Z"
   },
   {
    "duration": 5,
    "start_time": "2025-03-16T20:14:28.150Z"
   },
   {
    "duration": 237,
    "start_time": "2025-03-16T20:14:28.157Z"
   },
   {
    "duration": 185,
    "start_time": "2025-03-16T20:14:28.396Z"
   },
   {
    "duration": 6,
    "start_time": "2025-03-16T20:14:28.583Z"
   },
   {
    "duration": 45,
    "start_time": "2025-03-16T20:14:28.590Z"
   },
   {
    "duration": 3,
    "start_time": "2025-03-16T20:14:28.637Z"
   },
   {
    "duration": 62,
    "start_time": "2025-03-16T20:14:28.641Z"
   },
   {
    "duration": 53,
    "start_time": "2025-03-16T20:14:28.705Z"
   },
   {
    "duration": 122,
    "start_time": "2025-03-16T20:14:28.761Z"
   },
   {
    "duration": 32,
    "start_time": "2025-03-16T20:14:28.885Z"
   },
   {
    "duration": 60,
    "start_time": "2025-03-16T20:14:28.932Z"
   },
   {
    "duration": 25,
    "start_time": "2025-03-16T20:14:28.994Z"
   },
   {
    "duration": 13,
    "start_time": "2025-03-16T20:14:29.031Z"
   },
   {
    "duration": 2,
    "start_time": "2025-03-16T20:14:29.045Z"
   },
   {
    "duration": 24,
    "start_time": "2025-03-16T20:14:29.049Z"
   },
   {
    "duration": 3,
    "start_time": "2025-03-16T20:14:29.075Z"
   },
   {
    "duration": 8,
    "start_time": "2025-03-16T20:14:29.080Z"
   },
   {
    "duration": 42,
    "start_time": "2025-03-16T20:14:29.090Z"
   },
   {
    "duration": 9,
    "start_time": "2025-03-16T20:14:29.134Z"
   },
   {
    "duration": 11,
    "start_time": "2025-03-16T20:14:29.144Z"
   },
   {
    "duration": 7,
    "start_time": "2025-03-16T20:14:29.157Z"
   },
   {
    "duration": 3,
    "start_time": "2025-03-16T20:14:29.166Z"
   },
   {
    "duration": 3,
    "start_time": "2025-03-16T20:14:29.171Z"
   },
   {
    "duration": 6,
    "start_time": "2025-03-16T20:14:29.176Z"
   },
   {
    "duration": 152,
    "start_time": "2025-03-16T20:14:29.185Z"
   },
   {
    "duration": 18,
    "start_time": "2025-03-16T20:14:29.339Z"
   },
   {
    "duration": 3,
    "start_time": "2025-03-16T20:14:29.359Z"
   },
   {
    "duration": 16,
    "start_time": "2025-03-16T20:14:29.364Z"
   },
   {
    "duration": 3290,
    "start_time": "2025-03-16T20:16:33.294Z"
   },
   {
    "duration": 954,
    "start_time": "2025-03-16T20:16:47.410Z"
   },
   {
    "duration": 363,
    "start_time": "2025-03-16T20:16:48.370Z"
   },
   {
    "duration": 9,
    "start_time": "2025-03-16T20:16:48.737Z"
   },
   {
    "duration": 10,
    "start_time": "2025-03-16T20:16:48.749Z"
   },
   {
    "duration": 14,
    "start_time": "2025-03-16T20:16:48.761Z"
   },
   {
    "duration": 7,
    "start_time": "2025-03-16T20:16:48.777Z"
   },
   {
    "duration": 67,
    "start_time": "2025-03-16T20:16:48.785Z"
   },
   {
    "duration": 9,
    "start_time": "2025-03-16T20:16:48.854Z"
   },
   {
    "duration": 11,
    "start_time": "2025-03-16T20:16:48.865Z"
   },
   {
    "duration": 5,
    "start_time": "2025-03-16T20:16:48.879Z"
   },
   {
    "duration": 3,
    "start_time": "2025-03-16T20:16:48.886Z"
   },
   {
    "duration": 4,
    "start_time": "2025-03-16T20:16:48.891Z"
   },
   {
    "duration": 37,
    "start_time": "2025-03-16T20:16:48.897Z"
   },
   {
    "duration": 7,
    "start_time": "2025-03-16T20:16:48.936Z"
   },
   {
    "duration": 4,
    "start_time": "2025-03-16T20:16:48.945Z"
   },
   {
    "duration": 9,
    "start_time": "2025-03-16T20:16:48.951Z"
   },
   {
    "duration": 4,
    "start_time": "2025-03-16T20:16:48.961Z"
   },
   {
    "duration": 11,
    "start_time": "2025-03-16T20:16:48.967Z"
   },
   {
    "duration": 4,
    "start_time": "2025-03-16T20:16:48.979Z"
   },
   {
    "duration": 3,
    "start_time": "2025-03-16T20:16:48.985Z"
   },
   {
    "duration": 44,
    "start_time": "2025-03-16T20:16:48.989Z"
   },
   {
    "duration": 3,
    "start_time": "2025-03-16T20:16:49.035Z"
   },
   {
    "duration": 26,
    "start_time": "2025-03-16T20:16:49.040Z"
   },
   {
    "duration": 32,
    "start_time": "2025-03-16T20:16:49.068Z"
   },
   {
    "duration": 35,
    "start_time": "2025-03-16T20:16:49.103Z"
   },
   {
    "duration": 12,
    "start_time": "2025-03-16T20:16:49.140Z"
   },
   {
    "duration": 17,
    "start_time": "2025-03-16T20:16:49.154Z"
   },
   {
    "duration": 6,
    "start_time": "2025-03-16T20:16:49.176Z"
   },
   {
    "duration": 16,
    "start_time": "2025-03-16T20:16:49.184Z"
   },
   {
    "duration": 42,
    "start_time": "2025-03-16T20:16:49.202Z"
   },
   {
    "duration": 2,
    "start_time": "2025-03-16T20:16:49.246Z"
   },
   {
    "duration": 5,
    "start_time": "2025-03-16T20:16:49.250Z"
   },
   {
    "duration": 181,
    "start_time": "2025-03-16T20:16:49.256Z"
   },
   {
    "duration": 173,
    "start_time": "2025-03-16T20:16:49.439Z"
   },
   {
    "duration": 4,
    "start_time": "2025-03-16T20:16:49.614Z"
   },
   {
    "duration": 37,
    "start_time": "2025-03-16T20:16:49.631Z"
   },
   {
    "duration": 3,
    "start_time": "2025-03-16T20:16:49.670Z"
   },
   {
    "duration": 72,
    "start_time": "2025-03-16T20:16:49.675Z"
   },
   {
    "duration": 43,
    "start_time": "2025-03-16T20:16:49.749Z"
   },
   {
    "duration": 129,
    "start_time": "2025-03-16T20:16:49.794Z"
   },
   {
    "duration": 32,
    "start_time": "2025-03-16T20:16:49.925Z"
   },
   {
    "duration": 43,
    "start_time": "2025-03-16T20:16:49.959Z"
   },
   {
    "duration": 31,
    "start_time": "2025-03-16T20:16:50.003Z"
   },
   {
    "duration": 12,
    "start_time": "2025-03-16T20:16:50.035Z"
   },
   {
    "duration": 1,
    "start_time": "2025-03-16T20:16:50.049Z"
   },
   {
    "duration": 20,
    "start_time": "2025-03-16T20:16:50.052Z"
   },
   {
    "duration": 4,
    "start_time": "2025-03-16T20:16:50.074Z"
   },
   {
    "duration": 8,
    "start_time": "2025-03-16T20:16:50.080Z"
   },
   {
    "duration": 51,
    "start_time": "2025-03-16T20:16:50.089Z"
   },
   {
    "duration": 7,
    "start_time": "2025-03-16T20:16:50.142Z"
   },
   {
    "duration": 9,
    "start_time": "2025-03-16T20:16:50.150Z"
   },
   {
    "duration": 7,
    "start_time": "2025-03-16T20:16:50.160Z"
   },
   {
    "duration": 2,
    "start_time": "2025-03-16T20:16:50.168Z"
   },
   {
    "duration": 2,
    "start_time": "2025-03-16T20:16:50.172Z"
   },
   {
    "duration": 2,
    "start_time": "2025-03-16T20:16:50.176Z"
   },
   {
    "duration": 154,
    "start_time": "2025-03-16T20:16:50.180Z"
   },
   {
    "duration": 16,
    "start_time": "2025-03-16T20:16:50.335Z"
   },
   {
    "duration": 2,
    "start_time": "2025-03-16T20:16:50.353Z"
   },
   {
    "duration": 13,
    "start_time": "2025-03-16T20:16:50.357Z"
   },
   {
    "duration": 3309,
    "start_time": "2025-03-16T20:16:50.372Z"
   },
   {
    "duration": 3419,
    "start_time": "2025-03-16T20:18:19.082Z"
   },
   {
    "duration": 3192,
    "start_time": "2025-03-16T20:19:55.596Z"
   },
   {
    "duration": 74,
    "start_time": "2025-03-16T20:29:51.314Z"
   },
   {
    "duration": 16,
    "start_time": "2025-03-16T20:36:32.541Z"
   },
   {
    "duration": 41,
    "start_time": "2025-03-16T20:37:44.480Z"
   },
   {
    "duration": 85,
    "start_time": "2025-03-16T20:39:45.442Z"
   },
   {
    "duration": 86,
    "start_time": "2025-03-16T20:40:21.440Z"
   },
   {
    "duration": 86,
    "start_time": "2025-03-16T20:40:26.249Z"
   },
   {
    "duration": 17,
    "start_time": "2025-03-16T20:43:28.271Z"
   },
   {
    "duration": 17,
    "start_time": "2025-03-16T20:44:06.005Z"
   },
   {
    "duration": 45,
    "start_time": "2025-03-16T20:46:25.238Z"
   },
   {
    "duration": 34,
    "start_time": "2025-03-16T20:46:41.682Z"
   },
   {
    "duration": 4,
    "start_time": "2025-03-16T20:47:10.751Z"
   },
   {
    "duration": 3404,
    "start_time": "2025-03-16T20:52:18.099Z"
   },
   {
    "duration": 3243,
    "start_time": "2025-03-16T20:56:24.007Z"
   },
   {
    "duration": 3212,
    "start_time": "2025-03-16T20:56:48.927Z"
   },
   {
    "duration": 4223,
    "start_time": "2025-03-16T20:57:53.918Z"
   },
   {
    "duration": 3556,
    "start_time": "2025-03-16T21:00:32.163Z"
   },
   {
    "duration": 3222,
    "start_time": "2025-03-16T21:07:41.515Z"
   },
   {
    "duration": 16,
    "start_time": "2025-03-16T21:08:42.206Z"
   },
   {
    "duration": 25,
    "start_time": "2025-03-16T21:12:42.112Z"
   },
   {
    "duration": 18,
    "start_time": "2025-03-16T21:34:56.881Z"
   },
   {
    "duration": 830,
    "start_time": "2025-03-16T21:35:07.626Z"
   },
   {
    "duration": 345,
    "start_time": "2025-03-16T21:35:08.458Z"
   },
   {
    "duration": 9,
    "start_time": "2025-03-16T21:35:08.804Z"
   },
   {
    "duration": 15,
    "start_time": "2025-03-16T21:35:08.816Z"
   },
   {
    "duration": 13,
    "start_time": "2025-03-16T21:35:08.833Z"
   },
   {
    "duration": 6,
    "start_time": "2025-03-16T21:35:08.847Z"
   },
   {
    "duration": 42,
    "start_time": "2025-03-16T21:35:08.855Z"
   },
   {
    "duration": 32,
    "start_time": "2025-03-16T21:35:08.899Z"
   },
   {
    "duration": 8,
    "start_time": "2025-03-16T21:35:08.933Z"
   },
   {
    "duration": 6,
    "start_time": "2025-03-16T21:35:08.945Z"
   },
   {
    "duration": 3,
    "start_time": "2025-03-16T21:35:08.953Z"
   },
   {
    "duration": 4,
    "start_time": "2025-03-16T21:35:08.958Z"
   },
   {
    "duration": 5,
    "start_time": "2025-03-16T21:35:08.963Z"
   },
   {
    "duration": 5,
    "start_time": "2025-03-16T21:35:08.969Z"
   },
   {
    "duration": 4,
    "start_time": "2025-03-16T21:35:08.975Z"
   },
   {
    "duration": 8,
    "start_time": "2025-03-16T21:35:08.981Z"
   },
   {
    "duration": 43,
    "start_time": "2025-03-16T21:35:08.991Z"
   },
   {
    "duration": 9,
    "start_time": "2025-03-16T21:35:09.035Z"
   },
   {
    "duration": 4,
    "start_time": "2025-03-16T21:35:09.045Z"
   },
   {
    "duration": 4,
    "start_time": "2025-03-16T21:35:09.051Z"
   },
   {
    "duration": 8,
    "start_time": "2025-03-16T21:35:09.056Z"
   },
   {
    "duration": 3,
    "start_time": "2025-03-16T21:35:09.066Z"
   },
   {
    "duration": 23,
    "start_time": "2025-03-16T21:35:09.071Z"
   },
   {
    "duration": 54,
    "start_time": "2025-03-16T21:35:09.096Z"
   },
   {
    "duration": 10,
    "start_time": "2025-03-16T21:35:09.152Z"
   },
   {
    "duration": 7,
    "start_time": "2025-03-16T21:35:09.165Z"
   },
   {
    "duration": 12,
    "start_time": "2025-03-16T21:35:09.174Z"
   },
   {
    "duration": 5,
    "start_time": "2025-03-16T21:35:09.190Z"
   },
   {
    "duration": 42,
    "start_time": "2025-03-16T21:35:09.197Z"
   },
   {
    "duration": 15,
    "start_time": "2025-03-16T21:35:09.240Z"
   },
   {
    "duration": 3,
    "start_time": "2025-03-16T21:35:09.256Z"
   },
   {
    "duration": 4,
    "start_time": "2025-03-16T21:35:09.260Z"
   },
   {
    "duration": 182,
    "start_time": "2025-03-16T21:35:09.266Z"
   },
   {
    "duration": 165,
    "start_time": "2025-03-16T21:35:09.450Z"
   },
   {
    "duration": 14,
    "start_time": "2025-03-16T21:35:09.617Z"
   },
   {
    "duration": 37,
    "start_time": "2025-03-16T21:35:09.633Z"
   },
   {
    "duration": 3,
    "start_time": "2025-03-16T21:35:09.672Z"
   },
   {
    "duration": 76,
    "start_time": "2025-03-16T21:35:09.677Z"
   },
   {
    "duration": 32,
    "start_time": "2025-03-16T21:35:09.754Z"
   },
   {
    "duration": 124,
    "start_time": "2025-03-16T21:35:09.787Z"
   },
   {
    "duration": 40,
    "start_time": "2025-03-16T21:35:09.912Z"
   },
   {
    "duration": 279,
    "start_time": "2025-03-16T21:35:09.953Z"
   },
   {
    "duration": 0,
    "start_time": "2025-03-16T21:35:10.233Z"
   },
   {
    "duration": 0,
    "start_time": "2025-03-16T21:35:10.234Z"
   },
   {
    "duration": 0,
    "start_time": "2025-03-16T21:35:10.236Z"
   },
   {
    "duration": 0,
    "start_time": "2025-03-16T21:35:10.237Z"
   },
   {
    "duration": 0,
    "start_time": "2025-03-16T21:35:10.238Z"
   },
   {
    "duration": 0,
    "start_time": "2025-03-16T21:35:10.240Z"
   },
   {
    "duration": 0,
    "start_time": "2025-03-16T21:35:10.241Z"
   },
   {
    "duration": 0,
    "start_time": "2025-03-16T21:35:10.242Z"
   },
   {
    "duration": 781,
    "start_time": "2025-03-16T21:36:04.633Z"
   },
   {
    "duration": 334,
    "start_time": "2025-03-16T21:36:05.416Z"
   },
   {
    "duration": 11,
    "start_time": "2025-03-16T21:36:05.752Z"
   },
   {
    "duration": 10,
    "start_time": "2025-03-16T21:36:05.765Z"
   },
   {
    "duration": 14,
    "start_time": "2025-03-16T21:36:05.777Z"
   },
   {
    "duration": 6,
    "start_time": "2025-03-16T21:36:05.793Z"
   },
   {
    "duration": 65,
    "start_time": "2025-03-16T21:36:05.801Z"
   },
   {
    "duration": 9,
    "start_time": "2025-03-16T21:36:05.867Z"
   },
   {
    "duration": 8,
    "start_time": "2025-03-16T21:36:05.878Z"
   },
   {
    "duration": 6,
    "start_time": "2025-03-16T21:36:05.890Z"
   },
   {
    "duration": 3,
    "start_time": "2025-03-16T21:36:05.898Z"
   },
   {
    "duration": 30,
    "start_time": "2025-03-16T21:36:05.902Z"
   },
   {
    "duration": 4,
    "start_time": "2025-03-16T21:36:05.933Z"
   },
   {
    "duration": 6,
    "start_time": "2025-03-16T21:36:05.938Z"
   },
   {
    "duration": 5,
    "start_time": "2025-03-16T21:36:05.945Z"
   },
   {
    "duration": 8,
    "start_time": "2025-03-16T21:36:05.951Z"
   },
   {
    "duration": 4,
    "start_time": "2025-03-16T21:36:05.960Z"
   },
   {
    "duration": 8,
    "start_time": "2025-03-16T21:36:05.965Z"
   },
   {
    "duration": 5,
    "start_time": "2025-03-16T21:36:05.975Z"
   },
   {
    "duration": 4,
    "start_time": "2025-03-16T21:36:05.981Z"
   },
   {
    "duration": 46,
    "start_time": "2025-03-16T21:36:05.986Z"
   },
   {
    "duration": 4,
    "start_time": "2025-03-16T21:36:06.034Z"
   },
   {
    "duration": 25,
    "start_time": "2025-03-16T21:36:06.039Z"
   },
   {
    "duration": 21,
    "start_time": "2025-03-16T21:36:06.066Z"
   },
   {
    "duration": 12,
    "start_time": "2025-03-16T21:36:06.089Z"
   },
   {
    "duration": 34,
    "start_time": "2025-03-16T21:36:06.102Z"
   },
   {
    "duration": 13,
    "start_time": "2025-03-16T21:36:06.137Z"
   },
   {
    "duration": 4,
    "start_time": "2025-03-16T21:36:06.154Z"
   },
   {
    "duration": 13,
    "start_time": "2025-03-16T21:36:06.160Z"
   },
   {
    "duration": 15,
    "start_time": "2025-03-16T21:36:06.174Z"
   },
   {
    "duration": 2,
    "start_time": "2025-03-16T21:36:06.190Z"
   },
   {
    "duration": 40,
    "start_time": "2025-03-16T21:36:06.194Z"
   },
   {
    "duration": 170,
    "start_time": "2025-03-16T21:36:06.236Z"
   },
   {
    "duration": 176,
    "start_time": "2025-03-16T21:36:06.408Z"
   },
   {
    "duration": 4,
    "start_time": "2025-03-16T21:36:06.585Z"
   },
   {
    "duration": 47,
    "start_time": "2025-03-16T21:36:06.591Z"
   },
   {
    "duration": 3,
    "start_time": "2025-03-16T21:36:06.640Z"
   },
   {
    "duration": 62,
    "start_time": "2025-03-16T21:36:06.644Z"
   },
   {
    "duration": 47,
    "start_time": "2025-03-16T21:36:06.708Z"
   },
   {
    "duration": 131,
    "start_time": "2025-03-16T21:36:06.757Z"
   },
   {
    "duration": 42,
    "start_time": "2025-03-16T21:36:06.890Z"
   },
   {
    "duration": 41,
    "start_time": "2025-03-16T21:36:06.933Z"
   },
   {
    "duration": 32,
    "start_time": "2025-03-16T21:36:06.976Z"
   },
   {
    "duration": 4,
    "start_time": "2025-03-16T21:36:07.010Z"
   },
   {
    "duration": 8,
    "start_time": "2025-03-16T21:36:07.032Z"
   },
   {
    "duration": 6,
    "start_time": "2025-03-16T21:36:07.042Z"
   },
   {
    "duration": 6,
    "start_time": "2025-03-16T21:36:07.050Z"
   },
   {
    "duration": 8,
    "start_time": "2025-03-16T21:36:07.057Z"
   },
   {
    "duration": 6,
    "start_time": "2025-03-16T21:36:07.067Z"
   },
   {
    "duration": 298,
    "start_time": "2025-03-16T21:36:07.075Z"
   },
   {
    "duration": 84,
    "start_time": "2025-03-16T21:36:51.249Z"
   },
   {
    "duration": 863,
    "start_time": "2025-03-16T21:37:11.558Z"
   },
   {
    "duration": 342,
    "start_time": "2025-03-16T21:37:12.424Z"
   },
   {
    "duration": 8,
    "start_time": "2025-03-16T21:37:12.768Z"
   },
   {
    "duration": 9,
    "start_time": "2025-03-16T21:37:12.779Z"
   },
   {
    "duration": 15,
    "start_time": "2025-03-16T21:37:12.790Z"
   },
   {
    "duration": 26,
    "start_time": "2025-03-16T21:37:12.806Z"
   },
   {
    "duration": 42,
    "start_time": "2025-03-16T21:37:12.833Z"
   },
   {
    "duration": 8,
    "start_time": "2025-03-16T21:37:12.877Z"
   },
   {
    "duration": 8,
    "start_time": "2025-03-16T21:37:12.887Z"
   },
   {
    "duration": 6,
    "start_time": "2025-03-16T21:37:12.897Z"
   },
   {
    "duration": 27,
    "start_time": "2025-03-16T21:37:12.905Z"
   },
   {
    "duration": 4,
    "start_time": "2025-03-16T21:37:12.934Z"
   },
   {
    "duration": 4,
    "start_time": "2025-03-16T21:37:12.939Z"
   },
   {
    "duration": 5,
    "start_time": "2025-03-16T21:37:12.947Z"
   },
   {
    "duration": 3,
    "start_time": "2025-03-16T21:37:12.954Z"
   },
   {
    "duration": 8,
    "start_time": "2025-03-16T21:37:12.959Z"
   },
   {
    "duration": 3,
    "start_time": "2025-03-16T21:37:12.969Z"
   },
   {
    "duration": 9,
    "start_time": "2025-03-16T21:37:12.973Z"
   },
   {
    "duration": 46,
    "start_time": "2025-03-16T21:37:12.985Z"
   },
   {
    "duration": 3,
    "start_time": "2025-03-16T21:37:13.033Z"
   },
   {
    "duration": 9,
    "start_time": "2025-03-16T21:37:13.037Z"
   },
   {
    "duration": 4,
    "start_time": "2025-03-16T21:37:13.047Z"
   },
   {
    "duration": 25,
    "start_time": "2025-03-16T21:37:13.052Z"
   },
   {
    "duration": 20,
    "start_time": "2025-03-16T21:37:13.079Z"
   },
   {
    "duration": 35,
    "start_time": "2025-03-16T21:37:13.101Z"
   },
   {
    "duration": 10,
    "start_time": "2025-03-16T21:37:13.137Z"
   },
   {
    "duration": 12,
    "start_time": "2025-03-16T21:37:13.148Z"
   },
   {
    "duration": 5,
    "start_time": "2025-03-16T21:37:13.162Z"
   },
   {
    "duration": 16,
    "start_time": "2025-03-16T21:37:13.168Z"
   },
   {
    "duration": 46,
    "start_time": "2025-03-16T21:37:13.186Z"
   },
   {
    "duration": 2,
    "start_time": "2025-03-16T21:37:13.234Z"
   },
   {
    "duration": 5,
    "start_time": "2025-03-16T21:37:13.238Z"
   },
   {
    "duration": 176,
    "start_time": "2025-03-16T21:37:13.244Z"
   },
   {
    "duration": 161,
    "start_time": "2025-03-16T21:37:13.422Z"
   },
   {
    "duration": 4,
    "start_time": "2025-03-16T21:37:13.584Z"
   },
   {
    "duration": 50,
    "start_time": "2025-03-16T21:37:13.589Z"
   },
   {
    "duration": 3,
    "start_time": "2025-03-16T21:37:13.641Z"
   },
   {
    "duration": 61,
    "start_time": "2025-03-16T21:37:13.646Z"
   },
   {
    "duration": 43,
    "start_time": "2025-03-16T21:37:13.709Z"
   },
   {
    "duration": 130,
    "start_time": "2025-03-16T21:37:13.755Z"
   },
   {
    "duration": 32,
    "start_time": "2025-03-16T21:37:13.889Z"
   },
   {
    "duration": 44,
    "start_time": "2025-03-16T21:37:13.923Z"
   },
   {
    "duration": 38,
    "start_time": "2025-03-16T21:37:13.969Z"
   },
   {
    "duration": 22,
    "start_time": "2025-03-16T21:37:14.009Z"
   },
   {
    "duration": 11,
    "start_time": "2025-03-16T21:37:14.033Z"
   },
   {
    "duration": 7,
    "start_time": "2025-03-16T21:37:14.046Z"
   },
   {
    "duration": 7,
    "start_time": "2025-03-16T21:37:14.054Z"
   },
   {
    "duration": 9,
    "start_time": "2025-03-16T21:37:14.062Z"
   },
   {
    "duration": 7,
    "start_time": "2025-03-16T21:37:14.072Z"
   },
   {
    "duration": 130,
    "start_time": "2025-03-16T21:37:14.081Z"
   },
   {
    "duration": 12130,
    "start_time": "2025-03-16T21:40:21.818Z"
   },
   {
    "duration": 12219,
    "start_time": "2025-03-16T21:40:41.580Z"
   },
   {
    "duration": 11975,
    "start_time": "2025-03-16T21:43:24.732Z"
   },
   {
    "duration": 18,
    "start_time": "2025-03-16T21:50:54.127Z"
   },
   {
    "duration": 72,
    "start_time": "2025-03-16T21:57:07.179Z"
   },
   {
    "duration": 78,
    "start_time": "2025-03-16T21:57:13.236Z"
   },
   {
    "duration": 17,
    "start_time": "2025-03-16T22:02:34.298Z"
   },
   {
    "duration": 819,
    "start_time": "2025-03-16T22:02:53.697Z"
   },
   {
    "duration": 358,
    "start_time": "2025-03-16T22:02:54.518Z"
   },
   {
    "duration": 9,
    "start_time": "2025-03-16T22:02:54.877Z"
   },
   {
    "duration": 9,
    "start_time": "2025-03-16T22:02:54.888Z"
   },
   {
    "duration": 14,
    "start_time": "2025-03-16T22:02:54.898Z"
   },
   {
    "duration": 23,
    "start_time": "2025-03-16T22:02:54.913Z"
   },
   {
    "duration": 44,
    "start_time": "2025-03-16T22:02:54.937Z"
   },
   {
    "duration": 8,
    "start_time": "2025-03-16T22:02:54.983Z"
   },
   {
    "duration": 8,
    "start_time": "2025-03-16T22:02:54.993Z"
   },
   {
    "duration": 7,
    "start_time": "2025-03-16T22:02:55.030Z"
   },
   {
    "duration": 4,
    "start_time": "2025-03-16T22:02:55.038Z"
   },
   {
    "duration": 6,
    "start_time": "2025-03-16T22:02:55.043Z"
   },
   {
    "duration": 4,
    "start_time": "2025-03-16T22:02:55.050Z"
   },
   {
    "duration": 4,
    "start_time": "2025-03-16T22:02:55.056Z"
   },
   {
    "duration": 4,
    "start_time": "2025-03-16T22:02:55.062Z"
   },
   {
    "duration": 8,
    "start_time": "2025-03-16T22:02:55.067Z"
   },
   {
    "duration": 4,
    "start_time": "2025-03-16T22:02:55.077Z"
   },
   {
    "duration": 8,
    "start_time": "2025-03-16T22:02:55.082Z"
   },
   {
    "duration": 4,
    "start_time": "2025-03-16T22:02:55.131Z"
   },
   {
    "duration": 5,
    "start_time": "2025-03-16T22:02:55.136Z"
   },
   {
    "duration": 9,
    "start_time": "2025-03-16T22:02:55.142Z"
   },
   {
    "duration": 4,
    "start_time": "2025-03-16T22:02:55.152Z"
   },
   {
    "duration": 22,
    "start_time": "2025-03-16T22:02:55.158Z"
   },
   {
    "duration": 49,
    "start_time": "2025-03-16T22:02:55.182Z"
   },
   {
    "duration": 11,
    "start_time": "2025-03-16T22:02:55.233Z"
   },
   {
    "duration": 9,
    "start_time": "2025-03-16T22:02:55.245Z"
   },
   {
    "duration": 12,
    "start_time": "2025-03-16T22:02:55.255Z"
   },
   {
    "duration": 5,
    "start_time": "2025-03-16T22:02:55.272Z"
   },
   {
    "duration": 12,
    "start_time": "2025-03-16T22:02:55.278Z"
   },
   {
    "duration": 52,
    "start_time": "2025-03-16T22:02:55.291Z"
   },
   {
    "duration": 4,
    "start_time": "2025-03-16T22:02:55.345Z"
   },
   {
    "duration": 175,
    "start_time": "2025-03-16T22:02:55.351Z"
   },
   {
    "duration": 152,
    "start_time": "2025-03-16T22:02:55.532Z"
   },
   {
    "duration": 4,
    "start_time": "2025-03-16T22:02:55.685Z"
   },
   {
    "duration": 50,
    "start_time": "2025-03-16T22:02:55.691Z"
   },
   {
    "duration": 4,
    "start_time": "2025-03-16T22:02:55.742Z"
   },
   {
    "duration": 62,
    "start_time": "2025-03-16T22:02:55.747Z"
   },
   {
    "duration": 44,
    "start_time": "2025-03-16T22:02:55.810Z"
   },
   {
    "duration": 124,
    "start_time": "2025-03-16T22:02:55.856Z"
   },
   {
    "duration": 31,
    "start_time": "2025-03-16T22:02:55.982Z"
   },
   {
    "duration": 56,
    "start_time": "2025-03-16T22:02:56.015Z"
   },
   {
    "duration": 34,
    "start_time": "2025-03-16T22:02:56.073Z"
   },
   {
    "duration": 23,
    "start_time": "2025-03-16T22:02:56.108Z"
   },
   {
    "duration": 9,
    "start_time": "2025-03-16T22:02:56.132Z"
   },
   {
    "duration": 6,
    "start_time": "2025-03-16T22:02:56.142Z"
   },
   {
    "duration": 5,
    "start_time": "2025-03-16T22:02:56.150Z"
   },
   {
    "duration": 9,
    "start_time": "2025-03-16T22:02:56.157Z"
   },
   {
    "duration": 6,
    "start_time": "2025-03-16T22:02:56.167Z"
   },
   {
    "duration": 114,
    "start_time": "2025-03-16T22:02:56.176Z"
   },
   {
    "duration": 17,
    "start_time": "2025-03-16T22:02:56.291Z"
   },
   {
    "duration": 5,
    "start_time": "2025-03-16T22:04:13.817Z"
   },
   {
    "duration": 4,
    "start_time": "2025-03-16T22:04:22.848Z"
   },
   {
    "duration": 4,
    "start_time": "2025-03-16T22:04:36.651Z"
   },
   {
    "duration": 9,
    "start_time": "2025-03-16T22:04:44.174Z"
   },
   {
    "duration": 21,
    "start_time": "2025-03-16T22:08:35.251Z"
   },
   {
    "duration": 82,
    "start_time": "2025-03-16T22:09:45.015Z"
   },
   {
    "duration": 80,
    "start_time": "2025-03-16T22:10:39.862Z"
   },
   {
    "duration": 82,
    "start_time": "2025-03-16T22:10:58.256Z"
   },
   {
    "duration": 37,
    "start_time": "2025-03-16T22:14:16.573Z"
   },
   {
    "duration": 34,
    "start_time": "2025-03-16T22:16:27.323Z"
   },
   {
    "duration": 38,
    "start_time": "2025-03-16T22:19:56.600Z"
   },
   {
    "duration": 76,
    "start_time": "2025-03-16T22:22:30.985Z"
   },
   {
    "duration": 80,
    "start_time": "2025-03-16T22:23:27.338Z"
   },
   {
    "duration": 815,
    "start_time": "2025-03-16T22:24:17.216Z"
   },
   {
    "duration": 361,
    "start_time": "2025-03-16T22:24:18.033Z"
   },
   {
    "duration": 8,
    "start_time": "2025-03-16T22:24:18.396Z"
   },
   {
    "duration": 8,
    "start_time": "2025-03-16T22:24:18.406Z"
   },
   {
    "duration": 26,
    "start_time": "2025-03-16T22:24:18.416Z"
   },
   {
    "duration": 6,
    "start_time": "2025-03-16T22:24:18.443Z"
   },
   {
    "duration": 41,
    "start_time": "2025-03-16T22:24:18.451Z"
   },
   {
    "duration": 8,
    "start_time": "2025-03-16T22:24:18.493Z"
   },
   {
    "duration": 33,
    "start_time": "2025-03-16T22:24:18.503Z"
   },
   {
    "duration": 5,
    "start_time": "2025-03-16T22:24:18.540Z"
   },
   {
    "duration": 4,
    "start_time": "2025-03-16T22:24:18.547Z"
   },
   {
    "duration": 4,
    "start_time": "2025-03-16T22:24:18.553Z"
   },
   {
    "duration": 3,
    "start_time": "2025-03-16T22:24:18.559Z"
   },
   {
    "duration": 6,
    "start_time": "2025-03-16T22:24:18.563Z"
   },
   {
    "duration": 4,
    "start_time": "2025-03-16T22:24:18.570Z"
   },
   {
    "duration": 9,
    "start_time": "2025-03-16T22:24:18.576Z"
   },
   {
    "duration": 4,
    "start_time": "2025-03-16T22:24:18.586Z"
   },
   {
    "duration": 8,
    "start_time": "2025-03-16T22:24:18.632Z"
   },
   {
    "duration": 5,
    "start_time": "2025-03-16T22:24:18.642Z"
   },
   {
    "duration": 4,
    "start_time": "2025-03-16T22:24:18.648Z"
   },
   {
    "duration": 13,
    "start_time": "2025-03-16T22:24:18.654Z"
   },
   {
    "duration": 5,
    "start_time": "2025-03-16T22:24:18.675Z"
   },
   {
    "duration": 23,
    "start_time": "2025-03-16T22:24:18.681Z"
   },
   {
    "duration": 46,
    "start_time": "2025-03-16T22:24:18.706Z"
   },
   {
    "duration": 11,
    "start_time": "2025-03-16T22:24:18.753Z"
   },
   {
    "duration": 8,
    "start_time": "2025-03-16T22:24:18.766Z"
   },
   {
    "duration": 12,
    "start_time": "2025-03-16T22:24:18.776Z"
   },
   {
    "duration": 5,
    "start_time": "2025-03-16T22:24:18.792Z"
   },
   {
    "duration": 38,
    "start_time": "2025-03-16T22:24:18.798Z"
   },
   {
    "duration": 17,
    "start_time": "2025-03-16T22:24:18.838Z"
   },
   {
    "duration": 3,
    "start_time": "2025-03-16T22:24:18.857Z"
   },
   {
    "duration": 175,
    "start_time": "2025-03-16T22:24:18.862Z"
   },
   {
    "duration": 160,
    "start_time": "2025-03-16T22:24:19.038Z"
   },
   {
    "duration": 4,
    "start_time": "2025-03-16T22:24:19.199Z"
   },
   {
    "duration": 47,
    "start_time": "2025-03-16T22:24:19.205Z"
   },
   {
    "duration": 4,
    "start_time": "2025-03-16T22:24:19.254Z"
   },
   {
    "duration": 89,
    "start_time": "2025-03-16T22:24:19.260Z"
   },
   {
    "duration": 30,
    "start_time": "2025-03-16T22:24:19.351Z"
   },
   {
    "duration": 127,
    "start_time": "2025-03-16T22:24:19.383Z"
   },
   {
    "duration": 39,
    "start_time": "2025-03-16T22:24:19.512Z"
   },
   {
    "duration": 42,
    "start_time": "2025-03-16T22:24:19.553Z"
   },
   {
    "duration": 44,
    "start_time": "2025-03-16T22:24:19.596Z"
   },
   {
    "duration": 4,
    "start_time": "2025-03-16T22:24:19.642Z"
   },
   {
    "duration": 7,
    "start_time": "2025-03-16T22:24:19.648Z"
   },
   {
    "duration": 6,
    "start_time": "2025-03-16T22:24:19.657Z"
   },
   {
    "duration": 6,
    "start_time": "2025-03-16T22:24:19.664Z"
   },
   {
    "duration": 9,
    "start_time": "2025-03-16T22:24:19.671Z"
   },
   {
    "duration": 6,
    "start_time": "2025-03-16T22:24:19.681Z"
   },
   {
    "duration": 145,
    "start_time": "2025-03-16T22:24:19.688Z"
   },
   {
    "duration": 82,
    "start_time": "2025-03-16T22:24:19.835Z"
   },
   {
    "duration": 45,
    "start_time": "2025-03-16T22:24:19.919Z"
   },
   {
    "duration": 32,
    "start_time": "2025-03-16T22:24:19.966Z"
   },
   {
    "duration": 56,
    "start_time": "2025-03-16T22:24:20.000Z"
   },
   {
    "duration": 88,
    "start_time": "2025-03-16T22:24:20.058Z"
   },
   {
    "duration": 832,
    "start_time": "2025-03-16T22:29:55.777Z"
   },
   {
    "duration": 344,
    "start_time": "2025-03-16T22:29:56.611Z"
   },
   {
    "duration": 9,
    "start_time": "2025-03-16T22:29:56.957Z"
   },
   {
    "duration": 8,
    "start_time": "2025-03-16T22:29:56.968Z"
   },
   {
    "duration": 13,
    "start_time": "2025-03-16T22:29:56.979Z"
   },
   {
    "duration": 6,
    "start_time": "2025-03-16T22:29:56.994Z"
   },
   {
    "duration": 69,
    "start_time": "2025-03-16T22:29:57.001Z"
   },
   {
    "duration": 7,
    "start_time": "2025-03-16T22:29:57.072Z"
   },
   {
    "duration": 8,
    "start_time": "2025-03-16T22:29:57.081Z"
   },
   {
    "duration": 7,
    "start_time": "2025-03-16T22:29:57.090Z"
   },
   {
    "duration": 4,
    "start_time": "2025-03-16T22:29:57.098Z"
   },
   {
    "duration": 30,
    "start_time": "2025-03-16T22:29:57.104Z"
   },
   {
    "duration": 3,
    "start_time": "2025-03-16T22:29:57.136Z"
   },
   {
    "duration": 4,
    "start_time": "2025-03-16T22:29:57.143Z"
   },
   {
    "duration": 4,
    "start_time": "2025-03-16T22:29:57.148Z"
   },
   {
    "duration": 8,
    "start_time": "2025-03-16T22:29:57.153Z"
   },
   {
    "duration": 4,
    "start_time": "2025-03-16T22:29:57.163Z"
   },
   {
    "duration": 9,
    "start_time": "2025-03-16T22:29:57.168Z"
   },
   {
    "duration": 3,
    "start_time": "2025-03-16T22:29:57.180Z"
   },
   {
    "duration": 4,
    "start_time": "2025-03-16T22:29:57.185Z"
   },
   {
    "duration": 9,
    "start_time": "2025-03-16T22:29:57.230Z"
   },
   {
    "duration": 4,
    "start_time": "2025-03-16T22:29:57.240Z"
   },
   {
    "duration": 22,
    "start_time": "2025-03-16T22:29:57.245Z"
   },
   {
    "duration": 22,
    "start_time": "2025-03-16T22:29:57.269Z"
   },
   {
    "duration": 40,
    "start_time": "2025-03-16T22:29:57.293Z"
   },
   {
    "duration": 9,
    "start_time": "2025-03-16T22:29:57.335Z"
   },
   {
    "duration": 12,
    "start_time": "2025-03-16T22:29:57.345Z"
   },
   {
    "duration": 4,
    "start_time": "2025-03-16T22:29:57.359Z"
   },
   {
    "duration": 12,
    "start_time": "2025-03-16T22:29:57.365Z"
   },
   {
    "duration": 18,
    "start_time": "2025-03-16T22:29:57.378Z"
   },
   {
    "duration": 36,
    "start_time": "2025-03-16T22:29:57.398Z"
   },
   {
    "duration": 168,
    "start_time": "2025-03-16T22:29:57.435Z"
   },
   {
    "duration": 178,
    "start_time": "2025-03-16T22:29:57.605Z"
   },
   {
    "duration": 4,
    "start_time": "2025-03-16T22:29:57.785Z"
   },
   {
    "duration": 47,
    "start_time": "2025-03-16T22:29:57.791Z"
   },
   {
    "duration": 4,
    "start_time": "2025-03-16T22:29:57.840Z"
   },
   {
    "duration": 60,
    "start_time": "2025-03-16T22:29:57.847Z"
   },
   {
    "duration": 49,
    "start_time": "2025-03-16T22:29:57.908Z"
   },
   {
    "duration": 141,
    "start_time": "2025-03-16T22:29:57.958Z"
   },
   {
    "duration": 42,
    "start_time": "2025-03-16T22:29:58.101Z"
   },
   {
    "duration": 40,
    "start_time": "2025-03-16T22:29:58.148Z"
   },
   {
    "duration": 51,
    "start_time": "2025-03-16T22:29:58.189Z"
   },
   {
    "duration": 4,
    "start_time": "2025-03-16T22:29:58.241Z"
   },
   {
    "duration": 8,
    "start_time": "2025-03-16T22:29:58.247Z"
   },
   {
    "duration": 7,
    "start_time": "2025-03-16T22:29:58.257Z"
   },
   {
    "duration": 6,
    "start_time": "2025-03-16T22:29:58.265Z"
   },
   {
    "duration": 8,
    "start_time": "2025-03-16T22:29:58.272Z"
   },
   {
    "duration": 6,
    "start_time": "2025-03-16T22:29:58.282Z"
   },
   {
    "duration": 114,
    "start_time": "2025-03-16T22:29:58.290Z"
   },
   {
    "duration": 49,
    "start_time": "2025-03-16T22:38:24.968Z"
   },
   {
    "duration": 93,
    "start_time": "2025-03-16T22:39:54.992Z"
   },
   {
    "duration": 32,
    "start_time": "2025-03-16T22:41:02.257Z"
   },
   {
    "duration": 85,
    "start_time": "2025-03-16T22:43:40.526Z"
   },
   {
    "duration": 43,
    "start_time": "2025-03-16T22:49:57.056Z"
   },
   {
    "duration": 810,
    "start_time": "2025-03-16T22:50:04.205Z"
   },
   {
    "duration": 346,
    "start_time": "2025-03-16T22:50:05.017Z"
   },
   {
    "duration": 8,
    "start_time": "2025-03-16T22:50:05.365Z"
   },
   {
    "duration": 9,
    "start_time": "2025-03-16T22:50:05.375Z"
   },
   {
    "duration": 13,
    "start_time": "2025-03-16T22:50:05.387Z"
   },
   {
    "duration": 8,
    "start_time": "2025-03-16T22:50:05.402Z"
   },
   {
    "duration": 60,
    "start_time": "2025-03-16T22:50:05.411Z"
   },
   {
    "duration": 9,
    "start_time": "2025-03-16T22:50:05.473Z"
   },
   {
    "duration": 10,
    "start_time": "2025-03-16T22:50:05.484Z"
   },
   {
    "duration": 7,
    "start_time": "2025-03-16T22:50:05.495Z"
   },
   {
    "duration": 31,
    "start_time": "2025-03-16T22:50:05.504Z"
   },
   {
    "duration": 4,
    "start_time": "2025-03-16T22:50:05.537Z"
   },
   {
    "duration": 4,
    "start_time": "2025-03-16T22:50:05.542Z"
   },
   {
    "duration": 4,
    "start_time": "2025-03-16T22:50:05.550Z"
   },
   {
    "duration": 4,
    "start_time": "2025-03-16T22:50:05.556Z"
   },
   {
    "duration": 8,
    "start_time": "2025-03-16T22:50:05.562Z"
   },
   {
    "duration": 5,
    "start_time": "2025-03-16T22:50:05.571Z"
   },
   {
    "duration": 9,
    "start_time": "2025-03-16T22:50:05.577Z"
   },
   {
    "duration": 4,
    "start_time": "2025-03-16T22:50:05.587Z"
   },
   {
    "duration": 3,
    "start_time": "2025-03-16T22:50:05.632Z"
   },
   {
    "duration": 8,
    "start_time": "2025-03-16T22:50:05.637Z"
   },
   {
    "duration": 3,
    "start_time": "2025-03-16T22:50:05.647Z"
   },
   {
    "duration": 23,
    "start_time": "2025-03-16T22:50:05.651Z"
   },
   {
    "duration": 21,
    "start_time": "2025-03-16T22:50:05.675Z"
   },
   {
    "duration": 40,
    "start_time": "2025-03-16T22:50:05.698Z"
   },
   {
    "duration": 8,
    "start_time": "2025-03-16T22:50:05.740Z"
   },
   {
    "duration": 13,
    "start_time": "2025-03-16T22:50:05.749Z"
   },
   {
    "duration": 6,
    "start_time": "2025-03-16T22:50:05.763Z"
   },
   {
    "duration": 12,
    "start_time": "2025-03-16T22:50:05.770Z"
   },
   {
    "duration": 47,
    "start_time": "2025-03-16T22:50:05.784Z"
   },
   {
    "duration": 3,
    "start_time": "2025-03-16T22:50:05.833Z"
   },
   {
    "duration": 168,
    "start_time": "2025-03-16T22:50:05.838Z"
   },
   {
    "duration": 168,
    "start_time": "2025-03-16T22:50:06.007Z"
   },
   {
    "duration": 5,
    "start_time": "2025-03-16T22:50:06.177Z"
   },
   {
    "duration": 51,
    "start_time": "2025-03-16T22:50:06.183Z"
   },
   {
    "duration": 3,
    "start_time": "2025-03-16T22:50:06.236Z"
   },
   {
    "duration": 90,
    "start_time": "2025-03-16T22:50:06.241Z"
   },
   {
    "duration": 31,
    "start_time": "2025-03-16T22:50:06.333Z"
   },
   {
    "duration": 134,
    "start_time": "2025-03-16T22:50:06.365Z"
   },
   {
    "duration": 38,
    "start_time": "2025-03-16T22:50:06.500Z"
   },
   {
    "duration": 43,
    "start_time": "2025-03-16T22:50:06.542Z"
   },
   {
    "duration": 50,
    "start_time": "2025-03-16T22:50:06.588Z"
   },
   {
    "duration": 5,
    "start_time": "2025-03-16T22:50:06.639Z"
   },
   {
    "duration": 7,
    "start_time": "2025-03-16T22:50:06.645Z"
   },
   {
    "duration": 6,
    "start_time": "2025-03-16T22:50:06.654Z"
   },
   {
    "duration": 5,
    "start_time": "2025-03-16T22:50:06.662Z"
   },
   {
    "duration": 9,
    "start_time": "2025-03-16T22:50:06.668Z"
   },
   {
    "duration": 5,
    "start_time": "2025-03-16T22:50:06.679Z"
   },
   {
    "duration": 80,
    "start_time": "2025-03-16T22:50:06.687Z"
   },
   {
    "duration": 62,
    "start_time": "2025-03-16T22:50:06.769Z"
   },
   {
    "duration": 98,
    "start_time": "2025-03-16T22:50:06.833Z"
   },
   {
    "duration": 28,
    "start_time": "2025-03-16T22:50:06.933Z"
   },
   {
    "duration": 96,
    "start_time": "2025-03-16T22:50:06.963Z"
   },
   {
    "duration": 86,
    "start_time": "2025-03-16T22:50:07.061Z"
   },
   {
    "duration": 44,
    "start_time": "2025-03-16T22:54:08.203Z"
   },
   {
    "duration": 52,
    "start_time": "2025-03-16T22:59:35.068Z"
   },
   {
    "duration": 95,
    "start_time": "2025-03-16T23:05:19.814Z"
   },
   {
    "duration": 20,
    "start_time": "2025-03-16T23:06:50.258Z"
   },
   {
    "duration": 10,
    "start_time": "2025-03-16T23:08:20.846Z"
   },
   {
    "duration": 6,
    "start_time": "2025-03-16T23:08:31.488Z"
   },
   {
    "duration": 20,
    "start_time": "2025-03-16T23:08:42.598Z"
   },
   {
    "duration": 570,
    "start_time": "2025-03-16T23:08:58.400Z"
   },
   {
    "duration": 856,
    "start_time": "2025-03-16T23:09:10.160Z"
   },
   {
    "duration": 352,
    "start_time": "2025-03-16T23:09:11.019Z"
   },
   {
    "duration": 10,
    "start_time": "2025-03-16T23:09:11.372Z"
   },
   {
    "duration": 8,
    "start_time": "2025-03-16T23:09:11.385Z"
   },
   {
    "duration": 13,
    "start_time": "2025-03-16T23:09:11.395Z"
   },
   {
    "duration": 22,
    "start_time": "2025-03-16T23:09:11.410Z"
   },
   {
    "duration": 40,
    "start_time": "2025-03-16T23:09:11.433Z"
   },
   {
    "duration": 8,
    "start_time": "2025-03-16T23:09:11.475Z"
   },
   {
    "duration": 10,
    "start_time": "2025-03-16T23:09:11.484Z"
   },
   {
    "duration": 5,
    "start_time": "2025-03-16T23:09:11.497Z"
   },
   {
    "duration": 3,
    "start_time": "2025-03-16T23:09:11.531Z"
   },
   {
    "duration": 5,
    "start_time": "2025-03-16T23:09:11.536Z"
   },
   {
    "duration": 3,
    "start_time": "2025-03-16T23:09:11.543Z"
   },
   {
    "duration": 5,
    "start_time": "2025-03-16T23:09:11.548Z"
   },
   {
    "duration": 4,
    "start_time": "2025-03-16T23:09:11.554Z"
   },
   {
    "duration": 9,
    "start_time": "2025-03-16T23:09:11.559Z"
   },
   {
    "duration": 3,
    "start_time": "2025-03-16T23:09:11.570Z"
   },
   {
    "duration": 9,
    "start_time": "2025-03-16T23:09:11.574Z"
   },
   {
    "duration": 3,
    "start_time": "2025-03-16T23:09:11.585Z"
   },
   {
    "duration": 44,
    "start_time": "2025-03-16T23:09:11.590Z"
   },
   {
    "duration": 10,
    "start_time": "2025-03-16T23:09:11.635Z"
   },
   {
    "duration": 4,
    "start_time": "2025-03-16T23:09:11.647Z"
   },
   {
    "duration": 23,
    "start_time": "2025-03-16T23:09:11.653Z"
   },
   {
    "duration": 21,
    "start_time": "2025-03-16T23:09:11.678Z"
   },
   {
    "duration": 40,
    "start_time": "2025-03-16T23:09:11.701Z"
   },
   {
    "duration": 8,
    "start_time": "2025-03-16T23:09:11.742Z"
   },
   {
    "duration": 11,
    "start_time": "2025-03-16T23:09:11.752Z"
   },
   {
    "duration": 5,
    "start_time": "2025-03-16T23:09:11.768Z"
   },
   {
    "duration": 13,
    "start_time": "2025-03-16T23:09:11.775Z"
   },
   {
    "duration": 50,
    "start_time": "2025-03-16T23:09:11.790Z"
   },
   {
    "duration": 4,
    "start_time": "2025-03-16T23:09:11.841Z"
   },
   {
    "duration": 178,
    "start_time": "2025-03-16T23:09:11.848Z"
   },
   {
    "duration": 168,
    "start_time": "2025-03-16T23:09:12.028Z"
   },
   {
    "duration": 4,
    "start_time": "2025-03-16T23:09:12.198Z"
   },
   {
    "duration": 51,
    "start_time": "2025-03-16T23:09:12.203Z"
   },
   {
    "duration": 3,
    "start_time": "2025-03-16T23:09:12.256Z"
   },
   {
    "duration": 78,
    "start_time": "2025-03-16T23:09:12.261Z"
   },
   {
    "duration": 31,
    "start_time": "2025-03-16T23:09:12.340Z"
   },
   {
    "duration": 127,
    "start_time": "2025-03-16T23:09:12.373Z"
   },
   {
    "duration": 40,
    "start_time": "2025-03-16T23:09:12.501Z"
   },
   {
    "duration": 40,
    "start_time": "2025-03-16T23:09:12.542Z"
   },
   {
    "duration": 48,
    "start_time": "2025-03-16T23:09:12.584Z"
   },
   {
    "duration": 4,
    "start_time": "2025-03-16T23:09:12.634Z"
   },
   {
    "duration": 8,
    "start_time": "2025-03-16T23:09:12.640Z"
   },
   {
    "duration": 7,
    "start_time": "2025-03-16T23:09:12.650Z"
   },
   {
    "duration": 7,
    "start_time": "2025-03-16T23:09:12.658Z"
   },
   {
    "duration": 9,
    "start_time": "2025-03-16T23:09:12.667Z"
   },
   {
    "duration": 12,
    "start_time": "2025-03-16T23:09:12.678Z"
   },
   {
    "duration": 79,
    "start_time": "2025-03-16T23:09:12.692Z"
   },
   {
    "duration": 62,
    "start_time": "2025-03-16T23:09:12.773Z"
   },
   {
    "duration": 103,
    "start_time": "2025-03-16T23:09:12.837Z"
   },
   {
    "duration": 298,
    "start_time": "2025-03-16T23:09:12.942Z"
   },
   {
    "duration": 0,
    "start_time": "2025-03-16T23:09:13.242Z"
   },
   {
    "duration": 0,
    "start_time": "2025-03-16T23:09:13.243Z"
   },
   {
    "duration": 0,
    "start_time": "2025-03-16T23:09:13.245Z"
   },
   {
    "duration": 0,
    "start_time": "2025-03-16T23:09:13.246Z"
   },
   {
    "duration": 784,
    "start_time": "2025-03-16T23:10:23.829Z"
   },
   {
    "duration": 340,
    "start_time": "2025-03-16T23:10:24.615Z"
   },
   {
    "duration": 8,
    "start_time": "2025-03-16T23:10:24.957Z"
   },
   {
    "duration": 9,
    "start_time": "2025-03-16T23:10:24.969Z"
   },
   {
    "duration": 13,
    "start_time": "2025-03-16T23:10:24.980Z"
   },
   {
    "duration": 7,
    "start_time": "2025-03-16T23:10:24.994Z"
   },
   {
    "duration": 61,
    "start_time": "2025-03-16T23:10:25.002Z"
   },
   {
    "duration": 8,
    "start_time": "2025-03-16T23:10:25.064Z"
   },
   {
    "duration": 8,
    "start_time": "2025-03-16T23:10:25.074Z"
   },
   {
    "duration": 6,
    "start_time": "2025-03-16T23:10:25.085Z"
   },
   {
    "duration": 4,
    "start_time": "2025-03-16T23:10:25.093Z"
   },
   {
    "duration": 35,
    "start_time": "2025-03-16T23:10:25.099Z"
   },
   {
    "duration": 4,
    "start_time": "2025-03-16T23:10:25.136Z"
   },
   {
    "duration": 5,
    "start_time": "2025-03-16T23:10:25.142Z"
   },
   {
    "duration": 4,
    "start_time": "2025-03-16T23:10:25.149Z"
   },
   {
    "duration": 7,
    "start_time": "2025-03-16T23:10:25.155Z"
   },
   {
    "duration": 4,
    "start_time": "2025-03-16T23:10:25.164Z"
   },
   {
    "duration": 9,
    "start_time": "2025-03-16T23:10:25.170Z"
   },
   {
    "duration": 4,
    "start_time": "2025-03-16T23:10:25.181Z"
   },
   {
    "duration": 44,
    "start_time": "2025-03-16T23:10:25.187Z"
   },
   {
    "duration": 8,
    "start_time": "2025-03-16T23:10:25.233Z"
   },
   {
    "duration": 4,
    "start_time": "2025-03-16T23:10:25.243Z"
   },
   {
    "duration": 22,
    "start_time": "2025-03-16T23:10:25.248Z"
   },
   {
    "duration": 21,
    "start_time": "2025-03-16T23:10:25.271Z"
   },
   {
    "duration": 41,
    "start_time": "2025-03-16T23:10:25.294Z"
   },
   {
    "duration": 9,
    "start_time": "2025-03-16T23:10:25.336Z"
   },
   {
    "duration": 12,
    "start_time": "2025-03-16T23:10:25.347Z"
   },
   {
    "duration": 5,
    "start_time": "2025-03-16T23:10:25.363Z"
   },
   {
    "duration": 13,
    "start_time": "2025-03-16T23:10:25.369Z"
   },
   {
    "duration": 48,
    "start_time": "2025-03-16T23:10:25.383Z"
   },
   {
    "duration": 4,
    "start_time": "2025-03-16T23:10:25.433Z"
   },
   {
    "duration": 172,
    "start_time": "2025-03-16T23:10:25.438Z"
   },
   {
    "duration": 160,
    "start_time": "2025-03-16T23:10:25.612Z"
   },
   {
    "duration": 5,
    "start_time": "2025-03-16T23:10:25.774Z"
   },
   {
    "duration": 38,
    "start_time": "2025-03-16T23:10:25.781Z"
   },
   {
    "duration": 4,
    "start_time": "2025-03-16T23:10:25.830Z"
   },
   {
    "duration": 59,
    "start_time": "2025-03-16T23:10:25.836Z"
   },
   {
    "duration": 43,
    "start_time": "2025-03-16T23:10:25.897Z"
   },
   {
    "duration": 130,
    "start_time": "2025-03-16T23:10:25.942Z"
   },
   {
    "duration": 33,
    "start_time": "2025-03-16T23:10:26.073Z"
   },
   {
    "duration": 57,
    "start_time": "2025-03-16T23:10:26.108Z"
   },
   {
    "duration": 34,
    "start_time": "2025-03-16T23:10:26.167Z"
   },
   {
    "duration": 3,
    "start_time": "2025-03-16T23:10:26.203Z"
   },
   {
    "duration": 28,
    "start_time": "2025-03-16T23:10:26.208Z"
   },
   {
    "duration": 7,
    "start_time": "2025-03-16T23:10:26.238Z"
   },
   {
    "duration": 6,
    "start_time": "2025-03-16T23:10:26.247Z"
   },
   {
    "duration": 10,
    "start_time": "2025-03-16T23:10:26.255Z"
   },
   {
    "duration": 7,
    "start_time": "2025-03-16T23:10:26.266Z"
   },
   {
    "duration": 76,
    "start_time": "2025-03-16T23:10:26.275Z"
   },
   {
    "duration": 48,
    "start_time": "2025-03-16T23:10:26.352Z"
   },
   {
    "duration": 110,
    "start_time": "2025-03-16T23:10:26.402Z"
   },
   {
    "duration": 28,
    "start_time": "2025-03-16T23:10:26.513Z"
   },
   {
    "duration": 9,
    "start_time": "2025-03-16T23:10:26.542Z"
   },
   {
    "duration": 5,
    "start_time": "2025-03-16T23:10:26.553Z"
   },
   {
    "duration": 19,
    "start_time": "2025-03-16T23:10:26.560Z"
   },
   {
    "duration": 573,
    "start_time": "2025-03-16T23:10:26.581Z"
   },
   {
    "duration": 884,
    "start_time": "2025-03-16T23:11:16.743Z"
   },
   {
    "duration": 377,
    "start_time": "2025-03-16T23:11:17.629Z"
   },
   {
    "duration": 9,
    "start_time": "2025-03-16T23:11:18.007Z"
   },
   {
    "duration": 20,
    "start_time": "2025-03-16T23:11:18.019Z"
   },
   {
    "duration": 15,
    "start_time": "2025-03-16T23:11:18.041Z"
   },
   {
    "duration": 6,
    "start_time": "2025-03-16T23:11:18.058Z"
   },
   {
    "duration": 41,
    "start_time": "2025-03-16T23:11:18.066Z"
   },
   {
    "duration": 31,
    "start_time": "2025-03-16T23:11:18.109Z"
   },
   {
    "duration": 8,
    "start_time": "2025-03-16T23:11:18.142Z"
   },
   {
    "duration": 6,
    "start_time": "2025-03-16T23:11:18.154Z"
   },
   {
    "duration": 4,
    "start_time": "2025-03-16T23:11:18.161Z"
   },
   {
    "duration": 5,
    "start_time": "2025-03-16T23:11:18.166Z"
   },
   {
    "duration": 3,
    "start_time": "2025-03-16T23:11:18.173Z"
   },
   {
    "duration": 6,
    "start_time": "2025-03-16T23:11:18.178Z"
   },
   {
    "duration": 3,
    "start_time": "2025-03-16T23:11:18.185Z"
   },
   {
    "duration": 52,
    "start_time": "2025-03-16T23:11:18.190Z"
   },
   {
    "duration": 3,
    "start_time": "2025-03-16T23:11:18.244Z"
   },
   {
    "duration": 8,
    "start_time": "2025-03-16T23:11:18.249Z"
   },
   {
    "duration": 4,
    "start_time": "2025-03-16T23:11:18.258Z"
   },
   {
    "duration": 3,
    "start_time": "2025-03-16T23:11:18.264Z"
   },
   {
    "duration": 9,
    "start_time": "2025-03-16T23:11:18.269Z"
   },
   {
    "duration": 5,
    "start_time": "2025-03-16T23:11:18.279Z"
   },
   {
    "duration": 57,
    "start_time": "2025-03-16T23:11:18.285Z"
   },
   {
    "duration": 21,
    "start_time": "2025-03-16T23:11:18.344Z"
   },
   {
    "duration": 17,
    "start_time": "2025-03-16T23:11:18.367Z"
   },
   {
    "duration": 11,
    "start_time": "2025-03-16T23:11:18.386Z"
   },
   {
    "duration": 40,
    "start_time": "2025-03-16T23:11:18.398Z"
   },
   {
    "duration": 5,
    "start_time": "2025-03-16T23:11:18.442Z"
   },
   {
    "duration": 14,
    "start_time": "2025-03-16T23:11:18.449Z"
   },
   {
    "duration": 17,
    "start_time": "2025-03-16T23:11:18.464Z"
   },
   {
    "duration": 4,
    "start_time": "2025-03-16T23:11:18.483Z"
   },
   {
    "duration": 197,
    "start_time": "2025-03-16T23:11:18.489Z"
   },
   {
    "duration": 159,
    "start_time": "2025-03-16T23:11:18.688Z"
   },
   {
    "duration": 4,
    "start_time": "2025-03-16T23:11:18.849Z"
   },
   {
    "duration": 81,
    "start_time": "2025-03-16T23:11:18.854Z"
   },
   {
    "duration": 3,
    "start_time": "2025-03-16T23:11:18.937Z"
   },
   {
    "duration": 61,
    "start_time": "2025-03-16T23:11:18.942Z"
   },
   {
    "duration": 48,
    "start_time": "2025-03-16T23:11:19.004Z"
   },
   {
    "duration": 128,
    "start_time": "2025-03-16T23:11:19.054Z"
   },
   {
    "duration": 33,
    "start_time": "2025-03-16T23:11:19.183Z"
   },
   {
    "duration": 51,
    "start_time": "2025-03-16T23:11:19.218Z"
   },
   {
    "duration": 32,
    "start_time": "2025-03-16T23:11:19.271Z"
   },
   {
    "duration": 3,
    "start_time": "2025-03-16T23:11:19.306Z"
   },
   {
    "duration": 26,
    "start_time": "2025-03-16T23:11:19.311Z"
   },
   {
    "duration": 7,
    "start_time": "2025-03-16T23:11:19.338Z"
   },
   {
    "duration": 7,
    "start_time": "2025-03-16T23:11:19.347Z"
   },
   {
    "duration": 9,
    "start_time": "2025-03-16T23:11:19.355Z"
   },
   {
    "duration": 6,
    "start_time": "2025-03-16T23:11:19.365Z"
   },
   {
    "duration": 77,
    "start_time": "2025-03-16T23:11:19.373Z"
   },
   {
    "duration": 62,
    "start_time": "2025-03-16T23:11:19.452Z"
   },
   {
    "duration": 108,
    "start_time": "2025-03-16T23:11:19.516Z"
   },
   {
    "duration": 20,
    "start_time": "2025-03-16T23:11:19.631Z"
   },
   {
    "duration": 7,
    "start_time": "2025-03-16T23:11:19.653Z"
   },
   {
    "duration": 5,
    "start_time": "2025-03-16T23:11:19.662Z"
   },
   {
    "duration": 20,
    "start_time": "2025-03-16T23:11:19.668Z"
   },
   {
    "duration": 611,
    "start_time": "2025-03-16T23:11:19.690Z"
   },
   {
    "duration": 79,
    "start_time": "2025-03-16T23:14:18.261Z"
   },
   {
    "duration": 81,
    "start_time": "2025-03-16T23:15:49.642Z"
   },
   {
    "duration": 80,
    "start_time": "2025-03-16T23:16:58.701Z"
   },
   {
    "duration": 39,
    "start_time": "2025-03-16T23:19:32.160Z"
   },
   {
    "duration": 870,
    "start_time": "2025-03-16T23:19:37.164Z"
   },
   {
    "duration": 342,
    "start_time": "2025-03-16T23:19:38.038Z"
   },
   {
    "duration": 9,
    "start_time": "2025-03-16T23:19:38.382Z"
   },
   {
    "duration": 9,
    "start_time": "2025-03-16T23:19:38.393Z"
   },
   {
    "duration": 12,
    "start_time": "2025-03-16T23:19:38.406Z"
   },
   {
    "duration": 7,
    "start_time": "2025-03-16T23:19:38.432Z"
   },
   {
    "duration": 40,
    "start_time": "2025-03-16T23:19:38.441Z"
   },
   {
    "duration": 9,
    "start_time": "2025-03-16T23:19:38.483Z"
   },
   {
    "duration": 9,
    "start_time": "2025-03-16T23:19:38.493Z"
   },
   {
    "duration": 33,
    "start_time": "2025-03-16T23:19:38.503Z"
   },
   {
    "duration": 3,
    "start_time": "2025-03-16T23:19:38.538Z"
   },
   {
    "duration": 4,
    "start_time": "2025-03-16T23:19:38.543Z"
   },
   {
    "duration": 3,
    "start_time": "2025-03-16T23:19:38.549Z"
   },
   {
    "duration": 4,
    "start_time": "2025-03-16T23:19:38.557Z"
   },
   {
    "duration": 4,
    "start_time": "2025-03-16T23:19:38.562Z"
   },
   {
    "duration": 8,
    "start_time": "2025-03-16T23:19:38.568Z"
   },
   {
    "duration": 3,
    "start_time": "2025-03-16T23:19:38.578Z"
   },
   {
    "duration": 50,
    "start_time": "2025-03-16T23:19:38.583Z"
   },
   {
    "duration": 5,
    "start_time": "2025-03-16T23:19:38.635Z"
   },
   {
    "duration": 4,
    "start_time": "2025-03-16T23:19:38.642Z"
   },
   {
    "duration": 8,
    "start_time": "2025-03-16T23:19:38.647Z"
   },
   {
    "duration": 3,
    "start_time": "2025-03-16T23:19:38.657Z"
   },
   {
    "duration": 23,
    "start_time": "2025-03-16T23:19:38.662Z"
   },
   {
    "duration": 53,
    "start_time": "2025-03-16T23:19:38.687Z"
   },
   {
    "duration": 11,
    "start_time": "2025-03-16T23:19:38.743Z"
   },
   {
    "duration": 8,
    "start_time": "2025-03-16T23:19:38.756Z"
   },
   {
    "duration": 12,
    "start_time": "2025-03-16T23:19:38.765Z"
   },
   {
    "duration": 5,
    "start_time": "2025-03-16T23:19:38.779Z"
   },
   {
    "duration": 13,
    "start_time": "2025-03-16T23:19:38.785Z"
   },
   {
    "duration": 44,
    "start_time": "2025-03-16T23:19:38.799Z"
   },
   {
    "duration": 4,
    "start_time": "2025-03-16T23:19:38.844Z"
   },
   {
    "duration": 172,
    "start_time": "2025-03-16T23:19:38.849Z"
   },
   {
    "duration": 161,
    "start_time": "2025-03-16T23:19:39.023Z"
   },
   {
    "duration": 3,
    "start_time": "2025-03-16T23:19:39.186Z"
   },
   {
    "duration": 51,
    "start_time": "2025-03-16T23:19:39.190Z"
   },
   {
    "duration": 3,
    "start_time": "2025-03-16T23:19:39.243Z"
   },
   {
    "duration": 60,
    "start_time": "2025-03-16T23:19:39.248Z"
   },
   {
    "duration": 44,
    "start_time": "2025-03-16T23:19:39.309Z"
   },
   {
    "duration": 130,
    "start_time": "2025-03-16T23:19:39.356Z"
   },
   {
    "duration": 32,
    "start_time": "2025-03-16T23:19:39.487Z"
   },
   {
    "duration": 38,
    "start_time": "2025-03-16T23:19:39.533Z"
   },
   {
    "duration": 35,
    "start_time": "2025-03-16T23:19:39.573Z"
   },
   {
    "duration": 5,
    "start_time": "2025-03-16T23:19:39.610Z"
   },
   {
    "duration": 9,
    "start_time": "2025-03-16T23:19:39.631Z"
   },
   {
    "duration": 8,
    "start_time": "2025-03-16T23:19:39.642Z"
   },
   {
    "duration": 7,
    "start_time": "2025-03-16T23:19:39.651Z"
   },
   {
    "duration": 9,
    "start_time": "2025-03-16T23:19:39.661Z"
   },
   {
    "duration": 7,
    "start_time": "2025-03-16T23:19:39.672Z"
   },
   {
    "duration": 116,
    "start_time": "2025-03-16T23:19:39.681Z"
   },
   {
    "duration": 692,
    "start_time": "2025-03-16T23:22:42.487Z"
   },
   {
    "duration": 94,
    "start_time": "2025-03-16T23:48:50.840Z"
   },
   {
    "duration": 766,
    "start_time": "2025-03-16T23:52:43.598Z"
   },
   {
    "duration": 739,
    "start_time": "2025-03-16T23:59:28.636Z"
   },
   {
    "duration": 833,
    "start_time": "2025-03-17T00:00:40.247Z"
   },
   {
    "duration": 294,
    "start_time": "2025-03-17T00:05:25.325Z"
   },
   {
    "duration": 17,
    "start_time": "2025-03-17T00:06:17.593Z"
   },
   {
    "duration": 817,
    "start_time": "2025-03-17T00:07:04.315Z"
   },
   {
    "duration": 339,
    "start_time": "2025-03-17T00:07:05.134Z"
   },
   {
    "duration": 9,
    "start_time": "2025-03-17T00:07:05.474Z"
   },
   {
    "duration": 10,
    "start_time": "2025-03-17T00:07:05.485Z"
   },
   {
    "duration": 17,
    "start_time": "2025-03-17T00:07:05.496Z"
   },
   {
    "duration": 22,
    "start_time": "2025-03-17T00:07:05.515Z"
   },
   {
    "duration": 45,
    "start_time": "2025-03-17T00:07:05.539Z"
   },
   {
    "duration": 7,
    "start_time": "2025-03-17T00:07:05.585Z"
   },
   {
    "duration": 9,
    "start_time": "2025-03-17T00:07:05.593Z"
   },
   {
    "duration": 26,
    "start_time": "2025-03-17T00:07:05.606Z"
   },
   {
    "duration": 4,
    "start_time": "2025-03-17T00:07:05.634Z"
   },
   {
    "duration": 4,
    "start_time": "2025-03-17T00:07:05.640Z"
   },
   {
    "duration": 3,
    "start_time": "2025-03-17T00:07:05.646Z"
   },
   {
    "duration": 5,
    "start_time": "2025-03-17T00:07:05.651Z"
   },
   {
    "duration": 3,
    "start_time": "2025-03-17T00:07:05.658Z"
   },
   {
    "duration": 8,
    "start_time": "2025-03-17T00:07:05.663Z"
   },
   {
    "duration": 4,
    "start_time": "2025-03-17T00:07:05.673Z"
   },
   {
    "duration": 8,
    "start_time": "2025-03-17T00:07:05.679Z"
   },
   {
    "duration": 45,
    "start_time": "2025-03-17T00:07:05.688Z"
   },
   {
    "duration": 4,
    "start_time": "2025-03-17T00:07:05.735Z"
   },
   {
    "duration": 10,
    "start_time": "2025-03-17T00:07:05.740Z"
   },
   {
    "duration": 4,
    "start_time": "2025-03-17T00:07:05.751Z"
   },
   {
    "duration": 28,
    "start_time": "2025-03-17T00:07:05.757Z"
   },
   {
    "duration": 51,
    "start_time": "2025-03-17T00:07:05.787Z"
   },
   {
    "duration": 11,
    "start_time": "2025-03-17T00:07:05.839Z"
   },
   {
    "duration": 8,
    "start_time": "2025-03-17T00:07:05.852Z"
   },
   {
    "duration": 12,
    "start_time": "2025-03-17T00:07:05.862Z"
   },
   {
    "duration": 5,
    "start_time": "2025-03-17T00:07:05.878Z"
   },
   {
    "duration": 13,
    "start_time": "2025-03-17T00:07:05.884Z"
   },
   {
    "duration": 47,
    "start_time": "2025-03-17T00:07:05.898Z"
   },
   {
    "duration": 3,
    "start_time": "2025-03-17T00:07:05.947Z"
   },
   {
    "duration": 178,
    "start_time": "2025-03-17T00:07:05.952Z"
   },
   {
    "duration": 161,
    "start_time": "2025-03-17T00:07:06.132Z"
   },
   {
    "duration": 5,
    "start_time": "2025-03-17T00:07:06.295Z"
   },
   {
    "duration": 46,
    "start_time": "2025-03-17T00:07:06.301Z"
   },
   {
    "duration": 3,
    "start_time": "2025-03-17T00:07:06.349Z"
   },
   {
    "duration": 77,
    "start_time": "2025-03-17T00:07:06.354Z"
   },
   {
    "duration": 31,
    "start_time": "2025-03-17T00:07:06.432Z"
   },
   {
    "duration": 123,
    "start_time": "2025-03-17T00:07:06.465Z"
   },
   {
    "duration": 30,
    "start_time": "2025-03-17T00:07:06.590Z"
   },
   {
    "duration": 45,
    "start_time": "2025-03-17T00:07:06.622Z"
   },
   {
    "duration": 31,
    "start_time": "2025-03-17T00:07:06.669Z"
   },
   {
    "duration": 3,
    "start_time": "2025-03-17T00:07:06.702Z"
   },
   {
    "duration": 30,
    "start_time": "2025-03-17T00:07:06.707Z"
   },
   {
    "duration": 7,
    "start_time": "2025-03-17T00:07:06.739Z"
   },
   {
    "duration": 5,
    "start_time": "2025-03-17T00:07:06.748Z"
   },
   {
    "duration": 8,
    "start_time": "2025-03-17T00:07:06.756Z"
   },
   {
    "duration": 104,
    "start_time": "2025-03-17T00:07:06.765Z"
   },
   {
    "duration": 105,
    "start_time": "2025-03-17T00:07:06.871Z"
   },
   {
    "duration": 873,
    "start_time": "2025-03-17T00:07:06.978Z"
   },
   {
    "duration": 11,
    "start_time": "2025-03-17T00:07:07.854Z"
   },
   {
    "duration": 766,
    "start_time": "2025-03-17T00:07:07.868Z"
   },
   {
    "duration": 13,
    "start_time": "2025-03-17T00:09:29.352Z"
   },
   {
    "duration": 865,
    "start_time": "2025-03-17T00:16:36.670Z"
   },
   {
    "duration": 8,
    "start_time": "2025-03-17T00:27:03.486Z"
   },
   {
    "duration": 887,
    "start_time": "2025-03-17T00:28:02.944Z"
   },
   {
    "duration": 344,
    "start_time": "2025-03-17T00:28:03.833Z"
   },
   {
    "duration": 9,
    "start_time": "2025-03-17T00:28:04.179Z"
   },
   {
    "duration": 9,
    "start_time": "2025-03-17T00:28:04.190Z"
   },
   {
    "duration": 13,
    "start_time": "2025-03-17T00:28:04.201Z"
   },
   {
    "duration": 7,
    "start_time": "2025-03-17T00:28:04.231Z"
   },
   {
    "duration": 42,
    "start_time": "2025-03-17T00:28:04.239Z"
   },
   {
    "duration": 9,
    "start_time": "2025-03-17T00:28:04.283Z"
   },
   {
    "duration": 8,
    "start_time": "2025-03-17T00:28:04.294Z"
   },
   {
    "duration": 30,
    "start_time": "2025-03-17T00:28:04.304Z"
   },
   {
    "duration": 4,
    "start_time": "2025-03-17T00:28:04.336Z"
   },
   {
    "duration": 5,
    "start_time": "2025-03-17T00:28:04.341Z"
   },
   {
    "duration": 4,
    "start_time": "2025-03-17T00:28:04.347Z"
   },
   {
    "duration": 5,
    "start_time": "2025-03-17T00:28:04.355Z"
   },
   {
    "duration": 3,
    "start_time": "2025-03-17T00:28:04.361Z"
   },
   {
    "duration": 8,
    "start_time": "2025-03-17T00:28:04.366Z"
   },
   {
    "duration": 4,
    "start_time": "2025-03-17T00:28:04.375Z"
   },
   {
    "duration": 8,
    "start_time": "2025-03-17T00:28:04.381Z"
   },
   {
    "duration": 4,
    "start_time": "2025-03-17T00:28:04.432Z"
   },
   {
    "duration": 4,
    "start_time": "2025-03-17T00:28:04.437Z"
   },
   {
    "duration": 9,
    "start_time": "2025-03-17T00:28:04.442Z"
   },
   {
    "duration": 3,
    "start_time": "2025-03-17T00:28:04.453Z"
   },
   {
    "duration": 22,
    "start_time": "2025-03-17T00:28:04.458Z"
   },
   {
    "duration": 50,
    "start_time": "2025-03-17T00:28:04.482Z"
   },
   {
    "duration": 14,
    "start_time": "2025-03-17T00:28:04.533Z"
   },
   {
    "duration": 9,
    "start_time": "2025-03-17T00:28:04.548Z"
   },
   {
    "duration": 12,
    "start_time": "2025-03-17T00:28:04.559Z"
   },
   {
    "duration": 7,
    "start_time": "2025-03-17T00:28:04.572Z"
   },
   {
    "duration": 13,
    "start_time": "2025-03-17T00:28:04.580Z"
   },
   {
    "duration": 51,
    "start_time": "2025-03-17T00:28:04.596Z"
   },
   {
    "duration": 5,
    "start_time": "2025-03-17T00:28:04.649Z"
   },
   {
    "duration": 176,
    "start_time": "2025-03-17T00:28:04.656Z"
   },
   {
    "duration": 158,
    "start_time": "2025-03-17T00:28:04.834Z"
   },
   {
    "duration": 3,
    "start_time": "2025-03-17T00:28:04.994Z"
   },
   {
    "duration": 51,
    "start_time": "2025-03-17T00:28:04.999Z"
   },
   {
    "duration": 4,
    "start_time": "2025-03-17T00:28:05.051Z"
   },
   {
    "duration": 74,
    "start_time": "2025-03-17T00:28:05.057Z"
   },
   {
    "duration": 31,
    "start_time": "2025-03-17T00:28:05.133Z"
   },
   {
    "duration": 127,
    "start_time": "2025-03-17T00:28:05.165Z"
   },
   {
    "duration": 39,
    "start_time": "2025-03-17T00:28:05.293Z"
   },
   {
    "duration": 36,
    "start_time": "2025-03-17T00:28:05.338Z"
   },
   {
    "duration": 33,
    "start_time": "2025-03-17T00:28:05.376Z"
   },
   {
    "duration": 21,
    "start_time": "2025-03-17T00:28:05.411Z"
   },
   {
    "duration": 7,
    "start_time": "2025-03-17T00:28:05.434Z"
   },
   {
    "duration": 6,
    "start_time": "2025-03-17T00:28:05.443Z"
   },
   {
    "duration": 6,
    "start_time": "2025-03-17T00:28:05.451Z"
   },
   {
    "duration": 7,
    "start_time": "2025-03-17T00:28:05.459Z"
   },
   {
    "duration": 115,
    "start_time": "2025-03-17T00:28:05.468Z"
   },
   {
    "duration": 115,
    "start_time": "2025-03-17T00:28:05.586Z"
   },
   {
    "duration": 941,
    "start_time": "2025-03-17T00:28:05.703Z"
   },
   {
    "duration": 12,
    "start_time": "2025-03-17T00:28:06.646Z"
   },
   {
    "duration": 879,
    "start_time": "2025-03-17T00:28:06.660Z"
   },
   {
    "duration": 8,
    "start_time": "2025-03-17T00:28:07.542Z"
   },
   {
    "duration": 10,
    "start_time": "2025-03-17T00:30:49.107Z"
   },
   {
    "duration": 11,
    "start_time": "2025-03-17T00:31:12.072Z"
   },
   {
    "duration": 375,
    "start_time": "2025-03-17T00:35:37.079Z"
   },
   {
    "duration": 418,
    "start_time": "2025-03-17T00:36:49.941Z"
   },
   {
    "duration": 408,
    "start_time": "2025-03-17T00:38:02.049Z"
   },
   {
    "duration": 417,
    "start_time": "2025-03-17T00:39:26.245Z"
   },
   {
    "duration": 824,
    "start_time": "2025-03-17T00:39:33.109Z"
   },
   {
    "duration": 338,
    "start_time": "2025-03-17T00:39:33.935Z"
   },
   {
    "duration": 8,
    "start_time": "2025-03-17T00:39:34.275Z"
   },
   {
    "duration": 9,
    "start_time": "2025-03-17T00:39:34.286Z"
   },
   {
    "duration": 13,
    "start_time": "2025-03-17T00:39:34.297Z"
   },
   {
    "duration": 23,
    "start_time": "2025-03-17T00:39:34.312Z"
   },
   {
    "duration": 41,
    "start_time": "2025-03-17T00:39:34.336Z"
   },
   {
    "duration": 8,
    "start_time": "2025-03-17T00:39:34.379Z"
   },
   {
    "duration": 8,
    "start_time": "2025-03-17T00:39:34.389Z"
   },
   {
    "duration": 5,
    "start_time": "2025-03-17T00:39:34.399Z"
   },
   {
    "duration": 27,
    "start_time": "2025-03-17T00:39:34.406Z"
   },
   {
    "duration": 4,
    "start_time": "2025-03-17T00:39:34.435Z"
   },
   {
    "duration": 4,
    "start_time": "2025-03-17T00:39:34.440Z"
   },
   {
    "duration": 4,
    "start_time": "2025-03-17T00:39:34.448Z"
   },
   {
    "duration": 4,
    "start_time": "2025-03-17T00:39:34.453Z"
   },
   {
    "duration": 8,
    "start_time": "2025-03-17T00:39:34.458Z"
   },
   {
    "duration": 4,
    "start_time": "2025-03-17T00:39:34.468Z"
   },
   {
    "duration": 7,
    "start_time": "2025-03-17T00:39:34.475Z"
   },
   {
    "duration": 48,
    "start_time": "2025-03-17T00:39:34.484Z"
   },
   {
    "duration": 3,
    "start_time": "2025-03-17T00:39:34.534Z"
   },
   {
    "duration": 11,
    "start_time": "2025-03-17T00:39:34.539Z"
   },
   {
    "duration": 4,
    "start_time": "2025-03-17T00:39:34.552Z"
   },
   {
    "duration": 22,
    "start_time": "2025-03-17T00:39:34.557Z"
   },
   {
    "duration": 50,
    "start_time": "2025-03-17T00:39:34.581Z"
   },
   {
    "duration": 11,
    "start_time": "2025-03-17T00:39:34.633Z"
   },
   {
    "duration": 9,
    "start_time": "2025-03-17T00:39:34.645Z"
   },
   {
    "duration": 12,
    "start_time": "2025-03-17T00:39:34.656Z"
   },
   {
    "duration": 5,
    "start_time": "2025-03-17T00:39:34.669Z"
   },
   {
    "duration": 12,
    "start_time": "2025-03-17T00:39:34.676Z"
   },
   {
    "duration": 49,
    "start_time": "2025-03-17T00:39:34.690Z"
   },
   {
    "duration": 3,
    "start_time": "2025-03-17T00:39:34.741Z"
   },
   {
    "duration": 176,
    "start_time": "2025-03-17T00:39:34.746Z"
   },
   {
    "duration": 159,
    "start_time": "2025-03-17T00:39:34.924Z"
   },
   {
    "duration": 3,
    "start_time": "2025-03-17T00:39:35.085Z"
   },
   {
    "duration": 50,
    "start_time": "2025-03-17T00:39:35.090Z"
   },
   {
    "duration": 3,
    "start_time": "2025-03-17T00:39:35.142Z"
   },
   {
    "duration": 61,
    "start_time": "2025-03-17T00:39:35.147Z"
   },
   {
    "duration": 48,
    "start_time": "2025-03-17T00:39:35.210Z"
   },
   {
    "duration": 127,
    "start_time": "2025-03-17T00:39:35.259Z"
   },
   {
    "duration": 32,
    "start_time": "2025-03-17T00:39:35.388Z"
   },
   {
    "duration": 36,
    "start_time": "2025-03-17T00:39:35.434Z"
   },
   {
    "duration": 31,
    "start_time": "2025-03-17T00:39:35.472Z"
   },
   {
    "duration": 4,
    "start_time": "2025-03-17T00:39:35.505Z"
   },
   {
    "duration": 27,
    "start_time": "2025-03-17T00:39:35.511Z"
   },
   {
    "duration": 7,
    "start_time": "2025-03-17T00:39:35.540Z"
   },
   {
    "duration": 5,
    "start_time": "2025-03-17T00:39:35.548Z"
   },
   {
    "duration": 8,
    "start_time": "2025-03-17T00:39:35.555Z"
   },
   {
    "duration": 109,
    "start_time": "2025-03-17T00:39:35.564Z"
   },
   {
    "duration": 112,
    "start_time": "2025-03-17T00:39:35.675Z"
   },
   {
    "duration": 839,
    "start_time": "2025-03-17T00:39:35.789Z"
   },
   {
    "duration": 12,
    "start_time": "2025-03-17T00:39:36.629Z"
   },
   {
    "duration": 868,
    "start_time": "2025-03-17T00:39:36.643Z"
   },
   {
    "duration": 9,
    "start_time": "2025-03-17T00:39:37.513Z"
   },
   {
    "duration": 8,
    "start_time": "2025-03-17T00:39:37.532Z"
   },
   {
    "duration": 435,
    "start_time": "2025-03-17T00:39:37.542Z"
   },
   {
    "duration": 316,
    "start_time": "2025-03-17T00:40:34.633Z"
   },
   {
    "duration": 412,
    "start_time": "2025-03-17T00:40:47.568Z"
   },
   {
    "duration": 318,
    "start_time": "2025-03-17T00:41:41.216Z"
   },
   {
    "duration": 375,
    "start_time": "2025-03-17T00:44:23.593Z"
   },
   {
    "duration": 293,
    "start_time": "2025-03-17T00:45:11.652Z"
   },
   {
    "duration": 325,
    "start_time": "2025-03-17T00:46:56.519Z"
   },
   {
    "duration": 393,
    "start_time": "2025-03-17T01:11:14.665Z"
   },
   {
    "duration": 168,
    "start_time": "2025-03-17T01:57:29.077Z"
   },
   {
    "duration": 2742,
    "start_time": "2025-03-17T01:57:53.082Z"
   },
   {
    "duration": 394,
    "start_time": "2025-03-17T01:57:55.827Z"
   },
   {
    "duration": 9,
    "start_time": "2025-03-17T01:57:56.222Z"
   },
   {
    "duration": 9,
    "start_time": "2025-03-17T01:57:56.233Z"
   },
   {
    "duration": 13,
    "start_time": "2025-03-17T01:57:56.244Z"
   },
   {
    "duration": 6,
    "start_time": "2025-03-17T01:57:56.259Z"
   },
   {
    "duration": 64,
    "start_time": "2025-03-17T01:57:56.266Z"
   },
   {
    "duration": 8,
    "start_time": "2025-03-17T01:57:56.332Z"
   },
   {
    "duration": 7,
    "start_time": "2025-03-17T01:57:56.342Z"
   },
   {
    "duration": 5,
    "start_time": "2025-03-17T01:57:56.354Z"
   },
   {
    "duration": 4,
    "start_time": "2025-03-17T01:57:56.360Z"
   },
   {
    "duration": 4,
    "start_time": "2025-03-17T01:57:56.365Z"
   },
   {
    "duration": 35,
    "start_time": "2025-03-17T01:57:56.371Z"
   },
   {
    "duration": 6,
    "start_time": "2025-03-17T01:57:56.407Z"
   },
   {
    "duration": 3,
    "start_time": "2025-03-17T01:57:56.415Z"
   },
   {
    "duration": 9,
    "start_time": "2025-03-17T01:57:56.420Z"
   },
   {
    "duration": 3,
    "start_time": "2025-03-17T01:57:56.431Z"
   },
   {
    "duration": 8,
    "start_time": "2025-03-17T01:57:56.436Z"
   },
   {
    "duration": 5,
    "start_time": "2025-03-17T01:57:56.445Z"
   },
   {
    "duration": 3,
    "start_time": "2025-03-17T01:57:56.452Z"
   },
   {
    "duration": 7,
    "start_time": "2025-03-17T01:57:56.457Z"
   },
   {
    "duration": 40,
    "start_time": "2025-03-17T01:57:56.466Z"
   },
   {
    "duration": 24,
    "start_time": "2025-03-17T01:57:56.508Z"
   },
   {
    "duration": 22,
    "start_time": "2025-03-17T01:57:56.534Z"
   },
   {
    "duration": 12,
    "start_time": "2025-03-17T01:57:56.558Z"
   },
   {
    "duration": 33,
    "start_time": "2025-03-17T01:57:56.573Z"
   },
   {
    "duration": 14,
    "start_time": "2025-03-17T01:57:56.609Z"
   },
   {
    "duration": 5,
    "start_time": "2025-03-17T01:57:56.627Z"
   },
   {
    "duration": 12,
    "start_time": "2025-03-17T01:57:56.635Z"
   },
   {
    "duration": 16,
    "start_time": "2025-03-17T01:57:56.648Z"
   },
   {
    "duration": 3,
    "start_time": "2025-03-17T01:57:56.666Z"
   },
   {
    "duration": 169,
    "start_time": "2025-03-17T01:57:56.705Z"
   },
   {
    "duration": 167,
    "start_time": "2025-03-17T01:57:56.876Z"
   },
   {
    "duration": 4,
    "start_time": "2025-03-17T01:57:57.045Z"
   },
   {
    "duration": 40,
    "start_time": "2025-03-17T01:57:57.051Z"
   },
   {
    "duration": 4,
    "start_time": "2025-03-17T01:57:57.106Z"
   },
   {
    "duration": 61,
    "start_time": "2025-03-17T01:57:57.111Z"
   },
   {
    "duration": 46,
    "start_time": "2025-03-17T01:57:57.174Z"
   },
   {
    "duration": 127,
    "start_time": "2025-03-17T01:57:57.222Z"
   },
   {
    "duration": 31,
    "start_time": "2025-03-17T01:57:57.350Z"
   },
   {
    "duration": 48,
    "start_time": "2025-03-17T01:57:57.383Z"
   },
   {
    "duration": 35,
    "start_time": "2025-03-17T01:57:57.432Z"
   },
   {
    "duration": 4,
    "start_time": "2025-03-17T01:57:57.473Z"
   },
   {
    "duration": 27,
    "start_time": "2025-03-17T01:57:57.479Z"
   },
   {
    "duration": 11,
    "start_time": "2025-03-17T01:57:57.509Z"
   },
   {
    "duration": 6,
    "start_time": "2025-03-17T01:57:57.521Z"
   },
   {
    "duration": 9,
    "start_time": "2025-03-17T01:57:57.530Z"
   },
   {
    "duration": 102,
    "start_time": "2025-03-17T01:57:57.541Z"
   },
   {
    "duration": 85,
    "start_time": "2025-03-17T01:57:57.646Z"
   },
   {
    "duration": 102,
    "start_time": "2025-03-17T01:57:57.733Z"
   },
   {
    "duration": 883,
    "start_time": "2025-03-17T01:57:57.837Z"
   },
   {
    "duration": 13,
    "start_time": "2025-03-17T01:57:58.722Z"
   },
   {
    "duration": 834,
    "start_time": "2025-03-17T01:57:58.737Z"
   },
   {
    "duration": 9,
    "start_time": "2025-03-17T01:57:59.573Z"
   },
   {
    "duration": 21,
    "start_time": "2025-03-17T01:57:59.584Z"
   },
   {
    "duration": 408,
    "start_time": "2025-03-17T01:57:59.607Z"
   },
   {
    "duration": 68,
    "start_time": "2025-03-17T01:58:39.293Z"
   },
   {
    "duration": 71,
    "start_time": "2025-03-17T01:58:58.255Z"
   },
   {
    "duration": 66,
    "start_time": "2025-03-17T02:01:57.581Z"
   },
   {
    "duration": 69,
    "start_time": "2025-03-17T02:03:31.036Z"
   },
   {
    "duration": 69,
    "start_time": "2025-03-17T02:04:27.141Z"
   },
   {
    "duration": 2,
    "start_time": "2025-03-17T02:05:39.448Z"
   },
   {
    "duration": 15,
    "start_time": "2025-03-17T02:05:50.678Z"
   },
   {
    "duration": 41,
    "start_time": "2025-03-17T02:07:01.190Z"
   },
   {
    "duration": 29,
    "start_time": "2025-03-17T02:10:26.314Z"
   },
   {
    "duration": 870,
    "start_time": "2025-03-17T02:14:44.228Z"
   },
   {
    "duration": 350,
    "start_time": "2025-03-17T02:14:45.100Z"
   },
   {
    "duration": 10,
    "start_time": "2025-03-17T02:14:45.452Z"
   },
   {
    "duration": 8,
    "start_time": "2025-03-17T02:14:45.464Z"
   },
   {
    "duration": 35,
    "start_time": "2025-03-17T02:14:45.475Z"
   },
   {
    "duration": 8,
    "start_time": "2025-03-17T02:14:45.512Z"
   },
   {
    "duration": 40,
    "start_time": "2025-03-17T02:14:45.521Z"
   },
   {
    "duration": 9,
    "start_time": "2025-03-17T02:14:45.563Z"
   },
   {
    "duration": 9,
    "start_time": "2025-03-17T02:14:45.573Z"
   },
   {
    "duration": 7,
    "start_time": "2025-03-17T02:14:45.605Z"
   },
   {
    "duration": 4,
    "start_time": "2025-03-17T02:14:45.614Z"
   },
   {
    "duration": 4,
    "start_time": "2025-03-17T02:14:45.620Z"
   },
   {
    "duration": 4,
    "start_time": "2025-03-17T02:14:45.625Z"
   },
   {
    "duration": 4,
    "start_time": "2025-03-17T02:14:45.634Z"
   },
   {
    "duration": 3,
    "start_time": "2025-03-17T02:14:45.640Z"
   },
   {
    "duration": 9,
    "start_time": "2025-03-17T02:14:45.645Z"
   },
   {
    "duration": 4,
    "start_time": "2025-03-17T02:14:45.656Z"
   },
   {
    "duration": 10,
    "start_time": "2025-03-17T02:14:45.705Z"
   },
   {
    "duration": 4,
    "start_time": "2025-03-17T02:14:45.717Z"
   },
   {
    "duration": 5,
    "start_time": "2025-03-17T02:14:45.722Z"
   },
   {
    "duration": 8,
    "start_time": "2025-03-17T02:14:45.729Z"
   },
   {
    "duration": 4,
    "start_time": "2025-03-17T02:14:45.738Z"
   },
   {
    "duration": 22,
    "start_time": "2025-03-17T02:14:45.744Z"
   },
   {
    "duration": 50,
    "start_time": "2025-03-17T02:14:45.768Z"
   },
   {
    "duration": 11,
    "start_time": "2025-03-17T02:14:45.820Z"
   },
   {
    "duration": 8,
    "start_time": "2025-03-17T02:14:45.833Z"
   },
   {
    "duration": 13,
    "start_time": "2025-03-17T02:14:45.842Z"
   },
   {
    "duration": 5,
    "start_time": "2025-03-17T02:14:45.857Z"
   },
   {
    "duration": 43,
    "start_time": "2025-03-17T02:14:45.863Z"
   },
   {
    "duration": 18,
    "start_time": "2025-03-17T02:14:45.907Z"
   },
   {
    "duration": 5,
    "start_time": "2025-03-17T02:14:45.927Z"
   },
   {
    "duration": 180,
    "start_time": "2025-03-17T02:14:45.934Z"
   },
   {
    "duration": 166,
    "start_time": "2025-03-17T02:14:46.116Z"
   },
   {
    "duration": 3,
    "start_time": "2025-03-17T02:14:46.285Z"
   },
   {
    "duration": 51,
    "start_time": "2025-03-17T02:14:46.290Z"
   },
   {
    "duration": 3,
    "start_time": "2025-03-17T02:14:46.343Z"
   },
   {
    "duration": 74,
    "start_time": "2025-03-17T02:14:46.348Z"
   },
   {
    "duration": 31,
    "start_time": "2025-03-17T02:14:46.424Z"
   },
   {
    "duration": 128,
    "start_time": "2025-03-17T02:14:46.457Z"
   },
   {
    "duration": 40,
    "start_time": "2025-03-17T02:14:46.587Z"
   },
   {
    "duration": 37,
    "start_time": "2025-03-17T02:14:46.631Z"
   },
   {
    "duration": 51,
    "start_time": "2025-03-17T02:14:46.670Z"
   },
   {
    "duration": 5,
    "start_time": "2025-03-17T02:14:46.723Z"
   },
   {
    "duration": 8,
    "start_time": "2025-03-17T02:14:46.731Z"
   },
   {
    "duration": 8,
    "start_time": "2025-03-17T02:14:46.741Z"
   },
   {
    "duration": 6,
    "start_time": "2025-03-17T02:14:46.751Z"
   },
   {
    "duration": 10,
    "start_time": "2025-03-17T02:14:46.759Z"
   },
   {
    "duration": 112,
    "start_time": "2025-03-17T02:14:46.771Z"
   },
   {
    "duration": 113,
    "start_time": "2025-03-17T02:14:46.885Z"
   },
   {
    "duration": 912,
    "start_time": "2025-03-17T02:14:47.005Z"
   },
   {
    "duration": 13,
    "start_time": "2025-03-17T02:14:47.919Z"
   },
   {
    "duration": 861,
    "start_time": "2025-03-17T02:14:47.933Z"
   },
   {
    "duration": 13,
    "start_time": "2025-03-17T02:14:48.796Z"
   },
   {
    "duration": 10,
    "start_time": "2025-03-17T02:14:48.811Z"
   },
   {
    "duration": 360,
    "start_time": "2025-03-17T02:14:48.823Z"
   },
   {
    "duration": 502,
    "start_time": "2025-03-17T20:48:10.503Z"
   },
   {
    "duration": 2623,
    "start_time": "2025-03-17T20:48:27.978Z"
   },
   {
    "duration": 431,
    "start_time": "2025-03-17T20:48:30.603Z"
   },
   {
    "duration": 10,
    "start_time": "2025-03-17T20:48:31.036Z"
   },
   {
    "duration": 8,
    "start_time": "2025-03-17T20:48:31.050Z"
   },
   {
    "duration": 17,
    "start_time": "2025-03-17T20:48:31.060Z"
   },
   {
    "duration": 7,
    "start_time": "2025-03-17T20:48:31.079Z"
   },
   {
    "duration": 59,
    "start_time": "2025-03-17T20:48:31.088Z"
   },
   {
    "duration": 8,
    "start_time": "2025-03-17T20:48:31.149Z"
   },
   {
    "duration": 10,
    "start_time": "2025-03-17T20:48:31.159Z"
   },
   {
    "duration": 5,
    "start_time": "2025-03-17T20:48:31.173Z"
   },
   {
    "duration": 4,
    "start_time": "2025-03-17T20:48:31.180Z"
   },
   {
    "duration": 28,
    "start_time": "2025-03-17T20:48:31.185Z"
   },
   {
    "duration": 4,
    "start_time": "2025-03-17T20:48:31.214Z"
   },
   {
    "duration": 5,
    "start_time": "2025-03-17T20:48:31.220Z"
   },
   {
    "duration": 3,
    "start_time": "2025-03-17T20:48:31.226Z"
   },
   {
    "duration": 8,
    "start_time": "2025-03-17T20:48:31.231Z"
   },
   {
    "duration": 3,
    "start_time": "2025-03-17T20:48:31.241Z"
   },
   {
    "duration": 8,
    "start_time": "2025-03-17T20:48:31.246Z"
   },
   {
    "duration": 4,
    "start_time": "2025-03-17T20:48:31.256Z"
   },
   {
    "duration": 51,
    "start_time": "2025-03-17T20:48:31.261Z"
   },
   {
    "duration": 9,
    "start_time": "2025-03-17T20:48:31.314Z"
   },
   {
    "duration": 4,
    "start_time": "2025-03-17T20:48:31.325Z"
   },
   {
    "duration": 24,
    "start_time": "2025-03-17T20:48:31.331Z"
   },
   {
    "duration": 56,
    "start_time": "2025-03-17T20:48:31.357Z"
   },
   {
    "duration": 12,
    "start_time": "2025-03-17T20:48:31.417Z"
   },
   {
    "duration": 12,
    "start_time": "2025-03-17T20:48:31.430Z"
   },
   {
    "duration": 17,
    "start_time": "2025-03-17T20:48:31.444Z"
   },
   {
    "duration": 7,
    "start_time": "2025-03-17T20:48:31.467Z"
   },
   {
    "duration": 38,
    "start_time": "2025-03-17T20:48:31.477Z"
   },
   {
    "duration": 19,
    "start_time": "2025-03-17T20:48:31.518Z"
   },
   {
    "duration": 3,
    "start_time": "2025-03-17T20:48:31.538Z"
   },
   {
    "duration": 186,
    "start_time": "2025-03-17T20:48:31.544Z"
   },
   {
    "duration": 149,
    "start_time": "2025-03-17T20:48:31.732Z"
   },
   {
    "duration": 4,
    "start_time": "2025-03-17T20:48:31.883Z"
   },
   {
    "duration": 51,
    "start_time": "2025-03-17T20:48:31.888Z"
   },
   {
    "duration": 4,
    "start_time": "2025-03-17T20:48:31.940Z"
   },
   {
    "duration": 74,
    "start_time": "2025-03-17T20:48:31.946Z"
   },
   {
    "duration": 30,
    "start_time": "2025-03-17T20:48:32.021Z"
   },
   {
    "duration": 128,
    "start_time": "2025-03-17T20:48:32.053Z"
   },
   {
    "duration": 40,
    "start_time": "2025-03-17T20:48:32.183Z"
   },
   {
    "duration": 36,
    "start_time": "2025-03-17T20:48:32.224Z"
   },
   {
    "duration": 48,
    "start_time": "2025-03-17T20:48:32.262Z"
   },
   {
    "duration": 4,
    "start_time": "2025-03-17T20:48:32.314Z"
   },
   {
    "duration": 8,
    "start_time": "2025-03-17T20:48:32.319Z"
   },
   {
    "duration": 6,
    "start_time": "2025-03-17T20:48:32.329Z"
   },
   {
    "duration": 6,
    "start_time": "2025-03-17T20:48:32.336Z"
   },
   {
    "duration": 8,
    "start_time": "2025-03-17T20:48:32.343Z"
   },
   {
    "duration": 105,
    "start_time": "2025-03-17T20:48:32.353Z"
   },
   {
    "duration": 87,
    "start_time": "2025-03-17T20:48:32.459Z"
   },
   {
    "duration": 108,
    "start_time": "2025-03-17T20:48:32.548Z"
   },
   {
    "duration": 876,
    "start_time": "2025-03-17T20:48:32.658Z"
   },
   {
    "duration": 11,
    "start_time": "2025-03-17T20:48:33.536Z"
   },
   {
    "duration": 882,
    "start_time": "2025-03-17T20:48:33.549Z"
   },
   {
    "duration": 9,
    "start_time": "2025-03-17T20:48:34.433Z"
   },
   {
    "duration": 8,
    "start_time": "2025-03-17T20:48:34.444Z"
   },
   {
    "duration": 355,
    "start_time": "2025-03-17T20:48:34.454Z"
   },
   {
    "duration": 827,
    "start_time": "2025-03-17T20:51:23.678Z"
   },
   {
    "duration": 348,
    "start_time": "2025-03-17T20:51:24.508Z"
   },
   {
    "duration": 8,
    "start_time": "2025-03-17T20:51:24.858Z"
   },
   {
    "duration": 10,
    "start_time": "2025-03-17T20:51:24.868Z"
   },
   {
    "duration": 13,
    "start_time": "2025-03-17T20:51:24.881Z"
   },
   {
    "duration": 19,
    "start_time": "2025-03-17T20:51:24.896Z"
   },
   {
    "duration": 43,
    "start_time": "2025-03-17T20:51:24.917Z"
   },
   {
    "duration": 10,
    "start_time": "2025-03-17T20:51:24.962Z"
   },
   {
    "duration": 8,
    "start_time": "2025-03-17T20:51:24.974Z"
   },
   {
    "duration": 27,
    "start_time": "2025-03-17T20:51:24.983Z"
   },
   {
    "duration": 3,
    "start_time": "2025-03-17T20:51:25.012Z"
   },
   {
    "duration": 5,
    "start_time": "2025-03-17T20:51:25.016Z"
   },
   {
    "duration": 4,
    "start_time": "2025-03-17T20:51:25.022Z"
   },
   {
    "duration": 5,
    "start_time": "2025-03-17T20:51:25.029Z"
   },
   {
    "duration": 4,
    "start_time": "2025-03-17T20:51:25.035Z"
   },
   {
    "duration": 8,
    "start_time": "2025-03-17T20:51:25.041Z"
   },
   {
    "duration": 3,
    "start_time": "2025-03-17T20:51:25.051Z"
   },
   {
    "duration": 54,
    "start_time": "2025-03-17T20:51:25.055Z"
   },
   {
    "duration": 4,
    "start_time": "2025-03-17T20:51:25.110Z"
   },
   {
    "duration": 4,
    "start_time": "2025-03-17T20:51:25.115Z"
   },
   {
    "duration": 8,
    "start_time": "2025-03-17T20:51:25.120Z"
   },
   {
    "duration": 4,
    "start_time": "2025-03-17T20:51:25.130Z"
   },
   {
    "duration": 25,
    "start_time": "2025-03-17T20:51:25.136Z"
   },
   {
    "duration": 51,
    "start_time": "2025-03-17T20:51:25.162Z"
   },
   {
    "duration": 11,
    "start_time": "2025-03-17T20:51:25.214Z"
   },
   {
    "duration": 8,
    "start_time": "2025-03-17T20:51:25.227Z"
   },
   {
    "duration": 12,
    "start_time": "2025-03-17T20:51:25.237Z"
   },
   {
    "duration": 4,
    "start_time": "2025-03-17T20:51:25.251Z"
   },
   {
    "duration": 14,
    "start_time": "2025-03-17T20:51:25.258Z"
   },
   {
    "duration": 48,
    "start_time": "2025-03-17T20:51:25.276Z"
   },
   {
    "duration": 5,
    "start_time": "2025-03-17T20:51:25.328Z"
   },
   {
    "duration": 175,
    "start_time": "2025-03-17T20:51:25.334Z"
   },
   {
    "duration": 152,
    "start_time": "2025-03-17T20:51:25.511Z"
   },
   {
    "duration": 3,
    "start_time": "2025-03-17T20:51:25.665Z"
   },
   {
    "duration": 53,
    "start_time": "2025-03-17T20:51:25.670Z"
   },
   {
    "duration": 4,
    "start_time": "2025-03-17T20:51:25.725Z"
   },
   {
    "duration": 79,
    "start_time": "2025-03-17T20:51:25.730Z"
   },
   {
    "duration": 31,
    "start_time": "2025-03-17T20:51:25.811Z"
   },
   {
    "duration": 126,
    "start_time": "2025-03-17T20:51:25.844Z"
   },
   {
    "duration": 43,
    "start_time": "2025-03-17T20:51:25.972Z"
   },
   {
    "duration": 36,
    "start_time": "2025-03-17T20:51:26.019Z"
   },
   {
    "duration": 32,
    "start_time": "2025-03-17T20:51:26.057Z"
   },
   {
    "duration": 20,
    "start_time": "2025-03-17T20:51:26.090Z"
   },
   {
    "duration": 9,
    "start_time": "2025-03-17T20:51:26.112Z"
   },
   {
    "duration": 6,
    "start_time": "2025-03-17T20:51:26.122Z"
   },
   {
    "duration": 6,
    "start_time": "2025-03-17T20:51:26.129Z"
   },
   {
    "duration": 7,
    "start_time": "2025-03-17T20:51:26.137Z"
   },
   {
    "duration": 106,
    "start_time": "2025-03-17T20:51:26.146Z"
   },
   {
    "duration": 84,
    "start_time": "2025-03-17T20:51:26.254Z"
   },
   {
    "duration": 125,
    "start_time": "2025-03-17T20:51:26.340Z"
   },
   {
    "duration": 855,
    "start_time": "2025-03-17T20:51:26.466Z"
   },
   {
    "duration": 12,
    "start_time": "2025-03-17T20:51:27.324Z"
   },
   {
    "duration": 862,
    "start_time": "2025-03-17T20:51:27.337Z"
   },
   {
    "duration": 8,
    "start_time": "2025-03-17T20:51:28.209Z"
   },
   {
    "duration": 10,
    "start_time": "2025-03-17T20:51:28.219Z"
   },
   {
    "duration": 316,
    "start_time": "2025-03-17T20:51:28.232Z"
   },
   {
    "duration": 96,
    "start_time": "2025-03-17T20:58:46.315Z"
   },
   {
    "duration": 818,
    "start_time": "2025-03-17T21:01:57.769Z"
   },
   {
    "duration": 339,
    "start_time": "2025-03-17T21:01:58.590Z"
   },
   {
    "duration": 9,
    "start_time": "2025-03-17T21:01:58.930Z"
   },
   {
    "duration": 9,
    "start_time": "2025-03-17T21:01:58.941Z"
   },
   {
    "duration": 16,
    "start_time": "2025-03-17T21:01:58.952Z"
   },
   {
    "duration": 8,
    "start_time": "2025-03-17T21:01:58.970Z"
   },
   {
    "duration": 78,
    "start_time": "2025-03-17T21:01:58.979Z"
   },
   {
    "duration": 9,
    "start_time": "2025-03-17T21:01:59.059Z"
   },
   {
    "duration": 9,
    "start_time": "2025-03-17T21:01:59.069Z"
   },
   {
    "duration": 32,
    "start_time": "2025-03-17T21:01:59.079Z"
   },
   {
    "duration": 3,
    "start_time": "2025-03-17T21:01:59.113Z"
   },
   {
    "duration": 4,
    "start_time": "2025-03-17T21:01:59.118Z"
   },
   {
    "duration": 4,
    "start_time": "2025-03-17T21:01:59.124Z"
   },
   {
    "duration": 4,
    "start_time": "2025-03-17T21:01:59.131Z"
   },
   {
    "duration": 3,
    "start_time": "2025-03-17T21:01:59.137Z"
   },
   {
    "duration": 8,
    "start_time": "2025-03-17T21:01:59.141Z"
   },
   {
    "duration": 4,
    "start_time": "2025-03-17T21:01:59.151Z"
   },
   {
    "duration": 8,
    "start_time": "2025-03-17T21:01:59.156Z"
   },
   {
    "duration": 45,
    "start_time": "2025-03-17T21:01:59.166Z"
   },
   {
    "duration": 4,
    "start_time": "2025-03-17T21:01:59.213Z"
   },
   {
    "duration": 9,
    "start_time": "2025-03-17T21:01:59.218Z"
   },
   {
    "duration": 4,
    "start_time": "2025-03-17T21:01:59.228Z"
   },
   {
    "duration": 25,
    "start_time": "2025-03-17T21:01:59.234Z"
   },
   {
    "duration": 56,
    "start_time": "2025-03-17T21:01:59.261Z"
   },
   {
    "duration": 12,
    "start_time": "2025-03-17T21:01:59.319Z"
   },
   {
    "duration": 9,
    "start_time": "2025-03-17T21:01:59.332Z"
   },
   {
    "duration": 12,
    "start_time": "2025-03-17T21:01:59.342Z"
   },
   {
    "duration": 5,
    "start_time": "2025-03-17T21:01:59.356Z"
   },
   {
    "duration": 15,
    "start_time": "2025-03-17T21:01:59.363Z"
   },
   {
    "duration": 20,
    "start_time": "2025-03-17T21:01:59.409Z"
   },
   {
    "duration": 4,
    "start_time": "2025-03-17T21:01:59.431Z"
   },
   {
    "duration": 186,
    "start_time": "2025-03-17T21:01:59.437Z"
   },
   {
    "duration": 161,
    "start_time": "2025-03-17T21:01:59.624Z"
   },
   {
    "duration": 3,
    "start_time": "2025-03-17T21:01:59.788Z"
   },
   {
    "duration": 53,
    "start_time": "2025-03-17T21:01:59.793Z"
   },
   {
    "duration": 4,
    "start_time": "2025-03-17T21:01:59.847Z"
   },
   {
    "duration": 70,
    "start_time": "2025-03-17T21:01:59.853Z"
   },
   {
    "duration": 30,
    "start_time": "2025-03-17T21:01:59.925Z"
   },
   {
    "duration": 135,
    "start_time": "2025-03-17T21:01:59.957Z"
   },
   {
    "duration": 47,
    "start_time": "2025-03-17T21:02:00.094Z"
   },
   {
    "duration": 38,
    "start_time": "2025-03-17T21:02:00.146Z"
   },
   {
    "duration": 49,
    "start_time": "2025-03-17T21:02:00.186Z"
   },
   {
    "duration": 3,
    "start_time": "2025-03-17T21:02:00.237Z"
   },
   {
    "duration": 9,
    "start_time": "2025-03-17T21:02:00.242Z"
   },
   {
    "duration": 7,
    "start_time": "2025-03-17T21:02:00.252Z"
   },
   {
    "duration": 6,
    "start_time": "2025-03-17T21:02:00.260Z"
   },
   {
    "duration": 8,
    "start_time": "2025-03-17T21:02:00.268Z"
   },
   {
    "duration": 35,
    "start_time": "2025-03-17T21:02:00.278Z"
   },
   {
    "duration": 6,
    "start_time": "2025-03-17T21:02:00.314Z"
   },
   {
    "duration": 87,
    "start_time": "2025-03-17T21:02:00.323Z"
   },
   {
    "duration": 79,
    "start_time": "2025-03-17T21:02:00.411Z"
   },
   {
    "duration": 108,
    "start_time": "2025-03-17T21:02:00.493Z"
   },
   {
    "duration": 896,
    "start_time": "2025-03-17T21:02:00.609Z"
   },
   {
    "duration": 13,
    "start_time": "2025-03-17T21:02:01.507Z"
   },
   {
    "duration": 977,
    "start_time": "2025-03-17T21:02:01.521Z"
   },
   {
    "duration": 9,
    "start_time": "2025-03-17T21:02:02.500Z"
   },
   {
    "duration": 11,
    "start_time": "2025-03-17T21:02:02.510Z"
   },
   {
    "duration": 316,
    "start_time": "2025-03-17T21:02:02.522Z"
   },
   {
    "duration": 848,
    "start_time": "2025-03-17T21:03:33.150Z"
   },
   {
    "duration": 354,
    "start_time": "2025-03-17T21:03:34.000Z"
   },
   {
    "duration": 9,
    "start_time": "2025-03-17T21:03:34.356Z"
   },
   {
    "duration": 10,
    "start_time": "2025-03-17T21:03:34.367Z"
   },
   {
    "duration": 31,
    "start_time": "2025-03-17T21:03:34.379Z"
   },
   {
    "duration": 6,
    "start_time": "2025-03-17T21:03:34.413Z"
   },
   {
    "duration": 45,
    "start_time": "2025-03-17T21:03:34.420Z"
   },
   {
    "duration": 10,
    "start_time": "2025-03-17T21:03:34.467Z"
   },
   {
    "duration": 9,
    "start_time": "2025-03-17T21:03:34.479Z"
   },
   {
    "duration": 25,
    "start_time": "2025-03-17T21:03:34.489Z"
   },
   {
    "duration": 3,
    "start_time": "2025-03-17T21:03:34.516Z"
   },
   {
    "duration": 5,
    "start_time": "2025-03-17T21:03:34.520Z"
   },
   {
    "duration": 4,
    "start_time": "2025-03-17T21:03:34.526Z"
   },
   {
    "duration": 5,
    "start_time": "2025-03-17T21:03:34.534Z"
   },
   {
    "duration": 4,
    "start_time": "2025-03-17T21:03:34.540Z"
   },
   {
    "duration": 8,
    "start_time": "2025-03-17T21:03:34.546Z"
   },
   {
    "duration": 3,
    "start_time": "2025-03-17T21:03:34.555Z"
   },
   {
    "duration": 52,
    "start_time": "2025-03-17T21:03:34.560Z"
   },
   {
    "duration": 3,
    "start_time": "2025-03-17T21:03:34.614Z"
   },
   {
    "duration": 4,
    "start_time": "2025-03-17T21:03:34.619Z"
   },
   {
    "duration": 8,
    "start_time": "2025-03-17T21:03:34.624Z"
   },
   {
    "duration": 3,
    "start_time": "2025-03-17T21:03:34.634Z"
   },
   {
    "duration": 25,
    "start_time": "2025-03-17T21:03:34.639Z"
   },
   {
    "duration": 59,
    "start_time": "2025-03-17T21:03:34.666Z"
   },
   {
    "duration": 11,
    "start_time": "2025-03-17T21:03:34.726Z"
   },
   {
    "duration": 8,
    "start_time": "2025-03-17T21:03:34.739Z"
   },
   {
    "duration": 12,
    "start_time": "2025-03-17T21:03:34.748Z"
   },
   {
    "duration": 5,
    "start_time": "2025-03-17T21:03:34.761Z"
   },
   {
    "duration": 42,
    "start_time": "2025-03-17T21:03:34.768Z"
   },
   {
    "duration": 18,
    "start_time": "2025-03-17T21:03:34.811Z"
   },
   {
    "duration": 3,
    "start_time": "2025-03-17T21:03:34.831Z"
   },
   {
    "duration": 182,
    "start_time": "2025-03-17T21:03:34.836Z"
   },
   {
    "duration": 158,
    "start_time": "2025-03-17T21:03:35.020Z"
   },
   {
    "duration": 3,
    "start_time": "2025-03-17T21:03:35.180Z"
   },
   {
    "duration": 49,
    "start_time": "2025-03-17T21:03:35.185Z"
   },
   {
    "duration": 3,
    "start_time": "2025-03-17T21:03:35.236Z"
   },
   {
    "duration": 79,
    "start_time": "2025-03-17T21:03:35.240Z"
   },
   {
    "duration": 32,
    "start_time": "2025-03-17T21:03:35.321Z"
   },
   {
    "duration": 135,
    "start_time": "2025-03-17T21:03:35.355Z"
   },
   {
    "duration": 38,
    "start_time": "2025-03-17T21:03:35.492Z"
   },
   {
    "duration": 37,
    "start_time": "2025-03-17T21:03:35.535Z"
   },
   {
    "duration": 52,
    "start_time": "2025-03-17T21:03:35.573Z"
   },
   {
    "duration": 4,
    "start_time": "2025-03-17T21:03:35.627Z"
   },
   {
    "duration": 8,
    "start_time": "2025-03-17T21:03:35.632Z"
   },
   {
    "duration": 6,
    "start_time": "2025-03-17T21:03:35.642Z"
   },
   {
    "duration": 5,
    "start_time": "2025-03-17T21:03:35.650Z"
   },
   {
    "duration": 8,
    "start_time": "2025-03-17T21:03:35.657Z"
   },
   {
    "duration": 6,
    "start_time": "2025-03-17T21:03:35.666Z"
   },
   {
    "duration": 38,
    "start_time": "2025-03-17T21:03:35.673Z"
   },
   {
    "duration": 26,
    "start_time": "2025-03-17T21:03:35.713Z"
   },
   {
    "duration": 83,
    "start_time": "2025-03-17T21:03:35.741Z"
   },
   {
    "duration": 91,
    "start_time": "2025-03-17T21:03:35.826Z"
   },
   {
    "duration": 118,
    "start_time": "2025-03-17T21:03:35.919Z"
   },
   {
    "duration": 877,
    "start_time": "2025-03-17T21:03:36.040Z"
   },
   {
    "duration": 12,
    "start_time": "2025-03-17T21:03:36.919Z"
   },
   {
    "duration": 949,
    "start_time": "2025-03-17T21:03:36.932Z"
   },
   {
    "duration": 9,
    "start_time": "2025-03-17T21:03:37.883Z"
   },
   {
    "duration": 21,
    "start_time": "2025-03-17T21:03:37.894Z"
   },
   {
    "duration": 324,
    "start_time": "2025-03-17T21:03:37.917Z"
   },
   {
    "duration": 833,
    "start_time": "2025-03-17T21:05:47.002Z"
   },
   {
    "duration": 333,
    "start_time": "2025-03-17T21:05:47.837Z"
   },
   {
    "duration": 9,
    "start_time": "2025-03-17T21:05:48.172Z"
   },
   {
    "duration": 9,
    "start_time": "2025-03-17T21:05:48.184Z"
   },
   {
    "duration": 13,
    "start_time": "2025-03-17T21:05:48.208Z"
   },
   {
    "duration": 6,
    "start_time": "2025-03-17T21:05:48.223Z"
   },
   {
    "duration": 41,
    "start_time": "2025-03-17T21:05:48.230Z"
   },
   {
    "duration": 8,
    "start_time": "2025-03-17T21:05:48.273Z"
   },
   {
    "duration": 33,
    "start_time": "2025-03-17T21:05:48.283Z"
   },
   {
    "duration": 5,
    "start_time": "2025-03-17T21:05:48.320Z"
   },
   {
    "duration": 4,
    "start_time": "2025-03-17T21:05:48.327Z"
   },
   {
    "duration": 4,
    "start_time": "2025-03-17T21:05:48.333Z"
   },
   {
    "duration": 3,
    "start_time": "2025-03-17T21:05:48.339Z"
   },
   {
    "duration": 4,
    "start_time": "2025-03-17T21:05:48.344Z"
   },
   {
    "duration": 4,
    "start_time": "2025-03-17T21:05:48.350Z"
   },
   {
    "duration": 8,
    "start_time": "2025-03-17T21:05:48.355Z"
   },
   {
    "duration": 45,
    "start_time": "2025-03-17T21:05:48.365Z"
   },
   {
    "duration": 9,
    "start_time": "2025-03-17T21:05:48.412Z"
   },
   {
    "duration": 5,
    "start_time": "2025-03-17T21:05:48.422Z"
   },
   {
    "duration": 3,
    "start_time": "2025-03-17T21:05:48.429Z"
   },
   {
    "duration": 9,
    "start_time": "2025-03-17T21:05:48.433Z"
   },
   {
    "duration": 4,
    "start_time": "2025-03-17T21:05:48.443Z"
   },
   {
    "duration": 26,
    "start_time": "2025-03-17T21:05:48.449Z"
   },
   {
    "duration": 25,
    "start_time": "2025-03-17T21:05:48.510Z"
   },
   {
    "duration": 11,
    "start_time": "2025-03-17T21:05:48.537Z"
   },
   {
    "duration": 8,
    "start_time": "2025-03-17T21:05:48.550Z"
   },
   {
    "duration": 14,
    "start_time": "2025-03-17T21:05:48.560Z"
   },
   {
    "duration": 6,
    "start_time": "2025-03-17T21:05:48.608Z"
   },
   {
    "duration": 13,
    "start_time": "2025-03-17T21:05:48.615Z"
   },
   {
    "duration": 17,
    "start_time": "2025-03-17T21:05:48.629Z"
   },
   {
    "duration": 4,
    "start_time": "2025-03-17T21:05:48.647Z"
   },
   {
    "duration": 185,
    "start_time": "2025-03-17T21:05:48.652Z"
   },
   {
    "duration": 164,
    "start_time": "2025-03-17T21:05:48.838Z"
   },
   {
    "duration": 6,
    "start_time": "2025-03-17T21:05:49.004Z"
   },
   {
    "duration": 39,
    "start_time": "2025-03-17T21:05:49.012Z"
   },
   {
    "duration": 3,
    "start_time": "2025-03-17T21:05:49.053Z"
   },
   {
    "duration": 79,
    "start_time": "2025-03-17T21:05:49.058Z"
   },
   {
    "duration": 30,
    "start_time": "2025-03-17T21:05:49.139Z"
   },
   {
    "duration": 127,
    "start_time": "2025-03-17T21:05:49.171Z"
   },
   {
    "duration": 38,
    "start_time": "2025-03-17T21:05:49.300Z"
   },
   {
    "duration": 41,
    "start_time": "2025-03-17T21:05:49.340Z"
   },
   {
    "duration": 48,
    "start_time": "2025-03-17T21:05:49.384Z"
   },
   {
    "duration": 3,
    "start_time": "2025-03-17T21:05:49.435Z"
   },
   {
    "duration": 8,
    "start_time": "2025-03-17T21:05:49.440Z"
   },
   {
    "duration": 6,
    "start_time": "2025-03-17T21:05:49.450Z"
   },
   {
    "duration": 5,
    "start_time": "2025-03-17T21:05:49.458Z"
   },
   {
    "duration": 9,
    "start_time": "2025-03-17T21:05:49.465Z"
   },
   {
    "duration": 38,
    "start_time": "2025-03-17T21:05:49.475Z"
   },
   {
    "duration": 6,
    "start_time": "2025-03-17T21:05:49.515Z"
   },
   {
    "duration": 19,
    "start_time": "2025-03-17T21:05:49.522Z"
   },
   {
    "duration": 25,
    "start_time": "2025-03-17T21:05:49.543Z"
   },
   {
    "duration": 58,
    "start_time": "2025-03-17T21:05:49.570Z"
   },
   {
    "duration": 40,
    "start_time": "2025-03-17T21:05:49.629Z"
   },
   {
    "duration": 100,
    "start_time": "2025-03-17T21:05:49.671Z"
   },
   {
    "duration": 110,
    "start_time": "2025-03-17T21:05:49.773Z"
   },
   {
    "duration": 912,
    "start_time": "2025-03-17T21:05:49.885Z"
   },
   {
    "duration": 12,
    "start_time": "2025-03-17T21:05:50.799Z"
   },
   {
    "duration": 871,
    "start_time": "2025-03-17T21:05:50.813Z"
   },
   {
    "duration": 8,
    "start_time": "2025-03-17T21:05:51.686Z"
   },
   {
    "duration": 14,
    "start_time": "2025-03-17T21:05:51.696Z"
   },
   {
    "duration": 322,
    "start_time": "2025-03-17T21:05:51.711Z"
   },
   {
    "duration": 815,
    "start_time": "2025-03-17T21:07:07.978Z"
   },
   {
    "duration": 339,
    "start_time": "2025-03-17T21:07:08.796Z"
   },
   {
    "duration": 9,
    "start_time": "2025-03-17T21:07:09.137Z"
   },
   {
    "duration": 8,
    "start_time": "2025-03-17T21:07:09.148Z"
   },
   {
    "duration": 14,
    "start_time": "2025-03-17T21:07:09.158Z"
   },
   {
    "duration": 6,
    "start_time": "2025-03-17T21:07:09.174Z"
   },
   {
    "duration": 65,
    "start_time": "2025-03-17T21:07:09.182Z"
   },
   {
    "duration": 8,
    "start_time": "2025-03-17T21:07:09.249Z"
   },
   {
    "duration": 9,
    "start_time": "2025-03-17T21:07:09.259Z"
   },
   {
    "duration": 6,
    "start_time": "2025-03-17T21:07:09.269Z"
   },
   {
    "duration": 3,
    "start_time": "2025-03-17T21:07:09.277Z"
   },
   {
    "duration": 4,
    "start_time": "2025-03-17T21:07:09.309Z"
   },
   {
    "duration": 4,
    "start_time": "2025-03-17T21:07:09.315Z"
   },
   {
    "duration": 5,
    "start_time": "2025-03-17T21:07:09.322Z"
   },
   {
    "duration": 4,
    "start_time": "2025-03-17T21:07:09.328Z"
   },
   {
    "duration": 8,
    "start_time": "2025-03-17T21:07:09.333Z"
   },
   {
    "duration": 4,
    "start_time": "2025-03-17T21:07:09.342Z"
   },
   {
    "duration": 8,
    "start_time": "2025-03-17T21:07:09.347Z"
   },
   {
    "duration": 4,
    "start_time": "2025-03-17T21:07:09.358Z"
   },
   {
    "duration": 46,
    "start_time": "2025-03-17T21:07:09.365Z"
   },
   {
    "duration": 10,
    "start_time": "2025-03-17T21:07:09.413Z"
   },
   {
    "duration": 4,
    "start_time": "2025-03-17T21:07:09.424Z"
   },
   {
    "duration": 22,
    "start_time": "2025-03-17T21:07:09.429Z"
   },
   {
    "duration": 20,
    "start_time": "2025-03-17T21:07:09.453Z"
   },
   {
    "duration": 35,
    "start_time": "2025-03-17T21:07:09.475Z"
   },
   {
    "duration": 10,
    "start_time": "2025-03-17T21:07:09.512Z"
   },
   {
    "duration": 14,
    "start_time": "2025-03-17T21:07:09.525Z"
   },
   {
    "duration": 6,
    "start_time": "2025-03-17T21:07:09.542Z"
   },
   {
    "duration": 13,
    "start_time": "2025-03-17T21:07:09.550Z"
   },
   {
    "duration": 47,
    "start_time": "2025-03-17T21:07:09.565Z"
   },
   {
    "duration": 4,
    "start_time": "2025-03-17T21:07:09.614Z"
   },
   {
    "duration": 207,
    "start_time": "2025-03-17T21:07:09.620Z"
   },
   {
    "duration": 191,
    "start_time": "2025-03-17T21:07:09.829Z"
   },
   {
    "duration": 5,
    "start_time": "2025-03-17T21:07:10.022Z"
   },
   {
    "duration": 43,
    "start_time": "2025-03-17T21:07:10.031Z"
   },
   {
    "duration": 6,
    "start_time": "2025-03-17T21:07:10.076Z"
   },
   {
    "duration": 74,
    "start_time": "2025-03-17T21:07:10.085Z"
   },
   {
    "duration": 34,
    "start_time": "2025-03-17T21:07:10.161Z"
   },
   {
    "duration": 137,
    "start_time": "2025-03-17T21:07:10.209Z"
   },
   {
    "duration": 35,
    "start_time": "2025-03-17T21:07:10.348Z"
   },
   {
    "duration": 53,
    "start_time": "2025-03-17T21:07:10.389Z"
   },
   {
    "duration": 31,
    "start_time": "2025-03-17T21:07:10.443Z"
   },
   {
    "duration": 4,
    "start_time": "2025-03-17T21:07:10.476Z"
   },
   {
    "duration": 9,
    "start_time": "2025-03-17T21:07:10.481Z"
   },
   {
    "duration": 8,
    "start_time": "2025-03-17T21:07:10.509Z"
   },
   {
    "duration": 6,
    "start_time": "2025-03-17T21:07:10.518Z"
   },
   {
    "duration": 8,
    "start_time": "2025-03-17T21:07:10.526Z"
   },
   {
    "duration": 6,
    "start_time": "2025-03-17T21:07:10.536Z"
   },
   {
    "duration": 7,
    "start_time": "2025-03-17T21:07:10.543Z"
   },
   {
    "duration": 22,
    "start_time": "2025-03-17T21:07:10.551Z"
   },
   {
    "duration": 29,
    "start_time": "2025-03-17T21:07:10.609Z"
   },
   {
    "duration": 39,
    "start_time": "2025-03-17T21:07:10.641Z"
   },
   {
    "duration": 50,
    "start_time": "2025-03-17T21:07:10.682Z"
   },
   {
    "duration": 89,
    "start_time": "2025-03-17T21:07:10.734Z"
   },
   {
    "duration": 120,
    "start_time": "2025-03-17T21:07:10.825Z"
   },
   {
    "duration": 889,
    "start_time": "2025-03-17T21:07:10.947Z"
   },
   {
    "duration": 12,
    "start_time": "2025-03-17T21:07:11.838Z"
   },
   {
    "duration": 942,
    "start_time": "2025-03-17T21:07:11.852Z"
   },
   {
    "duration": 19,
    "start_time": "2025-03-17T21:07:12.796Z"
   },
   {
    "duration": 10,
    "start_time": "2025-03-17T21:07:12.817Z"
   },
   {
    "duration": 422,
    "start_time": "2025-03-17T21:07:12.829Z"
   },
   {
    "duration": 1018,
    "start_time": "2025-03-17T21:08:16.679Z"
   },
   {
    "duration": 366,
    "start_time": "2025-03-17T21:08:17.701Z"
   },
   {
    "duration": 8,
    "start_time": "2025-03-17T21:08:18.069Z"
   },
   {
    "duration": 9,
    "start_time": "2025-03-17T21:08:18.080Z"
   },
   {
    "duration": 26,
    "start_time": "2025-03-17T21:08:18.092Z"
   },
   {
    "duration": 7,
    "start_time": "2025-03-17T21:08:18.120Z"
   },
   {
    "duration": 80,
    "start_time": "2025-03-17T21:08:18.129Z"
   },
   {
    "duration": 11,
    "start_time": "2025-03-17T21:08:18.211Z"
   },
   {
    "duration": 9,
    "start_time": "2025-03-17T21:08:18.224Z"
   },
   {
    "duration": 6,
    "start_time": "2025-03-17T21:08:18.235Z"
   },
   {
    "duration": 3,
    "start_time": "2025-03-17T21:08:18.243Z"
   },
   {
    "duration": 4,
    "start_time": "2025-03-17T21:08:18.248Z"
   },
   {
    "duration": 3,
    "start_time": "2025-03-17T21:08:18.254Z"
   },
   {
    "duration": 47,
    "start_time": "2025-03-17T21:08:18.262Z"
   },
   {
    "duration": 4,
    "start_time": "2025-03-17T21:08:18.311Z"
   },
   {
    "duration": 10,
    "start_time": "2025-03-17T21:08:18.317Z"
   },
   {
    "duration": 3,
    "start_time": "2025-03-17T21:08:18.329Z"
   },
   {
    "duration": 8,
    "start_time": "2025-03-17T21:08:18.334Z"
   },
   {
    "duration": 4,
    "start_time": "2025-03-17T21:08:18.344Z"
   },
   {
    "duration": 6,
    "start_time": "2025-03-17T21:08:18.349Z"
   },
   {
    "duration": 12,
    "start_time": "2025-03-17T21:08:18.356Z"
   },
   {
    "duration": 4,
    "start_time": "2025-03-17T21:08:18.369Z"
   },
   {
    "duration": 26,
    "start_time": "2025-03-17T21:08:18.410Z"
   },
   {
    "duration": 35,
    "start_time": "2025-03-17T21:08:18.438Z"
   },
   {
    "duration": 11,
    "start_time": "2025-03-17T21:08:18.474Z"
   },
   {
    "duration": 31,
    "start_time": "2025-03-17T21:08:18.487Z"
   },
   {
    "duration": 16,
    "start_time": "2025-03-17T21:08:18.520Z"
   },
   {
    "duration": 5,
    "start_time": "2025-03-17T21:08:18.537Z"
   },
   {
    "duration": 13,
    "start_time": "2025-03-17T21:08:18.544Z"
   },
   {
    "duration": 19,
    "start_time": "2025-03-17T21:08:18.559Z"
   },
   {
    "duration": 5,
    "start_time": "2025-03-17T21:08:18.608Z"
   },
   {
    "duration": 176,
    "start_time": "2025-03-17T21:08:18.614Z"
   },
   {
    "duration": 160,
    "start_time": "2025-03-17T21:08:18.793Z"
   },
   {
    "duration": 4,
    "start_time": "2025-03-17T21:08:18.955Z"
   },
   {
    "duration": 52,
    "start_time": "2025-03-17T21:08:18.961Z"
   },
   {
    "duration": 4,
    "start_time": "2025-03-17T21:08:19.014Z"
   },
   {
    "duration": 61,
    "start_time": "2025-03-17T21:08:19.019Z"
   },
   {
    "duration": 51,
    "start_time": "2025-03-17T21:08:19.082Z"
   },
   {
    "duration": 127,
    "start_time": "2025-03-17T21:08:19.135Z"
   },
   {
    "duration": 32,
    "start_time": "2025-03-17T21:08:19.265Z"
   },
   {
    "duration": 37,
    "start_time": "2025-03-17T21:08:19.312Z"
   },
   {
    "duration": 37,
    "start_time": "2025-03-17T21:08:19.351Z"
   },
   {
    "duration": 19,
    "start_time": "2025-03-17T21:08:19.390Z"
   },
   {
    "duration": 9,
    "start_time": "2025-03-17T21:08:19.411Z"
   },
   {
    "duration": 8,
    "start_time": "2025-03-17T21:08:19.422Z"
   },
   {
    "duration": 6,
    "start_time": "2025-03-17T21:08:19.432Z"
   },
   {
    "duration": 10,
    "start_time": "2025-03-17T21:08:19.440Z"
   },
   {
    "duration": 7,
    "start_time": "2025-03-17T21:08:19.452Z"
   },
   {
    "duration": 8,
    "start_time": "2025-03-17T21:08:19.461Z"
   },
   {
    "duration": 36,
    "start_time": "2025-03-17T21:08:19.509Z"
   },
   {
    "duration": 26,
    "start_time": "2025-03-17T21:08:19.547Z"
   },
   {
    "duration": 40,
    "start_time": "2025-03-17T21:08:19.575Z"
   },
   {
    "duration": 30,
    "start_time": "2025-03-17T21:08:19.617Z"
   },
   {
    "duration": 108,
    "start_time": "2025-03-17T21:08:19.649Z"
   },
   {
    "duration": 117,
    "start_time": "2025-03-17T21:08:19.758Z"
   },
   {
    "duration": 932,
    "start_time": "2025-03-17T21:08:19.877Z"
   },
   {
    "duration": 16,
    "start_time": "2025-03-17T21:08:20.813Z"
   },
   {
    "duration": 977,
    "start_time": "2025-03-17T21:08:20.831Z"
   },
   {
    "duration": 12,
    "start_time": "2025-03-17T21:08:21.811Z"
   },
   {
    "duration": 13,
    "start_time": "2025-03-17T21:08:21.825Z"
   },
   {
    "duration": 324,
    "start_time": "2025-03-17T21:08:21.840Z"
   },
   {
    "duration": 895,
    "start_time": "2025-03-17T22:14:41.527Z"
   },
   {
    "duration": 371,
    "start_time": "2025-03-17T22:14:42.425Z"
   },
   {
    "duration": 15,
    "start_time": "2025-03-17T22:14:42.798Z"
   },
   {
    "duration": 9,
    "start_time": "2025-03-17T22:14:42.815Z"
   },
   {
    "duration": 15,
    "start_time": "2025-03-17T22:14:42.825Z"
   },
   {
    "duration": 6,
    "start_time": "2025-03-17T22:14:42.842Z"
   },
   {
    "duration": 72,
    "start_time": "2025-03-17T22:14:42.850Z"
   },
   {
    "duration": 11,
    "start_time": "2025-03-17T22:14:42.923Z"
   },
   {
    "duration": 8,
    "start_time": "2025-03-17T22:14:42.936Z"
   },
   {
    "duration": 7,
    "start_time": "2025-03-17T22:14:42.950Z"
   },
   {
    "duration": 5,
    "start_time": "2025-03-17T22:14:42.960Z"
   },
   {
    "duration": 8,
    "start_time": "2025-03-17T22:14:42.969Z"
   },
   {
    "duration": 35,
    "start_time": "2025-03-17T22:14:42.978Z"
   },
   {
    "duration": 8,
    "start_time": "2025-03-17T22:14:43.014Z"
   },
   {
    "duration": 4,
    "start_time": "2025-03-17T22:14:43.024Z"
   },
   {
    "duration": 11,
    "start_time": "2025-03-17T22:14:43.030Z"
   },
   {
    "duration": 3,
    "start_time": "2025-03-17T22:14:43.043Z"
   },
   {
    "duration": 10,
    "start_time": "2025-03-17T22:14:43.047Z"
   },
   {
    "duration": 4,
    "start_time": "2025-03-17T22:14:43.059Z"
   },
   {
    "duration": 6,
    "start_time": "2025-03-17T22:14:43.065Z"
   },
   {
    "duration": 43,
    "start_time": "2025-03-17T22:14:43.072Z"
   },
   {
    "duration": 4,
    "start_time": "2025-03-17T22:14:43.118Z"
   },
   {
    "duration": 22,
    "start_time": "2025-03-17T22:14:43.124Z"
   },
   {
    "duration": 29,
    "start_time": "2025-03-17T22:14:43.148Z"
   },
   {
    "duration": 33,
    "start_time": "2025-03-17T22:14:43.179Z"
   },
   {
    "duration": 9,
    "start_time": "2025-03-17T22:14:43.213Z"
   },
   {
    "duration": 13,
    "start_time": "2025-03-17T22:14:43.224Z"
   },
   {
    "duration": 5,
    "start_time": "2025-03-17T22:14:43.242Z"
   },
   {
    "duration": 16,
    "start_time": "2025-03-17T22:14:43.249Z"
   },
   {
    "duration": 47,
    "start_time": "2025-03-17T22:14:43.267Z"
   },
   {
    "duration": 4,
    "start_time": "2025-03-17T22:14:43.317Z"
   },
   {
    "duration": 165,
    "start_time": "2025-03-17T22:14:43.324Z"
   },
   {
    "duration": 164,
    "start_time": "2025-03-17T22:14:43.490Z"
   },
   {
    "duration": 6,
    "start_time": "2025-03-17T22:14:43.656Z"
   },
   {
    "duration": 58,
    "start_time": "2025-03-17T22:14:43.664Z"
   },
   {
    "duration": 16,
    "start_time": "2025-03-17T22:14:43.724Z"
   },
   {
    "duration": 88,
    "start_time": "2025-03-17T22:14:43.742Z"
   },
   {
    "duration": 31,
    "start_time": "2025-03-17T22:14:43.832Z"
   },
   {
    "duration": 133,
    "start_time": "2025-03-17T22:14:43.865Z"
   },
   {
    "duration": 38,
    "start_time": "2025-03-17T22:14:44.000Z"
   },
   {
    "duration": 41,
    "start_time": "2025-03-17T22:14:44.040Z"
   },
   {
    "duration": 53,
    "start_time": "2025-03-17T22:14:44.083Z"
   },
   {
    "duration": 5,
    "start_time": "2025-03-17T22:14:44.138Z"
   },
   {
    "duration": 9,
    "start_time": "2025-03-17T22:14:44.145Z"
   },
   {
    "duration": 7,
    "start_time": "2025-03-17T22:14:44.156Z"
   },
   {
    "duration": 11,
    "start_time": "2025-03-17T22:14:44.165Z"
   },
   {
    "duration": 37,
    "start_time": "2025-03-17T22:14:44.178Z"
   },
   {
    "duration": 8,
    "start_time": "2025-03-17T22:14:44.217Z"
   },
   {
    "duration": 6,
    "start_time": "2025-03-17T22:14:44.227Z"
   },
   {
    "duration": 29,
    "start_time": "2025-03-17T22:14:44.235Z"
   },
   {
    "duration": 44,
    "start_time": "2025-03-17T22:14:44.266Z"
   },
   {
    "duration": 26,
    "start_time": "2025-03-17T22:14:44.313Z"
   },
   {
    "duration": 7,
    "start_time": "2025-03-17T22:14:44.341Z"
   },
   {
    "duration": 6,
    "start_time": "2025-03-17T22:14:44.350Z"
   },
   {
    "duration": 55,
    "start_time": "2025-03-17T22:14:44.359Z"
   },
   {
    "duration": 135,
    "start_time": "2025-03-17T22:14:44.416Z"
   },
   {
    "duration": 115,
    "start_time": "2025-03-17T22:14:44.553Z"
   },
   {
    "duration": 871,
    "start_time": "2025-03-17T22:14:44.670Z"
   },
   {
    "duration": 13,
    "start_time": "2025-03-17T22:14:45.544Z"
   },
   {
    "duration": 855,
    "start_time": "2025-03-17T22:14:45.559Z"
   },
   {
    "duration": 9,
    "start_time": "2025-03-17T22:14:46.416Z"
   },
   {
    "duration": 10,
    "start_time": "2025-03-17T22:14:46.427Z"
   },
   {
    "duration": 348,
    "start_time": "2025-03-17T22:14:46.440Z"
   },
   {
    "duration": 927,
    "start_time": "2025-03-17T22:17:25.643Z"
   },
   {
    "duration": 347,
    "start_time": "2025-03-17T22:17:26.573Z"
   },
   {
    "duration": 10,
    "start_time": "2025-03-17T22:17:26.922Z"
   },
   {
    "duration": 9,
    "start_time": "2025-03-17T22:17:26.934Z"
   },
   {
    "duration": 18,
    "start_time": "2025-03-17T22:17:26.948Z"
   },
   {
    "duration": 7,
    "start_time": "2025-03-17T22:17:26.968Z"
   },
   {
    "duration": 62,
    "start_time": "2025-03-17T22:17:26.978Z"
   },
   {
    "duration": 10,
    "start_time": "2025-03-17T22:17:27.043Z"
   },
   {
    "duration": 10,
    "start_time": "2025-03-17T22:17:27.055Z"
   },
   {
    "duration": 7,
    "start_time": "2025-03-17T22:17:27.067Z"
   },
   {
    "duration": 4,
    "start_time": "2025-03-17T22:17:27.076Z"
   },
   {
    "duration": 4,
    "start_time": "2025-03-17T22:17:27.109Z"
   },
   {
    "duration": 4,
    "start_time": "2025-03-17T22:17:27.115Z"
   },
   {
    "duration": 6,
    "start_time": "2025-03-17T22:17:27.123Z"
   },
   {
    "duration": 4,
    "start_time": "2025-03-17T22:17:27.131Z"
   },
   {
    "duration": 10,
    "start_time": "2025-03-17T22:17:27.136Z"
   },
   {
    "duration": 3,
    "start_time": "2025-03-17T22:17:27.148Z"
   },
   {
    "duration": 8,
    "start_time": "2025-03-17T22:17:27.153Z"
   },
   {
    "duration": 46,
    "start_time": "2025-03-17T22:17:27.163Z"
   },
   {
    "duration": 5,
    "start_time": "2025-03-17T22:17:27.213Z"
   },
   {
    "duration": 13,
    "start_time": "2025-03-17T22:17:27.226Z"
   },
   {
    "duration": 3,
    "start_time": "2025-03-17T22:17:27.241Z"
   },
   {
    "duration": 27,
    "start_time": "2025-03-17T22:17:27.245Z"
   },
   {
    "duration": 52,
    "start_time": "2025-03-17T22:17:27.274Z"
   },
   {
    "duration": 16,
    "start_time": "2025-03-17T22:17:27.328Z"
   },
   {
    "duration": 9,
    "start_time": "2025-03-17T22:17:27.345Z"
   },
   {
    "duration": 14,
    "start_time": "2025-03-17T22:17:27.356Z"
   },
   {
    "duration": 6,
    "start_time": "2025-03-17T22:17:27.372Z"
   },
   {
    "duration": 36,
    "start_time": "2025-03-17T22:17:27.380Z"
   },
   {
    "duration": 19,
    "start_time": "2025-03-17T22:17:27.420Z"
   },
   {
    "duration": 4,
    "start_time": "2025-03-17T22:17:27.441Z"
   },
   {
    "duration": 284,
    "start_time": "2025-03-17T22:17:27.447Z"
   },
   {
    "duration": 176,
    "start_time": "2025-03-17T22:17:27.733Z"
   },
   {
    "duration": 4,
    "start_time": "2025-03-17T22:17:27.912Z"
   },
   {
    "duration": 38,
    "start_time": "2025-03-17T22:17:27.918Z"
   },
   {
    "duration": 3,
    "start_time": "2025-03-17T22:17:27.958Z"
   },
   {
    "duration": 86,
    "start_time": "2025-03-17T22:17:27.963Z"
   },
   {
    "duration": 32,
    "start_time": "2025-03-17T22:17:28.052Z"
   },
   {
    "duration": 208,
    "start_time": "2025-03-17T22:17:28.086Z"
   },
   {
    "duration": 39,
    "start_time": "2025-03-17T22:17:28.296Z"
   },
   {
    "duration": 43,
    "start_time": "2025-03-17T22:17:28.341Z"
   },
   {
    "duration": 64,
    "start_time": "2025-03-17T22:17:28.386Z"
   },
   {
    "duration": 4,
    "start_time": "2025-03-17T22:17:28.452Z"
   },
   {
    "duration": 9,
    "start_time": "2025-03-17T22:17:28.457Z"
   },
   {
    "duration": 8,
    "start_time": "2025-03-17T22:17:28.467Z"
   },
   {
    "duration": 8,
    "start_time": "2025-03-17T22:17:28.477Z"
   },
   {
    "duration": 9,
    "start_time": "2025-03-17T22:17:28.509Z"
   },
   {
    "duration": 7,
    "start_time": "2025-03-17T22:17:28.519Z"
   },
   {
    "duration": 9,
    "start_time": "2025-03-17T22:17:28.531Z"
   },
   {
    "duration": 28,
    "start_time": "2025-03-17T22:17:28.542Z"
   },
   {
    "duration": 44,
    "start_time": "2025-03-17T22:17:28.573Z"
   },
   {
    "duration": 29,
    "start_time": "2025-03-17T22:17:28.619Z"
   },
   {
    "duration": 9,
    "start_time": "2025-03-17T22:17:28.650Z"
   },
   {
    "duration": 7,
    "start_time": "2025-03-17T22:17:28.661Z"
   },
   {
    "duration": 7,
    "start_time": "2025-03-17T22:17:28.669Z"
   },
   {
    "duration": 32,
    "start_time": "2025-03-17T22:17:28.678Z"
   },
   {
    "duration": 23,
    "start_time": "2025-03-17T22:17:28.713Z"
   },
   {
    "duration": 142,
    "start_time": "2025-03-17T22:17:28.738Z"
   },
   {
    "duration": 180,
    "start_time": "2025-03-17T22:17:28.882Z"
   },
   {
    "duration": 873,
    "start_time": "2025-03-17T22:17:29.064Z"
   },
   {
    "duration": 14,
    "start_time": "2025-03-17T22:17:29.939Z"
   },
   {
    "duration": 865,
    "start_time": "2025-03-17T22:17:29.955Z"
   },
   {
    "duration": 8,
    "start_time": "2025-03-17T22:17:30.822Z"
   },
   {
    "duration": 11,
    "start_time": "2025-03-17T22:17:30.832Z"
   },
   {
    "duration": 381,
    "start_time": "2025-03-17T22:17:30.845Z"
   },
   {
    "duration": 895,
    "start_time": "2025-03-17T22:19:32.632Z"
   },
   {
    "duration": 378,
    "start_time": "2025-03-17T22:19:33.529Z"
   },
   {
    "duration": 9,
    "start_time": "2025-03-17T22:19:33.909Z"
   },
   {
    "duration": 10,
    "start_time": "2025-03-17T22:19:33.920Z"
   },
   {
    "duration": 14,
    "start_time": "2025-03-17T22:19:33.933Z"
   },
   {
    "duration": 6,
    "start_time": "2025-03-17T22:19:33.949Z"
   },
   {
    "duration": 74,
    "start_time": "2025-03-17T22:19:33.957Z"
   },
   {
    "duration": 8,
    "start_time": "2025-03-17T22:19:34.033Z"
   },
   {
    "duration": 9,
    "start_time": "2025-03-17T22:19:34.042Z"
   },
   {
    "duration": 9,
    "start_time": "2025-03-17T22:19:34.055Z"
   },
   {
    "duration": 3,
    "start_time": "2025-03-17T22:19:34.066Z"
   },
   {
    "duration": 6,
    "start_time": "2025-03-17T22:19:34.071Z"
   },
   {
    "duration": 4,
    "start_time": "2025-03-17T22:19:34.110Z"
   },
   {
    "duration": 5,
    "start_time": "2025-03-17T22:19:34.119Z"
   },
   {
    "duration": 4,
    "start_time": "2025-03-17T22:19:34.125Z"
   },
   {
    "duration": 10,
    "start_time": "2025-03-17T22:19:34.132Z"
   },
   {
    "duration": 6,
    "start_time": "2025-03-17T22:19:34.143Z"
   },
   {
    "duration": 9,
    "start_time": "2025-03-17T22:19:34.150Z"
   },
   {
    "duration": 4,
    "start_time": "2025-03-17T22:19:34.162Z"
   },
   {
    "duration": 37,
    "start_time": "2025-03-17T22:19:34.172Z"
   },
   {
    "duration": 11,
    "start_time": "2025-03-17T22:19:34.212Z"
   },
   {
    "duration": 4,
    "start_time": "2025-03-17T22:19:34.225Z"
   },
   {
    "duration": 36,
    "start_time": "2025-03-17T22:19:34.231Z"
   },
   {
    "duration": 51,
    "start_time": "2025-03-17T22:19:34.268Z"
   },
   {
    "duration": 15,
    "start_time": "2025-03-17T22:19:34.321Z"
   },
   {
    "duration": 12,
    "start_time": "2025-03-17T22:19:34.338Z"
   },
   {
    "duration": 18,
    "start_time": "2025-03-17T22:19:34.352Z"
   },
   {
    "duration": 8,
    "start_time": "2025-03-17T22:19:34.372Z"
   },
   {
    "duration": 41,
    "start_time": "2025-03-17T22:19:34.383Z"
   },
   {
    "duration": 18,
    "start_time": "2025-03-17T22:19:34.426Z"
   },
   {
    "duration": 5,
    "start_time": "2025-03-17T22:19:34.448Z"
   },
   {
    "duration": 222,
    "start_time": "2025-03-17T22:19:34.455Z"
   },
   {
    "duration": 259,
    "start_time": "2025-03-17T22:19:34.679Z"
   },
   {
    "duration": 4,
    "start_time": "2025-03-17T22:19:34.941Z"
   },
   {
    "duration": 40,
    "start_time": "2025-03-17T22:19:34.946Z"
   },
   {
    "duration": 21,
    "start_time": "2025-03-17T22:19:34.988Z"
   },
   {
    "duration": 86,
    "start_time": "2025-03-17T22:19:35.011Z"
   },
   {
    "duration": 32,
    "start_time": "2025-03-17T22:19:35.108Z"
   },
   {
    "duration": 127,
    "start_time": "2025-03-17T22:19:35.143Z"
   },
   {
    "duration": 41,
    "start_time": "2025-03-17T22:19:35.272Z"
   },
   {
    "duration": 39,
    "start_time": "2025-03-17T22:19:35.320Z"
   },
   {
    "duration": 52,
    "start_time": "2025-03-17T22:19:35.361Z"
   },
   {
    "duration": 4,
    "start_time": "2025-03-17T22:19:35.416Z"
   },
   {
    "duration": 11,
    "start_time": "2025-03-17T22:19:35.422Z"
   },
   {
    "duration": 7,
    "start_time": "2025-03-17T22:19:35.435Z"
   },
   {
    "duration": 8,
    "start_time": "2025-03-17T22:19:35.444Z"
   },
   {
    "duration": 9,
    "start_time": "2025-03-17T22:19:35.454Z"
   },
   {
    "duration": 6,
    "start_time": "2025-03-17T22:19:35.465Z"
   },
   {
    "duration": 6,
    "start_time": "2025-03-17T22:19:35.512Z"
   },
   {
    "duration": 25,
    "start_time": "2025-03-17T22:19:35.520Z"
   },
   {
    "duration": 25,
    "start_time": "2025-03-17T22:19:35.546Z"
   },
   {
    "duration": 56,
    "start_time": "2025-03-17T22:19:35.573Z"
   },
   {
    "duration": 9,
    "start_time": "2025-03-17T22:19:35.631Z"
   },
   {
    "duration": 8,
    "start_time": "2025-03-17T22:19:35.642Z"
   },
   {
    "duration": 10,
    "start_time": "2025-03-17T22:19:35.651Z"
   },
   {
    "duration": 7,
    "start_time": "2025-03-17T22:19:35.663Z"
   },
   {
    "duration": 17,
    "start_time": "2025-03-17T22:19:35.672Z"
   },
   {
    "duration": 6,
    "start_time": "2025-03-17T22:19:35.710Z"
   },
   {
    "duration": 11,
    "start_time": "2025-03-17T22:19:35.718Z"
   },
   {
    "duration": 112,
    "start_time": "2025-03-17T22:19:35.731Z"
   },
   {
    "duration": 158,
    "start_time": "2025-03-17T22:19:35.845Z"
   },
   {
    "duration": 933,
    "start_time": "2025-03-17T22:19:36.005Z"
   },
   {
    "duration": 16,
    "start_time": "2025-03-17T22:19:36.940Z"
   },
   {
    "duration": 895,
    "start_time": "2025-03-17T22:19:36.959Z"
   },
   {
    "duration": 12,
    "start_time": "2025-03-17T22:19:37.856Z"
   },
   {
    "duration": 12,
    "start_time": "2025-03-17T22:19:37.871Z"
   },
   {
    "duration": 450,
    "start_time": "2025-03-17T22:19:37.886Z"
   },
   {
    "duration": 912,
    "start_time": "2025-03-17T22:23:59.357Z"
   },
   {
    "duration": 385,
    "start_time": "2025-03-17T22:24:00.271Z"
   },
   {
    "duration": 11,
    "start_time": "2025-03-17T22:24:00.659Z"
   },
   {
    "duration": 10,
    "start_time": "2025-03-17T22:24:00.672Z"
   },
   {
    "duration": 30,
    "start_time": "2025-03-17T22:24:00.686Z"
   },
   {
    "duration": 17,
    "start_time": "2025-03-17T22:24:00.721Z"
   },
   {
    "duration": 68,
    "start_time": "2025-03-17T22:24:00.743Z"
   },
   {
    "duration": 16,
    "start_time": "2025-03-17T22:24:00.817Z"
   },
   {
    "duration": 16,
    "start_time": "2025-03-17T22:24:00.840Z"
   },
   {
    "duration": 6,
    "start_time": "2025-03-17T22:24:00.860Z"
   },
   {
    "duration": 5,
    "start_time": "2025-03-17T22:24:00.868Z"
   },
   {
    "duration": 4,
    "start_time": "2025-03-17T22:24:00.875Z"
   },
   {
    "duration": 3,
    "start_time": "2025-03-17T22:24:00.881Z"
   },
   {
    "duration": 12,
    "start_time": "2025-03-17T22:24:00.913Z"
   },
   {
    "duration": 4,
    "start_time": "2025-03-17T22:24:00.928Z"
   },
   {
    "duration": 16,
    "start_time": "2025-03-17T22:24:00.934Z"
   },
   {
    "duration": 12,
    "start_time": "2025-03-17T22:24:00.952Z"
   },
   {
    "duration": 10,
    "start_time": "2025-03-17T22:24:00.966Z"
   },
   {
    "duration": 5,
    "start_time": "2025-03-17T22:24:00.978Z"
   },
   {
    "duration": 3,
    "start_time": "2025-03-17T22:24:00.985Z"
   },
   {
    "duration": 25,
    "start_time": "2025-03-17T22:24:00.990Z"
   },
   {
    "duration": 5,
    "start_time": "2025-03-17T22:24:01.018Z"
   },
   {
    "duration": 33,
    "start_time": "2025-03-17T22:24:01.025Z"
   },
   {
    "duration": 20,
    "start_time": "2025-03-17T22:24:01.060Z"
   },
   {
    "duration": 28,
    "start_time": "2025-03-17T22:24:01.083Z"
   },
   {
    "duration": 10,
    "start_time": "2025-03-17T22:24:01.115Z"
   },
   {
    "duration": 16,
    "start_time": "2025-03-17T22:24:01.127Z"
   },
   {
    "duration": 8,
    "start_time": "2025-03-17T22:24:01.146Z"
   },
   {
    "duration": 14,
    "start_time": "2025-03-17T22:24:01.156Z"
   },
   {
    "duration": 43,
    "start_time": "2025-03-17T22:24:01.172Z"
   },
   {
    "duration": 5,
    "start_time": "2025-03-17T22:24:01.218Z"
   },
   {
    "duration": 219,
    "start_time": "2025-03-17T22:24:01.225Z"
   },
   {
    "duration": 198,
    "start_time": "2025-03-17T22:24:01.446Z"
   },
   {
    "duration": 4,
    "start_time": "2025-03-17T22:24:01.646Z"
   },
   {
    "duration": 58,
    "start_time": "2025-03-17T22:24:01.652Z"
   },
   {
    "duration": 3,
    "start_time": "2025-03-17T22:24:01.712Z"
   },
   {
    "duration": 91,
    "start_time": "2025-03-17T22:24:01.718Z"
   },
   {
    "duration": 42,
    "start_time": "2025-03-17T22:24:01.811Z"
   },
   {
    "duration": 149,
    "start_time": "2025-03-17T22:24:01.855Z"
   },
   {
    "duration": 43,
    "start_time": "2025-03-17T22:24:02.006Z"
   },
   {
    "duration": 38,
    "start_time": "2025-03-17T22:24:02.057Z"
   },
   {
    "duration": 47,
    "start_time": "2025-03-17T22:24:02.109Z"
   },
   {
    "duration": 5,
    "start_time": "2025-03-17T22:24:02.158Z"
   },
   {
    "duration": 9,
    "start_time": "2025-03-17T22:24:02.164Z"
   },
   {
    "duration": 6,
    "start_time": "2025-03-17T22:24:02.175Z"
   },
   {
    "duration": 30,
    "start_time": "2025-03-17T22:24:02.183Z"
   },
   {
    "duration": 12,
    "start_time": "2025-03-17T22:24:02.214Z"
   },
   {
    "duration": 9,
    "start_time": "2025-03-17T22:24:02.228Z"
   },
   {
    "duration": 7,
    "start_time": "2025-03-17T22:24:02.238Z"
   },
   {
    "duration": 31,
    "start_time": "2025-03-17T22:24:02.247Z"
   },
   {
    "duration": 52,
    "start_time": "2025-03-17T22:24:02.280Z"
   },
   {
    "duration": 30,
    "start_time": "2025-03-17T22:24:02.334Z"
   },
   {
    "duration": 7,
    "start_time": "2025-03-17T22:24:02.366Z"
   },
   {
    "duration": 7,
    "start_time": "2025-03-17T22:24:02.375Z"
   },
   {
    "duration": 30,
    "start_time": "2025-03-17T22:24:02.383Z"
   },
   {
    "duration": 11,
    "start_time": "2025-03-17T22:24:02.415Z"
   },
   {
    "duration": 8,
    "start_time": "2025-03-17T22:24:02.429Z"
   },
   {
    "duration": 8,
    "start_time": "2025-03-17T22:24:02.439Z"
   },
   {
    "duration": 3,
    "start_time": "2025-03-17T22:24:02.450Z"
   },
   {
    "duration": 3,
    "start_time": "2025-03-17T22:24:02.456Z"
   },
   {
    "duration": 11,
    "start_time": "2025-03-17T22:24:02.461Z"
   },
   {
    "duration": 145,
    "start_time": "2025-03-17T22:24:02.473Z"
   },
   {
    "duration": 161,
    "start_time": "2025-03-17T22:24:02.620Z"
   },
   {
    "duration": 963,
    "start_time": "2025-03-17T22:24:02.783Z"
   },
   {
    "duration": 15,
    "start_time": "2025-03-17T22:24:03.747Z"
   },
   {
    "duration": 969,
    "start_time": "2025-03-17T22:24:03.764Z"
   },
   {
    "duration": 16,
    "start_time": "2025-03-17T22:24:04.735Z"
   },
   {
    "duration": 11,
    "start_time": "2025-03-17T22:24:04.754Z"
   },
   {
    "duration": 372,
    "start_time": "2025-03-17T22:24:04.767Z"
   },
   {
    "duration": 937,
    "start_time": "2025-03-17T22:28:02.234Z"
   },
   {
    "duration": 378,
    "start_time": "2025-03-17T22:28:03.173Z"
   },
   {
    "duration": 11,
    "start_time": "2025-03-17T22:28:03.554Z"
   },
   {
    "duration": 8,
    "start_time": "2025-03-17T22:28:03.567Z"
   },
   {
    "duration": 13,
    "start_time": "2025-03-17T22:28:03.577Z"
   },
   {
    "duration": 18,
    "start_time": "2025-03-17T22:28:03.592Z"
   },
   {
    "duration": 61,
    "start_time": "2025-03-17T22:28:03.612Z"
   },
   {
    "duration": 7,
    "start_time": "2025-03-17T22:28:03.675Z"
   },
   {
    "duration": 37,
    "start_time": "2025-03-17T22:28:03.684Z"
   },
   {
    "duration": 8,
    "start_time": "2025-03-17T22:28:03.725Z"
   },
   {
    "duration": 3,
    "start_time": "2025-03-17T22:28:03.735Z"
   },
   {
    "duration": 5,
    "start_time": "2025-03-17T22:28:03.740Z"
   },
   {
    "duration": 3,
    "start_time": "2025-03-17T22:28:03.747Z"
   },
   {
    "duration": 4,
    "start_time": "2025-03-17T22:28:03.755Z"
   },
   {
    "duration": 4,
    "start_time": "2025-03-17T22:28:03.761Z"
   },
   {
    "duration": 9,
    "start_time": "2025-03-17T22:28:03.766Z"
   },
   {
    "duration": 6,
    "start_time": "2025-03-17T22:28:03.811Z"
   },
   {
    "duration": 9,
    "start_time": "2025-03-17T22:28:03.819Z"
   },
   {
    "duration": 4,
    "start_time": "2025-03-17T22:28:03.830Z"
   },
   {
    "duration": 4,
    "start_time": "2025-03-17T22:28:03.835Z"
   },
   {
    "duration": 9,
    "start_time": "2025-03-17T22:28:03.841Z"
   },
   {
    "duration": 3,
    "start_time": "2025-03-17T22:28:03.852Z"
   },
   {
    "duration": 51,
    "start_time": "2025-03-17T22:28:03.858Z"
   },
   {
    "duration": 39,
    "start_time": "2025-03-17T22:28:03.911Z"
   },
   {
    "duration": 14,
    "start_time": "2025-03-17T22:28:03.953Z"
   },
   {
    "duration": 10,
    "start_time": "2025-03-17T22:28:03.969Z"
   },
   {
    "duration": 29,
    "start_time": "2025-03-17T22:28:03.981Z"
   },
   {
    "duration": 7,
    "start_time": "2025-03-17T22:28:04.011Z"
   },
   {
    "duration": 17,
    "start_time": "2025-03-17T22:28:04.020Z"
   },
   {
    "duration": 24,
    "start_time": "2025-03-17T22:28:04.044Z"
   },
   {
    "duration": 4,
    "start_time": "2025-03-17T22:28:04.070Z"
   },
   {
    "duration": 215,
    "start_time": "2025-03-17T22:28:04.075Z"
   },
   {
    "duration": 196,
    "start_time": "2025-03-17T22:28:04.292Z"
   },
   {
    "duration": 4,
    "start_time": "2025-03-17T22:28:04.490Z"
   },
   {
    "duration": 67,
    "start_time": "2025-03-17T22:28:04.496Z"
   },
   {
    "duration": 3,
    "start_time": "2025-03-17T22:28:04.566Z"
   },
   {
    "duration": 99,
    "start_time": "2025-03-17T22:28:04.572Z"
   },
   {
    "duration": 40,
    "start_time": "2025-03-17T22:28:04.672Z"
   },
   {
    "duration": 161,
    "start_time": "2025-03-17T22:28:04.714Z"
   },
   {
    "duration": 44,
    "start_time": "2025-03-17T22:28:04.877Z"
   },
   {
    "duration": 45,
    "start_time": "2025-03-17T22:28:04.928Z"
   },
   {
    "duration": 56,
    "start_time": "2025-03-17T22:28:04.975Z"
   },
   {
    "duration": 4,
    "start_time": "2025-03-17T22:28:05.033Z"
   },
   {
    "duration": 11,
    "start_time": "2025-03-17T22:28:05.039Z"
   },
   {
    "duration": 7,
    "start_time": "2025-03-17T22:28:05.052Z"
   },
   {
    "duration": 6,
    "start_time": "2025-03-17T22:28:05.061Z"
   },
   {
    "duration": 41,
    "start_time": "2025-03-17T22:28:05.069Z"
   },
   {
    "duration": 13,
    "start_time": "2025-03-17T22:28:05.112Z"
   },
   {
    "duration": 6,
    "start_time": "2025-03-17T22:28:05.127Z"
   },
   {
    "duration": 37,
    "start_time": "2025-03-17T22:28:05.135Z"
   },
   {
    "duration": 46,
    "start_time": "2025-03-17T22:28:05.174Z"
   },
   {
    "duration": 42,
    "start_time": "2025-03-17T22:28:05.222Z"
   },
   {
    "duration": 8,
    "start_time": "2025-03-17T22:28:05.268Z"
   },
   {
    "duration": 6,
    "start_time": "2025-03-17T22:28:05.277Z"
   },
   {
    "duration": 29,
    "start_time": "2025-03-17T22:28:05.284Z"
   },
   {
    "duration": 9,
    "start_time": "2025-03-17T22:28:05.315Z"
   },
   {
    "duration": 8,
    "start_time": "2025-03-17T22:28:05.326Z"
   },
   {
    "duration": 7,
    "start_time": "2025-03-17T22:28:05.336Z"
   },
   {
    "duration": 5,
    "start_time": "2025-03-17T22:28:05.345Z"
   },
   {
    "duration": 3,
    "start_time": "2025-03-17T22:28:05.352Z"
   },
   {
    "duration": 4,
    "start_time": "2025-03-17T22:28:05.357Z"
   },
   {
    "duration": 5,
    "start_time": "2025-03-17T22:28:05.363Z"
   },
   {
    "duration": 2,
    "start_time": "2025-03-17T22:28:05.370Z"
   },
   {
    "duration": 2,
    "start_time": "2025-03-17T22:28:05.374Z"
   },
   {
    "duration": 13,
    "start_time": "2025-03-17T22:28:05.408Z"
   },
   {
    "duration": 107,
    "start_time": "2025-03-17T22:28:05.423Z"
   },
   {
    "duration": 127,
    "start_time": "2025-03-17T22:28:05.533Z"
   },
   {
    "duration": 916,
    "start_time": "2025-03-17T22:28:05.662Z"
   },
   {
    "duration": 12,
    "start_time": "2025-03-17T22:28:06.580Z"
   },
   {
    "duration": 852,
    "start_time": "2025-03-17T22:28:06.594Z"
   },
   {
    "duration": 12,
    "start_time": "2025-03-17T22:28:07.449Z"
   },
   {
    "duration": 9,
    "start_time": "2025-03-17T22:28:07.463Z"
   },
   {
    "duration": 357,
    "start_time": "2025-03-17T22:28:07.474Z"
   },
   {
    "duration": 945,
    "start_time": "2025-03-17T22:31:23.558Z"
   },
   {
    "duration": 393,
    "start_time": "2025-03-17T22:31:24.505Z"
   },
   {
    "duration": 12,
    "start_time": "2025-03-17T22:31:24.900Z"
   },
   {
    "duration": 10,
    "start_time": "2025-03-17T22:31:24.917Z"
   },
   {
    "duration": 18,
    "start_time": "2025-03-17T22:31:24.929Z"
   },
   {
    "duration": 7,
    "start_time": "2025-03-17T22:31:24.949Z"
   },
   {
    "duration": 72,
    "start_time": "2025-03-17T22:31:24.958Z"
   },
   {
    "duration": 10,
    "start_time": "2025-03-17T22:31:25.033Z"
   },
   {
    "duration": 10,
    "start_time": "2025-03-17T22:31:25.045Z"
   },
   {
    "duration": 6,
    "start_time": "2025-03-17T22:31:25.059Z"
   },
   {
    "duration": 4,
    "start_time": "2025-03-17T22:31:25.066Z"
   },
   {
    "duration": 4,
    "start_time": "2025-03-17T22:31:25.071Z"
   },
   {
    "duration": 34,
    "start_time": "2025-03-17T22:31:25.077Z"
   },
   {
    "duration": 7,
    "start_time": "2025-03-17T22:31:25.113Z"
   },
   {
    "duration": 4,
    "start_time": "2025-03-17T22:31:25.121Z"
   },
   {
    "duration": 10,
    "start_time": "2025-03-17T22:31:25.127Z"
   },
   {
    "duration": 3,
    "start_time": "2025-03-17T22:31:25.139Z"
   },
   {
    "duration": 9,
    "start_time": "2025-03-17T22:31:25.144Z"
   },
   {
    "duration": 4,
    "start_time": "2025-03-17T22:31:25.155Z"
   },
   {
    "duration": 4,
    "start_time": "2025-03-17T22:31:25.162Z"
   },
   {
    "duration": 47,
    "start_time": "2025-03-17T22:31:25.168Z"
   },
   {
    "duration": 4,
    "start_time": "2025-03-17T22:31:25.217Z"
   },
   {
    "duration": 34,
    "start_time": "2025-03-17T22:31:25.224Z"
   },
   {
    "duration": 24,
    "start_time": "2025-03-17T22:31:25.260Z"
   },
   {
    "duration": 40,
    "start_time": "2025-03-17T22:31:25.286Z"
   },
   {
    "duration": 15,
    "start_time": "2025-03-17T22:31:25.330Z"
   },
   {
    "duration": 17,
    "start_time": "2025-03-17T22:31:25.350Z"
   },
   {
    "duration": 5,
    "start_time": "2025-03-17T22:31:25.373Z"
   },
   {
    "duration": 30,
    "start_time": "2025-03-17T22:31:25.379Z"
   },
   {
    "duration": 27,
    "start_time": "2025-03-17T22:31:25.411Z"
   },
   {
    "duration": 4,
    "start_time": "2025-03-17T22:31:25.441Z"
   },
   {
    "duration": 215,
    "start_time": "2025-03-17T22:31:25.447Z"
   },
   {
    "duration": 196,
    "start_time": "2025-03-17T22:31:25.664Z"
   },
   {
    "duration": 4,
    "start_time": "2025-03-17T22:31:25.862Z"
   },
   {
    "duration": 56,
    "start_time": "2025-03-17T22:31:25.868Z"
   },
   {
    "duration": 5,
    "start_time": "2025-03-17T22:31:25.926Z"
   },
   {
    "duration": 83,
    "start_time": "2025-03-17T22:31:25.934Z"
   },
   {
    "duration": 44,
    "start_time": "2025-03-17T22:31:26.019Z"
   },
   {
    "duration": 154,
    "start_time": "2025-03-17T22:31:26.065Z"
   },
   {
    "duration": 46,
    "start_time": "2025-03-17T22:31:26.221Z"
   },
   {
    "duration": 51,
    "start_time": "2025-03-17T22:31:26.269Z"
   },
   {
    "duration": 50,
    "start_time": "2025-03-17T22:31:26.322Z"
   },
   {
    "duration": 4,
    "start_time": "2025-03-17T22:31:26.375Z"
   },
   {
    "duration": 9,
    "start_time": "2025-03-17T22:31:26.381Z"
   },
   {
    "duration": 9,
    "start_time": "2025-03-17T22:31:26.408Z"
   },
   {
    "duration": 10,
    "start_time": "2025-03-17T22:31:26.419Z"
   },
   {
    "duration": 10,
    "start_time": "2025-03-17T22:31:26.431Z"
   },
   {
    "duration": 7,
    "start_time": "2025-03-17T22:31:26.442Z"
   },
   {
    "duration": 6,
    "start_time": "2025-03-17T22:31:26.451Z"
   },
   {
    "duration": 52,
    "start_time": "2025-03-17T22:31:26.459Z"
   },
   {
    "duration": 30,
    "start_time": "2025-03-17T22:31:26.512Z"
   },
   {
    "duration": 34,
    "start_time": "2025-03-17T22:31:26.544Z"
   },
   {
    "duration": 8,
    "start_time": "2025-03-17T22:31:26.579Z"
   },
   {
    "duration": 9,
    "start_time": "2025-03-17T22:31:26.610Z"
   },
   {
    "duration": 10,
    "start_time": "2025-03-17T22:31:26.621Z"
   },
   {
    "duration": 7,
    "start_time": "2025-03-17T22:31:26.633Z"
   },
   {
    "duration": 7,
    "start_time": "2025-03-17T22:31:26.642Z"
   },
   {
    "duration": 7,
    "start_time": "2025-03-17T22:31:26.651Z"
   },
   {
    "duration": 3,
    "start_time": "2025-03-17T22:31:26.660Z"
   },
   {
    "duration": 2,
    "start_time": "2025-03-17T22:31:26.665Z"
   },
   {
    "duration": 42,
    "start_time": "2025-03-17T22:31:26.669Z"
   },
   {
    "duration": 2,
    "start_time": "2025-03-17T22:31:26.714Z"
   },
   {
    "duration": 3,
    "start_time": "2025-03-17T22:31:26.718Z"
   },
   {
    "duration": 2,
    "start_time": "2025-03-17T22:31:26.723Z"
   },
   {
    "duration": 12,
    "start_time": "2025-03-17T22:31:26.727Z"
   },
   {
    "duration": 115,
    "start_time": "2025-03-17T22:31:26.741Z"
   },
   {
    "duration": 919,
    "start_time": "2025-03-17T22:31:26.858Z"
   },
   {
    "duration": 13,
    "start_time": "2025-03-17T22:31:27.779Z"
   },
   {
    "duration": 965,
    "start_time": "2025-03-17T22:31:27.793Z"
   },
   {
    "duration": 9,
    "start_time": "2025-03-17T22:31:28.761Z"
   },
   {
    "duration": 9,
    "start_time": "2025-03-17T22:31:28.772Z"
   },
   {
    "duration": 363,
    "start_time": "2025-03-17T22:31:28.782Z"
   },
   {
    "duration": 971,
    "start_time": "2025-03-17T22:32:04.512Z"
   },
   {
    "duration": 402,
    "start_time": "2025-03-17T22:32:05.485Z"
   },
   {
    "duration": 9,
    "start_time": "2025-03-17T22:32:05.888Z"
   },
   {
    "duration": 17,
    "start_time": "2025-03-17T22:32:05.899Z"
   },
   {
    "duration": 17,
    "start_time": "2025-03-17T22:32:05.919Z"
   },
   {
    "duration": 9,
    "start_time": "2025-03-17T22:32:05.938Z"
   },
   {
    "duration": 71,
    "start_time": "2025-03-17T22:32:05.949Z"
   },
   {
    "duration": 9,
    "start_time": "2025-03-17T22:32:06.022Z"
   },
   {
    "duration": 11,
    "start_time": "2025-03-17T22:32:06.033Z"
   },
   {
    "duration": 7,
    "start_time": "2025-03-17T22:32:06.046Z"
   },
   {
    "duration": 4,
    "start_time": "2025-03-17T22:32:06.055Z"
   },
   {
    "duration": 5,
    "start_time": "2025-03-17T22:32:06.061Z"
   },
   {
    "duration": 3,
    "start_time": "2025-03-17T22:32:06.068Z"
   },
   {
    "duration": 5,
    "start_time": "2025-03-17T22:32:06.112Z"
   },
   {
    "duration": 4,
    "start_time": "2025-03-17T22:32:06.118Z"
   },
   {
    "duration": 10,
    "start_time": "2025-03-17T22:32:06.124Z"
   },
   {
    "duration": 3,
    "start_time": "2025-03-17T22:32:06.136Z"
   },
   {
    "duration": 9,
    "start_time": "2025-03-17T22:32:06.141Z"
   },
   {
    "duration": 3,
    "start_time": "2025-03-17T22:32:06.152Z"
   },
   {
    "duration": 8,
    "start_time": "2025-03-17T22:32:06.157Z"
   },
   {
    "duration": 9,
    "start_time": "2025-03-17T22:32:06.166Z"
   },
   {
    "duration": 4,
    "start_time": "2025-03-17T22:32:06.209Z"
   },
   {
    "duration": 37,
    "start_time": "2025-03-17T22:32:06.215Z"
   },
   {
    "duration": 24,
    "start_time": "2025-03-17T22:32:06.254Z"
   },
   {
    "duration": 29,
    "start_time": "2025-03-17T22:32:06.280Z"
   },
   {
    "duration": 12,
    "start_time": "2025-03-17T22:32:06.311Z"
   },
   {
    "duration": 17,
    "start_time": "2025-03-17T22:32:06.324Z"
   },
   {
    "duration": 5,
    "start_time": "2025-03-17T22:32:06.343Z"
   },
   {
    "duration": 13,
    "start_time": "2025-03-17T22:32:06.350Z"
   },
   {
    "duration": 47,
    "start_time": "2025-03-17T22:32:06.364Z"
   },
   {
    "duration": 7,
    "start_time": "2025-03-17T22:32:06.414Z"
   },
   {
    "duration": 210,
    "start_time": "2025-03-17T22:32:06.424Z"
   },
   {
    "duration": 198,
    "start_time": "2025-03-17T22:32:06.636Z"
   },
   {
    "duration": 3,
    "start_time": "2025-03-17T22:32:06.836Z"
   },
   {
    "duration": 50,
    "start_time": "2025-03-17T22:32:06.841Z"
   },
   {
    "duration": 21,
    "start_time": "2025-03-17T22:32:06.893Z"
   },
   {
    "duration": 74,
    "start_time": "2025-03-17T22:32:06.915Z"
   },
   {
    "duration": 56,
    "start_time": "2025-03-17T22:32:06.990Z"
   },
   {
    "duration": 153,
    "start_time": "2025-03-17T22:32:07.048Z"
   },
   {
    "duration": 54,
    "start_time": "2025-03-17T22:32:07.203Z"
   },
   {
    "duration": 54,
    "start_time": "2025-03-17T22:32:07.264Z"
   },
   {
    "duration": 47,
    "start_time": "2025-03-17T22:32:07.323Z"
   },
   {
    "duration": 4,
    "start_time": "2025-03-17T22:32:07.372Z"
   },
   {
    "duration": 8,
    "start_time": "2025-03-17T22:32:07.378Z"
   },
   {
    "duration": 6,
    "start_time": "2025-03-17T22:32:07.388Z"
   },
   {
    "duration": 19,
    "start_time": "2025-03-17T22:32:07.396Z"
   },
   {
    "duration": 13,
    "start_time": "2025-03-17T22:32:07.418Z"
   },
   {
    "duration": 7,
    "start_time": "2025-03-17T22:32:07.433Z"
   },
   {
    "duration": 6,
    "start_time": "2025-03-17T22:32:07.442Z"
   },
   {
    "duration": 26,
    "start_time": "2025-03-17T22:32:07.450Z"
   },
   {
    "duration": 50,
    "start_time": "2025-03-17T22:32:07.477Z"
   },
   {
    "duration": 29,
    "start_time": "2025-03-17T22:32:07.529Z"
   },
   {
    "duration": 310,
    "start_time": "2025-03-17T22:32:07.560Z"
   },
   {
    "duration": 0,
    "start_time": "2025-03-17T22:32:07.873Z"
   },
   {
    "duration": 0,
    "start_time": "2025-03-17T22:32:07.873Z"
   },
   {
    "duration": 0,
    "start_time": "2025-03-17T22:32:07.874Z"
   },
   {
    "duration": 0,
    "start_time": "2025-03-17T22:32:07.875Z"
   },
   {
    "duration": 0,
    "start_time": "2025-03-17T22:32:07.876Z"
   },
   {
    "duration": 0,
    "start_time": "2025-03-17T22:32:07.877Z"
   },
   {
    "duration": 0,
    "start_time": "2025-03-17T22:32:07.879Z"
   },
   {
    "duration": 0,
    "start_time": "2025-03-17T22:32:07.880Z"
   },
   {
    "duration": 0,
    "start_time": "2025-03-17T22:32:07.882Z"
   },
   {
    "duration": 0,
    "start_time": "2025-03-17T22:32:07.883Z"
   },
   {
    "duration": 0,
    "start_time": "2025-03-17T22:32:07.884Z"
   },
   {
    "duration": 0,
    "start_time": "2025-03-17T22:32:07.885Z"
   },
   {
    "duration": 0,
    "start_time": "2025-03-17T22:32:07.886Z"
   },
   {
    "duration": 0,
    "start_time": "2025-03-17T22:32:07.887Z"
   },
   {
    "duration": 0,
    "start_time": "2025-03-17T22:32:07.910Z"
   },
   {
    "duration": 0,
    "start_time": "2025-03-17T22:32:07.910Z"
   },
   {
    "duration": 0,
    "start_time": "2025-03-17T22:32:07.911Z"
   },
   {
    "duration": 0,
    "start_time": "2025-03-17T22:32:07.912Z"
   },
   {
    "duration": 0,
    "start_time": "2025-03-17T22:32:07.912Z"
   },
   {
    "duration": 923,
    "start_time": "2025-03-17T22:32:30.163Z"
   },
   {
    "duration": 413,
    "start_time": "2025-03-17T22:32:31.089Z"
   },
   {
    "duration": 14,
    "start_time": "2025-03-17T22:32:31.504Z"
   },
   {
    "duration": 11,
    "start_time": "2025-03-17T22:32:31.521Z"
   },
   {
    "duration": 18,
    "start_time": "2025-03-17T22:32:31.536Z"
   },
   {
    "duration": 8,
    "start_time": "2025-03-17T22:32:31.559Z"
   },
   {
    "duration": 62,
    "start_time": "2025-03-17T22:32:31.568Z"
   },
   {
    "duration": 10,
    "start_time": "2025-03-17T22:32:31.632Z"
   },
   {
    "duration": 10,
    "start_time": "2025-03-17T22:32:31.644Z"
   },
   {
    "duration": 8,
    "start_time": "2025-03-17T22:32:31.657Z"
   },
   {
    "duration": 4,
    "start_time": "2025-03-17T22:32:31.666Z"
   },
   {
    "duration": 4,
    "start_time": "2025-03-17T22:32:31.672Z"
   },
   {
    "duration": 34,
    "start_time": "2025-03-17T22:32:31.677Z"
   },
   {
    "duration": 6,
    "start_time": "2025-03-17T22:32:31.713Z"
   },
   {
    "duration": 4,
    "start_time": "2025-03-17T22:32:31.721Z"
   },
   {
    "duration": 9,
    "start_time": "2025-03-17T22:32:31.727Z"
   },
   {
    "duration": 3,
    "start_time": "2025-03-17T22:32:31.739Z"
   },
   {
    "duration": 10,
    "start_time": "2025-03-17T22:32:31.744Z"
   },
   {
    "duration": 3,
    "start_time": "2025-03-17T22:32:31.756Z"
   },
   {
    "duration": 4,
    "start_time": "2025-03-17T22:32:31.761Z"
   },
   {
    "duration": 46,
    "start_time": "2025-03-17T22:32:31.767Z"
   },
   {
    "duration": 4,
    "start_time": "2025-03-17T22:32:31.815Z"
   },
   {
    "duration": 35,
    "start_time": "2025-03-17T22:32:31.821Z"
   },
   {
    "duration": 21,
    "start_time": "2025-03-17T22:32:31.858Z"
   },
   {
    "duration": 31,
    "start_time": "2025-03-17T22:32:31.881Z"
   },
   {
    "duration": 15,
    "start_time": "2025-03-17T22:32:31.914Z"
   },
   {
    "duration": 20,
    "start_time": "2025-03-17T22:32:31.935Z"
   },
   {
    "duration": 6,
    "start_time": "2025-03-17T22:32:31.961Z"
   },
   {
    "duration": 13,
    "start_time": "2025-03-17T22:32:31.969Z"
   },
   {
    "duration": 43,
    "start_time": "2025-03-17T22:32:31.984Z"
   },
   {
    "duration": 9,
    "start_time": "2025-03-17T22:32:32.033Z"
   },
   {
    "duration": 267,
    "start_time": "2025-03-17T22:32:32.044Z"
   },
   {
    "duration": 202,
    "start_time": "2025-03-17T22:32:32.316Z"
   },
   {
    "duration": 9,
    "start_time": "2025-03-17T22:32:32.520Z"
   },
   {
    "duration": 47,
    "start_time": "2025-03-17T22:32:32.531Z"
   },
   {
    "duration": 3,
    "start_time": "2025-03-17T22:32:32.580Z"
   },
   {
    "duration": 95,
    "start_time": "2025-03-17T22:32:32.585Z"
   },
   {
    "duration": 37,
    "start_time": "2025-03-17T22:32:32.681Z"
   },
   {
    "duration": 164,
    "start_time": "2025-03-17T22:32:32.720Z"
   },
   {
    "duration": 36,
    "start_time": "2025-03-17T22:32:32.886Z"
   },
   {
    "duration": 49,
    "start_time": "2025-03-17T22:32:32.924Z"
   },
   {
    "duration": 49,
    "start_time": "2025-03-17T22:32:32.975Z"
   },
   {
    "duration": 4,
    "start_time": "2025-03-17T22:32:33.026Z"
   },
   {
    "duration": 15,
    "start_time": "2025-03-17T22:32:33.031Z"
   },
   {
    "duration": 10,
    "start_time": "2025-03-17T22:32:33.050Z"
   },
   {
    "duration": 6,
    "start_time": "2025-03-17T22:32:33.061Z"
   },
   {
    "duration": 14,
    "start_time": "2025-03-17T22:32:33.069Z"
   },
   {
    "duration": 6,
    "start_time": "2025-03-17T22:32:33.084Z"
   },
   {
    "duration": 7,
    "start_time": "2025-03-17T22:32:33.109Z"
   },
   {
    "duration": 36,
    "start_time": "2025-03-17T22:32:33.118Z"
   },
   {
    "duration": 21,
    "start_time": "2025-03-17T22:32:33.156Z"
   },
   {
    "duration": 60,
    "start_time": "2025-03-17T22:32:33.179Z"
   },
   {
    "duration": 11,
    "start_time": "2025-03-17T22:32:33.242Z"
   },
   {
    "duration": 9,
    "start_time": "2025-03-17T22:32:33.255Z"
   },
   {
    "duration": 9,
    "start_time": "2025-03-17T22:32:33.266Z"
   },
   {
    "duration": 40,
    "start_time": "2025-03-17T22:32:33.277Z"
   },
   {
    "duration": 12,
    "start_time": "2025-03-17T22:32:33.319Z"
   },
   {
    "duration": 16,
    "start_time": "2025-03-17T22:32:33.338Z"
   },
   {
    "duration": 2,
    "start_time": "2025-03-17T22:32:33.357Z"
   },
   {
    "duration": 4,
    "start_time": "2025-03-17T22:32:33.361Z"
   },
   {
    "duration": 2,
    "start_time": "2025-03-17T22:32:33.368Z"
   },
   {
    "duration": 2,
    "start_time": "2025-03-17T22:32:33.373Z"
   },
   {
    "duration": 3,
    "start_time": "2025-03-17T22:32:33.377Z"
   },
   {
    "duration": 3,
    "start_time": "2025-03-17T22:32:33.381Z"
   },
   {
    "duration": 23,
    "start_time": "2025-03-17T22:32:33.386Z"
   },
   {
    "duration": 174,
    "start_time": "2025-03-17T22:32:33.411Z"
   },
   {
    "duration": 1025,
    "start_time": "2025-03-17T22:32:33.587Z"
   },
   {
    "duration": 15,
    "start_time": "2025-03-17T22:32:34.618Z"
   },
   {
    "duration": 1019,
    "start_time": "2025-03-17T22:32:34.635Z"
   },
   {
    "duration": 11,
    "start_time": "2025-03-17T22:32:35.656Z"
   },
   {
    "duration": 11,
    "start_time": "2025-03-17T22:32:35.669Z"
   },
   {
    "duration": 345,
    "start_time": "2025-03-17T22:32:35.682Z"
   },
   {
    "duration": 833,
    "start_time": "2025-03-17T22:33:12.211Z"
   },
   {
    "duration": 334,
    "start_time": "2025-03-17T22:33:13.047Z"
   },
   {
    "duration": 8,
    "start_time": "2025-03-17T22:33:13.383Z"
   },
   {
    "duration": 19,
    "start_time": "2025-03-17T22:33:13.394Z"
   },
   {
    "duration": 17,
    "start_time": "2025-03-17T22:33:13.414Z"
   },
   {
    "duration": 9,
    "start_time": "2025-03-17T22:33:13.434Z"
   },
   {
    "duration": 43,
    "start_time": "2025-03-17T22:33:13.447Z"
   },
   {
    "duration": 23,
    "start_time": "2025-03-17T22:33:13.492Z"
   },
   {
    "duration": 8,
    "start_time": "2025-03-17T22:33:13.517Z"
   },
   {
    "duration": 5,
    "start_time": "2025-03-17T22:33:13.529Z"
   },
   {
    "duration": 6,
    "start_time": "2025-03-17T22:33:13.536Z"
   },
   {
    "duration": 8,
    "start_time": "2025-03-17T22:33:13.544Z"
   },
   {
    "duration": 10,
    "start_time": "2025-03-17T22:33:13.555Z"
   },
   {
    "duration": 4,
    "start_time": "2025-03-17T22:33:13.567Z"
   },
   {
    "duration": 3,
    "start_time": "2025-03-17T22:33:13.573Z"
   },
   {
    "duration": 32,
    "start_time": "2025-03-17T22:33:13.578Z"
   },
   {
    "duration": 5,
    "start_time": "2025-03-17T22:33:13.612Z"
   },
   {
    "duration": 10,
    "start_time": "2025-03-17T22:33:13.619Z"
   },
   {
    "duration": 3,
    "start_time": "2025-03-17T22:33:13.631Z"
   },
   {
    "duration": 3,
    "start_time": "2025-03-17T22:33:13.636Z"
   },
   {
    "duration": 9,
    "start_time": "2025-03-17T22:33:13.641Z"
   },
   {
    "duration": 3,
    "start_time": "2025-03-17T22:33:13.652Z"
   },
   {
    "duration": 58,
    "start_time": "2025-03-17T22:33:13.657Z"
   },
   {
    "duration": 33,
    "start_time": "2025-03-17T22:33:13.717Z"
   },
   {
    "duration": 13,
    "start_time": "2025-03-17T22:33:13.752Z"
   },
   {
    "duration": 8,
    "start_time": "2025-03-17T22:33:13.767Z"
   },
   {
    "duration": 34,
    "start_time": "2025-03-17T22:33:13.777Z"
   },
   {
    "duration": 6,
    "start_time": "2025-03-17T22:33:13.818Z"
   },
   {
    "duration": 16,
    "start_time": "2025-03-17T22:33:13.826Z"
   },
   {
    "duration": 20,
    "start_time": "2025-03-17T22:33:13.844Z"
   },
   {
    "duration": 4,
    "start_time": "2025-03-17T22:33:13.865Z"
   },
   {
    "duration": 215,
    "start_time": "2025-03-17T22:33:13.870Z"
   },
   {
    "duration": 197,
    "start_time": "2025-03-17T22:33:14.087Z"
   },
   {
    "duration": 4,
    "start_time": "2025-03-17T22:33:14.286Z"
   },
   {
    "duration": 70,
    "start_time": "2025-03-17T22:33:14.291Z"
   },
   {
    "duration": 6,
    "start_time": "2025-03-17T22:33:14.362Z"
   },
   {
    "duration": 71,
    "start_time": "2025-03-17T22:33:14.370Z"
   },
   {
    "duration": 31,
    "start_time": "2025-03-17T22:33:14.443Z"
   },
   {
    "duration": 161,
    "start_time": "2025-03-17T22:33:14.476Z"
   },
   {
    "duration": 44,
    "start_time": "2025-03-17T22:33:14.639Z"
   },
   {
    "duration": 59,
    "start_time": "2025-03-17T22:33:14.686Z"
   },
   {
    "duration": 41,
    "start_time": "2025-03-17T22:33:14.747Z"
   },
   {
    "duration": 4,
    "start_time": "2025-03-17T22:33:14.790Z"
   },
   {
    "duration": 44,
    "start_time": "2025-03-17T22:33:14.796Z"
   },
   {
    "duration": 12,
    "start_time": "2025-03-17T22:33:14.842Z"
   },
   {
    "duration": 8,
    "start_time": "2025-03-17T22:33:14.855Z"
   },
   {
    "duration": 9,
    "start_time": "2025-03-17T22:33:14.865Z"
   },
   {
    "duration": 6,
    "start_time": "2025-03-17T22:33:14.876Z"
   },
   {
    "duration": 7,
    "start_time": "2025-03-17T22:33:14.884Z"
   },
   {
    "duration": 43,
    "start_time": "2025-03-17T22:33:14.892Z"
   },
   {
    "duration": 27,
    "start_time": "2025-03-17T22:33:14.937Z"
   },
   {
    "duration": 42,
    "start_time": "2025-03-17T22:33:14.967Z"
   },
   {
    "duration": 10,
    "start_time": "2025-03-17T22:33:15.011Z"
   },
   {
    "duration": 9,
    "start_time": "2025-03-17T22:33:15.023Z"
   },
   {
    "duration": 11,
    "start_time": "2025-03-17T22:33:15.034Z"
   },
   {
    "duration": 9,
    "start_time": "2025-03-17T22:33:15.047Z"
   },
   {
    "duration": 5,
    "start_time": "2025-03-17T22:33:15.058Z"
   },
   {
    "duration": 6,
    "start_time": "2025-03-17T22:33:15.065Z"
   },
   {
    "duration": 36,
    "start_time": "2025-03-17T22:33:15.073Z"
   },
   {
    "duration": 2,
    "start_time": "2025-03-17T22:33:15.111Z"
   },
   {
    "duration": 2,
    "start_time": "2025-03-17T22:33:15.115Z"
   },
   {
    "duration": 2,
    "start_time": "2025-03-17T22:33:15.119Z"
   },
   {
    "duration": 3,
    "start_time": "2025-03-17T22:33:15.123Z"
   },
   {
    "duration": 2,
    "start_time": "2025-03-17T22:33:15.128Z"
   },
   {
    "duration": 10,
    "start_time": "2025-03-17T22:33:15.132Z"
   },
   {
    "duration": 160,
    "start_time": "2025-03-17T22:33:15.144Z"
   },
   {
    "duration": 995,
    "start_time": "2025-03-17T22:33:15.306Z"
   },
   {
    "duration": 18,
    "start_time": "2025-03-17T22:33:16.303Z"
   },
   {
    "duration": 980,
    "start_time": "2025-03-17T22:33:16.323Z"
   },
   {
    "duration": 13,
    "start_time": "2025-03-17T22:33:17.305Z"
   },
   {
    "duration": 13,
    "start_time": "2025-03-17T22:33:17.320Z"
   },
   {
    "duration": 367,
    "start_time": "2025-03-17T22:33:17.335Z"
   },
   {
    "duration": 926,
    "start_time": "2025-03-17T22:34:05.956Z"
   },
   {
    "duration": 418,
    "start_time": "2025-03-17T22:34:06.884Z"
   },
   {
    "duration": 17,
    "start_time": "2025-03-17T22:34:07.304Z"
   },
   {
    "duration": 12,
    "start_time": "2025-03-17T22:34:07.324Z"
   },
   {
    "duration": 18,
    "start_time": "2025-03-17T22:34:07.338Z"
   },
   {
    "duration": 10,
    "start_time": "2025-03-17T22:34:07.358Z"
   },
   {
    "duration": 59,
    "start_time": "2025-03-17T22:34:07.369Z"
   },
   {
    "duration": 8,
    "start_time": "2025-03-17T22:34:07.430Z"
   },
   {
    "duration": 11,
    "start_time": "2025-03-17T22:34:07.440Z"
   },
   {
    "duration": 7,
    "start_time": "2025-03-17T22:34:07.455Z"
   },
   {
    "duration": 3,
    "start_time": "2025-03-17T22:34:07.463Z"
   },
   {
    "duration": 5,
    "start_time": "2025-03-17T22:34:07.468Z"
   },
   {
    "duration": 38,
    "start_time": "2025-03-17T22:34:07.474Z"
   },
   {
    "duration": 5,
    "start_time": "2025-03-17T22:34:07.514Z"
   },
   {
    "duration": 3,
    "start_time": "2025-03-17T22:34:07.521Z"
   },
   {
    "duration": 9,
    "start_time": "2025-03-17T22:34:07.526Z"
   },
   {
    "duration": 4,
    "start_time": "2025-03-17T22:34:07.537Z"
   },
   {
    "duration": 12,
    "start_time": "2025-03-17T22:34:07.542Z"
   },
   {
    "duration": 3,
    "start_time": "2025-03-17T22:34:07.556Z"
   },
   {
    "duration": 3,
    "start_time": "2025-03-17T22:34:07.561Z"
   },
   {
    "duration": 9,
    "start_time": "2025-03-17T22:34:07.565Z"
   },
   {
    "duration": 4,
    "start_time": "2025-03-17T22:34:07.608Z"
   },
   {
    "duration": 39,
    "start_time": "2025-03-17T22:34:07.615Z"
   },
   {
    "duration": 22,
    "start_time": "2025-03-17T22:34:07.656Z"
   },
   {
    "duration": 30,
    "start_time": "2025-03-17T22:34:07.680Z"
   },
   {
    "duration": 13,
    "start_time": "2025-03-17T22:34:07.713Z"
   },
   {
    "duration": 24,
    "start_time": "2025-03-17T22:34:07.728Z"
   },
   {
    "duration": 5,
    "start_time": "2025-03-17T22:34:07.758Z"
   },
   {
    "duration": 13,
    "start_time": "2025-03-17T22:34:07.765Z"
   },
   {
    "duration": 18,
    "start_time": "2025-03-17T22:34:07.780Z"
   },
   {
    "duration": 3,
    "start_time": "2025-03-17T22:34:07.809Z"
   },
   {
    "duration": 188,
    "start_time": "2025-03-17T22:34:07.814Z"
   },
   {
    "duration": 161,
    "start_time": "2025-03-17T22:34:08.004Z"
   },
   {
    "duration": 6,
    "start_time": "2025-03-17T22:34:08.167Z"
   },
   {
    "duration": 44,
    "start_time": "2025-03-17T22:34:08.175Z"
   },
   {
    "duration": 5,
    "start_time": "2025-03-17T22:34:08.223Z"
   },
   {
    "duration": 61,
    "start_time": "2025-03-17T22:34:08.230Z"
   },
   {
    "duration": 45,
    "start_time": "2025-03-17T22:34:08.293Z"
   },
   {
    "duration": 125,
    "start_time": "2025-03-17T22:34:08.341Z"
   },
   {
    "duration": 42,
    "start_time": "2025-03-17T22:34:08.467Z"
   },
   {
    "duration": 41,
    "start_time": "2025-03-17T22:34:08.511Z"
   },
   {
    "duration": 31,
    "start_time": "2025-03-17T22:34:08.554Z"
   },
   {
    "duration": 3,
    "start_time": "2025-03-17T22:34:08.586Z"
   },
   {
    "duration": 9,
    "start_time": "2025-03-17T22:34:08.611Z"
   },
   {
    "duration": 9,
    "start_time": "2025-03-17T22:34:08.622Z"
   },
   {
    "duration": 8,
    "start_time": "2025-03-17T22:34:08.634Z"
   },
   {
    "duration": 9,
    "start_time": "2025-03-17T22:34:08.644Z"
   },
   {
    "duration": 7,
    "start_time": "2025-03-17T22:34:08.655Z"
   },
   {
    "duration": 6,
    "start_time": "2025-03-17T22:34:08.663Z"
   },
   {
    "duration": 59,
    "start_time": "2025-03-17T22:34:08.670Z"
   },
   {
    "duration": 23,
    "start_time": "2025-03-17T22:34:08.731Z"
   },
   {
    "duration": 25,
    "start_time": "2025-03-17T22:34:08.757Z"
   },
   {
    "duration": 8,
    "start_time": "2025-03-17T22:34:08.784Z"
   },
   {
    "duration": 23,
    "start_time": "2025-03-17T22:34:08.793Z"
   },
   {
    "duration": 10,
    "start_time": "2025-03-17T22:34:08.818Z"
   },
   {
    "duration": 11,
    "start_time": "2025-03-17T22:34:08.830Z"
   },
   {
    "duration": 10,
    "start_time": "2025-03-17T22:34:08.842Z"
   },
   {
    "duration": 10,
    "start_time": "2025-03-17T22:34:08.854Z"
   },
   {
    "duration": 5,
    "start_time": "2025-03-17T22:34:08.866Z"
   },
   {
    "duration": 3,
    "start_time": "2025-03-17T22:34:08.872Z"
   },
   {
    "duration": 3,
    "start_time": "2025-03-17T22:34:08.909Z"
   },
   {
    "duration": 3,
    "start_time": "2025-03-17T22:34:08.914Z"
   },
   {
    "duration": 3,
    "start_time": "2025-03-17T22:34:08.919Z"
   },
   {
    "duration": 4,
    "start_time": "2025-03-17T22:34:08.923Z"
   },
   {
    "duration": 9,
    "start_time": "2025-03-17T22:34:08.929Z"
   },
   {
    "duration": 145,
    "start_time": "2025-03-17T22:34:08.940Z"
   },
   {
    "duration": 1019,
    "start_time": "2025-03-17T22:34:09.091Z"
   },
   {
    "duration": 17,
    "start_time": "2025-03-17T22:34:10.111Z"
   },
   {
    "duration": 885,
    "start_time": "2025-03-17T22:34:10.130Z"
   },
   {
    "duration": 11,
    "start_time": "2025-03-17T22:34:11.017Z"
   },
   {
    "duration": 13,
    "start_time": "2025-03-17T22:34:11.030Z"
   },
   {
    "duration": 380,
    "start_time": "2025-03-17T22:34:11.045Z"
   },
   {
    "duration": 866,
    "start_time": "2025-03-17T22:34:56.513Z"
   },
   {
    "duration": 408,
    "start_time": "2025-03-17T22:34:57.382Z"
   },
   {
    "duration": 10,
    "start_time": "2025-03-17T22:34:57.792Z"
   },
   {
    "duration": 24,
    "start_time": "2025-03-17T22:34:57.803Z"
   },
   {
    "duration": 17,
    "start_time": "2025-03-17T22:34:57.829Z"
   },
   {
    "duration": 8,
    "start_time": "2025-03-17T22:34:57.848Z"
   },
   {
    "duration": 64,
    "start_time": "2025-03-17T22:34:57.857Z"
   },
   {
    "duration": 15,
    "start_time": "2025-03-17T22:34:57.925Z"
   },
   {
    "duration": 12,
    "start_time": "2025-03-17T22:34:57.942Z"
   },
   {
    "duration": 5,
    "start_time": "2025-03-17T22:34:57.958Z"
   },
   {
    "duration": 4,
    "start_time": "2025-03-17T22:34:57.965Z"
   },
   {
    "duration": 4,
    "start_time": "2025-03-17T22:34:57.971Z"
   },
   {
    "duration": 4,
    "start_time": "2025-03-17T22:34:57.977Z"
   },
   {
    "duration": 5,
    "start_time": "2025-03-17T22:34:58.010Z"
   },
   {
    "duration": 4,
    "start_time": "2025-03-17T22:34:58.018Z"
   },
   {
    "duration": 10,
    "start_time": "2025-03-17T22:34:58.025Z"
   },
   {
    "duration": 4,
    "start_time": "2025-03-17T22:34:58.037Z"
   },
   {
    "duration": 14,
    "start_time": "2025-03-17T22:34:58.045Z"
   },
   {
    "duration": 4,
    "start_time": "2025-03-17T22:34:58.061Z"
   },
   {
    "duration": 3,
    "start_time": "2025-03-17T22:34:58.067Z"
   },
   {
    "duration": 8,
    "start_time": "2025-03-17T22:34:58.072Z"
   },
   {
    "duration": 4,
    "start_time": "2025-03-17T22:34:58.110Z"
   },
   {
    "duration": 37,
    "start_time": "2025-03-17T22:34:58.116Z"
   },
   {
    "duration": 23,
    "start_time": "2025-03-17T22:34:58.155Z"
   },
   {
    "duration": 32,
    "start_time": "2025-03-17T22:34:58.180Z"
   },
   {
    "duration": 10,
    "start_time": "2025-03-17T22:34:58.214Z"
   },
   {
    "duration": 14,
    "start_time": "2025-03-17T22:34:58.226Z"
   },
   {
    "duration": 5,
    "start_time": "2025-03-17T22:34:58.246Z"
   },
   {
    "duration": 14,
    "start_time": "2025-03-17T22:34:58.253Z"
   },
   {
    "duration": 46,
    "start_time": "2025-03-17T22:34:58.269Z"
   },
   {
    "duration": 5,
    "start_time": "2025-03-17T22:34:58.317Z"
   },
   {
    "duration": 175,
    "start_time": "2025-03-17T22:34:58.324Z"
   },
   {
    "duration": 187,
    "start_time": "2025-03-17T22:34:58.501Z"
   },
   {
    "duration": 4,
    "start_time": "2025-03-17T22:34:58.690Z"
   },
   {
    "duration": 53,
    "start_time": "2025-03-17T22:34:58.695Z"
   },
   {
    "duration": 5,
    "start_time": "2025-03-17T22:34:58.750Z"
   },
   {
    "duration": 75,
    "start_time": "2025-03-17T22:34:58.757Z"
   },
   {
    "duration": 36,
    "start_time": "2025-03-17T22:34:58.833Z"
   },
   {
    "duration": 124,
    "start_time": "2025-03-17T22:34:58.872Z"
   },
   {
    "duration": 59,
    "start_time": "2025-03-17T22:34:58.998Z"
   },
   {
    "duration": 36,
    "start_time": "2025-03-17T22:34:59.058Z"
   },
   {
    "duration": 59,
    "start_time": "2025-03-17T22:34:59.096Z"
   },
   {
    "duration": 4,
    "start_time": "2025-03-17T22:34:59.157Z"
   },
   {
    "duration": 8,
    "start_time": "2025-03-17T22:34:59.163Z"
   },
   {
    "duration": 6,
    "start_time": "2025-03-17T22:34:59.173Z"
   },
   {
    "duration": 31,
    "start_time": "2025-03-17T22:34:59.181Z"
   },
   {
    "duration": 11,
    "start_time": "2025-03-17T22:34:59.214Z"
   },
   {
    "duration": 10,
    "start_time": "2025-03-17T22:34:59.227Z"
   },
   {
    "duration": 8,
    "start_time": "2025-03-17T22:34:59.239Z"
   },
   {
    "duration": 31,
    "start_time": "2025-03-17T22:34:59.248Z"
   },
   {
    "duration": 52,
    "start_time": "2025-03-17T22:34:59.281Z"
   },
   {
    "duration": 41,
    "start_time": "2025-03-17T22:34:59.335Z"
   },
   {
    "duration": 9,
    "start_time": "2025-03-17T22:34:59.378Z"
   },
   {
    "duration": 22,
    "start_time": "2025-03-17T22:34:59.389Z"
   },
   {
    "duration": 13,
    "start_time": "2025-03-17T22:34:59.413Z"
   },
   {
    "duration": 13,
    "start_time": "2025-03-17T22:34:59.428Z"
   },
   {
    "duration": 11,
    "start_time": "2025-03-17T22:34:59.444Z"
   },
   {
    "duration": 7,
    "start_time": "2025-03-17T22:34:59.459Z"
   },
   {
    "duration": 5,
    "start_time": "2025-03-17T22:34:59.467Z"
   },
   {
    "duration": 2,
    "start_time": "2025-03-17T22:34:59.474Z"
   },
   {
    "duration": 2,
    "start_time": "2025-03-17T22:34:59.478Z"
   },
   {
    "duration": 6,
    "start_time": "2025-03-17T22:34:59.510Z"
   },
   {
    "duration": 5,
    "start_time": "2025-03-17T22:34:59.517Z"
   },
   {
    "duration": 4,
    "start_time": "2025-03-17T22:34:59.524Z"
   },
   {
    "duration": 10,
    "start_time": "2025-03-17T22:34:59.532Z"
   },
   {
    "duration": 119,
    "start_time": "2025-03-17T22:34:59.544Z"
   },
   {
    "duration": 996,
    "start_time": "2025-03-17T22:34:59.665Z"
   },
   {
    "duration": 12,
    "start_time": "2025-03-17T22:35:00.663Z"
   },
   {
    "duration": 882,
    "start_time": "2025-03-17T22:35:00.676Z"
   },
   {
    "duration": 8,
    "start_time": "2025-03-17T22:35:01.560Z"
   },
   {
    "duration": 9,
    "start_time": "2025-03-17T22:35:01.570Z"
   },
   {
    "duration": 366,
    "start_time": "2025-03-17T22:35:01.580Z"
   },
   {
    "duration": 962,
    "start_time": "2025-03-17T22:36:03.237Z"
   },
   {
    "duration": 409,
    "start_time": "2025-03-17T22:36:04.201Z"
   },
   {
    "duration": 14,
    "start_time": "2025-03-17T22:36:04.612Z"
   },
   {
    "duration": 10,
    "start_time": "2025-03-17T22:36:04.628Z"
   },
   {
    "duration": 18,
    "start_time": "2025-03-17T22:36:04.640Z"
   },
   {
    "duration": 7,
    "start_time": "2025-03-17T22:36:04.660Z"
   },
   {
    "duration": 79,
    "start_time": "2025-03-17T22:36:04.669Z"
   },
   {
    "duration": 9,
    "start_time": "2025-03-17T22:36:04.750Z"
   },
   {
    "duration": 10,
    "start_time": "2025-03-17T22:36:04.761Z"
   },
   {
    "duration": 5,
    "start_time": "2025-03-17T22:36:04.774Z"
   },
   {
    "duration": 28,
    "start_time": "2025-03-17T22:36:04.781Z"
   },
   {
    "duration": 7,
    "start_time": "2025-03-17T22:36:04.810Z"
   },
   {
    "duration": 4,
    "start_time": "2025-03-17T22:36:04.819Z"
   },
   {
    "duration": 6,
    "start_time": "2025-03-17T22:36:04.824Z"
   },
   {
    "duration": 5,
    "start_time": "2025-03-17T22:36:04.832Z"
   },
   {
    "duration": 9,
    "start_time": "2025-03-17T22:36:04.838Z"
   },
   {
    "duration": 4,
    "start_time": "2025-03-17T22:36:04.851Z"
   },
   {
    "duration": 7,
    "start_time": "2025-03-17T22:36:04.859Z"
   },
   {
    "duration": 3,
    "start_time": "2025-03-17T22:36:04.868Z"
   },
   {
    "duration": 4,
    "start_time": "2025-03-17T22:36:04.910Z"
   },
   {
    "duration": 10,
    "start_time": "2025-03-17T22:36:04.916Z"
   },
   {
    "duration": 5,
    "start_time": "2025-03-17T22:36:04.928Z"
   },
   {
    "duration": 24,
    "start_time": "2025-03-17T22:36:04.934Z"
   },
   {
    "duration": 54,
    "start_time": "2025-03-17T22:36:04.961Z"
   },
   {
    "duration": 11,
    "start_time": "2025-03-17T22:36:05.017Z"
   },
   {
    "duration": 8,
    "start_time": "2025-03-17T22:36:05.030Z"
   },
   {
    "duration": 14,
    "start_time": "2025-03-17T22:36:05.040Z"
   },
   {
    "duration": 5,
    "start_time": "2025-03-17T22:36:05.060Z"
   },
   {
    "duration": 12,
    "start_time": "2025-03-17T22:36:05.067Z"
   },
   {
    "duration": 19,
    "start_time": "2025-03-17T22:36:05.109Z"
   },
   {
    "duration": 4,
    "start_time": "2025-03-17T22:36:05.130Z"
   },
   {
    "duration": 185,
    "start_time": "2025-03-17T22:36:05.135Z"
   },
   {
    "duration": 168,
    "start_time": "2025-03-17T22:36:05.322Z"
   },
   {
    "duration": 4,
    "start_time": "2025-03-17T22:36:05.491Z"
   },
   {
    "duration": 48,
    "start_time": "2025-03-17T22:36:05.496Z"
   },
   {
    "duration": 4,
    "start_time": "2025-03-17T22:36:05.546Z"
   },
   {
    "duration": 82,
    "start_time": "2025-03-17T22:36:05.552Z"
   },
   {
    "duration": 33,
    "start_time": "2025-03-17T22:36:05.636Z"
   },
   {
    "duration": 168,
    "start_time": "2025-03-17T22:36:05.670Z"
   },
   {
    "duration": 45,
    "start_time": "2025-03-17T22:36:05.843Z"
   },
   {
    "duration": 50,
    "start_time": "2025-03-17T22:36:05.890Z"
   },
   {
    "duration": 36,
    "start_time": "2025-03-17T22:36:05.943Z"
   },
   {
    "duration": 3,
    "start_time": "2025-03-17T22:36:05.981Z"
   },
   {
    "duration": 23,
    "start_time": "2025-03-17T22:36:05.987Z"
   },
   {
    "duration": 13,
    "start_time": "2025-03-17T22:36:06.011Z"
   },
   {
    "duration": 8,
    "start_time": "2025-03-17T22:36:06.025Z"
   },
   {
    "duration": 12,
    "start_time": "2025-03-17T22:36:06.036Z"
   },
   {
    "duration": 10,
    "start_time": "2025-03-17T22:36:06.050Z"
   },
   {
    "duration": 7,
    "start_time": "2025-03-17T22:36:06.062Z"
   },
   {
    "duration": 49,
    "start_time": "2025-03-17T22:36:06.070Z"
   },
   {
    "duration": 23,
    "start_time": "2025-03-17T22:36:06.121Z"
   },
   {
    "duration": 31,
    "start_time": "2025-03-17T22:36:06.146Z"
   },
   {
    "duration": 9,
    "start_time": "2025-03-17T22:36:06.179Z"
   },
   {
    "duration": 9,
    "start_time": "2025-03-17T22:36:06.210Z"
   },
   {
    "duration": 10,
    "start_time": "2025-03-17T22:36:06.220Z"
   },
   {
    "duration": 9,
    "start_time": "2025-03-17T22:36:06.233Z"
   },
   {
    "duration": 7,
    "start_time": "2025-03-17T22:36:06.245Z"
   },
   {
    "duration": 6,
    "start_time": "2025-03-17T22:36:06.254Z"
   },
   {
    "duration": 5,
    "start_time": "2025-03-17T22:36:06.262Z"
   },
   {
    "duration": 41,
    "start_time": "2025-03-17T22:36:06.268Z"
   },
   {
    "duration": 4,
    "start_time": "2025-03-17T22:36:06.312Z"
   },
   {
    "duration": 5,
    "start_time": "2025-03-17T22:36:06.321Z"
   },
   {
    "duration": 6,
    "start_time": "2025-03-17T22:36:06.329Z"
   },
   {
    "duration": 6,
    "start_time": "2025-03-17T22:36:06.337Z"
   },
   {
    "duration": 12,
    "start_time": "2025-03-17T22:36:06.345Z"
   },
   {
    "duration": 120,
    "start_time": "2025-03-17T22:36:06.361Z"
   },
   {
    "duration": 1019,
    "start_time": "2025-03-17T22:36:06.482Z"
   },
   {
    "duration": 16,
    "start_time": "2025-03-17T22:36:07.503Z"
   },
   {
    "duration": 927,
    "start_time": "2025-03-17T22:36:07.521Z"
   },
   {
    "duration": 10,
    "start_time": "2025-03-17T22:36:08.453Z"
   },
   {
    "duration": 9,
    "start_time": "2025-03-17T22:36:08.465Z"
   },
   {
    "duration": 347,
    "start_time": "2025-03-17T22:36:08.476Z"
   },
   {
    "duration": 934,
    "start_time": "2025-03-17T22:46:20.745Z"
   },
   {
    "duration": 406,
    "start_time": "2025-03-17T22:46:21.681Z"
   },
   {
    "duration": 8,
    "start_time": "2025-03-17T22:46:22.090Z"
   },
   {
    "duration": 13,
    "start_time": "2025-03-17T22:46:22.112Z"
   },
   {
    "duration": 19,
    "start_time": "2025-03-17T22:46:22.129Z"
   },
   {
    "duration": 8,
    "start_time": "2025-03-17T22:46:22.152Z"
   },
   {
    "duration": 56,
    "start_time": "2025-03-17T22:46:22.162Z"
   },
   {
    "duration": 10,
    "start_time": "2025-03-17T22:46:22.221Z"
   },
   {
    "duration": 10,
    "start_time": "2025-03-17T22:46:22.233Z"
   },
   {
    "duration": 8,
    "start_time": "2025-03-17T22:46:22.248Z"
   },
   {
    "duration": 4,
    "start_time": "2025-03-17T22:46:22.257Z"
   },
   {
    "duration": 4,
    "start_time": "2025-03-17T22:46:22.263Z"
   },
   {
    "duration": 4,
    "start_time": "2025-03-17T22:46:22.269Z"
   },
   {
    "duration": 42,
    "start_time": "2025-03-17T22:46:22.275Z"
   },
   {
    "duration": 4,
    "start_time": "2025-03-17T22:46:22.319Z"
   },
   {
    "duration": 10,
    "start_time": "2025-03-17T22:46:22.325Z"
   },
   {
    "duration": 3,
    "start_time": "2025-03-17T22:46:22.337Z"
   },
   {
    "duration": 9,
    "start_time": "2025-03-17T22:46:22.342Z"
   },
   {
    "duration": 4,
    "start_time": "2025-03-17T22:46:22.353Z"
   },
   {
    "duration": 3,
    "start_time": "2025-03-17T22:46:22.359Z"
   },
   {
    "duration": 8,
    "start_time": "2025-03-17T22:46:22.364Z"
   },
   {
    "duration": 37,
    "start_time": "2025-03-17T22:46:22.373Z"
   },
   {
    "duration": 40,
    "start_time": "2025-03-17T22:46:22.412Z"
   },
   {
    "duration": 28,
    "start_time": "2025-03-17T22:46:22.454Z"
   },
   {
    "duration": 32,
    "start_time": "2025-03-17T22:46:22.483Z"
   },
   {
    "duration": 12,
    "start_time": "2025-03-17T22:46:22.520Z"
   },
   {
    "duration": 14,
    "start_time": "2025-03-17T22:46:22.534Z"
   },
   {
    "duration": 5,
    "start_time": "2025-03-17T22:46:22.553Z"
   },
   {
    "duration": 12,
    "start_time": "2025-03-17T22:46:22.559Z"
   },
   {
    "duration": 41,
    "start_time": "2025-03-17T22:46:22.574Z"
   },
   {
    "duration": 4,
    "start_time": "2025-03-17T22:46:22.617Z"
   },
   {
    "duration": 207,
    "start_time": "2025-03-17T22:46:22.623Z"
   },
   {
    "duration": 205,
    "start_time": "2025-03-17T22:46:22.833Z"
   },
   {
    "duration": 5,
    "start_time": "2025-03-17T22:46:23.040Z"
   },
   {
    "duration": 43,
    "start_time": "2025-03-17T22:46:23.046Z"
   },
   {
    "duration": 19,
    "start_time": "2025-03-17T22:46:23.091Z"
   },
   {
    "duration": 82,
    "start_time": "2025-03-17T22:46:23.112Z"
   },
   {
    "duration": 55,
    "start_time": "2025-03-17T22:46:23.196Z"
   },
   {
    "duration": 151,
    "start_time": "2025-03-17T22:46:23.253Z"
   },
   {
    "duration": 46,
    "start_time": "2025-03-17T22:46:23.411Z"
   },
   {
    "duration": 37,
    "start_time": "2025-03-17T22:46:23.459Z"
   },
   {
    "duration": 49,
    "start_time": "2025-03-17T22:46:23.508Z"
   },
   {
    "duration": 14,
    "start_time": "2025-03-17T22:46:23.562Z"
   },
   {
    "duration": 9,
    "start_time": "2025-03-17T22:46:23.578Z"
   },
   {
    "duration": 25,
    "start_time": "2025-03-17T22:46:23.588Z"
   },
   {
    "duration": 8,
    "start_time": "2025-03-17T22:46:23.616Z"
   },
   {
    "duration": 10,
    "start_time": "2025-03-17T22:46:23.626Z"
   },
   {
    "duration": 7,
    "start_time": "2025-03-17T22:46:23.638Z"
   },
   {
    "duration": 9,
    "start_time": "2025-03-17T22:46:23.647Z"
   },
   {
    "duration": 22,
    "start_time": "2025-03-17T22:46:23.657Z"
   },
   {
    "duration": 43,
    "start_time": "2025-03-17T22:46:23.681Z"
   },
   {
    "duration": 40,
    "start_time": "2025-03-17T22:46:23.726Z"
   },
   {
    "duration": 10,
    "start_time": "2025-03-17T22:46:23.768Z"
   },
   {
    "duration": 31,
    "start_time": "2025-03-17T22:46:23.779Z"
   },
   {
    "duration": 11,
    "start_time": "2025-03-17T22:46:23.812Z"
   },
   {
    "duration": 8,
    "start_time": "2025-03-17T22:46:23.826Z"
   },
   {
    "duration": 7,
    "start_time": "2025-03-17T22:46:23.836Z"
   },
   {
    "duration": 6,
    "start_time": "2025-03-17T22:46:23.845Z"
   },
   {
    "duration": 4,
    "start_time": "2025-03-17T22:46:23.854Z"
   },
   {
    "duration": 4,
    "start_time": "2025-03-17T22:46:23.861Z"
   },
   {
    "duration": 4,
    "start_time": "2025-03-17T22:46:23.866Z"
   },
   {
    "duration": 37,
    "start_time": "2025-03-17T22:46:23.872Z"
   },
   {
    "duration": 4,
    "start_time": "2025-03-17T22:46:23.912Z"
   },
   {
    "duration": 5,
    "start_time": "2025-03-17T22:46:23.918Z"
   },
   {
    "duration": 11,
    "start_time": "2025-03-17T22:46:23.925Z"
   },
   {
    "duration": 136,
    "start_time": "2025-03-17T22:46:23.938Z"
   },
   {
    "duration": 885,
    "start_time": "2025-03-17T22:46:24.076Z"
   },
   {
    "duration": 13,
    "start_time": "2025-03-17T22:46:24.963Z"
   },
   {
    "duration": 888,
    "start_time": "2025-03-17T22:46:24.978Z"
   },
   {
    "duration": 9,
    "start_time": "2025-03-17T22:46:25.870Z"
   },
   {
    "duration": 9,
    "start_time": "2025-03-17T22:46:25.881Z"
   },
   {
    "duration": 366,
    "start_time": "2025-03-17T22:46:25.891Z"
   },
   {
    "duration": 890,
    "start_time": "2025-03-17T22:50:08.929Z"
   },
   {
    "duration": 368,
    "start_time": "2025-03-17T22:50:09.821Z"
   },
   {
    "duration": 10,
    "start_time": "2025-03-17T22:50:10.191Z"
   },
   {
    "duration": 9,
    "start_time": "2025-03-17T22:50:10.208Z"
   },
   {
    "duration": 14,
    "start_time": "2025-03-17T22:50:10.219Z"
   },
   {
    "duration": 10,
    "start_time": "2025-03-17T22:50:10.235Z"
   },
   {
    "duration": 73,
    "start_time": "2025-03-17T22:50:10.247Z"
   },
   {
    "duration": 18,
    "start_time": "2025-03-17T22:50:10.321Z"
   },
   {
    "duration": 13,
    "start_time": "2025-03-17T22:50:10.340Z"
   },
   {
    "duration": 8,
    "start_time": "2025-03-17T22:50:10.357Z"
   },
   {
    "duration": 4,
    "start_time": "2025-03-17T22:50:10.366Z"
   },
   {
    "duration": 5,
    "start_time": "2025-03-17T22:50:10.372Z"
   },
   {
    "duration": 4,
    "start_time": "2025-03-17T22:50:10.379Z"
   },
   {
    "duration": 9,
    "start_time": "2025-03-17T22:50:10.413Z"
   },
   {
    "duration": 15,
    "start_time": "2025-03-17T22:50:10.424Z"
   },
   {
    "duration": 13,
    "start_time": "2025-03-17T22:50:10.442Z"
   },
   {
    "duration": 5,
    "start_time": "2025-03-17T22:50:10.460Z"
   },
   {
    "duration": 8,
    "start_time": "2025-03-17T22:50:10.467Z"
   },
   {
    "duration": 4,
    "start_time": "2025-03-17T22:50:10.477Z"
   },
   {
    "duration": 3,
    "start_time": "2025-03-17T22:50:10.483Z"
   },
   {
    "duration": 22,
    "start_time": "2025-03-17T22:50:10.488Z"
   },
   {
    "duration": 7,
    "start_time": "2025-03-17T22:50:10.511Z"
   },
   {
    "duration": 34,
    "start_time": "2025-03-17T22:50:10.522Z"
   },
   {
    "duration": 22,
    "start_time": "2025-03-17T22:50:10.557Z"
   },
   {
    "duration": 30,
    "start_time": "2025-03-17T22:50:10.581Z"
   },
   {
    "duration": 14,
    "start_time": "2025-03-17T22:50:10.615Z"
   },
   {
    "duration": 20,
    "start_time": "2025-03-17T22:50:10.634Z"
   },
   {
    "duration": 5,
    "start_time": "2025-03-17T22:50:10.663Z"
   },
   {
    "duration": 13,
    "start_time": "2025-03-17T22:50:10.670Z"
   },
   {
    "duration": 31,
    "start_time": "2025-03-17T22:50:10.684Z"
   },
   {
    "duration": 6,
    "start_time": "2025-03-17T22:50:10.719Z"
   },
   {
    "duration": 195,
    "start_time": "2025-03-17T22:50:10.729Z"
   },
   {
    "duration": 202,
    "start_time": "2025-03-17T22:50:10.928Z"
   },
   {
    "duration": 3,
    "start_time": "2025-03-17T22:50:11.132Z"
   },
   {
    "duration": 55,
    "start_time": "2025-03-17T22:50:11.138Z"
   },
   {
    "duration": 15,
    "start_time": "2025-03-17T22:50:11.194Z"
   },
   {
    "duration": 85,
    "start_time": "2025-03-17T22:50:11.210Z"
   },
   {
    "duration": 55,
    "start_time": "2025-03-17T22:50:11.296Z"
   },
   {
    "duration": 163,
    "start_time": "2025-03-17T22:50:11.353Z"
   },
   {
    "duration": 47,
    "start_time": "2025-03-17T22:50:11.522Z"
   },
   {
    "duration": 44,
    "start_time": "2025-03-17T22:50:11.573Z"
   },
   {
    "duration": 47,
    "start_time": "2025-03-17T22:50:11.618Z"
   },
   {
    "duration": 4,
    "start_time": "2025-03-17T22:50:11.666Z"
   },
   {
    "duration": 7,
    "start_time": "2025-03-17T22:50:11.672Z"
   },
   {
    "duration": 31,
    "start_time": "2025-03-17T22:50:11.681Z"
   },
   {
    "duration": 8,
    "start_time": "2025-03-17T22:50:11.713Z"
   },
   {
    "duration": 9,
    "start_time": "2025-03-17T22:50:11.723Z"
   },
   {
    "duration": 7,
    "start_time": "2025-03-17T22:50:11.734Z"
   },
   {
    "duration": 6,
    "start_time": "2025-03-17T22:50:11.742Z"
   },
   {
    "duration": 28,
    "start_time": "2025-03-17T22:50:11.750Z"
   },
   {
    "duration": 59,
    "start_time": "2025-03-17T22:50:11.780Z"
   },
   {
    "duration": 34,
    "start_time": "2025-03-17T22:50:11.842Z"
   },
   {
    "duration": 8,
    "start_time": "2025-03-17T22:50:11.878Z"
   },
   {
    "duration": 30,
    "start_time": "2025-03-17T22:50:11.887Z"
   },
   {
    "duration": 10,
    "start_time": "2025-03-17T22:50:11.919Z"
   },
   {
    "duration": 9,
    "start_time": "2025-03-17T22:50:11.931Z"
   },
   {
    "duration": 7,
    "start_time": "2025-03-17T22:50:11.942Z"
   },
   {
    "duration": 7,
    "start_time": "2025-03-17T22:50:11.952Z"
   },
   {
    "duration": 4,
    "start_time": "2025-03-17T22:50:11.961Z"
   },
   {
    "duration": 43,
    "start_time": "2025-03-17T22:50:11.967Z"
   },
   {
    "duration": 3,
    "start_time": "2025-03-17T22:50:12.012Z"
   },
   {
    "duration": 5,
    "start_time": "2025-03-17T22:50:12.021Z"
   },
   {
    "duration": 6,
    "start_time": "2025-03-17T22:50:12.028Z"
   },
   {
    "duration": 4,
    "start_time": "2025-03-17T22:50:12.036Z"
   },
   {
    "duration": 10,
    "start_time": "2025-03-17T22:50:12.043Z"
   },
   {
    "duration": 136,
    "start_time": "2025-03-17T22:50:12.056Z"
   },
   {
    "duration": 868,
    "start_time": "2025-03-17T22:50:12.194Z"
   },
   {
    "duration": 12,
    "start_time": "2025-03-17T22:50:13.063Z"
   },
   {
    "duration": 3,
    "start_time": "2025-03-17T22:50:13.077Z"
   },
   {
    "duration": 9,
    "start_time": "2025-03-17T22:50:13.082Z"
   },
   {
    "duration": 8,
    "start_time": "2025-03-17T22:50:13.095Z"
   },
   {
    "duration": 950,
    "start_time": "2025-03-17T22:50:13.105Z"
   },
   {
    "duration": 12,
    "start_time": "2025-03-17T22:50:14.057Z"
   },
   {
    "duration": 13,
    "start_time": "2025-03-17T22:50:14.073Z"
   },
   {
    "duration": 368,
    "start_time": "2025-03-17T22:50:14.087Z"
   },
   {
    "duration": 872,
    "start_time": "2025-03-17T22:50:31.907Z"
   },
   {
    "duration": 378,
    "start_time": "2025-03-17T22:50:32.781Z"
   },
   {
    "duration": 9,
    "start_time": "2025-03-17T22:50:33.161Z"
   },
   {
    "duration": 9,
    "start_time": "2025-03-17T22:50:33.173Z"
   },
   {
    "duration": 26,
    "start_time": "2025-03-17T22:50:33.185Z"
   },
   {
    "duration": 7,
    "start_time": "2025-03-17T22:50:33.213Z"
   },
   {
    "duration": 43,
    "start_time": "2025-03-17T22:50:33.222Z"
   },
   {
    "duration": 7,
    "start_time": "2025-03-17T22:50:33.267Z"
   },
   {
    "duration": 40,
    "start_time": "2025-03-17T22:50:33.276Z"
   },
   {
    "duration": 9,
    "start_time": "2025-03-17T22:50:33.320Z"
   },
   {
    "duration": 7,
    "start_time": "2025-03-17T22:50:33.331Z"
   },
   {
    "duration": 5,
    "start_time": "2025-03-17T22:50:33.340Z"
   },
   {
    "duration": 4,
    "start_time": "2025-03-17T22:50:33.347Z"
   },
   {
    "duration": 4,
    "start_time": "2025-03-17T22:50:33.356Z"
   },
   {
    "duration": 4,
    "start_time": "2025-03-17T22:50:33.364Z"
   },
   {
    "duration": 8,
    "start_time": "2025-03-17T22:50:33.369Z"
   },
   {
    "duration": 5,
    "start_time": "2025-03-17T22:50:33.409Z"
   },
   {
    "duration": 14,
    "start_time": "2025-03-17T22:50:33.416Z"
   },
   {
    "duration": 6,
    "start_time": "2025-03-17T22:50:33.433Z"
   },
   {
    "duration": 3,
    "start_time": "2025-03-17T22:50:33.441Z"
   },
   {
    "duration": 10,
    "start_time": "2025-03-17T22:50:33.446Z"
   },
   {
    "duration": 4,
    "start_time": "2025-03-17T22:50:33.457Z"
   },
   {
    "duration": 48,
    "start_time": "2025-03-17T22:50:33.462Z"
   },
   {
    "duration": 34,
    "start_time": "2025-03-17T22:50:33.514Z"
   },
   {
    "duration": 14,
    "start_time": "2025-03-17T22:50:33.553Z"
   },
   {
    "duration": 11,
    "start_time": "2025-03-17T22:50:33.569Z"
   },
   {
    "duration": 27,
    "start_time": "2025-03-17T22:50:33.581Z"
   },
   {
    "duration": 6,
    "start_time": "2025-03-17T22:50:33.610Z"
   },
   {
    "duration": 18,
    "start_time": "2025-03-17T22:50:33.618Z"
   },
   {
    "duration": 23,
    "start_time": "2025-03-17T22:50:33.637Z"
   },
   {
    "duration": 3,
    "start_time": "2025-03-17T22:50:33.662Z"
   },
   {
    "duration": 221,
    "start_time": "2025-03-17T22:50:33.667Z"
   },
   {
    "duration": 199,
    "start_time": "2025-03-17T22:50:33.889Z"
   },
   {
    "duration": 4,
    "start_time": "2025-03-17T22:50:34.089Z"
   },
   {
    "duration": 70,
    "start_time": "2025-03-17T22:50:34.095Z"
   },
   {
    "duration": 4,
    "start_time": "2025-03-17T22:50:34.167Z"
   },
   {
    "duration": 95,
    "start_time": "2025-03-17T22:50:34.172Z"
   },
   {
    "duration": 31,
    "start_time": "2025-03-17T22:50:34.269Z"
   },
   {
    "duration": 163,
    "start_time": "2025-03-17T22:50:34.310Z"
   },
   {
    "duration": 45,
    "start_time": "2025-03-17T22:50:34.475Z"
   },
   {
    "duration": 44,
    "start_time": "2025-03-17T22:50:34.529Z"
   },
   {
    "duration": 58,
    "start_time": "2025-03-17T22:50:34.575Z"
   },
   {
    "duration": 9,
    "start_time": "2025-03-17T22:50:34.635Z"
   },
   {
    "duration": 10,
    "start_time": "2025-03-17T22:50:34.648Z"
   },
   {
    "duration": 8,
    "start_time": "2025-03-17T22:50:34.660Z"
   },
   {
    "duration": 7,
    "start_time": "2025-03-17T22:50:34.670Z"
   },
   {
    "duration": 9,
    "start_time": "2025-03-17T22:50:34.679Z"
   },
   {
    "duration": 7,
    "start_time": "2025-03-17T22:50:34.710Z"
   },
   {
    "duration": 7,
    "start_time": "2025-03-17T22:50:34.719Z"
   },
   {
    "duration": 38,
    "start_time": "2025-03-17T22:50:34.728Z"
   },
   {
    "duration": 42,
    "start_time": "2025-03-17T22:50:34.768Z"
   },
   {
    "duration": 45,
    "start_time": "2025-03-17T22:50:34.816Z"
   },
   {
    "duration": 9,
    "start_time": "2025-03-17T22:50:34.863Z"
   },
   {
    "duration": 8,
    "start_time": "2025-03-17T22:50:34.873Z"
   },
   {
    "duration": 29,
    "start_time": "2025-03-17T22:50:34.882Z"
   },
   {
    "duration": 9,
    "start_time": "2025-03-17T22:50:34.913Z"
   },
   {
    "duration": 7,
    "start_time": "2025-03-17T22:50:34.924Z"
   },
   {
    "duration": 7,
    "start_time": "2025-03-17T22:50:34.932Z"
   },
   {
    "duration": 4,
    "start_time": "2025-03-17T22:50:34.940Z"
   },
   {
    "duration": 6,
    "start_time": "2025-03-17T22:50:34.946Z"
   },
   {
    "duration": 4,
    "start_time": "2025-03-17T22:50:34.953Z"
   },
   {
    "duration": 4,
    "start_time": "2025-03-17T22:50:34.958Z"
   },
   {
    "duration": 4,
    "start_time": "2025-03-17T22:50:34.963Z"
   },
   {
    "duration": 42,
    "start_time": "2025-03-17T22:50:34.969Z"
   },
   {
    "duration": 10,
    "start_time": "2025-03-17T22:50:35.013Z"
   },
   {
    "duration": 164,
    "start_time": "2025-03-17T22:50:35.025Z"
   },
   {
    "duration": 978,
    "start_time": "2025-03-17T22:50:35.191Z"
   },
   {
    "duration": 13,
    "start_time": "2025-03-17T22:50:36.171Z"
   },
   {
    "duration": 3,
    "start_time": "2025-03-17T22:50:36.185Z"
   },
   {
    "duration": 9,
    "start_time": "2025-03-17T22:50:36.190Z"
   },
   {
    "duration": 83,
    "start_time": "2025-03-17T22:50:36.200Z"
   },
   {
    "duration": 911,
    "start_time": "2025-03-17T22:50:36.285Z"
   },
   {
    "duration": 14,
    "start_time": "2025-03-17T22:50:37.200Z"
   },
   {
    "duration": 12,
    "start_time": "2025-03-17T22:50:37.217Z"
   },
   {
    "duration": 352,
    "start_time": "2025-03-17T22:50:37.231Z"
   },
   {
    "duration": 10,
    "start_time": "2025-03-17T22:50:53.428Z"
   },
   {
    "duration": 920,
    "start_time": "2025-03-17T22:50:58.534Z"
   },
   {
    "duration": 427,
    "start_time": "2025-03-17T22:50:59.457Z"
   },
   {
    "duration": 9,
    "start_time": "2025-03-17T22:50:59.886Z"
   },
   {
    "duration": 29,
    "start_time": "2025-03-17T22:50:59.897Z"
   },
   {
    "duration": 20,
    "start_time": "2025-03-17T22:50:59.929Z"
   },
   {
    "duration": 11,
    "start_time": "2025-03-17T22:50:59.951Z"
   },
   {
    "duration": 68,
    "start_time": "2025-03-17T22:50:59.965Z"
   },
   {
    "duration": 12,
    "start_time": "2025-03-17T22:51:00.035Z"
   },
   {
    "duration": 9,
    "start_time": "2025-03-17T22:51:00.049Z"
   },
   {
    "duration": 6,
    "start_time": "2025-03-17T22:51:00.060Z"
   },
   {
    "duration": 4,
    "start_time": "2025-03-17T22:51:00.068Z"
   },
   {
    "duration": 4,
    "start_time": "2025-03-17T22:51:00.073Z"
   },
   {
    "duration": 30,
    "start_time": "2025-03-17T22:51:00.079Z"
   },
   {
    "duration": 5,
    "start_time": "2025-03-17T22:51:00.114Z"
   },
   {
    "duration": 7,
    "start_time": "2025-03-17T22:51:00.121Z"
   },
   {
    "duration": 9,
    "start_time": "2025-03-17T22:51:00.130Z"
   },
   {
    "duration": 3,
    "start_time": "2025-03-17T22:51:00.141Z"
   },
   {
    "duration": 9,
    "start_time": "2025-03-17T22:51:00.146Z"
   },
   {
    "duration": 4,
    "start_time": "2025-03-17T22:51:00.157Z"
   },
   {
    "duration": 4,
    "start_time": "2025-03-17T22:51:00.162Z"
   },
   {
    "duration": 47,
    "start_time": "2025-03-17T22:51:00.168Z"
   },
   {
    "duration": 4,
    "start_time": "2025-03-17T22:51:00.217Z"
   },
   {
    "duration": 38,
    "start_time": "2025-03-17T22:51:00.223Z"
   },
   {
    "duration": 24,
    "start_time": "2025-03-17T22:51:00.263Z"
   },
   {
    "duration": 33,
    "start_time": "2025-03-17T22:51:00.289Z"
   },
   {
    "duration": 14,
    "start_time": "2025-03-17T22:51:00.327Z"
   },
   {
    "duration": 16,
    "start_time": "2025-03-17T22:51:00.343Z"
   },
   {
    "duration": 5,
    "start_time": "2025-03-17T22:51:00.361Z"
   },
   {
    "duration": 12,
    "start_time": "2025-03-17T22:51:00.367Z"
   },
   {
    "duration": 49,
    "start_time": "2025-03-17T22:51:00.381Z"
   },
   {
    "duration": 5,
    "start_time": "2025-03-17T22:51:00.432Z"
   },
   {
    "duration": 211,
    "start_time": "2025-03-17T22:51:00.440Z"
   },
   {
    "duration": 195,
    "start_time": "2025-03-17T22:51:00.653Z"
   },
   {
    "duration": 4,
    "start_time": "2025-03-17T22:51:00.850Z"
   },
   {
    "duration": 55,
    "start_time": "2025-03-17T22:51:00.856Z"
   },
   {
    "duration": 5,
    "start_time": "2025-03-17T22:51:00.913Z"
   },
   {
    "duration": 88,
    "start_time": "2025-03-17T22:51:00.921Z"
   },
   {
    "duration": 47,
    "start_time": "2025-03-17T22:51:01.011Z"
   },
   {
    "duration": 152,
    "start_time": "2025-03-17T22:51:01.060Z"
   },
   {
    "duration": 37,
    "start_time": "2025-03-17T22:51:01.214Z"
   },
   {
    "duration": 41,
    "start_time": "2025-03-17T22:51:01.257Z"
   },
   {
    "duration": 33,
    "start_time": "2025-03-17T22:51:01.310Z"
   },
   {
    "duration": 5,
    "start_time": "2025-03-17T22:51:01.347Z"
   },
   {
    "duration": 9,
    "start_time": "2025-03-17T22:51:01.353Z"
   },
   {
    "duration": 9,
    "start_time": "2025-03-17T22:51:01.363Z"
   },
   {
    "duration": 7,
    "start_time": "2025-03-17T22:51:01.374Z"
   },
   {
    "duration": 34,
    "start_time": "2025-03-17T22:51:01.383Z"
   },
   {
    "duration": 7,
    "start_time": "2025-03-17T22:51:01.419Z"
   },
   {
    "duration": 10,
    "start_time": "2025-03-17T22:51:01.429Z"
   },
   {
    "duration": 32,
    "start_time": "2025-03-17T22:51:01.441Z"
   },
   {
    "duration": 43,
    "start_time": "2025-03-17T22:51:01.475Z"
   },
   {
    "duration": 31,
    "start_time": "2025-03-17T22:51:01.520Z"
   },
   {
    "duration": 9,
    "start_time": "2025-03-17T22:51:01.553Z"
   },
   {
    "duration": 8,
    "start_time": "2025-03-17T22:51:01.564Z"
   },
   {
    "duration": 38,
    "start_time": "2025-03-17T22:51:01.573Z"
   },
   {
    "duration": 10,
    "start_time": "2025-03-17T22:51:01.615Z"
   },
   {
    "duration": 7,
    "start_time": "2025-03-17T22:51:01.627Z"
   },
   {
    "duration": 8,
    "start_time": "2025-03-17T22:51:01.636Z"
   },
   {
    "duration": 6,
    "start_time": "2025-03-17T22:51:01.647Z"
   },
   {
    "duration": 4,
    "start_time": "2025-03-17T22:51:01.655Z"
   },
   {
    "duration": 4,
    "start_time": "2025-03-17T22:51:01.661Z"
   },
   {
    "duration": 3,
    "start_time": "2025-03-17T22:51:01.667Z"
   },
   {
    "duration": 4,
    "start_time": "2025-03-17T22:51:01.672Z"
   },
   {
    "duration": 6,
    "start_time": "2025-03-17T22:51:01.714Z"
   },
   {
    "duration": 10,
    "start_time": "2025-03-17T22:51:01.722Z"
   },
   {
    "duration": 122,
    "start_time": "2025-03-17T22:51:01.734Z"
   },
   {
    "duration": 867,
    "start_time": "2025-03-17T22:51:01.858Z"
   },
   {
    "duration": 15,
    "start_time": "2025-03-17T22:51:02.727Z"
   },
   {
    "duration": 3,
    "start_time": "2025-03-17T22:51:02.743Z"
   },
   {
    "duration": 11,
    "start_time": "2025-03-17T22:51:02.749Z"
   },
   {
    "duration": 8,
    "start_time": "2025-03-17T22:51:02.762Z"
   },
   {
    "duration": 975,
    "start_time": "2025-03-17T22:51:02.772Z"
   },
   {
    "duration": 11,
    "start_time": "2025-03-17T22:51:03.748Z"
   },
   {
    "duration": 11,
    "start_time": "2025-03-17T22:51:03.761Z"
   },
   {
    "duration": 369,
    "start_time": "2025-03-17T22:51:03.773Z"
   },
   {
    "duration": 84,
    "start_time": "2025-03-17T23:45:57.495Z"
   },
   {
    "duration": 35,
    "start_time": "2025-03-17T23:46:19.624Z"
   },
   {
    "duration": 9,
    "start_time": "2025-03-17T23:46:34.822Z"
   },
   {
    "duration": 453,
    "start_time": "2025-03-17T23:47:29.474Z"
   },
   {
    "duration": 225,
    "start_time": "2025-03-17T23:49:30.349Z"
   },
   {
    "duration": 874,
    "start_time": "2025-03-17T23:49:36.813Z"
   },
   {
    "duration": 352,
    "start_time": "2025-03-17T23:49:37.690Z"
   },
   {
    "duration": 8,
    "start_time": "2025-03-17T23:49:38.044Z"
   },
   {
    "duration": 9,
    "start_time": "2025-03-17T23:49:38.055Z"
   },
   {
    "duration": 14,
    "start_time": "2025-03-17T23:49:38.067Z"
   },
   {
    "duration": 6,
    "start_time": "2025-03-17T23:49:38.082Z"
   },
   {
    "duration": 49,
    "start_time": "2025-03-17T23:49:38.110Z"
   },
   {
    "duration": 9,
    "start_time": "2025-03-17T23:49:38.161Z"
   },
   {
    "duration": 10,
    "start_time": "2025-03-17T23:49:38.172Z"
   },
   {
    "duration": 6,
    "start_time": "2025-03-17T23:49:38.208Z"
   },
   {
    "duration": 3,
    "start_time": "2025-03-17T23:49:38.216Z"
   },
   {
    "duration": 4,
    "start_time": "2025-03-17T23:49:38.221Z"
   },
   {
    "duration": 4,
    "start_time": "2025-03-17T23:49:38.226Z"
   },
   {
    "duration": 5,
    "start_time": "2025-03-17T23:49:38.233Z"
   },
   {
    "duration": 3,
    "start_time": "2025-03-17T23:49:38.240Z"
   },
   {
    "duration": 9,
    "start_time": "2025-03-17T23:49:38.245Z"
   },
   {
    "duration": 3,
    "start_time": "2025-03-17T23:49:38.255Z"
   },
   {
    "duration": 48,
    "start_time": "2025-03-17T23:49:38.260Z"
   },
   {
    "duration": 4,
    "start_time": "2025-03-17T23:49:38.310Z"
   },
   {
    "duration": 3,
    "start_time": "2025-03-17T23:49:38.316Z"
   },
   {
    "duration": 10,
    "start_time": "2025-03-17T23:49:38.320Z"
   },
   {
    "duration": 4,
    "start_time": "2025-03-17T23:49:38.331Z"
   },
   {
    "duration": 23,
    "start_time": "2025-03-17T23:49:38.336Z"
   },
   {
    "duration": 50,
    "start_time": "2025-03-17T23:49:38.361Z"
   },
   {
    "duration": 10,
    "start_time": "2025-03-17T23:49:38.413Z"
   },
   {
    "duration": 8,
    "start_time": "2025-03-17T23:49:38.425Z"
   },
   {
    "duration": 12,
    "start_time": "2025-03-17T23:49:38.435Z"
   },
   {
    "duration": 5,
    "start_time": "2025-03-17T23:49:38.448Z"
   },
   {
    "duration": 12,
    "start_time": "2025-03-17T23:49:38.455Z"
   },
   {
    "duration": 50,
    "start_time": "2025-03-17T23:49:38.469Z"
   },
   {
    "duration": 4,
    "start_time": "2025-03-17T23:49:38.520Z"
   },
   {
    "duration": 174,
    "start_time": "2025-03-17T23:49:38.526Z"
   },
   {
    "duration": 160,
    "start_time": "2025-03-17T23:49:38.702Z"
   },
   {
    "duration": 3,
    "start_time": "2025-03-17T23:49:38.864Z"
   },
   {
    "duration": 49,
    "start_time": "2025-03-17T23:49:38.868Z"
   },
   {
    "duration": 3,
    "start_time": "2025-03-17T23:49:38.918Z"
   },
   {
    "duration": 62,
    "start_time": "2025-03-17T23:49:38.923Z"
   },
   {
    "duration": 48,
    "start_time": "2025-03-17T23:49:38.986Z"
   },
   {
    "duration": 127,
    "start_time": "2025-03-17T23:49:39.036Z"
   },
   {
    "duration": 32,
    "start_time": "2025-03-17T23:49:39.165Z"
   },
   {
    "duration": 38,
    "start_time": "2025-03-17T23:49:39.210Z"
   },
   {
    "duration": 34,
    "start_time": "2025-03-17T23:49:39.250Z"
   },
   {
    "duration": 23,
    "start_time": "2025-03-17T23:49:39.286Z"
   },
   {
    "duration": 8,
    "start_time": "2025-03-17T23:49:39.311Z"
   },
   {
    "duration": 6,
    "start_time": "2025-03-17T23:49:39.321Z"
   },
   {
    "duration": 6,
    "start_time": "2025-03-17T23:49:39.329Z"
   },
   {
    "duration": 8,
    "start_time": "2025-03-17T23:49:39.337Z"
   },
   {
    "duration": 6,
    "start_time": "2025-03-17T23:49:39.347Z"
   },
   {
    "duration": 7,
    "start_time": "2025-03-17T23:49:39.355Z"
   },
   {
    "duration": 58,
    "start_time": "2025-03-17T23:49:39.363Z"
   },
   {
    "duration": 20,
    "start_time": "2025-03-17T23:49:39.423Z"
   },
   {
    "duration": 26,
    "start_time": "2025-03-17T23:49:39.445Z"
   },
   {
    "duration": 8,
    "start_time": "2025-03-17T23:49:39.472Z"
   },
   {
    "duration": 32,
    "start_time": "2025-03-17T23:49:39.481Z"
   },
   {
    "duration": 8,
    "start_time": "2025-03-17T23:49:39.514Z"
   },
   {
    "duration": 7,
    "start_time": "2025-03-17T23:49:39.524Z"
   },
   {
    "duration": 5,
    "start_time": "2025-03-17T23:49:39.533Z"
   },
   {
    "duration": 6,
    "start_time": "2025-03-17T23:49:39.540Z"
   },
   {
    "duration": 4,
    "start_time": "2025-03-17T23:49:39.547Z"
   },
   {
    "duration": 4,
    "start_time": "2025-03-17T23:49:39.553Z"
   },
   {
    "duration": 4,
    "start_time": "2025-03-17T23:49:39.558Z"
   },
   {
    "duration": 45,
    "start_time": "2025-03-17T23:49:39.564Z"
   },
   {
    "duration": 4,
    "start_time": "2025-03-17T23:49:39.610Z"
   },
   {
    "duration": 4,
    "start_time": "2025-03-17T23:49:39.616Z"
   },
   {
    "duration": 8,
    "start_time": "2025-03-17T23:49:39.622Z"
   },
   {
    "duration": 83,
    "start_time": "2025-03-17T23:49:39.632Z"
   },
   {
    "duration": 24,
    "start_time": "2025-03-17T23:49:39.717Z"
   },
   {
    "duration": 8,
    "start_time": "2025-03-17T23:49:39.742Z"
   },
   {
    "duration": 469,
    "start_time": "2025-03-17T23:49:39.752Z"
   },
   {
    "duration": 5,
    "start_time": "2025-03-17T23:49:40.223Z"
   },
   {
    "duration": 116,
    "start_time": "2025-03-17T23:49:40.229Z"
   },
   {
    "duration": 959,
    "start_time": "2025-03-17T23:49:40.347Z"
   },
   {
    "duration": 12,
    "start_time": "2025-03-17T23:49:41.308Z"
   },
   {
    "duration": 3,
    "start_time": "2025-03-17T23:49:41.321Z"
   },
   {
    "duration": 9,
    "start_time": "2025-03-17T23:49:41.326Z"
   },
   {
    "duration": 7,
    "start_time": "2025-03-17T23:49:41.337Z"
   },
   {
    "duration": 843,
    "start_time": "2025-03-17T23:49:41.345Z"
   },
   {
    "duration": 8,
    "start_time": "2025-03-17T23:49:42.190Z"
   },
   {
    "duration": 16,
    "start_time": "2025-03-17T23:49:42.199Z"
   },
   {
    "duration": 315,
    "start_time": "2025-03-17T23:49:42.216Z"
   },
   {
    "duration": 841,
    "start_time": "2025-03-17T23:52:00.857Z"
   },
   {
    "duration": 341,
    "start_time": "2025-03-17T23:52:01.700Z"
   },
   {
    "duration": 8,
    "start_time": "2025-03-17T23:52:02.043Z"
   },
   {
    "duration": 8,
    "start_time": "2025-03-17T23:52:02.053Z"
   },
   {
    "duration": 13,
    "start_time": "2025-03-17T23:52:02.064Z"
   },
   {
    "duration": 7,
    "start_time": "2025-03-17T23:52:02.078Z"
   },
   {
    "duration": 43,
    "start_time": "2025-03-17T23:52:02.108Z"
   },
   {
    "duration": 8,
    "start_time": "2025-03-17T23:52:02.153Z"
   },
   {
    "duration": 9,
    "start_time": "2025-03-17T23:52:02.163Z"
   },
   {
    "duration": 7,
    "start_time": "2025-03-17T23:52:02.173Z"
   },
   {
    "duration": 28,
    "start_time": "2025-03-17T23:52:02.182Z"
   },
   {
    "duration": 5,
    "start_time": "2025-03-17T23:52:02.211Z"
   },
   {
    "duration": 4,
    "start_time": "2025-03-17T23:52:02.217Z"
   },
   {
    "duration": 5,
    "start_time": "2025-03-17T23:52:02.226Z"
   },
   {
    "duration": 5,
    "start_time": "2025-03-17T23:52:02.232Z"
   },
   {
    "duration": 9,
    "start_time": "2025-03-17T23:52:02.239Z"
   },
   {
    "duration": 4,
    "start_time": "2025-03-17T23:52:02.249Z"
   },
   {
    "duration": 10,
    "start_time": "2025-03-17T23:52:02.255Z"
   },
   {
    "duration": 46,
    "start_time": "2025-03-17T23:52:02.266Z"
   },
   {
    "duration": 4,
    "start_time": "2025-03-17T23:52:02.314Z"
   },
   {
    "duration": 8,
    "start_time": "2025-03-17T23:52:02.320Z"
   },
   {
    "duration": 4,
    "start_time": "2025-03-17T23:52:02.330Z"
   },
   {
    "duration": 21,
    "start_time": "2025-03-17T23:52:02.336Z"
   },
   {
    "duration": 54,
    "start_time": "2025-03-17T23:52:02.359Z"
   },
   {
    "duration": 11,
    "start_time": "2025-03-17T23:52:02.415Z"
   },
   {
    "duration": 9,
    "start_time": "2025-03-17T23:52:02.428Z"
   },
   {
    "duration": 12,
    "start_time": "2025-03-17T23:52:02.438Z"
   },
   {
    "duration": 5,
    "start_time": "2025-03-17T23:52:02.451Z"
   },
   {
    "duration": 13,
    "start_time": "2025-03-17T23:52:02.457Z"
   },
   {
    "duration": 50,
    "start_time": "2025-03-17T23:52:02.471Z"
   },
   {
    "duration": 4,
    "start_time": "2025-03-17T23:52:02.522Z"
   },
   {
    "duration": 173,
    "start_time": "2025-03-17T23:52:02.527Z"
   },
   {
    "duration": 165,
    "start_time": "2025-03-17T23:52:02.701Z"
   },
   {
    "duration": 4,
    "start_time": "2025-03-17T23:52:02.868Z"
   },
   {
    "duration": 46,
    "start_time": "2025-03-17T23:52:02.873Z"
   },
   {
    "duration": 3,
    "start_time": "2025-03-17T23:52:02.921Z"
   },
   {
    "duration": 61,
    "start_time": "2025-03-17T23:52:02.926Z"
   },
   {
    "duration": 48,
    "start_time": "2025-03-17T23:52:02.989Z"
   },
   {
    "duration": 125,
    "start_time": "2025-03-17T23:52:03.039Z"
   },
   {
    "duration": 43,
    "start_time": "2025-03-17T23:52:03.166Z"
   },
   {
    "duration": 36,
    "start_time": "2025-03-17T23:52:03.215Z"
   },
   {
    "duration": 32,
    "start_time": "2025-03-17T23:52:03.253Z"
   },
   {
    "duration": 24,
    "start_time": "2025-03-17T23:52:03.287Z"
   },
   {
    "duration": 8,
    "start_time": "2025-03-17T23:52:03.314Z"
   },
   {
    "duration": 7,
    "start_time": "2025-03-17T23:52:03.323Z"
   },
   {
    "duration": 7,
    "start_time": "2025-03-17T23:52:03.331Z"
   },
   {
    "duration": 9,
    "start_time": "2025-03-17T23:52:03.339Z"
   },
   {
    "duration": 8,
    "start_time": "2025-03-17T23:52:03.350Z"
   },
   {
    "duration": 10,
    "start_time": "2025-03-17T23:52:03.359Z"
   },
   {
    "duration": 57,
    "start_time": "2025-03-17T23:52:03.371Z"
   },
   {
    "duration": 31,
    "start_time": "2025-03-17T23:52:03.430Z"
   },
   {
    "duration": 56,
    "start_time": "2025-03-17T23:52:03.463Z"
   },
   {
    "duration": 8,
    "start_time": "2025-03-17T23:52:03.520Z"
   },
   {
    "duration": 7,
    "start_time": "2025-03-17T23:52:03.530Z"
   },
   {
    "duration": 8,
    "start_time": "2025-03-17T23:52:03.539Z"
   },
   {
    "duration": 7,
    "start_time": "2025-03-17T23:52:03.548Z"
   },
   {
    "duration": 6,
    "start_time": "2025-03-17T23:52:03.557Z"
   },
   {
    "duration": 44,
    "start_time": "2025-03-17T23:52:03.565Z"
   },
   {
    "duration": 4,
    "start_time": "2025-03-17T23:52:03.610Z"
   },
   {
    "duration": 4,
    "start_time": "2025-03-17T23:52:03.616Z"
   },
   {
    "duration": 3,
    "start_time": "2025-03-17T23:52:03.621Z"
   },
   {
    "duration": 4,
    "start_time": "2025-03-17T23:52:03.626Z"
   },
   {
    "duration": 4,
    "start_time": "2025-03-17T23:52:03.631Z"
   },
   {
    "duration": 4,
    "start_time": "2025-03-17T23:52:03.636Z"
   },
   {
    "duration": 7,
    "start_time": "2025-03-17T23:52:03.641Z"
   },
   {
    "duration": 102,
    "start_time": "2025-03-17T23:52:03.650Z"
   },
   {
    "duration": 23,
    "start_time": "2025-03-17T23:52:03.754Z"
   },
   {
    "duration": 7,
    "start_time": "2025-03-17T23:52:03.779Z"
   },
   {
    "duration": 441,
    "start_time": "2025-03-17T23:52:03.787Z"
   },
   {
    "duration": 7,
    "start_time": "2025-03-17T23:52:04.230Z"
   },
   {
    "duration": 113,
    "start_time": "2025-03-17T23:52:04.238Z"
   },
   {
    "duration": 933,
    "start_time": "2025-03-17T23:52:04.352Z"
   },
   {
    "duration": 12,
    "start_time": "2025-03-17T23:52:05.287Z"
   },
   {
    "duration": 3,
    "start_time": "2025-03-17T23:52:05.301Z"
   },
   {
    "duration": 10,
    "start_time": "2025-03-17T23:52:05.306Z"
   },
   {
    "duration": 7,
    "start_time": "2025-03-17T23:52:05.317Z"
   },
   {
    "duration": 864,
    "start_time": "2025-03-17T23:52:05.326Z"
   },
   {
    "duration": 8,
    "start_time": "2025-03-17T23:52:06.192Z"
   },
   {
    "duration": 9,
    "start_time": "2025-03-17T23:52:06.208Z"
   },
   {
    "duration": 314,
    "start_time": "2025-03-17T23:52:06.218Z"
   },
   {
    "duration": 239,
    "start_time": "2025-03-17T23:59:37.274Z"
   },
   {
    "duration": 820,
    "start_time": "2025-03-18T00:00:16.989Z"
   },
   {
    "duration": 347,
    "start_time": "2025-03-18T00:00:17.811Z"
   },
   {
    "duration": 10,
    "start_time": "2025-03-18T00:00:18.160Z"
   },
   {
    "duration": 8,
    "start_time": "2025-03-18T00:00:18.172Z"
   },
   {
    "duration": 29,
    "start_time": "2025-03-18T00:00:18.184Z"
   },
   {
    "duration": 7,
    "start_time": "2025-03-18T00:00:18.214Z"
   },
   {
    "duration": 44,
    "start_time": "2025-03-18T00:00:18.222Z"
   },
   {
    "duration": 7,
    "start_time": "2025-03-18T00:00:18.268Z"
   },
   {
    "duration": 31,
    "start_time": "2025-03-18T00:00:18.278Z"
   },
   {
    "duration": 6,
    "start_time": "2025-03-18T00:00:18.311Z"
   },
   {
    "duration": 3,
    "start_time": "2025-03-18T00:00:18.319Z"
   },
   {
    "duration": 4,
    "start_time": "2025-03-18T00:00:18.324Z"
   },
   {
    "duration": 4,
    "start_time": "2025-03-18T00:00:18.330Z"
   },
   {
    "duration": 5,
    "start_time": "2025-03-18T00:00:18.338Z"
   },
   {
    "duration": 4,
    "start_time": "2025-03-18T00:00:18.344Z"
   },
   {
    "duration": 7,
    "start_time": "2025-03-18T00:00:18.351Z"
   },
   {
    "duration": 3,
    "start_time": "2025-03-18T00:00:18.359Z"
   },
   {
    "duration": 52,
    "start_time": "2025-03-18T00:00:18.364Z"
   },
   {
    "duration": 4,
    "start_time": "2025-03-18T00:00:18.418Z"
   },
   {
    "duration": 4,
    "start_time": "2025-03-18T00:00:18.423Z"
   },
   {
    "duration": 9,
    "start_time": "2025-03-18T00:00:18.428Z"
   },
   {
    "duration": 4,
    "start_time": "2025-03-18T00:00:18.438Z"
   },
   {
    "duration": 23,
    "start_time": "2025-03-18T00:00:18.443Z"
   },
   {
    "duration": 58,
    "start_time": "2025-03-18T00:00:18.468Z"
   },
   {
    "duration": 11,
    "start_time": "2025-03-18T00:00:18.527Z"
   },
   {
    "duration": 8,
    "start_time": "2025-03-18T00:00:18.540Z"
   },
   {
    "duration": 13,
    "start_time": "2025-03-18T00:00:18.550Z"
   },
   {
    "duration": 5,
    "start_time": "2025-03-18T00:00:18.565Z"
   },
   {
    "duration": 42,
    "start_time": "2025-03-18T00:00:18.572Z"
   },
   {
    "duration": 17,
    "start_time": "2025-03-18T00:00:18.616Z"
   },
   {
    "duration": 3,
    "start_time": "2025-03-18T00:00:18.635Z"
   },
   {
    "duration": 178,
    "start_time": "2025-03-18T00:00:18.640Z"
   },
   {
    "duration": 166,
    "start_time": "2025-03-18T00:00:18.819Z"
   },
   {
    "duration": 3,
    "start_time": "2025-03-18T00:00:18.987Z"
   },
   {
    "duration": 47,
    "start_time": "2025-03-18T00:00:18.993Z"
   },
   {
    "duration": 4,
    "start_time": "2025-03-18T00:00:19.042Z"
   },
   {
    "duration": 79,
    "start_time": "2025-03-18T00:00:19.048Z"
   },
   {
    "duration": 38,
    "start_time": "2025-03-18T00:00:19.129Z"
   },
   {
    "duration": 130,
    "start_time": "2025-03-18T00:00:19.170Z"
   },
   {
    "duration": 31,
    "start_time": "2025-03-18T00:00:19.309Z"
   },
   {
    "duration": 37,
    "start_time": "2025-03-18T00:00:19.346Z"
   },
   {
    "duration": 53,
    "start_time": "2025-03-18T00:00:19.385Z"
   },
   {
    "duration": 4,
    "start_time": "2025-03-18T00:00:19.440Z"
   },
   {
    "duration": 8,
    "start_time": "2025-03-18T00:00:19.445Z"
   },
   {
    "duration": 7,
    "start_time": "2025-03-18T00:00:19.455Z"
   },
   {
    "duration": 6,
    "start_time": "2025-03-18T00:00:19.463Z"
   },
   {
    "duration": 8,
    "start_time": "2025-03-18T00:00:19.471Z"
   },
   {
    "duration": 35,
    "start_time": "2025-03-18T00:00:19.480Z"
   },
   {
    "duration": 6,
    "start_time": "2025-03-18T00:00:19.517Z"
   },
   {
    "duration": 23,
    "start_time": "2025-03-18T00:00:19.525Z"
   },
   {
    "duration": 22,
    "start_time": "2025-03-18T00:00:19.549Z"
   },
   {
    "duration": 57,
    "start_time": "2025-03-18T00:00:19.574Z"
   },
   {
    "duration": 7,
    "start_time": "2025-03-18T00:00:19.633Z"
   },
   {
    "duration": 8,
    "start_time": "2025-03-18T00:00:19.642Z"
   },
   {
    "duration": 9,
    "start_time": "2025-03-18T00:00:19.651Z"
   },
   {
    "duration": 7,
    "start_time": "2025-03-18T00:00:19.662Z"
   },
   {
    "duration": 7,
    "start_time": "2025-03-18T00:00:19.670Z"
   },
   {
    "duration": 6,
    "start_time": "2025-03-18T00:00:19.708Z"
   },
   {
    "duration": 4,
    "start_time": "2025-03-18T00:00:19.715Z"
   },
   {
    "duration": 4,
    "start_time": "2025-03-18T00:00:19.720Z"
   },
   {
    "duration": 4,
    "start_time": "2025-03-18T00:00:19.725Z"
   },
   {
    "duration": 4,
    "start_time": "2025-03-18T00:00:19.731Z"
   },
   {
    "duration": 4,
    "start_time": "2025-03-18T00:00:19.737Z"
   },
   {
    "duration": 4,
    "start_time": "2025-03-18T00:00:19.742Z"
   },
   {
    "duration": 9,
    "start_time": "2025-03-18T00:00:19.748Z"
   },
   {
    "duration": 102,
    "start_time": "2025-03-18T00:00:19.758Z"
   },
   {
    "duration": 21,
    "start_time": "2025-03-18T00:00:19.863Z"
   },
   {
    "duration": 24,
    "start_time": "2025-03-18T00:00:19.885Z"
   },
   {
    "duration": 449,
    "start_time": "2025-03-18T00:00:19.911Z"
   },
   {
    "duration": 10,
    "start_time": "2025-03-18T00:00:20.362Z"
   },
   {
    "duration": 112,
    "start_time": "2025-03-18T00:00:20.374Z"
   },
   {
    "duration": 925,
    "start_time": "2025-03-18T00:00:20.488Z"
   },
   {
    "duration": 13,
    "start_time": "2025-03-18T00:00:21.415Z"
   },
   {
    "duration": 3,
    "start_time": "2025-03-18T00:00:21.431Z"
   },
   {
    "duration": 10,
    "start_time": "2025-03-18T00:00:21.435Z"
   },
   {
    "duration": 7,
    "start_time": "2025-03-18T00:00:21.447Z"
   },
   {
    "duration": 832,
    "start_time": "2025-03-18T00:00:21.456Z"
   },
   {
    "duration": 9,
    "start_time": "2025-03-18T00:00:22.290Z"
   },
   {
    "duration": 9,
    "start_time": "2025-03-18T00:00:22.310Z"
   },
   {
    "duration": 346,
    "start_time": "2025-03-18T00:00:22.321Z"
   },
   {
    "duration": 854,
    "start_time": "2025-03-18T00:02:38.535Z"
   },
   {
    "duration": 340,
    "start_time": "2025-03-18T00:02:39.391Z"
   },
   {
    "duration": 9,
    "start_time": "2025-03-18T00:02:39.732Z"
   },
   {
    "duration": 10,
    "start_time": "2025-03-18T00:02:39.743Z"
   },
   {
    "duration": 24,
    "start_time": "2025-03-18T00:02:39.757Z"
   },
   {
    "duration": 7,
    "start_time": "2025-03-18T00:02:39.783Z"
   },
   {
    "duration": 57,
    "start_time": "2025-03-18T00:02:39.791Z"
   },
   {
    "duration": 8,
    "start_time": "2025-03-18T00:02:39.850Z"
   },
   {
    "duration": 9,
    "start_time": "2025-03-18T00:02:39.859Z"
   },
   {
    "duration": 6,
    "start_time": "2025-03-18T00:02:39.869Z"
   },
   {
    "duration": 4,
    "start_time": "2025-03-18T00:02:39.876Z"
   },
   {
    "duration": 5,
    "start_time": "2025-03-18T00:02:39.909Z"
   },
   {
    "duration": 5,
    "start_time": "2025-03-18T00:02:39.915Z"
   },
   {
    "duration": 5,
    "start_time": "2025-03-18T00:02:39.924Z"
   },
   {
    "duration": 3,
    "start_time": "2025-03-18T00:02:39.931Z"
   },
   {
    "duration": 7,
    "start_time": "2025-03-18T00:02:39.936Z"
   },
   {
    "duration": 3,
    "start_time": "2025-03-18T00:02:39.945Z"
   },
   {
    "duration": 7,
    "start_time": "2025-03-18T00:02:39.950Z"
   },
   {
    "duration": 4,
    "start_time": "2025-03-18T00:02:39.959Z"
   },
   {
    "duration": 44,
    "start_time": "2025-03-18T00:02:39.965Z"
   },
   {
    "duration": 8,
    "start_time": "2025-03-18T00:02:40.011Z"
   },
   {
    "duration": 3,
    "start_time": "2025-03-18T00:02:40.021Z"
   },
   {
    "duration": 22,
    "start_time": "2025-03-18T00:02:40.026Z"
   },
   {
    "duration": 23,
    "start_time": "2025-03-18T00:02:40.050Z"
   },
   {
    "duration": 41,
    "start_time": "2025-03-18T00:02:40.075Z"
   },
   {
    "duration": 9,
    "start_time": "2025-03-18T00:02:40.119Z"
   },
   {
    "duration": 14,
    "start_time": "2025-03-18T00:02:40.130Z"
   },
   {
    "duration": 6,
    "start_time": "2025-03-18T00:02:40.146Z"
   },
   {
    "duration": 15,
    "start_time": "2025-03-18T00:02:40.155Z"
   },
   {
    "duration": 46,
    "start_time": "2025-03-18T00:02:40.172Z"
   },
   {
    "duration": 3,
    "start_time": "2025-03-18T00:02:40.220Z"
   },
   {
    "duration": 173,
    "start_time": "2025-03-18T00:02:40.225Z"
   },
   {
    "duration": 160,
    "start_time": "2025-03-18T00:02:40.400Z"
   },
   {
    "duration": 4,
    "start_time": "2025-03-18T00:02:40.562Z"
   },
   {
    "duration": 49,
    "start_time": "2025-03-18T00:02:40.568Z"
   },
   {
    "duration": 4,
    "start_time": "2025-03-18T00:02:40.618Z"
   },
   {
    "duration": 60,
    "start_time": "2025-03-18T00:02:40.624Z"
   },
   {
    "duration": 49,
    "start_time": "2025-03-18T00:02:40.686Z"
   },
   {
    "duration": 127,
    "start_time": "2025-03-18T00:02:40.736Z"
   },
   {
    "duration": 44,
    "start_time": "2025-03-18T00:02:40.865Z"
   },
   {
    "duration": 36,
    "start_time": "2025-03-18T00:02:40.914Z"
   },
   {
    "duration": 34,
    "start_time": "2025-03-18T00:02:40.952Z"
   },
   {
    "duration": 22,
    "start_time": "2025-03-18T00:02:40.988Z"
   },
   {
    "duration": 8,
    "start_time": "2025-03-18T00:02:41.012Z"
   },
   {
    "duration": 7,
    "start_time": "2025-03-18T00:02:41.022Z"
   },
   {
    "duration": 6,
    "start_time": "2025-03-18T00:02:41.030Z"
   },
   {
    "duration": 9,
    "start_time": "2025-03-18T00:02:41.038Z"
   },
   {
    "duration": 6,
    "start_time": "2025-03-18T00:02:41.049Z"
   },
   {
    "duration": 6,
    "start_time": "2025-03-18T00:02:41.057Z"
   },
   {
    "duration": 60,
    "start_time": "2025-03-18T00:02:41.066Z"
   },
   {
    "duration": 22,
    "start_time": "2025-03-18T00:02:41.129Z"
   },
   {
    "duration": 35,
    "start_time": "2025-03-18T00:02:41.152Z"
   },
   {
    "duration": 9,
    "start_time": "2025-03-18T00:02:41.211Z"
   },
   {
    "duration": 8,
    "start_time": "2025-03-18T00:02:41.222Z"
   },
   {
    "duration": 10,
    "start_time": "2025-03-18T00:02:41.231Z"
   },
   {
    "duration": 9,
    "start_time": "2025-03-18T00:02:41.243Z"
   },
   {
    "duration": 7,
    "start_time": "2025-03-18T00:02:41.253Z"
   },
   {
    "duration": 7,
    "start_time": "2025-03-18T00:02:41.262Z"
   },
   {
    "duration": 41,
    "start_time": "2025-03-18T00:02:41.270Z"
   },
   {
    "duration": 6,
    "start_time": "2025-03-18T00:02:41.312Z"
   },
   {
    "duration": 4,
    "start_time": "2025-03-18T00:02:41.320Z"
   },
   {
    "duration": 3,
    "start_time": "2025-03-18T00:02:41.325Z"
   },
   {
    "duration": 4,
    "start_time": "2025-03-18T00:02:41.330Z"
   },
   {
    "duration": 4,
    "start_time": "2025-03-18T00:02:41.335Z"
   },
   {
    "duration": 7,
    "start_time": "2025-03-18T00:02:41.341Z"
   },
   {
    "duration": 141,
    "start_time": "2025-03-18T00:02:41.350Z"
   },
   {
    "duration": 932,
    "start_time": "2025-03-18T00:02:41.493Z"
   },
   {
    "duration": 12,
    "start_time": "2025-03-18T00:02:42.427Z"
   },
   {
    "duration": 3,
    "start_time": "2025-03-18T00:02:42.441Z"
   },
   {
    "duration": 9,
    "start_time": "2025-03-18T00:02:42.446Z"
   },
   {
    "duration": 7,
    "start_time": "2025-03-18T00:02:42.457Z"
   },
   {
    "duration": 897,
    "start_time": "2025-03-18T00:02:42.466Z"
   },
   {
    "duration": 14,
    "start_time": "2025-03-18T00:02:43.365Z"
   },
   {
    "duration": 10,
    "start_time": "2025-03-18T00:02:43.382Z"
   },
   {
    "duration": 332,
    "start_time": "2025-03-18T00:02:43.394Z"
   },
   {
    "duration": 9,
    "start_time": "2025-03-18T00:07:24.994Z"
   },
   {
    "duration": 9,
    "start_time": "2025-03-18T00:07:40.054Z"
   },
   {
    "duration": 46,
    "start_time": "2025-03-18T00:16:45.209Z"
   },
   {
    "duration": 415,
    "start_time": "2025-03-18T00:18:10.179Z"
   },
   {
    "duration": 852,
    "start_time": "2025-03-18T00:18:36.680Z"
   },
   {
    "duration": 354,
    "start_time": "2025-03-18T00:18:37.534Z"
   },
   {
    "duration": 9,
    "start_time": "2025-03-18T00:18:37.889Z"
   },
   {
    "duration": 17,
    "start_time": "2025-03-18T00:18:37.900Z"
   },
   {
    "duration": 14,
    "start_time": "2025-03-18T00:18:37.921Z"
   },
   {
    "duration": 8,
    "start_time": "2025-03-18T00:18:37.936Z"
   },
   {
    "duration": 43,
    "start_time": "2025-03-18T00:18:37.947Z"
   },
   {
    "duration": 10,
    "start_time": "2025-03-18T00:18:38.008Z"
   },
   {
    "duration": 9,
    "start_time": "2025-03-18T00:18:38.020Z"
   },
   {
    "duration": 6,
    "start_time": "2025-03-18T00:18:38.031Z"
   },
   {
    "duration": 3,
    "start_time": "2025-03-18T00:18:38.040Z"
   },
   {
    "duration": 5,
    "start_time": "2025-03-18T00:18:38.045Z"
   },
   {
    "duration": 4,
    "start_time": "2025-03-18T00:18:38.051Z"
   },
   {
    "duration": 4,
    "start_time": "2025-03-18T00:18:38.059Z"
   },
   {
    "duration": 45,
    "start_time": "2025-03-18T00:18:38.065Z"
   },
   {
    "duration": 8,
    "start_time": "2025-03-18T00:18:38.112Z"
   },
   {
    "duration": 4,
    "start_time": "2025-03-18T00:18:38.122Z"
   },
   {
    "duration": 9,
    "start_time": "2025-03-18T00:18:38.127Z"
   },
   {
    "duration": 4,
    "start_time": "2025-03-18T00:18:38.137Z"
   },
   {
    "duration": 4,
    "start_time": "2025-03-18T00:18:38.142Z"
   },
   {
    "duration": 8,
    "start_time": "2025-03-18T00:18:38.148Z"
   },
   {
    "duration": 4,
    "start_time": "2025-03-18T00:18:38.158Z"
   },
   {
    "duration": 65,
    "start_time": "2025-03-18T00:18:38.163Z"
   },
   {
    "duration": 20,
    "start_time": "2025-03-18T00:18:38.230Z"
   },
   {
    "duration": 11,
    "start_time": "2025-03-18T00:18:38.252Z"
   },
   {
    "duration": 8,
    "start_time": "2025-03-18T00:18:38.265Z"
   },
   {
    "duration": 37,
    "start_time": "2025-03-18T00:18:38.274Z"
   },
   {
    "duration": 5,
    "start_time": "2025-03-18T00:18:38.313Z"
   },
   {
    "duration": 17,
    "start_time": "2025-03-18T00:18:38.319Z"
   },
   {
    "duration": 22,
    "start_time": "2025-03-18T00:18:38.339Z"
   },
   {
    "duration": 5,
    "start_time": "2025-03-18T00:18:38.363Z"
   },
   {
    "duration": 198,
    "start_time": "2025-03-18T00:18:38.370Z"
   },
   {
    "duration": 158,
    "start_time": "2025-03-18T00:18:38.570Z"
   },
   {
    "duration": 3,
    "start_time": "2025-03-18T00:18:38.730Z"
   },
   {
    "duration": 39,
    "start_time": "2025-03-18T00:18:38.735Z"
   },
   {
    "duration": 3,
    "start_time": "2025-03-18T00:18:38.776Z"
   },
   {
    "duration": 80,
    "start_time": "2025-03-18T00:18:38.781Z"
   },
   {
    "duration": 31,
    "start_time": "2025-03-18T00:18:38.862Z"
   },
   {
    "duration": 125,
    "start_time": "2025-03-18T00:18:38.908Z"
   },
   {
    "duration": 32,
    "start_time": "2025-03-18T00:18:39.035Z"
   },
   {
    "duration": 50,
    "start_time": "2025-03-18T00:18:39.071Z"
   },
   {
    "duration": 30,
    "start_time": "2025-03-18T00:18:39.124Z"
   },
   {
    "duration": 6,
    "start_time": "2025-03-18T00:18:39.155Z"
   },
   {
    "duration": 9,
    "start_time": "2025-03-18T00:18:39.163Z"
   },
   {
    "duration": 7,
    "start_time": "2025-03-18T00:18:39.173Z"
   },
   {
    "duration": 31,
    "start_time": "2025-03-18T00:18:39.182Z"
   },
   {
    "duration": 9,
    "start_time": "2025-03-18T00:18:39.215Z"
   },
   {
    "duration": 7,
    "start_time": "2025-03-18T00:18:39.225Z"
   },
   {
    "duration": 6,
    "start_time": "2025-03-18T00:18:39.233Z"
   },
   {
    "duration": 22,
    "start_time": "2025-03-18T00:18:39.241Z"
   },
   {
    "duration": 54,
    "start_time": "2025-03-18T00:18:39.265Z"
   },
   {
    "duration": 26,
    "start_time": "2025-03-18T00:18:39.321Z"
   },
   {
    "duration": 8,
    "start_time": "2025-03-18T00:18:39.349Z"
   },
   {
    "duration": 8,
    "start_time": "2025-03-18T00:18:39.358Z"
   },
   {
    "duration": 8,
    "start_time": "2025-03-18T00:18:39.368Z"
   },
   {
    "duration": 38,
    "start_time": "2025-03-18T00:18:39.377Z"
   },
   {
    "duration": 7,
    "start_time": "2025-03-18T00:18:39.416Z"
   },
   {
    "duration": 6,
    "start_time": "2025-03-18T00:18:39.424Z"
   },
   {
    "duration": 4,
    "start_time": "2025-03-18T00:18:39.431Z"
   },
   {
    "duration": 6,
    "start_time": "2025-03-18T00:18:39.437Z"
   },
   {
    "duration": 3,
    "start_time": "2025-03-18T00:18:39.445Z"
   },
   {
    "duration": 6,
    "start_time": "2025-03-18T00:18:39.450Z"
   },
   {
    "duration": 4,
    "start_time": "2025-03-18T00:18:39.457Z"
   },
   {
    "duration": 48,
    "start_time": "2025-03-18T00:18:39.463Z"
   },
   {
    "duration": 11,
    "start_time": "2025-03-18T00:18:39.515Z"
   },
   {
    "duration": 110,
    "start_time": "2025-03-18T00:18:39.529Z"
   },
   {
    "duration": 852,
    "start_time": "2025-03-18T00:18:39.641Z"
   },
   {
    "duration": 14,
    "start_time": "2025-03-18T00:18:40.495Z"
   },
   {
    "duration": 3,
    "start_time": "2025-03-18T00:18:40.511Z"
   },
   {
    "duration": 10,
    "start_time": "2025-03-18T00:18:40.515Z"
   },
   {
    "duration": 7,
    "start_time": "2025-03-18T00:18:40.527Z"
   },
   {
    "duration": 941,
    "start_time": "2025-03-18T00:18:40.536Z"
   },
   {
    "duration": 9,
    "start_time": "2025-03-18T00:18:41.479Z"
   },
   {
    "duration": 21,
    "start_time": "2025-03-18T00:18:41.490Z"
   },
   {
    "duration": 44,
    "start_time": "2025-03-18T00:18:41.513Z"
   },
   {
    "duration": 432,
    "start_time": "2025-03-18T00:18:41.559Z"
   },
   {
    "duration": 330,
    "start_time": "2025-03-18T00:18:41.992Z"
   },
   {
    "duration": 839,
    "start_time": "2025-03-18T00:22:40.966Z"
   },
   {
    "duration": 337,
    "start_time": "2025-03-18T00:22:41.808Z"
   },
   {
    "duration": 9,
    "start_time": "2025-03-18T00:22:42.147Z"
   },
   {
    "duration": 9,
    "start_time": "2025-03-18T00:22:42.159Z"
   },
   {
    "duration": 13,
    "start_time": "2025-03-18T00:22:42.170Z"
   },
   {
    "duration": 27,
    "start_time": "2025-03-18T00:22:42.185Z"
   },
   {
    "duration": 43,
    "start_time": "2025-03-18T00:22:42.214Z"
   },
   {
    "duration": 8,
    "start_time": "2025-03-18T00:22:42.258Z"
   },
   {
    "duration": 9,
    "start_time": "2025-03-18T00:22:42.268Z"
   },
   {
    "duration": 30,
    "start_time": "2025-03-18T00:22:42.281Z"
   },
   {
    "duration": 3,
    "start_time": "2025-03-18T00:22:42.313Z"
   },
   {
    "duration": 4,
    "start_time": "2025-03-18T00:22:42.318Z"
   },
   {
    "duration": 4,
    "start_time": "2025-03-18T00:22:42.323Z"
   },
   {
    "duration": 5,
    "start_time": "2025-03-18T00:22:42.329Z"
   },
   {
    "duration": 3,
    "start_time": "2025-03-18T00:22:42.336Z"
   },
   {
    "duration": 8,
    "start_time": "2025-03-18T00:22:42.341Z"
   },
   {
    "duration": 4,
    "start_time": "2025-03-18T00:22:42.350Z"
   },
   {
    "duration": 8,
    "start_time": "2025-03-18T00:22:42.355Z"
   },
   {
    "duration": 5,
    "start_time": "2025-03-18T00:22:42.410Z"
   },
   {
    "duration": 4,
    "start_time": "2025-03-18T00:22:42.417Z"
   },
   {
    "duration": 9,
    "start_time": "2025-03-18T00:22:42.422Z"
   },
   {
    "duration": 4,
    "start_time": "2025-03-18T00:22:42.433Z"
   },
   {
    "duration": 25,
    "start_time": "2025-03-18T00:22:42.438Z"
   },
   {
    "duration": 55,
    "start_time": "2025-03-18T00:22:42.464Z"
   },
   {
    "duration": 11,
    "start_time": "2025-03-18T00:22:42.520Z"
   },
   {
    "duration": 8,
    "start_time": "2025-03-18T00:22:42.533Z"
   },
   {
    "duration": 13,
    "start_time": "2025-03-18T00:22:42.543Z"
   },
   {
    "duration": 6,
    "start_time": "2025-03-18T00:22:42.561Z"
   },
   {
    "duration": 41,
    "start_time": "2025-03-18T00:22:42.568Z"
   },
   {
    "duration": 19,
    "start_time": "2025-03-18T00:22:42.610Z"
   },
   {
    "duration": 4,
    "start_time": "2025-03-18T00:22:42.630Z"
   },
   {
    "duration": 187,
    "start_time": "2025-03-18T00:22:42.636Z"
   },
   {
    "duration": 168,
    "start_time": "2025-03-18T00:22:42.825Z"
   },
   {
    "duration": 6,
    "start_time": "2025-03-18T00:22:42.995Z"
   },
   {
    "duration": 38,
    "start_time": "2025-03-18T00:22:43.008Z"
   },
   {
    "duration": 3,
    "start_time": "2025-03-18T00:22:43.048Z"
   },
   {
    "duration": 78,
    "start_time": "2025-03-18T00:22:43.053Z"
   },
   {
    "duration": 31,
    "start_time": "2025-03-18T00:22:43.132Z"
   },
   {
    "duration": 132,
    "start_time": "2025-03-18T00:22:43.165Z"
   },
   {
    "duration": 38,
    "start_time": "2025-03-18T00:22:43.299Z"
   },
   {
    "duration": 38,
    "start_time": "2025-03-18T00:22:43.339Z"
   },
   {
    "duration": 45,
    "start_time": "2025-03-18T00:22:43.378Z"
   },
   {
    "duration": 4,
    "start_time": "2025-03-18T00:22:43.425Z"
   },
   {
    "duration": 8,
    "start_time": "2025-03-18T00:22:43.431Z"
   },
   {
    "duration": 7,
    "start_time": "2025-03-18T00:22:43.440Z"
   },
   {
    "duration": 6,
    "start_time": "2025-03-18T00:22:43.448Z"
   },
   {
    "duration": 8,
    "start_time": "2025-03-18T00:22:43.455Z"
   },
   {
    "duration": 45,
    "start_time": "2025-03-18T00:22:43.465Z"
   },
   {
    "duration": 7,
    "start_time": "2025-03-18T00:22:43.512Z"
   },
   {
    "duration": 28,
    "start_time": "2025-03-18T00:22:43.521Z"
   },
   {
    "duration": 25,
    "start_time": "2025-03-18T00:22:43.552Z"
   },
   {
    "duration": 55,
    "start_time": "2025-03-18T00:22:43.579Z"
   },
   {
    "duration": 9,
    "start_time": "2025-03-18T00:22:43.635Z"
   },
   {
    "duration": 7,
    "start_time": "2025-03-18T00:22:43.645Z"
   },
   {
    "duration": 8,
    "start_time": "2025-03-18T00:22:43.654Z"
   },
   {
    "duration": 8,
    "start_time": "2025-03-18T00:22:43.663Z"
   },
   {
    "duration": 6,
    "start_time": "2025-03-18T00:22:43.673Z"
   },
   {
    "duration": 7,
    "start_time": "2025-03-18T00:22:43.709Z"
   },
   {
    "duration": 4,
    "start_time": "2025-03-18T00:22:43.718Z"
   },
   {
    "duration": 4,
    "start_time": "2025-03-18T00:22:43.723Z"
   },
   {
    "duration": 5,
    "start_time": "2025-03-18T00:22:43.728Z"
   },
   {
    "duration": 4,
    "start_time": "2025-03-18T00:22:43.735Z"
   },
   {
    "duration": 4,
    "start_time": "2025-03-18T00:22:43.741Z"
   },
   {
    "duration": 3,
    "start_time": "2025-03-18T00:22:43.747Z"
   },
   {
    "duration": 8,
    "start_time": "2025-03-18T00:22:43.752Z"
   },
   {
    "duration": 167,
    "start_time": "2025-03-18T00:22:43.761Z"
   },
   {
    "duration": 892,
    "start_time": "2025-03-18T00:22:43.930Z"
   },
   {
    "duration": 13,
    "start_time": "2025-03-18T00:22:44.824Z"
   },
   {
    "duration": 6,
    "start_time": "2025-03-18T00:22:44.838Z"
   },
   {
    "duration": 13,
    "start_time": "2025-03-18T00:22:44.845Z"
   },
   {
    "duration": 7,
    "start_time": "2025-03-18T00:22:44.859Z"
   },
   {
    "duration": 357,
    "start_time": "2025-03-18T00:22:45.874Z"
   },
   {
    "duration": 870,
    "start_time": "2025-03-18T00:30:34.445Z"
   },
   {
    "duration": 349,
    "start_time": "2025-03-18T00:30:35.318Z"
   },
   {
    "duration": 8,
    "start_time": "2025-03-18T00:30:35.669Z"
   },
   {
    "duration": 9,
    "start_time": "2025-03-18T00:30:35.680Z"
   },
   {
    "duration": 26,
    "start_time": "2025-03-18T00:30:35.691Z"
   },
   {
    "duration": 6,
    "start_time": "2025-03-18T00:30:35.718Z"
   },
   {
    "duration": 45,
    "start_time": "2025-03-18T00:30:35.726Z"
   },
   {
    "duration": 8,
    "start_time": "2025-03-18T00:30:35.773Z"
   },
   {
    "duration": 31,
    "start_time": "2025-03-18T00:30:35.782Z"
   },
   {
    "duration": 5,
    "start_time": "2025-03-18T00:30:35.817Z"
   },
   {
    "duration": 3,
    "start_time": "2025-03-18T00:30:35.824Z"
   },
   {
    "duration": 5,
    "start_time": "2025-03-18T00:30:35.829Z"
   },
   {
    "duration": 3,
    "start_time": "2025-03-18T00:30:35.837Z"
   },
   {
    "duration": 5,
    "start_time": "2025-03-18T00:30:35.842Z"
   },
   {
    "duration": 4,
    "start_time": "2025-03-18T00:30:35.848Z"
   },
   {
    "duration": 8,
    "start_time": "2025-03-18T00:30:35.854Z"
   },
   {
    "duration": 4,
    "start_time": "2025-03-18T00:30:35.863Z"
   },
   {
    "duration": 8,
    "start_time": "2025-03-18T00:30:35.909Z"
   },
   {
    "duration": 4,
    "start_time": "2025-03-18T00:30:35.918Z"
   },
   {
    "duration": 3,
    "start_time": "2025-03-18T00:30:35.924Z"
   },
   {
    "duration": 8,
    "start_time": "2025-03-18T00:30:35.929Z"
   },
   {
    "duration": 4,
    "start_time": "2025-03-18T00:30:35.938Z"
   },
   {
    "duration": 25,
    "start_time": "2025-03-18T00:30:35.944Z"
   },
   {
    "duration": 59,
    "start_time": "2025-03-18T00:30:35.971Z"
   },
   {
    "duration": 12,
    "start_time": "2025-03-18T00:30:36.033Z"
   },
   {
    "duration": 9,
    "start_time": "2025-03-18T00:30:36.047Z"
   },
   {
    "duration": 15,
    "start_time": "2025-03-18T00:30:36.058Z"
   },
   {
    "duration": 29,
    "start_time": "2025-03-18T00:30:36.079Z"
   },
   {
    "duration": 13,
    "start_time": "2025-03-18T00:30:36.110Z"
   },
   {
    "duration": 18,
    "start_time": "2025-03-18T00:30:36.125Z"
   },
   {
    "duration": 4,
    "start_time": "2025-03-18T00:30:36.145Z"
   },
   {
    "duration": 190,
    "start_time": "2025-03-18T00:30:36.150Z"
   },
   {
    "duration": 173,
    "start_time": "2025-03-18T00:30:36.341Z"
   },
   {
    "duration": 4,
    "start_time": "2025-03-18T00:30:36.516Z"
   },
   {
    "duration": 43,
    "start_time": "2025-03-18T00:30:36.522Z"
   },
   {
    "duration": 3,
    "start_time": "2025-03-18T00:30:36.567Z"
   },
   {
    "duration": 81,
    "start_time": "2025-03-18T00:30:36.572Z"
   },
   {
    "duration": 30,
    "start_time": "2025-03-18T00:30:36.655Z"
   },
   {
    "duration": 133,
    "start_time": "2025-03-18T00:30:36.687Z"
   },
   {
    "duration": 31,
    "start_time": "2025-03-18T00:30:36.822Z"
   },
   {
    "duration": 55,
    "start_time": "2025-03-18T00:30:36.855Z"
   },
   {
    "duration": 31,
    "start_time": "2025-03-18T00:30:36.911Z"
   },
   {
    "duration": 4,
    "start_time": "2025-03-18T00:30:36.944Z"
   },
   {
    "duration": 7,
    "start_time": "2025-03-18T00:30:36.950Z"
   },
   {
    "duration": 8,
    "start_time": "2025-03-18T00:30:36.959Z"
   },
   {
    "duration": 6,
    "start_time": "2025-03-18T00:30:36.969Z"
   },
   {
    "duration": 37,
    "start_time": "2025-03-18T00:30:36.977Z"
   },
   {
    "duration": 7,
    "start_time": "2025-03-18T00:30:37.016Z"
   },
   {
    "duration": 6,
    "start_time": "2025-03-18T00:30:37.025Z"
   },
   {
    "duration": 19,
    "start_time": "2025-03-18T00:30:37.033Z"
   },
   {
    "duration": 20,
    "start_time": "2025-03-18T00:30:37.054Z"
   },
   {
    "duration": 57,
    "start_time": "2025-03-18T00:30:37.076Z"
   },
   {
    "duration": 8,
    "start_time": "2025-03-18T00:30:37.135Z"
   },
   {
    "duration": 7,
    "start_time": "2025-03-18T00:30:37.146Z"
   },
   {
    "duration": 10,
    "start_time": "2025-03-18T00:30:37.156Z"
   },
   {
    "duration": 41,
    "start_time": "2025-03-18T00:30:37.168Z"
   },
   {
    "duration": 9,
    "start_time": "2025-03-18T00:30:37.212Z"
   },
   {
    "duration": 7,
    "start_time": "2025-03-18T00:30:37.223Z"
   },
   {
    "duration": 4,
    "start_time": "2025-03-18T00:30:37.232Z"
   },
   {
    "duration": 5,
    "start_time": "2025-03-18T00:30:37.237Z"
   },
   {
    "duration": 4,
    "start_time": "2025-03-18T00:30:37.243Z"
   },
   {
    "duration": 4,
    "start_time": "2025-03-18T00:30:37.249Z"
   },
   {
    "duration": 3,
    "start_time": "2025-03-18T00:30:37.256Z"
   },
   {
    "duration": 3,
    "start_time": "2025-03-18T00:30:37.261Z"
   },
   {
    "duration": 8,
    "start_time": "2025-03-18T00:30:37.310Z"
   },
   {
    "duration": 115,
    "start_time": "2025-03-18T00:30:37.319Z"
   },
   {
    "duration": 910,
    "start_time": "2025-03-18T00:30:37.436Z"
   },
   {
    "duration": 18,
    "start_time": "2025-03-18T00:30:38.350Z"
   },
   {
    "duration": 5,
    "start_time": "2025-03-18T00:30:38.370Z"
   },
   {
    "duration": 16,
    "start_time": "2025-03-18T00:30:38.377Z"
   },
   {
    "duration": 15,
    "start_time": "2025-03-18T00:30:38.395Z"
   },
   {
    "duration": 914,
    "start_time": "2025-03-18T00:30:38.412Z"
   },
   {
    "duration": 13,
    "start_time": "2025-03-18T00:30:39.328Z"
   },
   {
    "duration": 10,
    "start_time": "2025-03-18T00:30:39.343Z"
   },
   {
    "duration": 47,
    "start_time": "2025-03-18T00:30:39.354Z"
   },
   {
    "duration": 351,
    "start_time": "2025-03-18T00:30:39.412Z"
   },
   {
    "duration": 477,
    "start_time": "2025-03-18T00:44:31.882Z"
   },
   {
    "duration": 457,
    "start_time": "2025-03-18T00:46:30.754Z"
   },
   {
    "duration": 501,
    "start_time": "2025-03-18T00:48:10.314Z"
   },
   {
    "duration": 39,
    "start_time": "2025-03-18T00:48:57.844Z"
   },
   {
    "duration": 36,
    "start_time": "2025-03-18T00:52:31.881Z"
   },
   {
    "duration": 11,
    "start_time": "2025-03-18T01:12:32.875Z"
   },
   {
    "duration": 867,
    "start_time": "2025-03-18T01:13:15.118Z"
   },
   {
    "duration": 347,
    "start_time": "2025-03-18T01:13:15.988Z"
   },
   {
    "duration": 8,
    "start_time": "2025-03-18T01:13:16.337Z"
   },
   {
    "duration": 11,
    "start_time": "2025-03-18T01:13:16.347Z"
   },
   {
    "duration": 14,
    "start_time": "2025-03-18T01:13:16.360Z"
   },
   {
    "duration": 7,
    "start_time": "2025-03-18T01:13:16.375Z"
   },
   {
    "duration": 64,
    "start_time": "2025-03-18T01:13:16.383Z"
   },
   {
    "duration": 8,
    "start_time": "2025-03-18T01:13:16.449Z"
   },
   {
    "duration": 8,
    "start_time": "2025-03-18T01:13:16.458Z"
   },
   {
    "duration": 7,
    "start_time": "2025-03-18T01:13:16.467Z"
   },
   {
    "duration": 34,
    "start_time": "2025-03-18T01:13:16.476Z"
   },
   {
    "duration": 5,
    "start_time": "2025-03-18T01:13:16.512Z"
   },
   {
    "duration": 4,
    "start_time": "2025-03-18T01:13:16.518Z"
   },
   {
    "duration": 5,
    "start_time": "2025-03-18T01:13:16.527Z"
   },
   {
    "duration": 4,
    "start_time": "2025-03-18T01:13:16.534Z"
   },
   {
    "duration": 9,
    "start_time": "2025-03-18T01:13:16.540Z"
   },
   {
    "duration": 4,
    "start_time": "2025-03-18T01:13:16.551Z"
   },
   {
    "duration": 8,
    "start_time": "2025-03-18T01:13:16.557Z"
   },
   {
    "duration": 45,
    "start_time": "2025-03-18T01:13:16.567Z"
   },
   {
    "duration": 23,
    "start_time": "2025-03-18T01:13:16.613Z"
   },
   {
    "duration": 23,
    "start_time": "2025-03-18T01:13:16.638Z"
   },
   {
    "duration": 13,
    "start_time": "2025-03-18T01:13:16.662Z"
   },
   {
    "duration": 33,
    "start_time": "2025-03-18T01:13:16.676Z"
   },
   {
    "duration": 13,
    "start_time": "2025-03-18T01:13:16.710Z"
   },
   {
    "duration": 5,
    "start_time": "2025-03-18T01:13:16.725Z"
   },
   {
    "duration": 11,
    "start_time": "2025-03-18T01:13:16.732Z"
   },
   {
    "duration": 17,
    "start_time": "2025-03-18T01:13:16.745Z"
   },
   {
    "duration": 4,
    "start_time": "2025-03-18T01:13:16.763Z"
   },
   {
    "duration": 194,
    "start_time": "2025-03-18T01:13:16.769Z"
   },
   {
    "duration": 168,
    "start_time": "2025-03-18T01:13:16.966Z"
   },
   {
    "duration": 4,
    "start_time": "2025-03-18T01:13:17.135Z"
   },
   {
    "duration": 45,
    "start_time": "2025-03-18T01:13:17.140Z"
   },
   {
    "duration": 3,
    "start_time": "2025-03-18T01:13:17.187Z"
   },
   {
    "duration": 104,
    "start_time": "2025-03-18T01:13:17.192Z"
   },
   {
    "duration": 42,
    "start_time": "2025-03-18T01:13:17.298Z"
   },
   {
    "duration": 133,
    "start_time": "2025-03-18T01:13:17.341Z"
   },
   {
    "duration": 41,
    "start_time": "2025-03-18T01:13:17.475Z"
   },
   {
    "duration": 39,
    "start_time": "2025-03-18T01:13:17.519Z"
   },
   {
    "duration": 32,
    "start_time": "2025-03-18T01:13:17.560Z"
   },
   {
    "duration": 4,
    "start_time": "2025-03-18T01:13:17.610Z"
   },
   {
    "duration": 9,
    "start_time": "2025-03-18T01:13:17.622Z"
   },
   {
    "duration": 8,
    "start_time": "2025-03-18T01:13:17.634Z"
   },
   {
    "duration": 5,
    "start_time": "2025-03-18T01:13:17.645Z"
   },
   {
    "duration": 11,
    "start_time": "2025-03-18T01:13:17.652Z"
   },
   {
    "duration": 5,
    "start_time": "2025-03-18T01:13:17.665Z"
   },
   {
    "duration": 40,
    "start_time": "2025-03-18T01:13:17.672Z"
   },
   {
    "duration": 23,
    "start_time": "2025-03-18T01:13:17.715Z"
   },
   {
    "duration": 21,
    "start_time": "2025-03-18T01:13:17.739Z"
   },
   {
    "duration": 48,
    "start_time": "2025-03-18T01:13:17.762Z"
   },
   {
    "duration": 10,
    "start_time": "2025-03-18T01:13:17.812Z"
   },
   {
    "duration": 8,
    "start_time": "2025-03-18T01:13:17.824Z"
   },
   {
    "duration": 9,
    "start_time": "2025-03-18T01:13:17.833Z"
   },
   {
    "duration": 8,
    "start_time": "2025-03-18T01:13:17.845Z"
   },
   {
    "duration": 6,
    "start_time": "2025-03-18T01:13:17.856Z"
   },
   {
    "duration": 5,
    "start_time": "2025-03-18T01:13:17.864Z"
   },
   {
    "duration": 40,
    "start_time": "2025-03-18T01:13:17.871Z"
   },
   {
    "duration": 3,
    "start_time": "2025-03-18T01:13:17.914Z"
   },
   {
    "duration": 3,
    "start_time": "2025-03-18T01:13:17.920Z"
   },
   {
    "duration": 5,
    "start_time": "2025-03-18T01:13:17.925Z"
   },
   {
    "duration": 4,
    "start_time": "2025-03-18T01:13:17.931Z"
   },
   {
    "duration": 4,
    "start_time": "2025-03-18T01:13:17.937Z"
   },
   {
    "duration": 8,
    "start_time": "2025-03-18T01:13:17.943Z"
   },
   {
    "duration": 143,
    "start_time": "2025-03-18T01:13:17.953Z"
   },
   {
    "duration": 987,
    "start_time": "2025-03-18T01:13:18.098Z"
   },
   {
    "duration": 13,
    "start_time": "2025-03-18T01:13:19.087Z"
   },
   {
    "duration": 3,
    "start_time": "2025-03-18T01:13:19.102Z"
   },
   {
    "duration": 9,
    "start_time": "2025-03-18T01:13:19.109Z"
   },
   {
    "duration": 7,
    "start_time": "2025-03-18T01:13:19.119Z"
   },
   {
    "duration": 880,
    "start_time": "2025-03-18T01:13:19.128Z"
   },
   {
    "duration": 9,
    "start_time": "2025-03-18T01:13:20.011Z"
   },
   {
    "duration": 10,
    "start_time": "2025-03-18T01:13:20.021Z"
   },
   {
    "duration": 45,
    "start_time": "2025-03-18T01:13:20.032Z"
   },
   {
    "duration": 347,
    "start_time": "2025-03-18T01:13:20.079Z"
   },
   {
    "duration": 39,
    "start_time": "2025-03-18T01:13:20.428Z"
   },
   {
    "duration": 7,
    "start_time": "2025-03-18T01:13:20.469Z"
   },
   {
    "duration": 5,
    "start_time": "2025-03-18T02:01:45.990Z"
   },
   {
    "duration": 878,
    "start_time": "2025-03-18T04:04:02.096Z"
   },
   {
    "duration": 376,
    "start_time": "2025-03-18T04:04:02.976Z"
   },
   {
    "duration": 10,
    "start_time": "2025-03-18T04:04:03.354Z"
   },
   {
    "duration": 10,
    "start_time": "2025-03-18T04:04:03.367Z"
   },
   {
    "duration": 13,
    "start_time": "2025-03-18T04:04:03.379Z"
   },
   {
    "duration": 19,
    "start_time": "2025-03-18T04:04:03.394Z"
   },
   {
    "duration": 43,
    "start_time": "2025-03-18T04:04:03.415Z"
   },
   {
    "duration": 7,
    "start_time": "2025-03-18T04:04:03.460Z"
   },
   {
    "duration": 8,
    "start_time": "2025-03-18T04:04:03.469Z"
   },
   {
    "duration": 30,
    "start_time": "2025-03-18T04:04:03.481Z"
   },
   {
    "duration": 3,
    "start_time": "2025-03-18T04:04:03.513Z"
   },
   {
    "duration": 4,
    "start_time": "2025-03-18T04:04:03.518Z"
   },
   {
    "duration": 4,
    "start_time": "2025-03-18T04:04:03.524Z"
   },
   {
    "duration": 5,
    "start_time": "2025-03-18T04:04:03.529Z"
   },
   {
    "duration": 4,
    "start_time": "2025-03-18T04:04:03.536Z"
   },
   {
    "duration": 8,
    "start_time": "2025-03-18T04:04:03.541Z"
   },
   {
    "duration": 5,
    "start_time": "2025-03-18T04:04:03.551Z"
   },
   {
    "duration": 8,
    "start_time": "2025-03-18T04:04:03.557Z"
   },
   {
    "duration": 45,
    "start_time": "2025-03-18T04:04:03.567Z"
   },
   {
    "duration": 25,
    "start_time": "2025-03-18T04:04:03.614Z"
   },
   {
    "duration": 20,
    "start_time": "2025-03-18T04:04:03.641Z"
   },
   {
    "duration": 11,
    "start_time": "2025-03-18T04:04:03.663Z"
   },
   {
    "duration": 36,
    "start_time": "2025-03-18T04:04:03.676Z"
   },
   {
    "duration": 12,
    "start_time": "2025-03-18T04:04:03.714Z"
   },
   {
    "duration": 16,
    "start_time": "2025-03-18T04:04:03.728Z"
   },
   {
    "duration": 3,
    "start_time": "2025-03-18T04:04:03.746Z"
   },
   {
    "duration": 190,
    "start_time": "2025-03-18T04:04:03.751Z"
   },
   {
    "duration": 164,
    "start_time": "2025-03-18T04:04:03.947Z"
   },
   {
    "duration": 4,
    "start_time": "2025-03-18T04:04:04.113Z"
   },
   {
    "duration": 41,
    "start_time": "2025-03-18T04:04:04.118Z"
   },
   {
    "duration": 3,
    "start_time": "2025-03-18T04:04:04.161Z"
   },
   {
    "duration": 93,
    "start_time": "2025-03-18T04:04:04.165Z"
   },
   {
    "duration": 36,
    "start_time": "2025-03-18T04:04:04.260Z"
   },
   {
    "duration": 122,
    "start_time": "2025-03-18T04:04:04.308Z"
   },
   {
    "duration": 31,
    "start_time": "2025-03-18T04:04:04.432Z"
   },
   {
    "duration": 55,
    "start_time": "2025-03-18T04:04:04.465Z"
   },
   {
    "duration": 4,
    "start_time": "2025-03-18T04:04:04.521Z"
   },
   {
    "duration": 8,
    "start_time": "2025-03-18T04:04:04.527Z"
   },
   {
    "duration": 7,
    "start_time": "2025-03-18T04:04:04.537Z"
   },
   {
    "duration": 6,
    "start_time": "2025-03-18T04:04:04.545Z"
   },
   {
    "duration": 6,
    "start_time": "2025-03-18T04:04:04.553Z"
   },
   {
    "duration": 5,
    "start_time": "2025-03-18T04:04:04.561Z"
   },
   {
    "duration": 62,
    "start_time": "2025-03-18T04:04:04.569Z"
   },
   {
    "duration": 21,
    "start_time": "2025-03-18T04:04:04.632Z"
   },
   {
    "duration": 27,
    "start_time": "2025-03-18T04:04:04.655Z"
   },
   {
    "duration": 28,
    "start_time": "2025-03-18T04:04:04.684Z"
   },
   {
    "duration": 7,
    "start_time": "2025-03-18T04:04:04.714Z"
   },
   {
    "duration": 9,
    "start_time": "2025-03-18T04:04:04.723Z"
   },
   {
    "duration": 8,
    "start_time": "2025-03-18T04:04:04.733Z"
   },
   {
    "duration": 6,
    "start_time": "2025-03-18T04:04:04.742Z"
   },
   {
    "duration": 5,
    "start_time": "2025-03-18T04:04:04.750Z"
   },
   {
    "duration": 3,
    "start_time": "2025-03-18T04:04:04.758Z"
   },
   {
    "duration": 46,
    "start_time": "2025-03-18T04:04:04.763Z"
   },
   {
    "duration": 4,
    "start_time": "2025-03-18T04:04:04.811Z"
   },
   {
    "duration": 3,
    "start_time": "2025-03-18T04:04:04.818Z"
   },
   {
    "duration": 4,
    "start_time": "2025-03-18T04:04:04.823Z"
   },
   {
    "duration": 3,
    "start_time": "2025-03-18T04:04:04.830Z"
   },
   {
    "duration": 8,
    "start_time": "2025-03-18T04:04:04.835Z"
   },
   {
    "duration": 132,
    "start_time": "2025-03-18T04:04:04.845Z"
   },
   {
    "duration": 972,
    "start_time": "2025-03-18T04:04:04.978Z"
   },
   {
    "duration": 13,
    "start_time": "2025-03-18T04:04:05.951Z"
   },
   {
    "duration": 3,
    "start_time": "2025-03-18T04:04:05.965Z"
   },
   {
    "duration": 10,
    "start_time": "2025-03-18T04:04:05.970Z"
   },
   {
    "duration": 7,
    "start_time": "2025-03-18T04:04:05.982Z"
   },
   {
    "duration": 834,
    "start_time": "2025-03-18T04:04:05.990Z"
   },
   {
    "duration": 8,
    "start_time": "2025-03-18T04:04:06.826Z"
   },
   {
    "duration": 9,
    "start_time": "2025-03-18T04:04:06.837Z"
   },
   {
    "duration": 66,
    "start_time": "2025-03-18T04:04:06.848Z"
   },
   {
    "duration": 328,
    "start_time": "2025-03-18T04:04:06.916Z"
   },
   {
    "duration": 41,
    "start_time": "2025-03-18T04:04:07.246Z"
   },
   {
    "duration": 8,
    "start_time": "2025-03-18T04:04:07.289Z"
   },
   {
    "duration": 6,
    "start_time": "2025-03-18T04:04:07.310Z"
   },
   {
    "duration": 933,
    "start_time": "2025-03-18T04:56:29.122Z"
   },
   {
    "duration": 399,
    "start_time": "2025-03-18T04:56:30.057Z"
   },
   {
    "duration": 11,
    "start_time": "2025-03-18T04:56:30.458Z"
   },
   {
    "duration": 9,
    "start_time": "2025-03-18T04:56:30.471Z"
   },
   {
    "duration": 25,
    "start_time": "2025-03-18T04:56:30.484Z"
   },
   {
    "duration": 9,
    "start_time": "2025-03-18T04:56:30.513Z"
   },
   {
    "duration": 46,
    "start_time": "2025-03-18T04:56:30.524Z"
   },
   {
    "duration": 9,
    "start_time": "2025-03-18T04:56:30.572Z"
   },
   {
    "duration": 34,
    "start_time": "2025-03-18T04:56:30.582Z"
   },
   {
    "duration": 6,
    "start_time": "2025-03-18T04:56:30.621Z"
   },
   {
    "duration": 5,
    "start_time": "2025-03-18T04:56:30.629Z"
   },
   {
    "duration": 4,
    "start_time": "2025-03-18T04:56:30.635Z"
   },
   {
    "duration": 3,
    "start_time": "2025-03-18T04:56:30.641Z"
   },
   {
    "duration": 5,
    "start_time": "2025-03-18T04:56:30.646Z"
   },
   {
    "duration": 4,
    "start_time": "2025-03-18T04:56:30.653Z"
   },
   {
    "duration": 8,
    "start_time": "2025-03-18T04:56:30.658Z"
   },
   {
    "duration": 4,
    "start_time": "2025-03-18T04:56:30.708Z"
   },
   {
    "duration": 9,
    "start_time": "2025-03-18T04:56:30.714Z"
   },
   {
    "duration": 4,
    "start_time": "2025-03-18T04:56:30.725Z"
   },
   {
    "duration": 27,
    "start_time": "2025-03-18T04:56:30.730Z"
   },
   {
    "duration": 55,
    "start_time": "2025-03-18T04:56:30.760Z"
   },
   {
    "duration": 11,
    "start_time": "2025-03-18T04:56:30.817Z"
   },
   {
    "duration": 11,
    "start_time": "2025-03-18T04:56:30.830Z"
   },
   {
    "duration": 16,
    "start_time": "2025-03-18T04:56:30.843Z"
   },
   {
    "duration": 17,
    "start_time": "2025-03-18T04:56:30.862Z"
   },
   {
    "duration": 3,
    "start_time": "2025-03-18T04:56:30.881Z"
   },
   {
    "duration": 262,
    "start_time": "2025-03-18T04:56:30.909Z"
   },
   {
    "duration": 166,
    "start_time": "2025-03-18T04:56:31.177Z"
   },
   {
    "duration": 4,
    "start_time": "2025-03-18T04:56:31.345Z"
   },
   {
    "duration": 64,
    "start_time": "2025-03-18T04:56:31.352Z"
   },
   {
    "duration": 5,
    "start_time": "2025-03-18T04:56:31.417Z"
   },
   {
    "duration": 63,
    "start_time": "2025-03-18T04:56:31.424Z"
   },
   {
    "duration": 53,
    "start_time": "2025-03-18T04:56:31.489Z"
   },
   {
    "duration": 127,
    "start_time": "2025-03-18T04:56:31.544Z"
   },
   {
    "duration": 43,
    "start_time": "2025-03-18T04:56:31.673Z"
   },
   {
    "duration": 38,
    "start_time": "2025-03-18T04:56:31.718Z"
   },
   {
    "duration": 3,
    "start_time": "2025-03-18T04:56:31.759Z"
   },
   {
    "duration": 11,
    "start_time": "2025-03-18T04:56:31.764Z"
   },
   {
    "duration": 32,
    "start_time": "2025-03-18T04:56:31.777Z"
   },
   {
    "duration": 7,
    "start_time": "2025-03-18T04:56:31.811Z"
   },
   {
    "duration": 7,
    "start_time": "2025-03-18T04:56:31.820Z"
   },
   {
    "duration": 7,
    "start_time": "2025-03-18T04:56:31.830Z"
   },
   {
    "duration": 25,
    "start_time": "2025-03-18T04:56:31.839Z"
   },
   {
    "duration": 48,
    "start_time": "2025-03-18T04:56:31.866Z"
   },
   {
    "duration": 28,
    "start_time": "2025-03-18T04:56:31.916Z"
   },
   {
    "duration": 8,
    "start_time": "2025-03-18T04:56:31.946Z"
   },
   {
    "duration": 7,
    "start_time": "2025-03-18T04:56:31.956Z"
   },
   {
    "duration": 11,
    "start_time": "2025-03-18T04:56:31.964Z"
   },
   {
    "duration": 39,
    "start_time": "2025-03-18T04:56:31.977Z"
   },
   {
    "duration": 8,
    "start_time": "2025-03-18T04:56:32.017Z"
   },
   {
    "duration": 7,
    "start_time": "2025-03-18T04:56:32.027Z"
   },
   {
    "duration": 4,
    "start_time": "2025-03-18T04:56:32.036Z"
   },
   {
    "duration": 4,
    "start_time": "2025-03-18T04:56:32.041Z"
   },
   {
    "duration": 4,
    "start_time": "2025-03-18T04:56:32.047Z"
   },
   {
    "duration": 5,
    "start_time": "2025-03-18T04:56:32.052Z"
   },
   {
    "duration": 9,
    "start_time": "2025-03-18T04:56:32.059Z"
   },
   {
    "duration": 41,
    "start_time": "2025-03-18T04:56:32.070Z"
   },
   {
    "duration": 12,
    "start_time": "2025-03-18T04:56:32.113Z"
   },
   {
    "duration": 139,
    "start_time": "2025-03-18T04:56:32.127Z"
   },
   {
    "duration": 938,
    "start_time": "2025-03-18T04:56:32.268Z"
   },
   {
    "duration": 18,
    "start_time": "2025-03-18T04:56:33.208Z"
   },
   {
    "duration": 4,
    "start_time": "2025-03-18T04:56:33.228Z"
   },
   {
    "duration": 14,
    "start_time": "2025-03-18T04:56:33.234Z"
   },
   {
    "duration": 10,
    "start_time": "2025-03-18T04:56:33.250Z"
   },
   {
    "duration": 841,
    "start_time": "2025-03-18T04:56:33.263Z"
   },
   {
    "duration": 10,
    "start_time": "2025-03-18T04:56:34.106Z"
   },
   {
    "duration": 10,
    "start_time": "2025-03-18T04:56:34.120Z"
   },
   {
    "duration": 79,
    "start_time": "2025-03-18T04:56:34.134Z"
   },
   {
    "duration": 367,
    "start_time": "2025-03-18T04:56:34.215Z"
   },
   {
    "duration": 47,
    "start_time": "2025-03-18T04:56:34.585Z"
   },
   {
    "duration": 6,
    "start_time": "2025-03-18T04:56:34.634Z"
   },
   {
    "duration": 6,
    "start_time": "2025-03-18T04:56:34.642Z"
   }
  ],
  "kernelspec": {
   "display_name": "Python 3",
   "language": "python",
   "name": "python3"
  },
  "language_info": {
   "codemirror_mode": {
    "name": "ipython",
    "version": 3
   },
   "file_extension": ".py",
   "mimetype": "text/x-python",
   "name": "python",
   "nbconvert_exporter": "python",
   "pygments_lexer": "ipython3",
   "version": "3.12.3"
  },
  "toc": {
   "base_numbering": 1,
   "nav_menu": {},
   "number_sections": true,
   "sideBar": true,
   "skip_h1_title": true,
   "title_cell": "Table of Contents",
   "title_sidebar": "Contents",
   "toc_cell": false,
   "toc_position": {},
   "toc_section_display": true,
   "toc_window_display": false
  }
 },
 "nbformat": 4,
 "nbformat_minor": 2
}
