{
 "cells": [
  {
   "cell_type": "markdown",
   "metadata": {},
   "source": [
    "**ETAPA 1. Descripción del Proyecto**\n",
    "\n",
    "\n",
    "SQL\n",
    "\n",
    "El coronavirus tomó al mundo entero por sorpresa, cambiando la rutina diaria de todos y todas. Los habitantes de las ciudades ya no pasaban su tiempo libre fuera, yendo a cafés y centros comerciales; sino que más gente se quedaba en casa, leyendo libros. Eso atrajo la atención de las startups (empresas emergentes) que se apresuraron a desarrollar nuevas aplicaciones para los amantes de los libros.\n",
    "\n",
    "Te han dado una base de datos de uno de los servicios que compiten en este mercado. Contiene datos sobre libros, editoriales, autores y calificaciones de clientes y reseñas de libros. Esta información se utilizará para generar una propuesta de valor para un nuevo producto."
   ]
  },
  {
   "cell_type": "markdown",
   "metadata": {},
   "source": [
    "**Describe los objetivos del estudio.**"
   ]
  },
  {
   "cell_type": "markdown",
   "metadata": {},
   "source": [
    "*Objetivo general*\n",
    "\n",
    "Analizar los datos de la base de datos de libros para identificar patrones y tendencias que permitan mejorar la experiencia del usuario."
   ]
  },
  {
   "cell_type": "markdown",
   "metadata": {},
   "source": [
    "*Objetivos específicos*\n",
    "\n",
    "- Identificar los géneros y autores más populares entre los usuarios, utilizando datos de calificaciones y reseñas.\n",
    "\n",
    "\n",
    "- Desarrolar un modelo de recomendación personalizado basado en el historial de lectura y las preferencias de los usuarios."
   ]
  },
  {
   "cell_type": "markdown",
   "metadata": {},
   "source": [
    "**Cargar todas las librerías y conectar con la base de datos que se va a usar durante el proyecto.**"
   ]
  },
  {
   "cell_type": "code",
   "execution_count": 8,
   "metadata": {},
   "outputs": [],
   "source": [
    "import pandas as pd\n",
    "from sqlalchemy import create_engine, text\n",
    "from sqlalchemy.orm import sessionmaker\n",
    "\n",
    "db_config = {'user': 'practicum_student',         # username\n",
    "             'pwd': 's65BlTKV3faNIGhmvJVzOqhs', # password\n",
    "             'host': 'rc1b-wcoijxj3yxfsf3fs.mdb.yandexcloud.net',\n",
    "             'port': 6432,              # connection port\n",
    "             'db': 'data-analyst-final-project-db'}          # the name of the database\n",
    "\n",
    "connection_string = 'postgresql://{}:{}@{}:{}/{}'.format(db_config['user'],\n",
    "                                                                     db_config['pwd'],\n",
    "                                                                       db_config['host'],\n",
    "                                                                       db_config['port'],\n",
    "                                                                       db_config['db'])\n",
    "\n",
    "engine = create_engine(connection_string, connect_args={'sslmode':'require'})"
   ]
  },
  {
   "cell_type": "markdown",
   "metadata": {},
   "source": [
    "**Escribir consultas para datos de muestra que impriman las primeras filas**"
   ]
  },
  {
   "cell_type": "code",
   "execution_count": 9,
   "metadata": {},
   "outputs": [
    {
     "data": {
      "text/html": [
       "<div>\n",
       "<style scoped>\n",
       "    .dataframe tbody tr th:only-of-type {\n",
       "        vertical-align: middle;\n",
       "    }\n",
       "\n",
       "    .dataframe tbody tr th {\n",
       "        vertical-align: top;\n",
       "    }\n",
       "\n",
       "    .dataframe thead th {\n",
       "        text-align: right;\n",
       "    }\n",
       "</style>\n",
       "<table border=\"1\" class=\"dataframe\">\n",
       "  <thead>\n",
       "    <tr style=\"text-align: right;\">\n",
       "      <th></th>\n",
       "      <th>book_id</th>\n",
       "      <th>author_id</th>\n",
       "      <th>title</th>\n",
       "      <th>num_pages</th>\n",
       "      <th>publication_date</th>\n",
       "      <th>publisher_id</th>\n",
       "    </tr>\n",
       "  </thead>\n",
       "  <tbody>\n",
       "    <tr>\n",
       "      <th>0</th>\n",
       "      <td>1</td>\n",
       "      <td>546</td>\n",
       "      <td>'Salem's Lot</td>\n",
       "      <td>594</td>\n",
       "      <td>2005-11-01</td>\n",
       "      <td>93</td>\n",
       "    </tr>\n",
       "    <tr>\n",
       "      <th>1</th>\n",
       "      <td>2</td>\n",
       "      <td>465</td>\n",
       "      <td>1 000 Places to See Before You Die</td>\n",
       "      <td>992</td>\n",
       "      <td>2003-05-22</td>\n",
       "      <td>336</td>\n",
       "    </tr>\n",
       "    <tr>\n",
       "      <th>2</th>\n",
       "      <td>3</td>\n",
       "      <td>407</td>\n",
       "      <td>13 Little Blue Envelopes (Little Blue Envelope...</td>\n",
       "      <td>322</td>\n",
       "      <td>2010-12-21</td>\n",
       "      <td>135</td>\n",
       "    </tr>\n",
       "    <tr>\n",
       "      <th>3</th>\n",
       "      <td>4</td>\n",
       "      <td>82</td>\n",
       "      <td>1491: New Revelations of the Americas Before C...</td>\n",
       "      <td>541</td>\n",
       "      <td>2006-10-10</td>\n",
       "      <td>309</td>\n",
       "    </tr>\n",
       "    <tr>\n",
       "      <th>4</th>\n",
       "      <td>5</td>\n",
       "      <td>125</td>\n",
       "      <td>1776</td>\n",
       "      <td>386</td>\n",
       "      <td>2006-07-04</td>\n",
       "      <td>268</td>\n",
       "    </tr>\n",
       "    <tr>\n",
       "      <th>5</th>\n",
       "      <td>6</td>\n",
       "      <td>257</td>\n",
       "      <td>1st to Die (Women's Murder Club  #1)</td>\n",
       "      <td>424</td>\n",
       "      <td>2005-05-20</td>\n",
       "      <td>116</td>\n",
       "    </tr>\n",
       "    <tr>\n",
       "      <th>6</th>\n",
       "      <td>7</td>\n",
       "      <td>258</td>\n",
       "      <td>2nd Chance (Women's Murder Club  #2)</td>\n",
       "      <td>400</td>\n",
       "      <td>2005-05-20</td>\n",
       "      <td>116</td>\n",
       "    </tr>\n",
       "    <tr>\n",
       "      <th>7</th>\n",
       "      <td>8</td>\n",
       "      <td>260</td>\n",
       "      <td>4th of July (Women's Murder Club  #4)</td>\n",
       "      <td>448</td>\n",
       "      <td>2006-06-01</td>\n",
       "      <td>318</td>\n",
       "    </tr>\n",
       "    <tr>\n",
       "      <th>8</th>\n",
       "      <td>9</td>\n",
       "      <td>563</td>\n",
       "      <td>A Beautiful Mind</td>\n",
       "      <td>461</td>\n",
       "      <td>2002-02-04</td>\n",
       "      <td>104</td>\n",
       "    </tr>\n",
       "    <tr>\n",
       "      <th>9</th>\n",
       "      <td>10</td>\n",
       "      <td>445</td>\n",
       "      <td>A Bend in the Road</td>\n",
       "      <td>341</td>\n",
       "      <td>2005-04-01</td>\n",
       "      <td>116</td>\n",
       "    </tr>\n",
       "  </tbody>\n",
       "</table>\n",
       "</div>"
      ],
      "text/plain": [
       "   book_id  author_id                                              title  \\\n",
       "0        1        546                                       'Salem's Lot   \n",
       "1        2        465                 1 000 Places to See Before You Die   \n",
       "2        3        407  13 Little Blue Envelopes (Little Blue Envelope...   \n",
       "3        4         82  1491: New Revelations of the Americas Before C...   \n",
       "4        5        125                                               1776   \n",
       "5        6        257               1st to Die (Women's Murder Club  #1)   \n",
       "6        7        258               2nd Chance (Women's Murder Club  #2)   \n",
       "7        8        260              4th of July (Women's Murder Club  #4)   \n",
       "8        9        563                                   A Beautiful Mind   \n",
       "9       10        445                                 A Bend in the Road   \n",
       "\n",
       "   num_pages publication_date  publisher_id  \n",
       "0        594       2005-11-01            93  \n",
       "1        992       2003-05-22           336  \n",
       "2        322       2010-12-21           135  \n",
       "3        541       2006-10-10           309  \n",
       "4        386       2006-07-04           268  \n",
       "5        424       2005-05-20           116  \n",
       "6        400       2005-05-20           116  \n",
       "7        448       2006-06-01           318  \n",
       "8        461       2002-02-04           104  \n",
       "9        341       2005-04-01           116  "
      ]
     },
     "metadata": {},
     "output_type": "display_data"
    },
    {
     "data": {
      "text/html": [
       "<div>\n",
       "<style scoped>\n",
       "    .dataframe tbody tr th:only-of-type {\n",
       "        vertical-align: middle;\n",
       "    }\n",
       "\n",
       "    .dataframe tbody tr th {\n",
       "        vertical-align: top;\n",
       "    }\n",
       "\n",
       "    .dataframe thead th {\n",
       "        text-align: right;\n",
       "    }\n",
       "</style>\n",
       "<table border=\"1\" class=\"dataframe\">\n",
       "  <thead>\n",
       "    <tr style=\"text-align: right;\">\n",
       "      <th></th>\n",
       "      <th>author_id</th>\n",
       "      <th>author</th>\n",
       "    </tr>\n",
       "  </thead>\n",
       "  <tbody>\n",
       "    <tr>\n",
       "      <th>0</th>\n",
       "      <td>1</td>\n",
       "      <td>A.S. Byatt</td>\n",
       "    </tr>\n",
       "    <tr>\n",
       "      <th>1</th>\n",
       "      <td>2</td>\n",
       "      <td>Aesop/Laura Harris/Laura Gibbs</td>\n",
       "    </tr>\n",
       "    <tr>\n",
       "      <th>2</th>\n",
       "      <td>3</td>\n",
       "      <td>Agatha Christie</td>\n",
       "    </tr>\n",
       "    <tr>\n",
       "      <th>3</th>\n",
       "      <td>4</td>\n",
       "      <td>Alan Brennert</td>\n",
       "    </tr>\n",
       "    <tr>\n",
       "      <th>4</th>\n",
       "      <td>5</td>\n",
       "      <td>Alan Moore/David   Lloyd</td>\n",
       "    </tr>\n",
       "    <tr>\n",
       "      <th>5</th>\n",
       "      <td>6</td>\n",
       "      <td>Alan Paton</td>\n",
       "    </tr>\n",
       "    <tr>\n",
       "      <th>6</th>\n",
       "      <td>7</td>\n",
       "      <td>Albert Camus/Justin O'Brien</td>\n",
       "    </tr>\n",
       "    <tr>\n",
       "      <th>7</th>\n",
       "      <td>8</td>\n",
       "      <td>Aldous Huxley</td>\n",
       "    </tr>\n",
       "    <tr>\n",
       "      <th>8</th>\n",
       "      <td>9</td>\n",
       "      <td>Aldous Huxley/Christopher Hitchens</td>\n",
       "    </tr>\n",
       "    <tr>\n",
       "      <th>9</th>\n",
       "      <td>10</td>\n",
       "      <td>Aleksandr Solzhenitsyn/H.T. Willetts</td>\n",
       "    </tr>\n",
       "  </tbody>\n",
       "</table>\n",
       "</div>"
      ],
      "text/plain": [
       "   author_id                                author\n",
       "0          1                            A.S. Byatt\n",
       "1          2        Aesop/Laura Harris/Laura Gibbs\n",
       "2          3                       Agatha Christie\n",
       "3          4                         Alan Brennert\n",
       "4          5              Alan Moore/David   Lloyd\n",
       "5          6                            Alan Paton\n",
       "6          7           Albert Camus/Justin O'Brien\n",
       "7          8                         Aldous Huxley\n",
       "8          9    Aldous Huxley/Christopher Hitchens\n",
       "9         10  Aleksandr Solzhenitsyn/H.T. Willetts"
      ]
     },
     "metadata": {},
     "output_type": "display_data"
    },
    {
     "data": {
      "text/html": [
       "<div>\n",
       "<style scoped>\n",
       "    .dataframe tbody tr th:only-of-type {\n",
       "        vertical-align: middle;\n",
       "    }\n",
       "\n",
       "    .dataframe tbody tr th {\n",
       "        vertical-align: top;\n",
       "    }\n",
       "\n",
       "    .dataframe thead th {\n",
       "        text-align: right;\n",
       "    }\n",
       "</style>\n",
       "<table border=\"1\" class=\"dataframe\">\n",
       "  <thead>\n",
       "    <tr style=\"text-align: right;\">\n",
       "      <th></th>\n",
       "      <th>publisher_id</th>\n",
       "      <th>publisher</th>\n",
       "    </tr>\n",
       "  </thead>\n",
       "  <tbody>\n",
       "    <tr>\n",
       "      <th>0</th>\n",
       "      <td>1</td>\n",
       "      <td>Ace</td>\n",
       "    </tr>\n",
       "    <tr>\n",
       "      <th>1</th>\n",
       "      <td>2</td>\n",
       "      <td>Ace Book</td>\n",
       "    </tr>\n",
       "    <tr>\n",
       "      <th>2</th>\n",
       "      <td>3</td>\n",
       "      <td>Ace Books</td>\n",
       "    </tr>\n",
       "    <tr>\n",
       "      <th>3</th>\n",
       "      <td>4</td>\n",
       "      <td>Ace Hardcover</td>\n",
       "    </tr>\n",
       "    <tr>\n",
       "      <th>4</th>\n",
       "      <td>5</td>\n",
       "      <td>Addison Wesley Publishing Company</td>\n",
       "    </tr>\n",
       "    <tr>\n",
       "      <th>5</th>\n",
       "      <td>6</td>\n",
       "      <td>Aladdin</td>\n",
       "    </tr>\n",
       "    <tr>\n",
       "      <th>6</th>\n",
       "      <td>7</td>\n",
       "      <td>Aladdin Paperbacks</td>\n",
       "    </tr>\n",
       "    <tr>\n",
       "      <th>7</th>\n",
       "      <td>8</td>\n",
       "      <td>Albin Michel</td>\n",
       "    </tr>\n",
       "    <tr>\n",
       "      <th>8</th>\n",
       "      <td>9</td>\n",
       "      <td>Alfred A. Knopf</td>\n",
       "    </tr>\n",
       "    <tr>\n",
       "      <th>9</th>\n",
       "      <td>10</td>\n",
       "      <td>Alfred A. Knopf Books for Young Readers</td>\n",
       "    </tr>\n",
       "  </tbody>\n",
       "</table>\n",
       "</div>"
      ],
      "text/plain": [
       "   publisher_id                                publisher\n",
       "0             1                                      Ace\n",
       "1             2                                 Ace Book\n",
       "2             3                                Ace Books\n",
       "3             4                            Ace Hardcover\n",
       "4             5        Addison Wesley Publishing Company\n",
       "5             6                                  Aladdin\n",
       "6             7                       Aladdin Paperbacks\n",
       "7             8                             Albin Michel\n",
       "8             9                          Alfred A. Knopf\n",
       "9            10  Alfred A. Knopf Books for Young Readers"
      ]
     },
     "metadata": {},
     "output_type": "display_data"
    },
    {
     "data": {
      "text/html": [
       "<div>\n",
       "<style scoped>\n",
       "    .dataframe tbody tr th:only-of-type {\n",
       "        vertical-align: middle;\n",
       "    }\n",
       "\n",
       "    .dataframe tbody tr th {\n",
       "        vertical-align: top;\n",
       "    }\n",
       "\n",
       "    .dataframe thead th {\n",
       "        text-align: right;\n",
       "    }\n",
       "</style>\n",
       "<table border=\"1\" class=\"dataframe\">\n",
       "  <thead>\n",
       "    <tr style=\"text-align: right;\">\n",
       "      <th></th>\n",
       "      <th>rating_id</th>\n",
       "      <th>book_id</th>\n",
       "      <th>username</th>\n",
       "      <th>rating</th>\n",
       "    </tr>\n",
       "  </thead>\n",
       "  <tbody>\n",
       "    <tr>\n",
       "      <th>0</th>\n",
       "      <td>1</td>\n",
       "      <td>1</td>\n",
       "      <td>ryanfranco</td>\n",
       "      <td>4</td>\n",
       "    </tr>\n",
       "    <tr>\n",
       "      <th>1</th>\n",
       "      <td>2</td>\n",
       "      <td>1</td>\n",
       "      <td>grantpatricia</td>\n",
       "      <td>2</td>\n",
       "    </tr>\n",
       "    <tr>\n",
       "      <th>2</th>\n",
       "      <td>3</td>\n",
       "      <td>1</td>\n",
       "      <td>brandtandrea</td>\n",
       "      <td>5</td>\n",
       "    </tr>\n",
       "    <tr>\n",
       "      <th>3</th>\n",
       "      <td>4</td>\n",
       "      <td>2</td>\n",
       "      <td>lorichen</td>\n",
       "      <td>3</td>\n",
       "    </tr>\n",
       "    <tr>\n",
       "      <th>4</th>\n",
       "      <td>5</td>\n",
       "      <td>2</td>\n",
       "      <td>mariokeller</td>\n",
       "      <td>2</td>\n",
       "    </tr>\n",
       "    <tr>\n",
       "      <th>5</th>\n",
       "      <td>6</td>\n",
       "      <td>3</td>\n",
       "      <td>johnsonamanda</td>\n",
       "      <td>4</td>\n",
       "    </tr>\n",
       "    <tr>\n",
       "      <th>6</th>\n",
       "      <td>7</td>\n",
       "      <td>3</td>\n",
       "      <td>scotttamara</td>\n",
       "      <td>5</td>\n",
       "    </tr>\n",
       "    <tr>\n",
       "      <th>7</th>\n",
       "      <td>8</td>\n",
       "      <td>3</td>\n",
       "      <td>lesliegibbs</td>\n",
       "      <td>5</td>\n",
       "    </tr>\n",
       "    <tr>\n",
       "      <th>8</th>\n",
       "      <td>9</td>\n",
       "      <td>4</td>\n",
       "      <td>abbottjames</td>\n",
       "      <td>5</td>\n",
       "    </tr>\n",
       "    <tr>\n",
       "      <th>9</th>\n",
       "      <td>10</td>\n",
       "      <td>4</td>\n",
       "      <td>valenciaanne</td>\n",
       "      <td>4</td>\n",
       "    </tr>\n",
       "  </tbody>\n",
       "</table>\n",
       "</div>"
      ],
      "text/plain": [
       "   rating_id  book_id       username  rating\n",
       "0          1        1     ryanfranco       4\n",
       "1          2        1  grantpatricia       2\n",
       "2          3        1   brandtandrea       5\n",
       "3          4        2       lorichen       3\n",
       "4          5        2    mariokeller       2\n",
       "5          6        3  johnsonamanda       4\n",
       "6          7        3    scotttamara       5\n",
       "7          8        3    lesliegibbs       5\n",
       "8          9        4    abbottjames       5\n",
       "9         10        4   valenciaanne       4"
      ]
     },
     "metadata": {},
     "output_type": "display_data"
    },
    {
     "data": {
      "text/html": [
       "<div>\n",
       "<style scoped>\n",
       "    .dataframe tbody tr th:only-of-type {\n",
       "        vertical-align: middle;\n",
       "    }\n",
       "\n",
       "    .dataframe tbody tr th {\n",
       "        vertical-align: top;\n",
       "    }\n",
       "\n",
       "    .dataframe thead th {\n",
       "        text-align: right;\n",
       "    }\n",
       "</style>\n",
       "<table border=\"1\" class=\"dataframe\">\n",
       "  <thead>\n",
       "    <tr style=\"text-align: right;\">\n",
       "      <th></th>\n",
       "      <th>review_id</th>\n",
       "      <th>book_id</th>\n",
       "      <th>username</th>\n",
       "      <th>text</th>\n",
       "    </tr>\n",
       "  </thead>\n",
       "  <tbody>\n",
       "    <tr>\n",
       "      <th>0</th>\n",
       "      <td>1</td>\n",
       "      <td>1</td>\n",
       "      <td>brandtandrea</td>\n",
       "      <td>Mention society tell send professor analysis. ...</td>\n",
       "    </tr>\n",
       "    <tr>\n",
       "      <th>1</th>\n",
       "      <td>2</td>\n",
       "      <td>1</td>\n",
       "      <td>ryanfranco</td>\n",
       "      <td>Foot glass pretty audience hit themselves. Amo...</td>\n",
       "    </tr>\n",
       "    <tr>\n",
       "      <th>2</th>\n",
       "      <td>3</td>\n",
       "      <td>2</td>\n",
       "      <td>lorichen</td>\n",
       "      <td>Listen treat keep worry. Miss husband tax but ...</td>\n",
       "    </tr>\n",
       "    <tr>\n",
       "      <th>3</th>\n",
       "      <td>4</td>\n",
       "      <td>3</td>\n",
       "      <td>johnsonamanda</td>\n",
       "      <td>Finally month interesting blue could nature cu...</td>\n",
       "    </tr>\n",
       "    <tr>\n",
       "      <th>4</th>\n",
       "      <td>5</td>\n",
       "      <td>3</td>\n",
       "      <td>scotttamara</td>\n",
       "      <td>Nation purpose heavy give wait song will. List...</td>\n",
       "    </tr>\n",
       "    <tr>\n",
       "      <th>5</th>\n",
       "      <td>6</td>\n",
       "      <td>3</td>\n",
       "      <td>lesliegibbs</td>\n",
       "      <td>Analysis no several cause international.</td>\n",
       "    </tr>\n",
       "    <tr>\n",
       "      <th>6</th>\n",
       "      <td>7</td>\n",
       "      <td>4</td>\n",
       "      <td>valenciaanne</td>\n",
       "      <td>One there cost another. Say type save. With pe...</td>\n",
       "    </tr>\n",
       "    <tr>\n",
       "      <th>7</th>\n",
       "      <td>8</td>\n",
       "      <td>4</td>\n",
       "      <td>abbottjames</td>\n",
       "      <td>Within enough mother. There at system full rec...</td>\n",
       "    </tr>\n",
       "    <tr>\n",
       "      <th>8</th>\n",
       "      <td>9</td>\n",
       "      <td>5</td>\n",
       "      <td>npowers</td>\n",
       "      <td>Thank now focus realize economy focus fly. Ite...</td>\n",
       "    </tr>\n",
       "    <tr>\n",
       "      <th>9</th>\n",
       "      <td>10</td>\n",
       "      <td>5</td>\n",
       "      <td>staylor</td>\n",
       "      <td>Game push lot reduce where remember. Including...</td>\n",
       "    </tr>\n",
       "  </tbody>\n",
       "</table>\n",
       "</div>"
      ],
      "text/plain": [
       "   review_id  book_id       username  \\\n",
       "0          1        1   brandtandrea   \n",
       "1          2        1     ryanfranco   \n",
       "2          3        2       lorichen   \n",
       "3          4        3  johnsonamanda   \n",
       "4          5        3    scotttamara   \n",
       "5          6        3    lesliegibbs   \n",
       "6          7        4   valenciaanne   \n",
       "7          8        4    abbottjames   \n",
       "8          9        5        npowers   \n",
       "9         10        5        staylor   \n",
       "\n",
       "                                                text  \n",
       "0  Mention society tell send professor analysis. ...  \n",
       "1  Foot glass pretty audience hit themselves. Amo...  \n",
       "2  Listen treat keep worry. Miss husband tax but ...  \n",
       "3  Finally month interesting blue could nature cu...  \n",
       "4  Nation purpose heavy give wait song will. List...  \n",
       "5           Analysis no several cause international.  \n",
       "6  One there cost another. Say type save. With pe...  \n",
       "7  Within enough mother. There at system full rec...  \n",
       "8  Thank now focus realize economy focus fly. Ite...  \n",
       "9  Game push lot reduce where remember. Including...  "
      ]
     },
     "metadata": {},
     "output_type": "display_data"
    }
   ],
   "source": [
    "# Escribir consulta para imprimir datos de muestra de todas las tablas\n",
    "tables = ['books', 'authors', 'publishers', 'ratings', 'reviews']\n",
    "\n",
    "for table in tables:\n",
    "    query = f\"SELECT * FROM {table} LIMIT 10\"\n",
    "    \n",
    "    display(pd.io.sql.read_sql(query, con = engine))"
   ]
  },
  {
   "cell_type": "markdown",
   "metadata": {},
   "source": [
    "**ETAPA 2. Análisis exploratorio**"
   ]
  },
  {
   "cell_type": "markdown",
   "metadata": {},
   "source": [
    "# Encuentra el número de libros publicados después del 1 de enero de 2000."
   ]
  },
  {
   "cell_type": "code",
   "execution_count": 10,
   "metadata": {},
   "outputs": [
    {
     "name": "stdout",
     "output_type": "stream",
     "text": [
      "El número de libros publicados después del 1 de enero de 2000 es: 819\n"
     ]
    }
   ],
   "source": [
    "# Definir la consulta SQL\n",
    "sql_query = text(\"\"\"\n",
    "    SELECT \n",
    "        COUNT(*)\n",
    "    FROM \n",
    "        books \n",
    "    WHERE publication_date > '2000-01-01'\n",
    "\"\"\")\n",
    "\n",
    "# Ejecutar la consulta y obtener el resultado\n",
    "with engine.connect() as connection:\n",
    "    result = connection.execute(sql_query)\n",
    "    \n",
    "    # Obtener el valor como un entero\n",
    "    count = result.scalar()  \n",
    "\n",
    "# Imprimir el resultado\n",
    "print(f\"El número de libros publicados después del 1 de enero de 2000 es: {count}\")"
   ]
  },
  {
   "cell_type": "markdown",
   "metadata": {},
   "source": [
    "# Encuentra el número de reseñas de usuarios y la calificación promedio para cada libro."
   ]
  },
  {
   "cell_type": "code",
   "execution_count": 11,
   "metadata": {},
   "outputs": [
    {
     "name": "stdout",
     "output_type": "stream",
     "text": [
      "Libro ID: 732, Reseñas: 4, Calificación Promedio: 5.00\n",
      "Libro ID: 224, Reseñas: 4, Calificación Promedio: 5.00\n",
      "Libro ID: 972, Reseñas: 4, Calificación Promedio: 5.00\n",
      "Libro ID: 469, Reseñas: 4, Calificación Promedio: 5.00\n",
      "Libro ID: 418, Reseñas: 4, Calificación Promedio: 5.00\n",
      "Libro ID: 390, Reseñas: 4, Calificación Promedio: 5.00\n",
      "Libro ID: 699, Reseñas: 4, Calificación Promedio: 5.00\n",
      "Libro ID: 57, Reseñas: 4, Calificación Promedio: 5.00\n",
      "Libro ID: 182, Reseñas: 4, Calificación Promedio: 5.00\n",
      "Libro ID: 967, Reseñas: 4, Calificación Promedio: 5.00\n"
     ]
    }
   ],
   "source": [
    "# Definir la consulta SQL\n",
    "sql_query = text(\"\"\"\n",
    "    SELECT \n",
    "        reviews.book_id, \n",
    "        COUNT(reviews.review_id) AS num_reviews, \n",
    "        AVG(ratings.rating) AS avg_rating\n",
    "    FROM \n",
    "        reviews\n",
    "    JOIN \n",
    "        ratings ON reviews.book_id = ratings.book_id\n",
    "    GROUP BY \n",
    "        reviews.book_id\n",
    "    ORDER BY \n",
    "        avg_rating DESC  \n",
    "    LIMIT 10;          \n",
    "\"\"\")\n",
    "\n",
    "# Ejecutar la consulta\n",
    "with engine.connect() as connection:\n",
    "    result = connection.execute(sql_query)\n",
    "    for row in result:\n",
    "        \n",
    "        # Imprimir el resultado ordenado\n",
    "        print(f\"Libro ID: {row.book_id}, Reseñas: {row.num_reviews}, Calificación Promedio: {row.avg_rating:.2f}\")\n"
   ]
  },
  {
   "cell_type": "markdown",
   "metadata": {},
   "source": [
    "# Identifica la editorial que ha publicado el mayor número de libros con más de 50 páginas (esto te ayudará a excluir folletos y publicaciones similares de tu análisis)."
   ]
  },
  {
   "cell_type": "code",
   "execution_count": 12,
   "metadata": {},
   "outputs": [
    {
     "name": "stdout",
     "output_type": "stream",
     "text": [
      "Editorial: Penguin Books, Libros publicados: 42\n"
     ]
    }
   ],
   "source": [
    "# Definir la consulta SQL\n",
    "sql_query = text(\"\"\"\n",
    "    SELECT \n",
    "        publishers.publisher, \n",
    "        COUNT(books.book_id) AS num_books\n",
    "    FROM \n",
    "        books\n",
    "    JOIN \n",
    "        publishers ON books.publisher_id = publishers.publisher_id\n",
    "    WHERE \n",
    "        books.num_pages > 50\n",
    "    GROUP BY \n",
    "        publishers.publisher\n",
    "    ORDER BY \n",
    "        num_books DESC\n",
    "    LIMIT 1;\n",
    "\"\"\")\n",
    "\n",
    "# Ejecutar la consulta\n",
    "with engine.connect() as connection:\n",
    "    result = connection.execute(sql_query)\n",
    "    for row in result:\n",
    "        \n",
    "        # Imprimir el resultado\n",
    "        print(f\"Editorial: {row.publisher}, Libros publicados: {row.num_books}\")"
   ]
  },
  {
   "cell_type": "markdown",
   "metadata": {},
   "source": [
    "# Identifica al autor que tiene la más alta calificación promedio del libro: mira solo los libros con al menos 50 calificaciones."
   ]
  },
  {
   "cell_type": "code",
   "execution_count": 13,
   "metadata": {},
   "outputs": [
    {
     "name": "stdout",
     "output_type": "stream",
     "text": [
      "Autor: Diana Gabaldon, Calificación Promedio: 4.30\n"
     ]
    }
   ],
   "source": [
    "# Definir la consulta SQL\n",
    "sql_query = text(\"\"\"\n",
    "    SELECT \n",
    "        a.author, \n",
    "        AVG(r.rating) AS avg_author_rating\n",
    "    FROM \n",
    "        ratings r\n",
    "    JOIN \n",
    "        books b ON r.book_id = b.book_id\n",
    "    JOIN \n",
    "        authors a ON b.author_id = a.author_id\n",
    "    GROUP BY \n",
    "        a.author\n",
    "    HAVING \n",
    "        COUNT(CASE WHEN r.rating IS NOT NULL THEN r.book_id END) >= 50\n",
    "    ORDER BY \n",
    "        avg_author_rating DESC\n",
    "    LIMIT 1;\n",
    "\"\"\")\n",
    "\n",
    "# Ejecutar la consulta y mostrar el resultado\n",
    "with engine.connect() as connection:\n",
    "    result = connection.execute(sql_query)\n",
    "    for row in result:\n",
    "        \n",
    "        # Imprimir el resultado final\n",
    "        print(f\"Autor: {row.author}, Calificación Promedio: {row.avg_author_rating:.2f}\")"
   ]
  },
  {
   "cell_type": "markdown",
   "metadata": {},
   "source": [
    "# Encuentra el número promedio de reseñas de texto entre los usuarios que calificaron más de 50 libros."
   ]
  },
  {
   "cell_type": "code",
   "execution_count": 14,
   "metadata": {},
   "outputs": [
    {
     "name": "stdout",
     "output_type": "stream",
     "text": [
      "Número promedio de reseñas de texto: 24.33\n"
     ]
    }
   ],
   "source": [
    "# Definir la consulta SQL\n",
    "sql_query = text(\"\"\"\n",
    "    WITH active_users AS (\n",
    "        SELECT \n",
    "            username\n",
    "        FROM \n",
    "            ratings\n",
    "        GROUP BY \n",
    "            username\n",
    "        HAVING \n",
    "            COUNT(rating_id) > 50\n",
    "    )\n",
    "    SELECT \n",
    "        AVG(user_reviews.num_reviews) AS avg_text_reviews\n",
    "    FROM (\n",
    "        SELECT \n",
    "            rev.username, \n",
    "            COUNT(rev.review_id) AS num_reviews\n",
    "        FROM \n",
    "            reviews rev\n",
    "        JOIN \n",
    "            active_users au ON rev.username = au.username\n",
    "        GROUP BY \n",
    "            rev.username\n",
    "    ) AS user_reviews;\n",
    "\"\"\")\n",
    "\n",
    "# Ejecutar la consulta\n",
    "with engine.connect() as connection:\n",
    "    result = connection.execute(sql_query)\n",
    "    for row in result:\n",
    "        \n",
    "        # Imprimir el resultado\n",
    "        print(f\"Número promedio de reseñas de texto: {row.avg_text_reviews:.2f}\")"
   ]
  },
  {
   "cell_type": "markdown",
   "metadata": {},
   "source": [
    "**ETAPA 3. Describe tus conclusiones para cada una de las tareas.**"
   ]
  },
  {
   "cell_type": "markdown",
   "metadata": {},
   "source": [
    "*Tarea 1: Encuentra el número de libros publicados después del 1 de enero de 2000.*\n",
    "    \n",
    "    \n",
    "- El total de 819 libros publicados después del 1 de enero de 2000 refleja una productividad significativa en las editoriales durante las últimas décadas. Esto sugiere que el período posterior al año 2000 es un momento activo para la producción literaria.\n",
    "\n",
    "\n",
    "*Tarea 2: Encuentra el número de reseñas de usuarios y la calificación promedio para cada libro.*\n",
    "\n",
    "\n",
    "- El número de reseñas por libro da una idea de que tan popular es un libro entre los lectores. Los libros con muchas reseñas probablemente sean más influyentes en la comunidad.\n",
    "\n",
    "\n",
    "- La calificación promedio es una medida útil para evaluar la percepción general de satisfacción de los usuarios con un libro. Los libros con calificaciones promedio altas podrían considerarse como los más destacados.\n",
    "\n",
    "\n",
    "*Tarea 3: Identifica la editorial que ha publicado el mayor número de libros con más de 50 páginas (esto te ayudará a excluir folletos y publicaciones similares de tu análisis).*\n",
    "\n",
    "\n",
    "- La editorial identificada tiene un alto volumen de publicacines de libros con más de 50 páginas, lo que indica que es una de las principales productoras de contenido literario esencial.\n",
    "\n",
    "\n",
    "- Este dato refleja su posición de liderazgo dentro del mercado digital y su capacidad para enfocarse en contenido más robusto, alejándose de publicaciones menores como folletos.\n",
    "\n",
    "\n",
    "*Tarea 4: Identifica al autor que tiene la más alta calificación promedio del libro: mira solo los libros con al menos 50 calificaciones*\n",
    "\n",
    "\n",
    "- Con una calificación promedio de 4.30, Diana Gabaldon se posiciona como una de las autoras más valoradas entre los lectores. Este resultado sugiere que sus libros tienen una gran aceptación y son consistentemente bien recibidos.\n",
    "\n",
    "\n",
    "- La alta calificación refleja una percepción positiva y coherente por parte de los lectores, lo que podría deberse a su estilo de escritura, narrativa envolvente o los temas que aborda en sus obras.\n",
    "\n",
    "\n",
    "*Tarea 5: Encuentra el número promedio de reseñas de texto entre los usuarios que calificaron más de 50 libros.*\n",
    "\n",
    "\n",
    "- Este grupo de usuarios representa una parte importante de los lectores activos en la plataforma. Fomentar y reconocer su participación podría ser estratégico para aumentar la interacción y la creación de contenido de calidad. "
   ]
  }
 ],
 "metadata": {
  "ExecuteTimeLog": [
   {
    "duration": 360,
    "start_time": "2025-03-19T18:08:39.493Z"
   },
   {
    "duration": 34,
    "start_time": "2025-03-19T18:16:30.088Z"
   },
   {
    "duration": 412,
    "start_time": "2025-03-19T18:16:40.219Z"
   },
   {
    "duration": 187,
    "start_time": "2025-03-19T18:29:05.190Z"
   },
   {
    "duration": 2971,
    "start_time": "2025-03-19T18:29:58.054Z"
   },
   {
    "duration": 829,
    "start_time": "2025-03-19T18:32:14.069Z"
   },
   {
    "duration": 359,
    "start_time": "2025-03-19T18:34:06.281Z"
   },
   {
    "duration": 3333,
    "start_time": "2025-03-19T18:34:06.642Z"
   },
   {
    "duration": 418,
    "start_time": "2025-03-19T18:35:18.622Z"
   },
   {
    "duration": 6198,
    "start_time": "2025-03-19T18:35:19.042Z"
   },
   {
    "duration": 342,
    "start_time": "2025-03-19T18:48:18.396Z"
   },
   {
    "duration": 5463,
    "start_time": "2025-03-19T18:48:18.741Z"
   },
   {
    "duration": 9,
    "start_time": "2025-03-20T15:56:41.790Z"
   },
   {
    "duration": 405,
    "start_time": "2025-03-20T15:56:51.004Z"
   },
   {
    "duration": 6153,
    "start_time": "2025-03-20T15:56:51.411Z"
   },
   {
    "duration": 3,
    "start_time": "2025-03-20T15:56:57.566Z"
   },
   {
    "duration": 381,
    "start_time": "2025-03-20T16:01:59.315Z"
   },
   {
    "duration": 5462,
    "start_time": "2025-03-20T16:01:59.698Z"
   },
   {
    "duration": 184,
    "start_time": "2025-03-20T16:02:05.162Z"
   },
   {
    "duration": 368,
    "start_time": "2025-03-20T16:04:28.560Z"
   },
   {
    "duration": 5775,
    "start_time": "2025-03-20T16:04:28.931Z"
   },
   {
    "duration": 191,
    "start_time": "2025-03-20T16:04:34.707Z"
   },
   {
    "duration": 421,
    "start_time": "2025-03-20T16:05:50.278Z"
   },
   {
    "duration": 5455,
    "start_time": "2025-03-20T16:05:50.701Z"
   },
   {
    "duration": 226,
    "start_time": "2025-03-20T16:05:56.158Z"
   },
   {
    "duration": 427,
    "start_time": "2025-03-20T16:06:36.954Z"
   },
   {
    "duration": 5923,
    "start_time": "2025-03-20T16:06:37.383Z"
   },
   {
    "duration": 312,
    "start_time": "2025-03-20T16:06:43.307Z"
   },
   {
    "duration": 439,
    "start_time": "2025-03-20T16:09:40.223Z"
   },
   {
    "duration": 5877,
    "start_time": "2025-03-20T16:09:40.665Z"
   },
   {
    "duration": 227,
    "start_time": "2025-03-20T16:09:46.544Z"
   },
   {
    "duration": 436,
    "start_time": "2025-03-20T16:10:07.043Z"
   },
   {
    "duration": 5405,
    "start_time": "2025-03-20T16:10:07.481Z"
   },
   {
    "duration": 233,
    "start_time": "2025-03-20T16:10:12.889Z"
   },
   {
    "duration": 390,
    "start_time": "2025-03-20T16:10:56.164Z"
   },
   {
    "duration": 5586,
    "start_time": "2025-03-20T16:10:56.556Z"
   },
   {
    "duration": 227,
    "start_time": "2025-03-20T16:11:02.143Z"
   },
   {
    "duration": 427,
    "start_time": "2025-03-20T16:11:33.634Z"
   },
   {
    "duration": 6080,
    "start_time": "2025-03-20T16:11:34.064Z"
   },
   {
    "duration": 223,
    "start_time": "2025-03-20T16:11:40.146Z"
   },
   {
    "duration": 423,
    "start_time": "2025-03-20T16:12:03.150Z"
   },
   {
    "duration": 5477,
    "start_time": "2025-03-20T16:12:03.576Z"
   },
   {
    "duration": 3,
    "start_time": "2025-03-20T16:12:09.055Z"
   },
   {
    "duration": 412,
    "start_time": "2025-03-20T16:12:51.699Z"
   },
   {
    "duration": 5966,
    "start_time": "2025-03-20T16:12:52.114Z"
   },
   {
    "duration": 226,
    "start_time": "2025-03-20T16:12:58.082Z"
   },
   {
    "duration": 391,
    "start_time": "2025-03-20T16:13:28.962Z"
   },
   {
    "duration": 5497,
    "start_time": "2025-03-20T16:13:29.355Z"
   },
   {
    "duration": 5,
    "start_time": "2025-03-20T16:13:34.854Z"
   },
   {
    "duration": 450,
    "start_time": "2025-03-20T16:18:26.024Z"
   },
   {
    "duration": 5447,
    "start_time": "2025-03-20T16:18:26.476Z"
   },
   {
    "duration": 364,
    "start_time": "2025-03-20T16:18:31.925Z"
   },
   {
    "duration": 408,
    "start_time": "2025-03-20T16:33:47.684Z"
   },
   {
    "duration": 5619,
    "start_time": "2025-03-20T16:33:48.095Z"
   },
   {
    "duration": 375,
    "start_time": "2025-03-20T16:33:53.715Z"
   },
   {
    "duration": 397,
    "start_time": "2025-03-20T16:34:26.500Z"
   },
   {
    "duration": 5429,
    "start_time": "2025-03-20T16:34:26.899Z"
   },
   {
    "duration": 371,
    "start_time": "2025-03-20T16:34:32.330Z"
   },
   {
    "duration": 409,
    "start_time": "2025-03-20T17:12:09.900Z"
   },
   {
    "duration": 5977,
    "start_time": "2025-03-20T17:12:10.311Z"
   },
   {
    "duration": 1081,
    "start_time": "2025-03-20T17:12:16.290Z"
   },
   {
    "duration": 417,
    "start_time": "2025-03-20T17:14:28.547Z"
   },
   {
    "duration": 5476,
    "start_time": "2025-03-20T17:14:28.967Z"
   },
   {
    "duration": 375,
    "start_time": "2025-03-20T17:14:34.444Z"
   },
   {
    "duration": 5,
    "start_time": "2025-03-20T17:20:18.074Z"
   },
   {
    "duration": 951,
    "start_time": "2025-03-20T17:21:13.765Z"
   },
   {
    "duration": 10,
    "start_time": "2025-03-20T17:23:08.656Z"
   },
   {
    "duration": 403,
    "start_time": "2025-03-20T17:23:49.480Z"
   },
   {
    "duration": 5588,
    "start_time": "2025-03-20T17:23:49.887Z"
   },
   {
    "duration": 372,
    "start_time": "2025-03-20T17:23:55.477Z"
   },
   {
    "duration": 510,
    "start_time": "2025-03-20T17:23:55.851Z"
   },
   {
    "duration": 374,
    "start_time": "2025-03-20T17:27:59.891Z"
   },
   {
    "duration": 377,
    "start_time": "2025-03-20T17:31:20.805Z"
   },
   {
    "duration": 436,
    "start_time": "2025-03-20T17:32:35.923Z"
   },
   {
    "duration": 5491,
    "start_time": "2025-03-20T17:32:36.361Z"
   },
   {
    "duration": 365,
    "start_time": "2025-03-20T17:32:41.854Z"
   },
   {
    "duration": 540,
    "start_time": "2025-03-20T17:32:42.221Z"
   },
   {
    "duration": 365,
    "start_time": "2025-03-20T17:32:42.764Z"
   },
   {
    "duration": 370,
    "start_time": "2025-03-20T17:32:43.131Z"
   },
   {
    "duration": 418,
    "start_time": "2025-03-20T17:35:58.310Z"
   },
   {
    "duration": 5314,
    "start_time": "2025-03-20T17:35:58.730Z"
   },
   {
    "duration": 363,
    "start_time": "2025-03-20T17:36:04.046Z"
   },
   {
    "duration": 497,
    "start_time": "2025-03-20T17:36:04.412Z"
   },
   {
    "duration": 364,
    "start_time": "2025-03-20T17:36:04.910Z"
   },
   {
    "duration": 368,
    "start_time": "2025-03-20T17:36:05.276Z"
   },
   {
    "duration": 393,
    "start_time": "2025-03-20T17:38:11.999Z"
   },
   {
    "duration": 5941,
    "start_time": "2025-03-20T17:38:12.394Z"
   },
   {
    "duration": 398,
    "start_time": "2025-03-20T17:38:18.337Z"
   },
   {
    "duration": 582,
    "start_time": "2025-03-20T17:38:18.739Z"
   },
   {
    "duration": 398,
    "start_time": "2025-03-20T17:38:19.323Z"
   },
   {
    "duration": 400,
    "start_time": "2025-03-20T17:38:19.723Z"
   },
   {
    "duration": 423,
    "start_time": "2025-03-20T17:38:20.125Z"
   },
   {
    "duration": 444,
    "start_time": "2025-03-20T18:09:55.442Z"
   },
   {
    "duration": 5603,
    "start_time": "2025-03-20T18:09:55.889Z"
   },
   {
    "duration": 376,
    "start_time": "2025-03-20T18:10:01.494Z"
   },
   {
    "duration": 508,
    "start_time": "2025-03-20T18:10:01.873Z"
   },
   {
    "duration": 373,
    "start_time": "2025-03-20T18:10:02.384Z"
   },
   {
    "duration": 380,
    "start_time": "2025-03-20T18:10:02.759Z"
   },
   {
    "duration": 401,
    "start_time": "2025-03-20T18:10:03.142Z"
   },
   {
    "duration": 402,
    "start_time": "2025-03-21T14:31:49.371Z"
   },
   {
    "duration": 5437,
    "start_time": "2025-03-21T14:31:49.775Z"
   },
   {
    "duration": 363,
    "start_time": "2025-03-21T14:31:55.214Z"
   },
   {
    "duration": 538,
    "start_time": "2025-03-21T14:31:55.580Z"
   },
   {
    "duration": 363,
    "start_time": "2025-03-21T14:31:56.120Z"
   },
   {
    "duration": 368,
    "start_time": "2025-03-21T14:31:56.485Z"
   },
   {
    "duration": 389,
    "start_time": "2025-03-21T14:31:56.854Z"
   },
   {
    "duration": 407,
    "start_time": "2025-03-21T15:14:35.358Z"
   },
   {
    "duration": 5491,
    "start_time": "2025-03-21T15:14:35.768Z"
   },
   {
    "duration": 367,
    "start_time": "2025-03-21T15:14:41.261Z"
   },
   {
    "duration": 541,
    "start_time": "2025-03-21T15:14:41.629Z"
   },
   {
    "duration": 373,
    "start_time": "2025-03-21T15:14:42.172Z"
   },
   {
    "duration": 366,
    "start_time": "2025-03-21T15:14:42.547Z"
   },
   {
    "duration": 369,
    "start_time": "2025-03-21T15:14:42.915Z"
   },
   {
    "duration": 392,
    "start_time": "2025-03-21T15:14:43.286Z"
   },
   {
    "duration": 385,
    "start_time": "2025-03-21T15:19:11.637Z"
   },
   {
    "duration": 5428,
    "start_time": "2025-03-21T15:19:12.024Z"
   },
   {
    "duration": 371,
    "start_time": "2025-03-21T15:19:17.454Z"
   },
   {
    "duration": 379,
    "start_time": "2025-03-21T15:19:17.827Z"
   },
   {
    "duration": 371,
    "start_time": "2025-03-21T15:19:18.209Z"
   },
   {
    "duration": 376,
    "start_time": "2025-03-21T15:19:18.582Z"
   },
   {
    "duration": 375,
    "start_time": "2025-03-21T15:19:18.959Z"
   },
   {
    "duration": 397,
    "start_time": "2025-03-21T15:19:19.335Z"
   },
   {
    "duration": 382,
    "start_time": "2025-03-21T15:21:17.533Z"
   },
   {
    "duration": 6017,
    "start_time": "2025-03-21T15:21:17.917Z"
   },
   {
    "duration": 402,
    "start_time": "2025-03-21T15:21:23.935Z"
   },
   {
    "duration": 409,
    "start_time": "2025-03-21T15:21:24.339Z"
   },
   {
    "duration": 401,
    "start_time": "2025-03-21T15:21:24.750Z"
   },
   {
    "duration": 405,
    "start_time": "2025-03-21T15:21:25.153Z"
   },
   {
    "duration": 427,
    "start_time": "2025-03-21T15:21:25.559Z"
   },
   {
    "duration": 413,
    "start_time": "2025-03-21T15:24:23.975Z"
   },
   {
    "duration": 5606,
    "start_time": "2025-03-21T15:24:24.390Z"
   },
   {
    "duration": 373,
    "start_time": "2025-03-21T15:24:29.998Z"
   },
   {
    "duration": 381,
    "start_time": "2025-03-21T15:24:30.373Z"
   },
   {
    "duration": 374,
    "start_time": "2025-03-21T15:24:30.756Z"
   },
   {
    "duration": 376,
    "start_time": "2025-03-21T15:24:31.132Z"
   },
   {
    "duration": 399,
    "start_time": "2025-03-21T15:24:31.510Z"
   },
   {
    "duration": 376,
    "start_time": "2025-03-21T15:24:31.911Z"
   },
   {
    "duration": 422,
    "start_time": "2025-03-21T15:25:05.598Z"
   },
   {
    "duration": 5469,
    "start_time": "2025-03-21T15:25:06.023Z"
   },
   {
    "duration": 373,
    "start_time": "2025-03-21T15:25:11.494Z"
   },
   {
    "duration": 381,
    "start_time": "2025-03-21T15:25:11.870Z"
   },
   {
    "duration": 375,
    "start_time": "2025-03-21T15:25:12.252Z"
   },
   {
    "duration": 377,
    "start_time": "2025-03-21T15:25:12.629Z"
   },
   {
    "duration": 375,
    "start_time": "2025-03-21T15:25:13.008Z"
   },
   {
    "duration": 380,
    "start_time": "2025-03-21T15:34:42.834Z"
   },
   {
    "duration": 5566,
    "start_time": "2025-03-21T15:34:43.217Z"
   },
   {
    "duration": 370,
    "start_time": "2025-03-21T15:34:48.785Z"
   },
   {
    "duration": 379,
    "start_time": "2025-03-21T15:34:49.157Z"
   },
   {
    "duration": 371,
    "start_time": "2025-03-21T15:34:49.539Z"
   },
   {
    "duration": 375,
    "start_time": "2025-03-21T15:34:49.912Z"
   },
   {
    "duration": 373,
    "start_time": "2025-03-21T15:34:50.289Z"
   },
   {
    "duration": 373,
    "start_time": "2025-03-21T15:37:52.359Z"
   },
   {
    "duration": 5584,
    "start_time": "2025-03-21T15:37:52.734Z"
   },
   {
    "duration": 372,
    "start_time": "2025-03-21T15:37:58.320Z"
   },
   {
    "duration": 379,
    "start_time": "2025-03-21T15:37:58.694Z"
   },
   {
    "duration": 372,
    "start_time": "2025-03-21T15:37:59.075Z"
   },
   {
    "duration": 375,
    "start_time": "2025-03-21T15:37:59.449Z"
   },
   {
    "duration": 374,
    "start_time": "2025-03-21T15:37:59.826Z"
   },
   {
    "duration": 180,
    "start_time": "2025-03-21T19:06:19.722Z"
   },
   {
    "duration": 404,
    "start_time": "2025-03-21T19:06:35.427Z"
   },
   {
    "duration": 5451,
    "start_time": "2025-03-21T19:06:35.833Z"
   },
   {
    "duration": 361,
    "start_time": "2025-03-21T19:06:41.286Z"
   },
   {
    "duration": 369,
    "start_time": "2025-03-21T19:06:41.650Z"
   },
   {
    "duration": 361,
    "start_time": "2025-03-21T19:06:42.022Z"
   },
   {
    "duration": 364,
    "start_time": "2025-03-21T19:06:42.386Z"
   },
   {
    "duration": 363,
    "start_time": "2025-03-21T19:06:42.752Z"
   },
   {
    "duration": 364,
    "start_time": "2025-03-21T19:06:51.291Z"
   },
   {
    "duration": 364,
    "start_time": "2025-03-21T19:07:00.324Z"
   },
   {
    "duration": 366,
    "start_time": "2025-03-21T19:09:00.961Z"
   },
   {
    "duration": 365,
    "start_time": "2025-03-21T19:09:17.568Z"
   },
   {
    "duration": 383,
    "start_time": "2025-03-21T19:26:48.907Z"
   },
   {
    "duration": 5571,
    "start_time": "2025-03-21T19:26:49.292Z"
   },
   {
    "duration": 369,
    "start_time": "2025-03-21T19:26:54.865Z"
   },
   {
    "duration": 379,
    "start_time": "2025-03-21T19:26:55.236Z"
   },
   {
    "duration": 371,
    "start_time": "2025-03-21T19:26:55.617Z"
   },
   {
    "duration": 373,
    "start_time": "2025-03-21T19:26:55.990Z"
   },
   {
    "duration": 374,
    "start_time": "2025-03-21T19:26:56.365Z"
   },
   {
    "duration": 373,
    "start_time": "2025-03-21T19:26:56.741Z"
   },
   {
    "duration": 418,
    "start_time": "2025-03-21T19:41:59.055Z"
   },
   {
    "duration": 5416,
    "start_time": "2025-03-21T19:41:59.475Z"
   },
   {
    "duration": 361,
    "start_time": "2025-03-21T19:42:04.893Z"
   },
   {
    "duration": 368,
    "start_time": "2025-03-21T19:42:05.256Z"
   },
   {
    "duration": 360,
    "start_time": "2025-03-21T19:42:05.626Z"
   },
   {
    "duration": 364,
    "start_time": "2025-03-21T19:42:05.988Z"
   },
   {
    "duration": 363,
    "start_time": "2025-03-21T19:42:06.354Z"
   },
   {
    "duration": 408,
    "start_time": "2025-03-21T19:47:15.665Z"
   },
   {
    "duration": 6027,
    "start_time": "2025-03-21T19:47:16.075Z"
   },
   {
    "duration": 402,
    "start_time": "2025-03-21T19:47:22.104Z"
   },
   {
    "duration": 409,
    "start_time": "2025-03-21T19:47:22.509Z"
   },
   {
    "duration": 404,
    "start_time": "2025-03-21T19:47:22.919Z"
   },
   {
    "duration": 408,
    "start_time": "2025-03-21T19:47:23.325Z"
   },
   {
    "duration": 404,
    "start_time": "2025-03-21T19:47:23.734Z"
   },
   {
    "duration": 4,
    "start_time": "2025-03-21T19:47:44.038Z"
   }
  ],
  "kernelspec": {
   "display_name": "Python 3",
   "language": "python",
   "name": "python3"
  },
  "language_info": {
   "codemirror_mode": {
    "name": "ipython",
    "version": 3
   },
   "file_extension": ".py",
   "mimetype": "text/x-python",
   "name": "python",
   "nbconvert_exporter": "python",
   "pygments_lexer": "ipython3",
   "version": "3.12.3"
  },
  "toc": {
   "base_numbering": 1,
   "nav_menu": {},
   "number_sections": true,
   "sideBar": true,
   "skip_h1_title": true,
   "title_cell": "Table of Contents",
   "title_sidebar": "Contents",
   "toc_cell": false,
   "toc_position": {},
   "toc_section_display": true,
   "toc_window_display": false
  }
 },
 "nbformat": 4,
 "nbformat_minor": 2
}
